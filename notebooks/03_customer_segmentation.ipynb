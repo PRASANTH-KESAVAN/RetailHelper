{
 "cells": [
  {
   "cell_type": "markdown",
   "metadata": {},
   "source": [
    "# 👥 Customer Segmentation - Advanced Analytics\n",
    "\n",
    "This notebook focuses on customer segmentation using various clustering techniques and RFM analysis.\n",
    "\n",
    "## Objectives:\n",
    "- Implement RFM (Recency, Frequency, Monetary) analysis\n",
    "- Apply K-Means clustering for customer segmentation\n",
    "- Explore hierarchical clustering techniques\n",
    "- Analyze customer segments and create personas\n",
    "- Develop targeted marketing strategies\n",
    "- Validate segmentation results\n"
   ]
  },
  {
   "cell_type": "code",
   "execution_count": 1,
   "metadata": {},
   "outputs": [
    {
     "name": "stdout",
     "output_type": "stream",
     "text": [
      "📚 Customer segmentation libraries loaded!\n"
     ]
    }
   ],
   "source": [
    "# Import libraries\n",
    "import pandas as pd\n",
    "import numpy as np\n",
    "import matplotlib.pyplot as plt\n",
    "import seaborn as sns\n",
    "import plotly.express as px\n",
    "import plotly.graph_objects as go\n",
    "from plotly.subplots import make_subplots\n",
    "\n",
    "from sklearn.cluster import KMeans, AgglomerativeClustering\n",
    "from sklearn.preprocessing import StandardScaler\n",
    "from sklearn.metrics import silhouette_score, calinski_harabasz_score\n",
    "from scipy.cluster.hierarchy import dendrogram, linkage\n",
    "from scipy.spatial.distance import pdist\n",
    "\n",
    "import warnings\n",
    "warnings.filterwarnings('ignore')\n",
    "\n",
    "# Import custom modules\n",
    "import sys\n",
    "sys.path.append('../src')\n",
    "from components.customer_segmentation import CustomerSegmentation\n",
    "\n",
    "print(\"📚 Customer segmentation libraries loaded!\")"
   ]
  },
  {
   "cell_type": "code",
   "execution_count": 2,
   "metadata": {},
   "outputs": [
    {
     "name": "stdout",
     "output_type": "stream",
     "text": [
      "📊 Loading raw data for processing...\n",
      "Dataset shape: (3900, 19)\n",
      "\n",
      "📋 Dataset Overview:\n",
      "Records: 3,900\n",
      "Unique Customers: 3,900\n",
      "Features: 19\n"
     ]
    }
   ],
   "source": [
    "# Load data\n",
    "try:\n",
    "    df = pd.read_csv('../data/processed/cleaned_data.csv')\n",
    "    print(f\"✅ Cleaned dataset loaded: {df.shape}\")\n",
    "except FileNotFoundError:\n",
    "    print(\"📊 Loading raw data for processing...\")\n",
    "    try:\n",
    "        df = pd.read_csv('../data/raw/customer_shopping_data.csv')\n",
    "    except FileNotFoundError:\n",
    "        from src.utils.common import load_sample_data\n",
    "        df = load_sample_data(n_customers=2000)\n",
    "    print(f\"Dataset shape: {df.shape}\")\n",
    "\n",
    "# Display basic info\n",
    "print(\"\\n📋 Dataset Overview:\")\n",
    "print(f\"Records: {len(df):,}\")\n",
    "if 'Customer ID' in df.columns:\n",
    "    print(f\"Unique Customers: {df['Customer ID'].nunique():,}\")\n",
    "print(f\"Features: {df.shape[1]}\")"
   ]
  },
  {
   "cell_type": "markdown",
   "metadata": {},
   "source": [
    "## 1. Data Preparation for Segmentation"
   ]
  },
  {
   "cell_type": "code",
   "execution_count": 3,
   "metadata": {},
   "outputs": [
    {
     "name": "stdout",
     "output_type": "stream",
     "text": [
      "📊 Features prepared: (3900, 8)\n",
      "Feature columns: ['Customer ID', 'Purchase Amount (USD)_sum', 'Purchase Amount (USD)_mean', 'Purchase Amount (USD)_count', 'Purchase Amount (USD)_std', 'Age_first', 'Review Rating_mean', 'Category_nunique']\n"
     ]
    },
    {
     "data": {
      "text/html": [
       "<div>\n",
       "<style scoped>\n",
       "    .dataframe tbody tr th:only-of-type {\n",
       "        vertical-align: middle;\n",
       "    }\n",
       "\n",
       "    .dataframe tbody tr th {\n",
       "        vertical-align: top;\n",
       "    }\n",
       "\n",
       "    .dataframe thead th {\n",
       "        text-align: right;\n",
       "    }\n",
       "</style>\n",
       "<table border=\"1\" class=\"dataframe\">\n",
       "  <thead>\n",
       "    <tr style=\"text-align: right;\">\n",
       "      <th></th>\n",
       "      <th>Customer ID</th>\n",
       "      <th>Purchase Amount (USD)_sum</th>\n",
       "      <th>Purchase Amount (USD)_mean</th>\n",
       "      <th>Purchase Amount (USD)_count</th>\n",
       "      <th>Purchase Amount (USD)_std</th>\n",
       "      <th>Age_first</th>\n",
       "      <th>Review Rating_mean</th>\n",
       "      <th>Category_nunique</th>\n",
       "    </tr>\n",
       "  </thead>\n",
       "  <tbody>\n",
       "    <tr>\n",
       "      <th>0</th>\n",
       "      <td>1</td>\n",
       "      <td>53</td>\n",
       "      <td>53.0</td>\n",
       "      <td>1</td>\n",
       "      <td>0.0</td>\n",
       "      <td>55</td>\n",
       "      <td>3.1</td>\n",
       "      <td>1</td>\n",
       "    </tr>\n",
       "    <tr>\n",
       "      <th>1</th>\n",
       "      <td>2</td>\n",
       "      <td>64</td>\n",
       "      <td>64.0</td>\n",
       "      <td>1</td>\n",
       "      <td>0.0</td>\n",
       "      <td>19</td>\n",
       "      <td>3.1</td>\n",
       "      <td>1</td>\n",
       "    </tr>\n",
       "    <tr>\n",
       "      <th>2</th>\n",
       "      <td>3</td>\n",
       "      <td>73</td>\n",
       "      <td>73.0</td>\n",
       "      <td>1</td>\n",
       "      <td>0.0</td>\n",
       "      <td>50</td>\n",
       "      <td>3.1</td>\n",
       "      <td>1</td>\n",
       "    </tr>\n",
       "    <tr>\n",
       "      <th>3</th>\n",
       "      <td>4</td>\n",
       "      <td>90</td>\n",
       "      <td>90.0</td>\n",
       "      <td>1</td>\n",
       "      <td>0.0</td>\n",
       "      <td>21</td>\n",
       "      <td>3.5</td>\n",
       "      <td>1</td>\n",
       "    </tr>\n",
       "    <tr>\n",
       "      <th>4</th>\n",
       "      <td>5</td>\n",
       "      <td>49</td>\n",
       "      <td>49.0</td>\n",
       "      <td>1</td>\n",
       "      <td>0.0</td>\n",
       "      <td>45</td>\n",
       "      <td>2.7</td>\n",
       "      <td>1</td>\n",
       "    </tr>\n",
       "  </tbody>\n",
       "</table>\n",
       "</div>"
      ],
      "text/plain": [
       "   Customer ID  Purchase Amount (USD)_sum  Purchase Amount (USD)_mean  \\\n",
       "0            1                         53                        53.0   \n",
       "1            2                         64                        64.0   \n",
       "2            3                         73                        73.0   \n",
       "3            4                         90                        90.0   \n",
       "4            5                         49                        49.0   \n",
       "\n",
       "   Purchase Amount (USD)_count  Purchase Amount (USD)_std  Age_first  \\\n",
       "0                            1                        0.0         55   \n",
       "1                            1                        0.0         19   \n",
       "2                            1                        0.0         50   \n",
       "3                            1                        0.0         21   \n",
       "4                            1                        0.0         45   \n",
       "\n",
       "   Review Rating_mean  Category_nunique  \n",
       "0                 3.1                 1  \n",
       "1                 3.1                 1  \n",
       "2                 3.1                 1  \n",
       "3                 3.5                 1  \n",
       "4                 2.7                 1  "
      ]
     },
     "metadata": {},
     "output_type": "display_data"
    }
   ],
   "source": [
    "# Prepare features for clustering\n",
    "def prepare_segmentation_features(df):\n",
    "    \"\"\"Prepare features for customer segmentation\"\"\"\n",
    "    features = pd.DataFrame()\n",
    "    \n",
    "    # Customer-level aggregation\n",
    "    if 'Customer ID' in df.columns:\n",
    "        customer_features = df.groupby('Customer ID').agg({\n",
    "            'Purchase Amount (USD)': ['sum', 'mean', 'count', 'std'] if 'Purchase Amount (USD)' in df.columns else None,\n",
    "            'Age': 'first' if 'Age' in df.columns else None,\n",
    "            'Review Rating': 'mean' if 'Review Rating' in df.columns else None,\n",
    "            'Category': 'nunique' if 'Category' in df.columns else None\n",
    "        }).fillna(0)\n",
    "        \n",
    "        # Flatten column names\n",
    "        customer_features.columns = ['_'.join(col).strip() for col in customer_features.columns.values]\n",
    "        customer_features = customer_features.reset_index()\n",
    "        \n",
    "        features = customer_features\n",
    "    else:\n",
    "        # Use individual transaction features if no customer ID\n",
    "        numeric_cols = df.select_dtypes(include=[np.number]).columns\n",
    "        features = df[numeric_cols].fillna(0)\n",
    "    \n",
    "    print(f\"📊 Features prepared: {features.shape}\")\n",
    "    print(f\"Feature columns: {list(features.columns)}\")\n",
    "    \n",
    "    return features\n",
    "\n",
    "features_df = prepare_segmentation_features(df)\n",
    "display(features_df.head())"
   ]
  },
  {
   "cell_type": "code",
   "execution_count": 4,
   "metadata": {},
   "outputs": [
    {
     "name": "stdout",
     "output_type": "stream",
     "text": [
      "✅ RFM features created for 3900 customers\n"
     ]
    },
    {
     "data": {
      "text/html": [
       "<div>\n",
       "<style scoped>\n",
       "    .dataframe tbody tr th:only-of-type {\n",
       "        vertical-align: middle;\n",
       "    }\n",
       "\n",
       "    .dataframe tbody tr th {\n",
       "        vertical-align: top;\n",
       "    }\n",
       "\n",
       "    .dataframe thead th {\n",
       "        text-align: right;\n",
       "    }\n",
       "</style>\n",
       "<table border=\"1\" class=\"dataframe\">\n",
       "  <thead>\n",
       "    <tr style=\"text-align: right;\">\n",
       "      <th></th>\n",
       "      <th>Customer ID</th>\n",
       "      <th>Monetary</th>\n",
       "      <th>Frequency</th>\n",
       "      <th>Recency</th>\n",
       "    </tr>\n",
       "  </thead>\n",
       "  <tbody>\n",
       "    <tr>\n",
       "      <th>0</th>\n",
       "      <td>1</td>\n",
       "      <td>53</td>\n",
       "      <td>1</td>\n",
       "      <td>61.587991</td>\n",
       "    </tr>\n",
       "    <tr>\n",
       "      <th>1</th>\n",
       "      <td>2</td>\n",
       "      <td>64</td>\n",
       "      <td>1</td>\n",
       "      <td>29.975162</td>\n",
       "    </tr>\n",
       "    <tr>\n",
       "      <th>2</th>\n",
       "      <td>3</td>\n",
       "      <td>73</td>\n",
       "      <td>1</td>\n",
       "      <td>73.599334</td>\n",
       "    </tr>\n",
       "    <tr>\n",
       "      <th>3</th>\n",
       "      <td>4</td>\n",
       "      <td>90</td>\n",
       "      <td>1</td>\n",
       "      <td>16.090498</td>\n",
       "    </tr>\n",
       "    <tr>\n",
       "      <th>4</th>\n",
       "      <td>5</td>\n",
       "      <td>49</td>\n",
       "      <td>1</td>\n",
       "      <td>44.022094</td>\n",
       "    </tr>\n",
       "  </tbody>\n",
       "</table>\n",
       "</div>"
      ],
      "text/plain": [
       "   Customer ID  Monetary  Frequency    Recency\n",
       "0            1        53          1  61.587991\n",
       "1            2        64          1  29.975162\n",
       "2            3        73          1  73.599334\n",
       "3            4        90          1  16.090498\n",
       "4            5        49          1  44.022094"
      ]
     },
     "metadata": {},
     "output_type": "display_data"
    },
    {
     "data": {
      "text/html": [
       "<div>\n",
       "<style scoped>\n",
       "    .dataframe tbody tr th:only-of-type {\n",
       "        vertical-align: middle;\n",
       "    }\n",
       "\n",
       "    .dataframe tbody tr th {\n",
       "        vertical-align: top;\n",
       "    }\n",
       "\n",
       "    .dataframe thead th {\n",
       "        text-align: right;\n",
       "    }\n",
       "</style>\n",
       "<table border=\"1\" class=\"dataframe\">\n",
       "  <thead>\n",
       "    <tr style=\"text-align: right;\">\n",
       "      <th></th>\n",
       "      <th>Customer ID</th>\n",
       "      <th>Monetary</th>\n",
       "      <th>Frequency</th>\n",
       "      <th>Recency</th>\n",
       "    </tr>\n",
       "  </thead>\n",
       "  <tbody>\n",
       "    <tr>\n",
       "      <th>count</th>\n",
       "      <td>3900.000000</td>\n",
       "      <td>3900.000000</td>\n",
       "      <td>3900.0</td>\n",
       "      <td>3900.000000</td>\n",
       "    </tr>\n",
       "    <tr>\n",
       "      <th>mean</th>\n",
       "      <td>1950.500000</td>\n",
       "      <td>59.764359</td>\n",
       "      <td>1.0</td>\n",
       "      <td>29.991030</td>\n",
       "    </tr>\n",
       "    <tr>\n",
       "      <th>std</th>\n",
       "      <td>1125.977353</td>\n",
       "      <td>23.685392</td>\n",
       "      <td>0.0</td>\n",
       "      <td>31.019593</td>\n",
       "    </tr>\n",
       "    <tr>\n",
       "      <th>min</th>\n",
       "      <td>1.000000</td>\n",
       "      <td>20.000000</td>\n",
       "      <td>1.0</td>\n",
       "      <td>0.008295</td>\n",
       "    </tr>\n",
       "    <tr>\n",
       "      <th>25%</th>\n",
       "      <td>975.750000</td>\n",
       "      <td>39.000000</td>\n",
       "      <td>1.0</td>\n",
       "      <td>8.473800</td>\n",
       "    </tr>\n",
       "    <tr>\n",
       "      <th>50%</th>\n",
       "      <td>1950.500000</td>\n",
       "      <td>60.000000</td>\n",
       "      <td>1.0</td>\n",
       "      <td>20.443027</td>\n",
       "    </tr>\n",
       "    <tr>\n",
       "      <th>75%</th>\n",
       "      <td>2925.250000</td>\n",
       "      <td>81.000000</td>\n",
       "      <td>1.0</td>\n",
       "      <td>41.444899</td>\n",
       "    </tr>\n",
       "    <tr>\n",
       "      <th>max</th>\n",
       "      <td>3900.000000</td>\n",
       "      <td>100.000000</td>\n",
       "      <td>1.0</td>\n",
       "      <td>267.317091</td>\n",
       "    </tr>\n",
       "  </tbody>\n",
       "</table>\n",
       "</div>"
      ],
      "text/plain": [
       "       Customer ID     Monetary  Frequency      Recency\n",
       "count  3900.000000  3900.000000     3900.0  3900.000000\n",
       "mean   1950.500000    59.764359        1.0    29.991030\n",
       "std    1125.977353    23.685392        0.0    31.019593\n",
       "min       1.000000    20.000000        1.0     0.008295\n",
       "25%     975.750000    39.000000        1.0     8.473800\n",
       "50%    1950.500000    60.000000        1.0    20.443027\n",
       "75%    2925.250000    81.000000        1.0    41.444899\n",
       "max    3900.000000   100.000000        1.0   267.317091"
      ]
     },
     "metadata": {},
     "output_type": "display_data"
    }
   ],
   "source": [
    "# Create RFM features\n",
    "def create_rfm_features(df):\n",
    "    \"\"\"Create RFM (Recency, Frequency, Monetary) features\"\"\"\n",
    "    \n",
    "    if 'Customer ID' not in df.columns:\n",
    "        print(\"⚠️ Customer ID not found. Creating synthetic RFM data...\")\n",
    "        # Create synthetic RFM data\n",
    "        n_customers = min(1000, len(df))\n",
    "        np.random.seed(42)\n",
    "        \n",
    "        rfm_df = pd.DataFrame({\n",
    "            'Customer_ID': [f'CUST_{i:05d}' for i in range(n_customers)],\n",
    "            'Recency': np.random.exponential(30, n_customers),  # Days since last purchase\n",
    "            'Frequency': np.random.poisson(5, n_customers),     # Number of purchases\n",
    "            'Monetary': np.random.exponential(200, n_customers) # Total spend\n",
    "        })\n",
    "    else:\n",
    "        # Calculate actual RFM from data\n",
    "        reference_date = pd.to_datetime('2024-01-01')  # Use a reference date\n",
    "        \n",
    "        if 'Purchase Date' in df.columns:\n",
    "            df['Purchase Date'] = pd.to_datetime(df['Purchase Date'])\n",
    "            \n",
    "            rfm_df = df.groupby('Customer ID').agg({\n",
    "                'Purchase Date': lambda x: (reference_date - x.max()).days,\n",
    "                'Customer ID': 'count',\n",
    "                'Purchase Amount (USD)': 'sum' if 'Purchase Amount (USD)' in df.columns else None\n",
    "            })\n",
    "            \n",
    "            rfm_df.columns = ['Recency', 'Frequency', 'Monetary']\n",
    "            rfm_df = rfm_df.reset_index()\n",
    "        else:\n",
    "            # Use aggregated features as proxy\n",
    "            if 'Purchase Amount (USD)' in df.columns:\n",
    "                customer_agg = df.groupby('Customer ID').agg({\n",
    "                    'Purchase Amount (USD)': ['sum', 'count']\n",
    "                })\n",
    "                customer_agg.columns = ['Monetary', 'Frequency']\n",
    "                customer_agg['Recency'] = np.random.exponential(30, len(customer_agg))\n",
    "                rfm_df = customer_agg.reset_index()\n",
    "            else:\n",
    "                # Fallback to synthetic data\n",
    "                n_customers = df['Customer ID'].nunique()\n",
    "                rfm_df = pd.DataFrame({\n",
    "                    'Customer ID': df['Customer ID'].unique(),\n",
    "                    'Recency': np.random.exponential(30, n_customers),\n",
    "                    'Frequency': np.random.poisson(5, n_customers),\n",
    "                    'Monetary': np.random.exponential(200, n_customers)\n",
    "                })\n",
    "    \n",
    "    print(f\"✅ RFM features created for {len(rfm_df)} customers\")\n",
    "    return rfm_df\n",
    "\n",
    "rfm_data = create_rfm_features(df)\n",
    "display(rfm_data.head())\n",
    "display(rfm_data.describe())"
   ]
  },
  {
   "cell_type": "markdown",
   "metadata": {},
   "source": [
    "## 2. RFM Analysis and Segmentation"
   ]
  },
  {
   "cell_type": "code",
   "execution_count": 5,
   "metadata": {},
   "outputs": [
    {
     "name": "stdout",
     "output_type": "stream",
     "text": [
      "🎯 RFM SEGMENT DISTRIBUTION:\n",
      "========================================\n",
      "Others              :  672 ( 17.2%)\n",
      "New Customers       :  625 ( 16.0%)\n",
      "Loyal Customers     :  598 ( 15.3%)\n",
      "At Risk             :  558 ( 14.3%)\n",
      "Cannot Lose Them    :  507 ( 13.0%)\n",
      "Lost Customers      :  495 ( 12.7%)\n",
      "Champions           :  256 (  6.6%)\n",
      "Potential Loyalists :  189 (  4.8%)\n"
     ]
    },
    {
     "data": {
      "application/vnd.plotly.v1+json": {
       "config": {
        "plotlyServerURL": "https://plot.ly"
       },
       "data": [
        {
         "domain": {
          "x": [
           0,
           1
          ],
          "y": [
           0,
           1
          ]
         },
         "hovertemplate": "label=%{label}<br>value=%{value}<extra></extra>",
         "labels": [
          "Others",
          "New Customers",
          "Loyal Customers",
          "At Risk",
          "Cannot Lose Them",
          "Lost Customers",
          "Champions",
          "Potential Loyalists"
         ],
         "legendgroup": "",
         "name": "",
         "showlegend": true,
         "textinfo": "percent+label",
         "textposition": "inside",
         "type": "pie",
         "values": {
          "bdata": "oAJxAlYCLgL7Ae8BAAG9AA==",
          "dtype": "i2"
         }
        }
       ],
       "layout": {
        "legend": {
         "tracegroupgap": 0
        },
        "piecolorway": [
         "rgb(141,211,199)",
         "rgb(255,255,179)",
         "rgb(190,186,218)",
         "rgb(251,128,114)",
         "rgb(128,177,211)",
         "rgb(253,180,98)",
         "rgb(179,222,105)",
         "rgb(252,205,229)",
         "rgb(217,217,217)",
         "rgb(188,128,189)",
         "rgb(204,235,197)",
         "rgb(255,237,111)"
        ],
        "template": {
         "data": {
          "bar": [
           {
            "error_x": {
             "color": "#2a3f5f"
            },
            "error_y": {
             "color": "#2a3f5f"
            },
            "marker": {
             "line": {
              "color": "#E5ECF6",
              "width": 0.5
             },
             "pattern": {
              "fillmode": "overlay",
              "size": 10,
              "solidity": 0.2
             }
            },
            "type": "bar"
           }
          ],
          "barpolar": [
           {
            "marker": {
             "line": {
              "color": "#E5ECF6",
              "width": 0.5
             },
             "pattern": {
              "fillmode": "overlay",
              "size": 10,
              "solidity": 0.2
             }
            },
            "type": "barpolar"
           }
          ],
          "carpet": [
           {
            "aaxis": {
             "endlinecolor": "#2a3f5f",
             "gridcolor": "white",
             "linecolor": "white",
             "minorgridcolor": "white",
             "startlinecolor": "#2a3f5f"
            },
            "baxis": {
             "endlinecolor": "#2a3f5f",
             "gridcolor": "white",
             "linecolor": "white",
             "minorgridcolor": "white",
             "startlinecolor": "#2a3f5f"
            },
            "type": "carpet"
           }
          ],
          "choropleth": [
           {
            "colorbar": {
             "outlinewidth": 0,
             "ticks": ""
            },
            "type": "choropleth"
           }
          ],
          "contour": [
           {
            "colorbar": {
             "outlinewidth": 0,
             "ticks": ""
            },
            "colorscale": [
             [
              0,
              "#0d0887"
             ],
             [
              0.1111111111111111,
              "#46039f"
             ],
             [
              0.2222222222222222,
              "#7201a8"
             ],
             [
              0.3333333333333333,
              "#9c179e"
             ],
             [
              0.4444444444444444,
              "#bd3786"
             ],
             [
              0.5555555555555556,
              "#d8576b"
             ],
             [
              0.6666666666666666,
              "#ed7953"
             ],
             [
              0.7777777777777778,
              "#fb9f3a"
             ],
             [
              0.8888888888888888,
              "#fdca26"
             ],
             [
              1,
              "#f0f921"
             ]
            ],
            "type": "contour"
           }
          ],
          "contourcarpet": [
           {
            "colorbar": {
             "outlinewidth": 0,
             "ticks": ""
            },
            "type": "contourcarpet"
           }
          ],
          "heatmap": [
           {
            "colorbar": {
             "outlinewidth": 0,
             "ticks": ""
            },
            "colorscale": [
             [
              0,
              "#0d0887"
             ],
             [
              0.1111111111111111,
              "#46039f"
             ],
             [
              0.2222222222222222,
              "#7201a8"
             ],
             [
              0.3333333333333333,
              "#9c179e"
             ],
             [
              0.4444444444444444,
              "#bd3786"
             ],
             [
              0.5555555555555556,
              "#d8576b"
             ],
             [
              0.6666666666666666,
              "#ed7953"
             ],
             [
              0.7777777777777778,
              "#fb9f3a"
             ],
             [
              0.8888888888888888,
              "#fdca26"
             ],
             [
              1,
              "#f0f921"
             ]
            ],
            "type": "heatmap"
           }
          ],
          "histogram": [
           {
            "marker": {
             "pattern": {
              "fillmode": "overlay",
              "size": 10,
              "solidity": 0.2
             }
            },
            "type": "histogram"
           }
          ],
          "histogram2d": [
           {
            "colorbar": {
             "outlinewidth": 0,
             "ticks": ""
            },
            "colorscale": [
             [
              0,
              "#0d0887"
             ],
             [
              0.1111111111111111,
              "#46039f"
             ],
             [
              0.2222222222222222,
              "#7201a8"
             ],
             [
              0.3333333333333333,
              "#9c179e"
             ],
             [
              0.4444444444444444,
              "#bd3786"
             ],
             [
              0.5555555555555556,
              "#d8576b"
             ],
             [
              0.6666666666666666,
              "#ed7953"
             ],
             [
              0.7777777777777778,
              "#fb9f3a"
             ],
             [
              0.8888888888888888,
              "#fdca26"
             ],
             [
              1,
              "#f0f921"
             ]
            ],
            "type": "histogram2d"
           }
          ],
          "histogram2dcontour": [
           {
            "colorbar": {
             "outlinewidth": 0,
             "ticks": ""
            },
            "colorscale": [
             [
              0,
              "#0d0887"
             ],
             [
              0.1111111111111111,
              "#46039f"
             ],
             [
              0.2222222222222222,
              "#7201a8"
             ],
             [
              0.3333333333333333,
              "#9c179e"
             ],
             [
              0.4444444444444444,
              "#bd3786"
             ],
             [
              0.5555555555555556,
              "#d8576b"
             ],
             [
              0.6666666666666666,
              "#ed7953"
             ],
             [
              0.7777777777777778,
              "#fb9f3a"
             ],
             [
              0.8888888888888888,
              "#fdca26"
             ],
             [
              1,
              "#f0f921"
             ]
            ],
            "type": "histogram2dcontour"
           }
          ],
          "mesh3d": [
           {
            "colorbar": {
             "outlinewidth": 0,
             "ticks": ""
            },
            "type": "mesh3d"
           }
          ],
          "parcoords": [
           {
            "line": {
             "colorbar": {
              "outlinewidth": 0,
              "ticks": ""
             }
            },
            "type": "parcoords"
           }
          ],
          "pie": [
           {
            "automargin": true,
            "type": "pie"
           }
          ],
          "scatter": [
           {
            "fillpattern": {
             "fillmode": "overlay",
             "size": 10,
             "solidity": 0.2
            },
            "type": "scatter"
           }
          ],
          "scatter3d": [
           {
            "line": {
             "colorbar": {
              "outlinewidth": 0,
              "ticks": ""
             }
            },
            "marker": {
             "colorbar": {
              "outlinewidth": 0,
              "ticks": ""
             }
            },
            "type": "scatter3d"
           }
          ],
          "scattercarpet": [
           {
            "marker": {
             "colorbar": {
              "outlinewidth": 0,
              "ticks": ""
             }
            },
            "type": "scattercarpet"
           }
          ],
          "scattergeo": [
           {
            "marker": {
             "colorbar": {
              "outlinewidth": 0,
              "ticks": ""
             }
            },
            "type": "scattergeo"
           }
          ],
          "scattergl": [
           {
            "marker": {
             "colorbar": {
              "outlinewidth": 0,
              "ticks": ""
             }
            },
            "type": "scattergl"
           }
          ],
          "scattermap": [
           {
            "marker": {
             "colorbar": {
              "outlinewidth": 0,
              "ticks": ""
             }
            },
            "type": "scattermap"
           }
          ],
          "scattermapbox": [
           {
            "marker": {
             "colorbar": {
              "outlinewidth": 0,
              "ticks": ""
             }
            },
            "type": "scattermapbox"
           }
          ],
          "scatterpolar": [
           {
            "marker": {
             "colorbar": {
              "outlinewidth": 0,
              "ticks": ""
             }
            },
            "type": "scatterpolar"
           }
          ],
          "scatterpolargl": [
           {
            "marker": {
             "colorbar": {
              "outlinewidth": 0,
              "ticks": ""
             }
            },
            "type": "scatterpolargl"
           }
          ],
          "scatterternary": [
           {
            "marker": {
             "colorbar": {
              "outlinewidth": 0,
              "ticks": ""
             }
            },
            "type": "scatterternary"
           }
          ],
          "surface": [
           {
            "colorbar": {
             "outlinewidth": 0,
             "ticks": ""
            },
            "colorscale": [
             [
              0,
              "#0d0887"
             ],
             [
              0.1111111111111111,
              "#46039f"
             ],
             [
              0.2222222222222222,
              "#7201a8"
             ],
             [
              0.3333333333333333,
              "#9c179e"
             ],
             [
              0.4444444444444444,
              "#bd3786"
             ],
             [
              0.5555555555555556,
              "#d8576b"
             ],
             [
              0.6666666666666666,
              "#ed7953"
             ],
             [
              0.7777777777777778,
              "#fb9f3a"
             ],
             [
              0.8888888888888888,
              "#fdca26"
             ],
             [
              1,
              "#f0f921"
             ]
            ],
            "type": "surface"
           }
          ],
          "table": [
           {
            "cells": {
             "fill": {
              "color": "#EBF0F8"
             },
             "line": {
              "color": "white"
             }
            },
            "header": {
             "fill": {
              "color": "#C8D4E3"
             },
             "line": {
              "color": "white"
             }
            },
            "type": "table"
           }
          ]
         },
         "layout": {
          "annotationdefaults": {
           "arrowcolor": "#2a3f5f",
           "arrowhead": 0,
           "arrowwidth": 1
          },
          "autotypenumbers": "strict",
          "coloraxis": {
           "colorbar": {
            "outlinewidth": 0,
            "ticks": ""
           }
          },
          "colorscale": {
           "diverging": [
            [
             0,
             "#8e0152"
            ],
            [
             0.1,
             "#c51b7d"
            ],
            [
             0.2,
             "#de77ae"
            ],
            [
             0.3,
             "#f1b6da"
            ],
            [
             0.4,
             "#fde0ef"
            ],
            [
             0.5,
             "#f7f7f7"
            ],
            [
             0.6,
             "#e6f5d0"
            ],
            [
             0.7,
             "#b8e186"
            ],
            [
             0.8,
             "#7fbc41"
            ],
            [
             0.9,
             "#4d9221"
            ],
            [
             1,
             "#276419"
            ]
           ],
           "sequential": [
            [
             0,
             "#0d0887"
            ],
            [
             0.1111111111111111,
             "#46039f"
            ],
            [
             0.2222222222222222,
             "#7201a8"
            ],
            [
             0.3333333333333333,
             "#9c179e"
            ],
            [
             0.4444444444444444,
             "#bd3786"
            ],
            [
             0.5555555555555556,
             "#d8576b"
            ],
            [
             0.6666666666666666,
             "#ed7953"
            ],
            [
             0.7777777777777778,
             "#fb9f3a"
            ],
            [
             0.8888888888888888,
             "#fdca26"
            ],
            [
             1,
             "#f0f921"
            ]
           ],
           "sequentialminus": [
            [
             0,
             "#0d0887"
            ],
            [
             0.1111111111111111,
             "#46039f"
            ],
            [
             0.2222222222222222,
             "#7201a8"
            ],
            [
             0.3333333333333333,
             "#9c179e"
            ],
            [
             0.4444444444444444,
             "#bd3786"
            ],
            [
             0.5555555555555556,
             "#d8576b"
            ],
            [
             0.6666666666666666,
             "#ed7953"
            ],
            [
             0.7777777777777778,
             "#fb9f3a"
            ],
            [
             0.8888888888888888,
             "#fdca26"
            ],
            [
             1,
             "#f0f921"
            ]
           ]
          },
          "colorway": [
           "#636efa",
           "#EF553B",
           "#00cc96",
           "#ab63fa",
           "#FFA15A",
           "#19d3f3",
           "#FF6692",
           "#B6E880",
           "#FF97FF",
           "#FECB52"
          ],
          "font": {
           "color": "#2a3f5f"
          },
          "geo": {
           "bgcolor": "white",
           "lakecolor": "white",
           "landcolor": "#E5ECF6",
           "showlakes": true,
           "showland": true,
           "subunitcolor": "white"
          },
          "hoverlabel": {
           "align": "left"
          },
          "hovermode": "closest",
          "mapbox": {
           "style": "light"
          },
          "paper_bgcolor": "white",
          "plot_bgcolor": "#E5ECF6",
          "polar": {
           "angularaxis": {
            "gridcolor": "white",
            "linecolor": "white",
            "ticks": ""
           },
           "bgcolor": "#E5ECF6",
           "radialaxis": {
            "gridcolor": "white",
            "linecolor": "white",
            "ticks": ""
           }
          },
          "scene": {
           "xaxis": {
            "backgroundcolor": "#E5ECF6",
            "gridcolor": "white",
            "gridwidth": 2,
            "linecolor": "white",
            "showbackground": true,
            "ticks": "",
            "zerolinecolor": "white"
           },
           "yaxis": {
            "backgroundcolor": "#E5ECF6",
            "gridcolor": "white",
            "gridwidth": 2,
            "linecolor": "white",
            "showbackground": true,
            "ticks": "",
            "zerolinecolor": "white"
           },
           "zaxis": {
            "backgroundcolor": "#E5ECF6",
            "gridcolor": "white",
            "gridwidth": 2,
            "linecolor": "white",
            "showbackground": true,
            "ticks": "",
            "zerolinecolor": "white"
           }
          },
          "shapedefaults": {
           "line": {
            "color": "#2a3f5f"
           }
          },
          "ternary": {
           "aaxis": {
            "gridcolor": "white",
            "linecolor": "white",
            "ticks": ""
           },
           "baxis": {
            "gridcolor": "white",
            "linecolor": "white",
            "ticks": ""
           },
           "bgcolor": "#E5ECF6",
           "caxis": {
            "gridcolor": "white",
            "linecolor": "white",
            "ticks": ""
           }
          },
          "title": {
           "x": 0.05
          },
          "xaxis": {
           "automargin": true,
           "gridcolor": "white",
           "linecolor": "white",
           "ticks": "",
           "title": {
            "standoff": 15
           },
           "zerolinecolor": "white",
           "zerolinewidth": 2
          },
          "yaxis": {
           "automargin": true,
           "gridcolor": "white",
           "linecolor": "white",
           "ticks": "",
           "title": {
            "standoff": 15
           },
           "zerolinecolor": "white",
           "zerolinewidth": 2
          }
         }
        },
        "title": {
         "text": "Customer Segments Distribution (RFM Analysis)"
        }
       }
      }
     },
     "metadata": {},
     "output_type": "display_data"
    }
   ],
   "source": [
    "# RFM Scoring and Segmentation\n",
    "def create_rfm_segments(rfm_df):\n",
    "    \"\"\"Create RFM segments based on quintile scoring\"\"\"\n",
    "    \n",
    "    # Create RFM scores (quintiles)\n",
    "    rfm_df['R_Score'] = pd.qcut(rfm_df['Recency'].rank(method='first'), 5, labels=[5,4,3,2,1])  # Lower recency = higher score\n",
    "    rfm_df['F_Score'] = pd.qcut(rfm_df['Frequency'].rank(method='first'), 5, labels=[1,2,3,4,5])  # Higher frequency = higher score\n",
    "    rfm_df['M_Score'] = pd.qcut(rfm_df['Monetary'].rank(method='first'), 5, labels=[1,2,3,4,5])   # Higher monetary = higher score\n",
    "    \n",
    "    # Convert to integers\n",
    "    rfm_df['R_Score'] = rfm_df['R_Score'].astype(int)\n",
    "    rfm_df['F_Score'] = rfm_df['F_Score'].astype(int)\n",
    "    rfm_df['M_Score'] = rfm_df['M_Score'].astype(int)\n",
    "    \n",
    "    # Create RFM combined score\n",
    "    rfm_df['RFM_Score'] = rfm_df['R_Score'].astype(str) + rfm_df['F_Score'].astype(str) + rfm_df['M_Score'].astype(str)\n",
    "    \n",
    "    # Define segment rules\n",
    "    def assign_segment(row):\n",
    "        if row['R_Score'] >= 4 and row['F_Score'] >= 4 and row['M_Score'] >= 4:\n",
    "            return 'Champions'\n",
    "        elif row['R_Score'] >= 3 and row['F_Score'] >= 3 and row['M_Score'] >= 3:\n",
    "            return 'Loyal Customers'\n",
    "        elif row['R_Score'] >= 4 and row['F_Score'] <= 2:\n",
    "            return 'New Customers'\n",
    "        elif row['R_Score'] >= 3 and row['F_Score'] <= 2 and row['M_Score'] >= 3:\n",
    "            return 'Potential Loyalists'\n",
    "        elif row['R_Score'] <= 2 and row['F_Score'] >= 3 and row['M_Score'] >= 3:\n",
    "            return 'At Risk'\n",
    "        elif row['R_Score'] <= 2 and row['F_Score'] >= 2 and row['M_Score'] <= 2:\n",
    "            return 'Cannot Lose Them'\n",
    "        elif row['R_Score'] <= 2 and row['F_Score'] <= 2:\n",
    "            return 'Lost Customers'\n",
    "        else:\n",
    "            return 'Others'\n",
    "    \n",
    "    rfm_df['RFM_Segment'] = rfm_df.apply(assign_segment, axis=1)\n",
    "    \n",
    "    return rfm_df\n",
    "\n",
    "# Apply RFM segmentation\n",
    "rfm_segmented = create_rfm_segments(rfm_data.copy())\n",
    "\n",
    "# Display segment distribution\n",
    "segment_dist = rfm_segmented['RFM_Segment'].value_counts()\n",
    "print(\"🎯 RFM SEGMENT DISTRIBUTION:\")\n",
    "print(\"=\" * 40)\n",
    "for segment, count in segment_dist.items():\n",
    "    percentage = (count / len(rfm_segmented)) * 100\n",
    "    print(f\"{segment:<20}: {count:>4} ({percentage:>5.1f}%)\")\n",
    "\n",
    "# Visualize RFM segments\n",
    "fig = px.pie(\n",
    "    values=segment_dist.values,\n",
    "    names=segment_dist.index,\n",
    "    title='Customer Segments Distribution (RFM Analysis)',\n",
    "    color_discrete_sequence=px.colors.qualitative.Set3\n",
    ")\n",
    "fig.update_traces(textposition='inside', textinfo='percent+label')\n",
    "fig.show()"
   ]
  },
  {
   "cell_type": "code",
   "execution_count": 6,
   "metadata": {},
   "outputs": [
    {
     "name": "stdout",
     "output_type": "stream",
     "text": [
      "📊 SEGMENT CHARACTERISTICS:\n"
     ]
    },
    {
     "data": {
      "text/html": [
       "<div>\n",
       "<style scoped>\n",
       "    .dataframe tbody tr th:only-of-type {\n",
       "        vertical-align: middle;\n",
       "    }\n",
       "\n",
       "    .dataframe tbody tr th {\n",
       "        vertical-align: top;\n",
       "    }\n",
       "\n",
       "    .dataframe thead th {\n",
       "        text-align: right;\n",
       "    }\n",
       "</style>\n",
       "<table border=\"1\" class=\"dataframe\">\n",
       "  <thead>\n",
       "    <tr style=\"text-align: right;\">\n",
       "      <th></th>\n",
       "      <th>Recency_Mean</th>\n",
       "      <th>Recency_Median</th>\n",
       "      <th>Frequency_Mean</th>\n",
       "      <th>Frequency_Median</th>\n",
       "      <th>Monetary_Mean</th>\n",
       "      <th>Monetary_Median</th>\n",
       "      <th>Customer_Count</th>\n",
       "    </tr>\n",
       "    <tr>\n",
       "      <th>RFM_Segment</th>\n",
       "      <th></th>\n",
       "      <th></th>\n",
       "      <th></th>\n",
       "      <th></th>\n",
       "      <th></th>\n",
       "      <th></th>\n",
       "      <th></th>\n",
       "    </tr>\n",
       "  </thead>\n",
       "  <tbody>\n",
       "    <tr>\n",
       "      <th>At Risk</th>\n",
       "      <td>59.09</td>\n",
       "      <td>47.28</td>\n",
       "      <td>1.0</td>\n",
       "      <td>1.0</td>\n",
       "      <td>76.83</td>\n",
       "      <td>78.0</td>\n",
       "      <td>558</td>\n",
       "    </tr>\n",
       "    <tr>\n",
       "      <th>Cannot Lose Them</th>\n",
       "      <td>56.71</td>\n",
       "      <td>46.62</td>\n",
       "      <td>1.0</td>\n",
       "      <td>1.0</td>\n",
       "      <td>35.34</td>\n",
       "      <td>36.0</td>\n",
       "      <td>507</td>\n",
       "    </tr>\n",
       "    <tr>\n",
       "      <th>Champions</th>\n",
       "      <td>6.91</td>\n",
       "      <td>6.73</td>\n",
       "      <td>1.0</td>\n",
       "      <td>1.0</td>\n",
       "      <td>84.43</td>\n",
       "      <td>84.0</td>\n",
       "      <td>256</td>\n",
       "    </tr>\n",
       "    <tr>\n",
       "      <th>Lost Customers</th>\n",
       "      <td>57.68</td>\n",
       "      <td>48.37</td>\n",
       "      <td>1.0</td>\n",
       "      <td>1.0</td>\n",
       "      <td>67.81</td>\n",
       "      <td>70.0</td>\n",
       "      <td>495</td>\n",
       "    </tr>\n",
       "    <tr>\n",
       "      <th>Loyal Customers</th>\n",
       "      <td>12.89</td>\n",
       "      <td>13.43</td>\n",
       "      <td>1.0</td>\n",
       "      <td>1.0</td>\n",
       "      <td>72.38</td>\n",
       "      <td>70.0</td>\n",
       "      <td>598</td>\n",
       "    </tr>\n",
       "    <tr>\n",
       "      <th>New Customers</th>\n",
       "      <td>6.77</td>\n",
       "      <td>6.35</td>\n",
       "      <td>1.0</td>\n",
       "      <td>1.0</td>\n",
       "      <td>57.93</td>\n",
       "      <td>57.0</td>\n",
       "      <td>625</td>\n",
       "    </tr>\n",
       "    <tr>\n",
       "      <th>Others</th>\n",
       "      <td>13.59</td>\n",
       "      <td>13.86</td>\n",
       "      <td>1.0</td>\n",
       "      <td>1.0</td>\n",
       "      <td>34.64</td>\n",
       "      <td>34.0</td>\n",
       "      <td>672</td>\n",
       "    </tr>\n",
       "    <tr>\n",
       "      <th>Potential Loyalists</th>\n",
       "      <td>20.35</td>\n",
       "      <td>20.28</td>\n",
       "      <td>1.0</td>\n",
       "      <td>1.0</td>\n",
       "      <td>75.90</td>\n",
       "      <td>75.0</td>\n",
       "      <td>189</td>\n",
       "    </tr>\n",
       "  </tbody>\n",
       "</table>\n",
       "</div>"
      ],
      "text/plain": [
       "                     Recency_Mean  Recency_Median  Frequency_Mean  \\\n",
       "RFM_Segment                                                         \n",
       "At Risk                     59.09           47.28             1.0   \n",
       "Cannot Lose Them            56.71           46.62             1.0   \n",
       "Champions                    6.91            6.73             1.0   \n",
       "Lost Customers              57.68           48.37             1.0   \n",
       "Loyal Customers             12.89           13.43             1.0   \n",
       "New Customers                6.77            6.35             1.0   \n",
       "Others                      13.59           13.86             1.0   \n",
       "Potential Loyalists         20.35           20.28             1.0   \n",
       "\n",
       "                     Frequency_Median  Monetary_Mean  Monetary_Median  \\\n",
       "RFM_Segment                                                             \n",
       "At Risk                           1.0          76.83             78.0   \n",
       "Cannot Lose Them                  1.0          35.34             36.0   \n",
       "Champions                         1.0          84.43             84.0   \n",
       "Lost Customers                    1.0          67.81             70.0   \n",
       "Loyal Customers                   1.0          72.38             70.0   \n",
       "New Customers                     1.0          57.93             57.0   \n",
       "Others                            1.0          34.64             34.0   \n",
       "Potential Loyalists               1.0          75.90             75.0   \n",
       "\n",
       "                     Customer_Count  \n",
       "RFM_Segment                          \n",
       "At Risk                         558  \n",
       "Cannot Lose Them                507  \n",
       "Champions                       256  \n",
       "Lost Customers                  495  \n",
       "Loyal Customers                 598  \n",
       "New Customers                   625  \n",
       "Others                          672  \n",
       "Potential Loyalists             189  "
      ]
     },
     "metadata": {},
     "output_type": "display_data"
    },
    {
     "data": {
      "application/vnd.plotly.v1+json": {
       "config": {
        "plotlyServerURL": "https://plot.ly"
       },
       "data": [
        {
         "name": "Recency",
         "type": "bar",
         "x": [
          "At Risk",
          "Cannot Lose Them",
          "Champions",
          "Lost Customers",
          "Loyal Customers",
          "New Customers",
          "Others",
          "Potential Loyalists"
         ],
         "xaxis": "x",
         "y": {
          "bdata": "7FG4HoWLTUB7FK5H4VpMQKRwPQrXoxtA16NwPQrXTEBI4XoUrscpQBSuR+F6FBtArkfhehQuK0CamZmZmVk0QA==",
          "dtype": "f8"
         },
         "yaxis": "y"
        },
        {
         "name": "Frequency",
         "type": "bar",
         "x": [
          "At Risk",
          "Cannot Lose Them",
          "Champions",
          "Lost Customers",
          "Loyal Customers",
          "New Customers",
          "Others",
          "Potential Loyalists"
         ],
         "xaxis": "x2",
         "y": {
          "bdata": "AAAAAAAA8D8AAAAAAADwPwAAAAAAAPA/AAAAAAAA8D8AAAAAAADwPwAAAAAAAPA/AAAAAAAA8D8AAAAAAADwPw==",
          "dtype": "f8"
         },
         "yaxis": "y2"
        },
        {
         "name": "Monetary",
         "type": "bar",
         "x": [
          "At Risk",
          "Cannot Lose Them",
          "Champions",
          "Lost Customers",
          "Loyal Customers",
          "New Customers",
          "Others",
          "Potential Loyalists"
         ],
         "xaxis": "x3",
         "y": {
          "bdata": "hetRuB41U0DsUbgehatBQOxRuB6FG1VApHA9CtfzUEC4HoXrURhSQNejcD0K90xAUrgehetRQUCamZmZmflSQA==",
          "dtype": "f8"
         },
         "yaxis": "y3"
        },
        {
         "name": "Count",
         "type": "bar",
         "x": [
          "At Risk",
          "Cannot Lose Them",
          "Champions",
          "Lost Customers",
          "Loyal Customers",
          "New Customers",
          "Others",
          "Potential Loyalists"
         ],
         "xaxis": "x4",
         "y": {
          "bdata": "LgL7AQAB7wFWAnECoAK9AA==",
          "dtype": "i2"
         },
         "yaxis": "y4"
        }
       ],
       "layout": {
        "annotations": [
         {
          "font": {
           "size": 16
          },
          "showarrow": false,
          "text": "Average Recency by Segment",
          "x": 0.225,
          "xanchor": "center",
          "xref": "paper",
          "y": 1,
          "yanchor": "bottom",
          "yref": "paper"
         },
         {
          "font": {
           "size": 16
          },
          "showarrow": false,
          "text": "Average Frequency by Segment",
          "x": 0.775,
          "xanchor": "center",
          "xref": "paper",
          "y": 1,
          "yanchor": "bottom",
          "yref": "paper"
         },
         {
          "font": {
           "size": 16
          },
          "showarrow": false,
          "text": "Average Monetary by Segment",
          "x": 0.225,
          "xanchor": "center",
          "xref": "paper",
          "y": 0.375,
          "yanchor": "bottom",
          "yref": "paper"
         },
         {
          "font": {
           "size": 16
          },
          "showarrow": false,
          "text": "Customer Count by Segment",
          "x": 0.775,
          "xanchor": "center",
          "xref": "paper",
          "y": 0.375,
          "yanchor": "bottom",
          "yref": "paper"
         }
        ],
        "height": 800,
        "showlegend": false,
        "template": {
         "data": {
          "bar": [
           {
            "error_x": {
             "color": "#2a3f5f"
            },
            "error_y": {
             "color": "#2a3f5f"
            },
            "marker": {
             "line": {
              "color": "#E5ECF6",
              "width": 0.5
             },
             "pattern": {
              "fillmode": "overlay",
              "size": 10,
              "solidity": 0.2
             }
            },
            "type": "bar"
           }
          ],
          "barpolar": [
           {
            "marker": {
             "line": {
              "color": "#E5ECF6",
              "width": 0.5
             },
             "pattern": {
              "fillmode": "overlay",
              "size": 10,
              "solidity": 0.2
             }
            },
            "type": "barpolar"
           }
          ],
          "carpet": [
           {
            "aaxis": {
             "endlinecolor": "#2a3f5f",
             "gridcolor": "white",
             "linecolor": "white",
             "minorgridcolor": "white",
             "startlinecolor": "#2a3f5f"
            },
            "baxis": {
             "endlinecolor": "#2a3f5f",
             "gridcolor": "white",
             "linecolor": "white",
             "minorgridcolor": "white",
             "startlinecolor": "#2a3f5f"
            },
            "type": "carpet"
           }
          ],
          "choropleth": [
           {
            "colorbar": {
             "outlinewidth": 0,
             "ticks": ""
            },
            "type": "choropleth"
           }
          ],
          "contour": [
           {
            "colorbar": {
             "outlinewidth": 0,
             "ticks": ""
            },
            "colorscale": [
             [
              0,
              "#0d0887"
             ],
             [
              0.1111111111111111,
              "#46039f"
             ],
             [
              0.2222222222222222,
              "#7201a8"
             ],
             [
              0.3333333333333333,
              "#9c179e"
             ],
             [
              0.4444444444444444,
              "#bd3786"
             ],
             [
              0.5555555555555556,
              "#d8576b"
             ],
             [
              0.6666666666666666,
              "#ed7953"
             ],
             [
              0.7777777777777778,
              "#fb9f3a"
             ],
             [
              0.8888888888888888,
              "#fdca26"
             ],
             [
              1,
              "#f0f921"
             ]
            ],
            "type": "contour"
           }
          ],
          "contourcarpet": [
           {
            "colorbar": {
             "outlinewidth": 0,
             "ticks": ""
            },
            "type": "contourcarpet"
           }
          ],
          "heatmap": [
           {
            "colorbar": {
             "outlinewidth": 0,
             "ticks": ""
            },
            "colorscale": [
             [
              0,
              "#0d0887"
             ],
             [
              0.1111111111111111,
              "#46039f"
             ],
             [
              0.2222222222222222,
              "#7201a8"
             ],
             [
              0.3333333333333333,
              "#9c179e"
             ],
             [
              0.4444444444444444,
              "#bd3786"
             ],
             [
              0.5555555555555556,
              "#d8576b"
             ],
             [
              0.6666666666666666,
              "#ed7953"
             ],
             [
              0.7777777777777778,
              "#fb9f3a"
             ],
             [
              0.8888888888888888,
              "#fdca26"
             ],
             [
              1,
              "#f0f921"
             ]
            ],
            "type": "heatmap"
           }
          ],
          "histogram": [
           {
            "marker": {
             "pattern": {
              "fillmode": "overlay",
              "size": 10,
              "solidity": 0.2
             }
            },
            "type": "histogram"
           }
          ],
          "histogram2d": [
           {
            "colorbar": {
             "outlinewidth": 0,
             "ticks": ""
            },
            "colorscale": [
             [
              0,
              "#0d0887"
             ],
             [
              0.1111111111111111,
              "#46039f"
             ],
             [
              0.2222222222222222,
              "#7201a8"
             ],
             [
              0.3333333333333333,
              "#9c179e"
             ],
             [
              0.4444444444444444,
              "#bd3786"
             ],
             [
              0.5555555555555556,
              "#d8576b"
             ],
             [
              0.6666666666666666,
              "#ed7953"
             ],
             [
              0.7777777777777778,
              "#fb9f3a"
             ],
             [
              0.8888888888888888,
              "#fdca26"
             ],
             [
              1,
              "#f0f921"
             ]
            ],
            "type": "histogram2d"
           }
          ],
          "histogram2dcontour": [
           {
            "colorbar": {
             "outlinewidth": 0,
             "ticks": ""
            },
            "colorscale": [
             [
              0,
              "#0d0887"
             ],
             [
              0.1111111111111111,
              "#46039f"
             ],
             [
              0.2222222222222222,
              "#7201a8"
             ],
             [
              0.3333333333333333,
              "#9c179e"
             ],
             [
              0.4444444444444444,
              "#bd3786"
             ],
             [
              0.5555555555555556,
              "#d8576b"
             ],
             [
              0.6666666666666666,
              "#ed7953"
             ],
             [
              0.7777777777777778,
              "#fb9f3a"
             ],
             [
              0.8888888888888888,
              "#fdca26"
             ],
             [
              1,
              "#f0f921"
             ]
            ],
            "type": "histogram2dcontour"
           }
          ],
          "mesh3d": [
           {
            "colorbar": {
             "outlinewidth": 0,
             "ticks": ""
            },
            "type": "mesh3d"
           }
          ],
          "parcoords": [
           {
            "line": {
             "colorbar": {
              "outlinewidth": 0,
              "ticks": ""
             }
            },
            "type": "parcoords"
           }
          ],
          "pie": [
           {
            "automargin": true,
            "type": "pie"
           }
          ],
          "scatter": [
           {
            "fillpattern": {
             "fillmode": "overlay",
             "size": 10,
             "solidity": 0.2
            },
            "type": "scatter"
           }
          ],
          "scatter3d": [
           {
            "line": {
             "colorbar": {
              "outlinewidth": 0,
              "ticks": ""
             }
            },
            "marker": {
             "colorbar": {
              "outlinewidth": 0,
              "ticks": ""
             }
            },
            "type": "scatter3d"
           }
          ],
          "scattercarpet": [
           {
            "marker": {
             "colorbar": {
              "outlinewidth": 0,
              "ticks": ""
             }
            },
            "type": "scattercarpet"
           }
          ],
          "scattergeo": [
           {
            "marker": {
             "colorbar": {
              "outlinewidth": 0,
              "ticks": ""
             }
            },
            "type": "scattergeo"
           }
          ],
          "scattergl": [
           {
            "marker": {
             "colorbar": {
              "outlinewidth": 0,
              "ticks": ""
             }
            },
            "type": "scattergl"
           }
          ],
          "scattermap": [
           {
            "marker": {
             "colorbar": {
              "outlinewidth": 0,
              "ticks": ""
             }
            },
            "type": "scattermap"
           }
          ],
          "scattermapbox": [
           {
            "marker": {
             "colorbar": {
              "outlinewidth": 0,
              "ticks": ""
             }
            },
            "type": "scattermapbox"
           }
          ],
          "scatterpolar": [
           {
            "marker": {
             "colorbar": {
              "outlinewidth": 0,
              "ticks": ""
             }
            },
            "type": "scatterpolar"
           }
          ],
          "scatterpolargl": [
           {
            "marker": {
             "colorbar": {
              "outlinewidth": 0,
              "ticks": ""
             }
            },
            "type": "scatterpolargl"
           }
          ],
          "scatterternary": [
           {
            "marker": {
             "colorbar": {
              "outlinewidth": 0,
              "ticks": ""
             }
            },
            "type": "scatterternary"
           }
          ],
          "surface": [
           {
            "colorbar": {
             "outlinewidth": 0,
             "ticks": ""
            },
            "colorscale": [
             [
              0,
              "#0d0887"
             ],
             [
              0.1111111111111111,
              "#46039f"
             ],
             [
              0.2222222222222222,
              "#7201a8"
             ],
             [
              0.3333333333333333,
              "#9c179e"
             ],
             [
              0.4444444444444444,
              "#bd3786"
             ],
             [
              0.5555555555555556,
              "#d8576b"
             ],
             [
              0.6666666666666666,
              "#ed7953"
             ],
             [
              0.7777777777777778,
              "#fb9f3a"
             ],
             [
              0.8888888888888888,
              "#fdca26"
             ],
             [
              1,
              "#f0f921"
             ]
            ],
            "type": "surface"
           }
          ],
          "table": [
           {
            "cells": {
             "fill": {
              "color": "#EBF0F8"
             },
             "line": {
              "color": "white"
             }
            },
            "header": {
             "fill": {
              "color": "#C8D4E3"
             },
             "line": {
              "color": "white"
             }
            },
            "type": "table"
           }
          ]
         },
         "layout": {
          "annotationdefaults": {
           "arrowcolor": "#2a3f5f",
           "arrowhead": 0,
           "arrowwidth": 1
          },
          "autotypenumbers": "strict",
          "coloraxis": {
           "colorbar": {
            "outlinewidth": 0,
            "ticks": ""
           }
          },
          "colorscale": {
           "diverging": [
            [
             0,
             "#8e0152"
            ],
            [
             0.1,
             "#c51b7d"
            ],
            [
             0.2,
             "#de77ae"
            ],
            [
             0.3,
             "#f1b6da"
            ],
            [
             0.4,
             "#fde0ef"
            ],
            [
             0.5,
             "#f7f7f7"
            ],
            [
             0.6,
             "#e6f5d0"
            ],
            [
             0.7,
             "#b8e186"
            ],
            [
             0.8,
             "#7fbc41"
            ],
            [
             0.9,
             "#4d9221"
            ],
            [
             1,
             "#276419"
            ]
           ],
           "sequential": [
            [
             0,
             "#0d0887"
            ],
            [
             0.1111111111111111,
             "#46039f"
            ],
            [
             0.2222222222222222,
             "#7201a8"
            ],
            [
             0.3333333333333333,
             "#9c179e"
            ],
            [
             0.4444444444444444,
             "#bd3786"
            ],
            [
             0.5555555555555556,
             "#d8576b"
            ],
            [
             0.6666666666666666,
             "#ed7953"
            ],
            [
             0.7777777777777778,
             "#fb9f3a"
            ],
            [
             0.8888888888888888,
             "#fdca26"
            ],
            [
             1,
             "#f0f921"
            ]
           ],
           "sequentialminus": [
            [
             0,
             "#0d0887"
            ],
            [
             0.1111111111111111,
             "#46039f"
            ],
            [
             0.2222222222222222,
             "#7201a8"
            ],
            [
             0.3333333333333333,
             "#9c179e"
            ],
            [
             0.4444444444444444,
             "#bd3786"
            ],
            [
             0.5555555555555556,
             "#d8576b"
            ],
            [
             0.6666666666666666,
             "#ed7953"
            ],
            [
             0.7777777777777778,
             "#fb9f3a"
            ],
            [
             0.8888888888888888,
             "#fdca26"
            ],
            [
             1,
             "#f0f921"
            ]
           ]
          },
          "colorway": [
           "#636efa",
           "#EF553B",
           "#00cc96",
           "#ab63fa",
           "#FFA15A",
           "#19d3f3",
           "#FF6692",
           "#B6E880",
           "#FF97FF",
           "#FECB52"
          ],
          "font": {
           "color": "#2a3f5f"
          },
          "geo": {
           "bgcolor": "white",
           "lakecolor": "white",
           "landcolor": "#E5ECF6",
           "showlakes": true,
           "showland": true,
           "subunitcolor": "white"
          },
          "hoverlabel": {
           "align": "left"
          },
          "hovermode": "closest",
          "mapbox": {
           "style": "light"
          },
          "paper_bgcolor": "white",
          "plot_bgcolor": "#E5ECF6",
          "polar": {
           "angularaxis": {
            "gridcolor": "white",
            "linecolor": "white",
            "ticks": ""
           },
           "bgcolor": "#E5ECF6",
           "radialaxis": {
            "gridcolor": "white",
            "linecolor": "white",
            "ticks": ""
           }
          },
          "scene": {
           "xaxis": {
            "backgroundcolor": "#E5ECF6",
            "gridcolor": "white",
            "gridwidth": 2,
            "linecolor": "white",
            "showbackground": true,
            "ticks": "",
            "zerolinecolor": "white"
           },
           "yaxis": {
            "backgroundcolor": "#E5ECF6",
            "gridcolor": "white",
            "gridwidth": 2,
            "linecolor": "white",
            "showbackground": true,
            "ticks": "",
            "zerolinecolor": "white"
           },
           "zaxis": {
            "backgroundcolor": "#E5ECF6",
            "gridcolor": "white",
            "gridwidth": 2,
            "linecolor": "white",
            "showbackground": true,
            "ticks": "",
            "zerolinecolor": "white"
           }
          },
          "shapedefaults": {
           "line": {
            "color": "#2a3f5f"
           }
          },
          "ternary": {
           "aaxis": {
            "gridcolor": "white",
            "linecolor": "white",
            "ticks": ""
           },
           "baxis": {
            "gridcolor": "white",
            "linecolor": "white",
            "ticks": ""
           },
           "bgcolor": "#E5ECF6",
           "caxis": {
            "gridcolor": "white",
            "linecolor": "white",
            "ticks": ""
           }
          },
          "title": {
           "x": 0.05
          },
          "xaxis": {
           "automargin": true,
           "gridcolor": "white",
           "linecolor": "white",
           "ticks": "",
           "title": {
            "standoff": 15
           },
           "zerolinecolor": "white",
           "zerolinewidth": 2
          },
          "yaxis": {
           "automargin": true,
           "gridcolor": "white",
           "linecolor": "white",
           "ticks": "",
           "title": {
            "standoff": 15
           },
           "zerolinecolor": "white",
           "zerolinewidth": 2
          }
         }
        },
        "title": {
         "text": "RFM Segment Analysis"
        },
        "xaxis": {
         "anchor": "y",
         "domain": [
          0,
          0.45
         ],
         "tickangle": 45
        },
        "xaxis2": {
         "anchor": "y2",
         "domain": [
          0.55,
          1
         ],
         "tickangle": 45
        },
        "xaxis3": {
         "anchor": "y3",
         "domain": [
          0,
          0.45
         ],
         "tickangle": 45
        },
        "xaxis4": {
         "anchor": "y4",
         "domain": [
          0.55,
          1
         ],
         "tickangle": 45
        },
        "yaxis": {
         "anchor": "x",
         "domain": [
          0.625,
          1
         ]
        },
        "yaxis2": {
         "anchor": "x2",
         "domain": [
          0.625,
          1
         ]
        },
        "yaxis3": {
         "anchor": "x3",
         "domain": [
          0,
          0.375
         ]
        },
        "yaxis4": {
         "anchor": "x4",
         "domain": [
          0,
          0.375
         ]
        }
       }
      }
     },
     "metadata": {},
     "output_type": "display_data"
    }
   ],
   "source": [
    "# RFM Segment Analysis\n",
    "def analyze_rfm_segments(rfm_df):\n",
    "    \"\"\"Analyze characteristics of each RFM segment\"\"\"\n",
    "    \n",
    "    segment_analysis = rfm_df.groupby('RFM_Segment').agg({\n",
    "        'Recency': ['mean', 'median'],\n",
    "        'Frequency': ['mean', 'median'],\n",
    "        'Monetary': ['mean', 'median'],\n",
    "        'RFM_Segment': 'count'\n",
    "    }).round(2)\n",
    "    \n",
    "    segment_analysis.columns = ['Recency_Mean', 'Recency_Median', 'Frequency_Mean', 'Frequency_Median', \n",
    "                               'Monetary_Mean', 'Monetary_Median', 'Customer_Count']\n",
    "    \n",
    "    return segment_analysis\n",
    "\n",
    "segment_stats = analyze_rfm_segments(rfm_segmented)\n",
    "print(\"📊 SEGMENT CHARACTERISTICS:\")\n",
    "display(segment_stats)\n",
    "\n",
    "# Create segment comparison visualization\n",
    "fig = make_subplots(\n",
    "    rows=2, cols=2,\n",
    "    subplot_titles=['Average Recency by Segment', 'Average Frequency by Segment', \n",
    "                   'Average Monetary by Segment', 'Customer Count by Segment']\n",
    ")\n",
    "\n",
    "# Recency\n",
    "fig.add_trace(\n",
    "    go.Bar(x=segment_stats.index, y=segment_stats['Recency_Mean'], name='Recency'),\n",
    "    row=1, col=1\n",
    ")\n",
    "\n",
    "# Frequency\n",
    "fig.add_trace(\n",
    "    go.Bar(x=segment_stats.index, y=segment_stats['Frequency_Mean'], name='Frequency'),\n",
    "    row=1, col=2\n",
    ")\n",
    "\n",
    "# Monetary\n",
    "fig.add_trace(\n",
    "    go.Bar(x=segment_stats.index, y=segment_stats['Monetary_Mean'], name='Monetary'),\n",
    "    row=2, col=1\n",
    ")\n",
    "\n",
    "# Customer Count\n",
    "fig.add_trace(\n",
    "    go.Bar(x=segment_stats.index, y=segment_stats['Customer_Count'], name='Count'),\n",
    "    row=2, col=2\n",
    ")\n",
    "\n",
    "fig.update_xaxes(tickangle=45)\n",
    "fig.update_layout(height=800, title_text=\"RFM Segment Analysis\", showlegend=False)\n",
    "fig.show()"
   ]
  },
  {
   "cell_type": "markdown",
   "metadata": {},
   "source": [
    "## 3. K-Means Clustering Analysis"
   ]
  },
  {
   "cell_type": "code",
   "execution_count": 7,
   "metadata": {},
   "outputs": [
    {
     "name": "stdout",
     "output_type": "stream",
     "text": [
      "✅ Clustering data prepared: (3900, 3)\n",
      "Features: ['Recency', 'Frequency', 'Monetary']\n",
      "\n",
      "📊 SCALING COMPARISON:\n",
      "Original data:\n"
     ]
    },
    {
     "data": {
      "text/html": [
       "<div>\n",
       "<style scoped>\n",
       "    .dataframe tbody tr th:only-of-type {\n",
       "        vertical-align: middle;\n",
       "    }\n",
       "\n",
       "    .dataframe tbody tr th {\n",
       "        vertical-align: top;\n",
       "    }\n",
       "\n",
       "    .dataframe thead th {\n",
       "        text-align: right;\n",
       "    }\n",
       "</style>\n",
       "<table border=\"1\" class=\"dataframe\">\n",
       "  <thead>\n",
       "    <tr style=\"text-align: right;\">\n",
       "      <th></th>\n",
       "      <th>Recency</th>\n",
       "      <th>Frequency</th>\n",
       "      <th>Monetary</th>\n",
       "    </tr>\n",
       "  </thead>\n",
       "  <tbody>\n",
       "    <tr>\n",
       "      <th>count</th>\n",
       "      <td>3900.000000</td>\n",
       "      <td>3900.0</td>\n",
       "      <td>3900.000000</td>\n",
       "    </tr>\n",
       "    <tr>\n",
       "      <th>mean</th>\n",
       "      <td>28.285173</td>\n",
       "      <td>1.0</td>\n",
       "      <td>59.649167</td>\n",
       "    </tr>\n",
       "    <tr>\n",
       "      <th>std</th>\n",
       "      <td>25.197724</td>\n",
       "      <td>0.0</td>\n",
       "      <td>23.501046</td>\n",
       "    </tr>\n",
       "    <tr>\n",
       "      <th>min</th>\n",
       "      <td>0.008295</td>\n",
       "      <td>1.0</td>\n",
       "      <td>20.000000</td>\n",
       "    </tr>\n",
       "    <tr>\n",
       "      <th>25%</th>\n",
       "      <td>8.473800</td>\n",
       "      <td>1.0</td>\n",
       "      <td>39.000000</td>\n",
       "    </tr>\n",
       "    <tr>\n",
       "      <th>50%</th>\n",
       "      <td>20.443027</td>\n",
       "      <td>1.0</td>\n",
       "      <td>60.000000</td>\n",
       "    </tr>\n",
       "    <tr>\n",
       "      <th>75%</th>\n",
       "      <td>41.444899</td>\n",
       "      <td>1.0</td>\n",
       "      <td>81.000000</td>\n",
       "    </tr>\n",
       "    <tr>\n",
       "      <th>max</th>\n",
       "      <td>90.619564</td>\n",
       "      <td>1.0</td>\n",
       "      <td>96.050000</td>\n",
       "    </tr>\n",
       "  </tbody>\n",
       "</table>\n",
       "</div>"
      ],
      "text/plain": [
       "           Recency  Frequency     Monetary\n",
       "count  3900.000000     3900.0  3900.000000\n",
       "mean     28.285173        1.0    59.649167\n",
       "std      25.197724        0.0    23.501046\n",
       "min       0.008295        1.0    20.000000\n",
       "25%       8.473800        1.0    39.000000\n",
       "50%      20.443027        1.0    60.000000\n",
       "75%      41.444899        1.0    81.000000\n",
       "max      90.619564        1.0    96.050000"
      ]
     },
     "metadata": {},
     "output_type": "display_data"
    },
    {
     "name": "stdout",
     "output_type": "stream",
     "text": [
      "\n",
      "Scaled data:\n"
     ]
    },
    {
     "data": {
      "text/html": [
       "<div>\n",
       "<style scoped>\n",
       "    .dataframe tbody tr th:only-of-type {\n",
       "        vertical-align: middle;\n",
       "    }\n",
       "\n",
       "    .dataframe tbody tr th {\n",
       "        vertical-align: top;\n",
       "    }\n",
       "\n",
       "    .dataframe thead th {\n",
       "        text-align: right;\n",
       "    }\n",
       "</style>\n",
       "<table border=\"1\" class=\"dataframe\">\n",
       "  <thead>\n",
       "    <tr style=\"text-align: right;\">\n",
       "      <th></th>\n",
       "      <th>Recency</th>\n",
       "      <th>Frequency</th>\n",
       "      <th>Monetary</th>\n",
       "    </tr>\n",
       "  </thead>\n",
       "  <tbody>\n",
       "    <tr>\n",
       "      <th>count</th>\n",
       "      <td>3.900000e+03</td>\n",
       "      <td>3900.0</td>\n",
       "      <td>3.900000e+03</td>\n",
       "    </tr>\n",
       "    <tr>\n",
       "      <th>mean</th>\n",
       "      <td>8.380760e-17</td>\n",
       "      <td>0.0</td>\n",
       "      <td>5.465713e-17</td>\n",
       "    </tr>\n",
       "    <tr>\n",
       "      <th>std</th>\n",
       "      <td>1.000128e+00</td>\n",
       "      <td>0.0</td>\n",
       "      <td>1.000128e+00</td>\n",
       "    </tr>\n",
       "    <tr>\n",
       "      <th>min</th>\n",
       "      <td>-1.122344e+00</td>\n",
       "      <td>0.0</td>\n",
       "      <td>-1.687340e+00</td>\n",
       "    </tr>\n",
       "    <tr>\n",
       "      <th>25%</th>\n",
       "      <td>-7.863374e-01</td>\n",
       "      <td>0.0</td>\n",
       "      <td>-8.787615e-01</td>\n",
       "    </tr>\n",
       "    <tr>\n",
       "      <th>50%</th>\n",
       "      <td>-3.112643e-01</td>\n",
       "      <td>0.0</td>\n",
       "      <td>1.493033e-02</td>\n",
       "    </tr>\n",
       "    <tr>\n",
       "      <th>75%</th>\n",
       "      <td>5.223255e-01</td>\n",
       "      <td>0.0</td>\n",
       "      <td>9.086222e-01</td>\n",
       "    </tr>\n",
       "    <tr>\n",
       "      <th>max</th>\n",
       "      <td>2.474128e+00</td>\n",
       "      <td>0.0</td>\n",
       "      <td>1.549101e+00</td>\n",
       "    </tr>\n",
       "  </tbody>\n",
       "</table>\n",
       "</div>"
      ],
      "text/plain": [
       "            Recency  Frequency      Monetary\n",
       "count  3.900000e+03     3900.0  3.900000e+03\n",
       "mean   8.380760e-17        0.0  5.465713e-17\n",
       "std    1.000128e+00        0.0  1.000128e+00\n",
       "min   -1.122344e+00        0.0 -1.687340e+00\n",
       "25%   -7.863374e-01        0.0 -8.787615e-01\n",
       "50%   -3.112643e-01        0.0  1.493033e-02\n",
       "75%    5.223255e-01        0.0  9.086222e-01\n",
       "max    2.474128e+00        0.0  1.549101e+00"
      ]
     },
     "metadata": {},
     "output_type": "display_data"
    }
   ],
   "source": [
    "# Prepare data for K-means clustering\n",
    "def prepare_clustering_data(rfm_df):\n",
    "    \"\"\"Prepare and scale data for clustering\"\"\"\n",
    "    \n",
    "    # Select features for clustering\n",
    "    clustering_features = rfm_df[['Recency', 'Frequency', 'Monetary']].copy()\n",
    "    \n",
    "    # Handle outliers (cap at 95th percentile)\n",
    "    for col in clustering_features.columns:\n",
    "        cap_value = clustering_features[col].quantile(0.95)\n",
    "        clustering_features[col] = np.where(clustering_features[col] > cap_value, cap_value, clustering_features[col])\n",
    "    \n",
    "    # Scale features\n",
    "    scaler = StandardScaler()\n",
    "    scaled_features = scaler.fit_transform(clustering_features)\n",
    "    scaled_df = pd.DataFrame(scaled_features, columns=clustering_features.columns)\n",
    "    \n",
    "    return scaled_df, scaler, clustering_features\n",
    "\n",
    "scaled_data, scaler, original_features = prepare_clustering_data(rfm_segmented)\n",
    "print(f\"✅ Clustering data prepared: {scaled_data.shape}\")\n",
    "print(f\"Features: {list(scaled_data.columns)}\")\n",
    "\n",
    "# Show scaling effect\n",
    "print(\"\\n📊 SCALING COMPARISON:\")\n",
    "print(\"Original data:\")\n",
    "display(original_features.describe())\n",
    "print(\"\\nScaled data:\")\n",
    "display(scaled_data.describe())"
   ]
  },
  {
   "cell_type": "code",
   "execution_count": 8,
   "metadata": {},
   "outputs": [
    {
     "data": {
      "application/vnd.plotly.v1+json": {
       "config": {
        "plotlyServerURL": "https://plot.ly"
       },
       "data": [
        {
         "mode": "lines+markers",
         "name": "Inertia",
         "type": "scatter",
         "x": [
          2,
          3,
          4,
          5,
          6,
          7,
          8,
          9,
          10
         ],
         "xaxis": "x",
         "y": [
          4831.27931721935,
          2583.2632901771685,
          2004.9193820550784,
          1603.961820241681,
          1284.8094804874072,
          1043.3160786331985,
          910.7679768035977,
          801.8854433462064,
          733.1292141155018
         ],
         "yaxis": "y"
        },
        {
         "mode": "lines+markers",
         "name": "Silhouette Score",
         "type": "scatter",
         "x": [
          2,
          3,
          4,
          5,
          6,
          7,
          8,
          9,
          10
         ],
         "xaxis": "x2",
         "y": [
          0.38218995203373685,
          0.4500874257867829,
          0.4335449659737004,
          0.3827815275435871,
          0.39728843232765465,
          0.40087380560447533,
          0.39836337803619537,
          0.3828685323044033,
          0.38444935768559363
         ],
         "yaxis": "y2"
        }
       ],
       "layout": {
        "annotations": [
         {
          "font": {
           "size": 16
          },
          "showarrow": false,
          "text": "Elbow Method",
          "x": 0.225,
          "xanchor": "center",
          "xref": "paper",
          "y": 1,
          "yanchor": "bottom",
          "yref": "paper"
         },
         {
          "font": {
           "size": 16
          },
          "showarrow": false,
          "text": "Silhouette Score",
          "x": 0.775,
          "xanchor": "center",
          "xref": "paper",
          "y": 1,
          "yanchor": "bottom",
          "yref": "paper"
         }
        ],
        "height": 400,
        "template": {
         "data": {
          "bar": [
           {
            "error_x": {
             "color": "#2a3f5f"
            },
            "error_y": {
             "color": "#2a3f5f"
            },
            "marker": {
             "line": {
              "color": "#E5ECF6",
              "width": 0.5
             },
             "pattern": {
              "fillmode": "overlay",
              "size": 10,
              "solidity": 0.2
             }
            },
            "type": "bar"
           }
          ],
          "barpolar": [
           {
            "marker": {
             "line": {
              "color": "#E5ECF6",
              "width": 0.5
             },
             "pattern": {
              "fillmode": "overlay",
              "size": 10,
              "solidity": 0.2
             }
            },
            "type": "barpolar"
           }
          ],
          "carpet": [
           {
            "aaxis": {
             "endlinecolor": "#2a3f5f",
             "gridcolor": "white",
             "linecolor": "white",
             "minorgridcolor": "white",
             "startlinecolor": "#2a3f5f"
            },
            "baxis": {
             "endlinecolor": "#2a3f5f",
             "gridcolor": "white",
             "linecolor": "white",
             "minorgridcolor": "white",
             "startlinecolor": "#2a3f5f"
            },
            "type": "carpet"
           }
          ],
          "choropleth": [
           {
            "colorbar": {
             "outlinewidth": 0,
             "ticks": ""
            },
            "type": "choropleth"
           }
          ],
          "contour": [
           {
            "colorbar": {
             "outlinewidth": 0,
             "ticks": ""
            },
            "colorscale": [
             [
              0,
              "#0d0887"
             ],
             [
              0.1111111111111111,
              "#46039f"
             ],
             [
              0.2222222222222222,
              "#7201a8"
             ],
             [
              0.3333333333333333,
              "#9c179e"
             ],
             [
              0.4444444444444444,
              "#bd3786"
             ],
             [
              0.5555555555555556,
              "#d8576b"
             ],
             [
              0.6666666666666666,
              "#ed7953"
             ],
             [
              0.7777777777777778,
              "#fb9f3a"
             ],
             [
              0.8888888888888888,
              "#fdca26"
             ],
             [
              1,
              "#f0f921"
             ]
            ],
            "type": "contour"
           }
          ],
          "contourcarpet": [
           {
            "colorbar": {
             "outlinewidth": 0,
             "ticks": ""
            },
            "type": "contourcarpet"
           }
          ],
          "heatmap": [
           {
            "colorbar": {
             "outlinewidth": 0,
             "ticks": ""
            },
            "colorscale": [
             [
              0,
              "#0d0887"
             ],
             [
              0.1111111111111111,
              "#46039f"
             ],
             [
              0.2222222222222222,
              "#7201a8"
             ],
             [
              0.3333333333333333,
              "#9c179e"
             ],
             [
              0.4444444444444444,
              "#bd3786"
             ],
             [
              0.5555555555555556,
              "#d8576b"
             ],
             [
              0.6666666666666666,
              "#ed7953"
             ],
             [
              0.7777777777777778,
              "#fb9f3a"
             ],
             [
              0.8888888888888888,
              "#fdca26"
             ],
             [
              1,
              "#f0f921"
             ]
            ],
            "type": "heatmap"
           }
          ],
          "histogram": [
           {
            "marker": {
             "pattern": {
              "fillmode": "overlay",
              "size": 10,
              "solidity": 0.2
             }
            },
            "type": "histogram"
           }
          ],
          "histogram2d": [
           {
            "colorbar": {
             "outlinewidth": 0,
             "ticks": ""
            },
            "colorscale": [
             [
              0,
              "#0d0887"
             ],
             [
              0.1111111111111111,
              "#46039f"
             ],
             [
              0.2222222222222222,
              "#7201a8"
             ],
             [
              0.3333333333333333,
              "#9c179e"
             ],
             [
              0.4444444444444444,
              "#bd3786"
             ],
             [
              0.5555555555555556,
              "#d8576b"
             ],
             [
              0.6666666666666666,
              "#ed7953"
             ],
             [
              0.7777777777777778,
              "#fb9f3a"
             ],
             [
              0.8888888888888888,
              "#fdca26"
             ],
             [
              1,
              "#f0f921"
             ]
            ],
            "type": "histogram2d"
           }
          ],
          "histogram2dcontour": [
           {
            "colorbar": {
             "outlinewidth": 0,
             "ticks": ""
            },
            "colorscale": [
             [
              0,
              "#0d0887"
             ],
             [
              0.1111111111111111,
              "#46039f"
             ],
             [
              0.2222222222222222,
              "#7201a8"
             ],
             [
              0.3333333333333333,
              "#9c179e"
             ],
             [
              0.4444444444444444,
              "#bd3786"
             ],
             [
              0.5555555555555556,
              "#d8576b"
             ],
             [
              0.6666666666666666,
              "#ed7953"
             ],
             [
              0.7777777777777778,
              "#fb9f3a"
             ],
             [
              0.8888888888888888,
              "#fdca26"
             ],
             [
              1,
              "#f0f921"
             ]
            ],
            "type": "histogram2dcontour"
           }
          ],
          "mesh3d": [
           {
            "colorbar": {
             "outlinewidth": 0,
             "ticks": ""
            },
            "type": "mesh3d"
           }
          ],
          "parcoords": [
           {
            "line": {
             "colorbar": {
              "outlinewidth": 0,
              "ticks": ""
             }
            },
            "type": "parcoords"
           }
          ],
          "pie": [
           {
            "automargin": true,
            "type": "pie"
           }
          ],
          "scatter": [
           {
            "fillpattern": {
             "fillmode": "overlay",
             "size": 10,
             "solidity": 0.2
            },
            "type": "scatter"
           }
          ],
          "scatter3d": [
           {
            "line": {
             "colorbar": {
              "outlinewidth": 0,
              "ticks": ""
             }
            },
            "marker": {
             "colorbar": {
              "outlinewidth": 0,
              "ticks": ""
             }
            },
            "type": "scatter3d"
           }
          ],
          "scattercarpet": [
           {
            "marker": {
             "colorbar": {
              "outlinewidth": 0,
              "ticks": ""
             }
            },
            "type": "scattercarpet"
           }
          ],
          "scattergeo": [
           {
            "marker": {
             "colorbar": {
              "outlinewidth": 0,
              "ticks": ""
             }
            },
            "type": "scattergeo"
           }
          ],
          "scattergl": [
           {
            "marker": {
             "colorbar": {
              "outlinewidth": 0,
              "ticks": ""
             }
            },
            "type": "scattergl"
           }
          ],
          "scattermap": [
           {
            "marker": {
             "colorbar": {
              "outlinewidth": 0,
              "ticks": ""
             }
            },
            "type": "scattermap"
           }
          ],
          "scattermapbox": [
           {
            "marker": {
             "colorbar": {
              "outlinewidth": 0,
              "ticks": ""
             }
            },
            "type": "scattermapbox"
           }
          ],
          "scatterpolar": [
           {
            "marker": {
             "colorbar": {
              "outlinewidth": 0,
              "ticks": ""
             }
            },
            "type": "scatterpolar"
           }
          ],
          "scatterpolargl": [
           {
            "marker": {
             "colorbar": {
              "outlinewidth": 0,
              "ticks": ""
             }
            },
            "type": "scatterpolargl"
           }
          ],
          "scatterternary": [
           {
            "marker": {
             "colorbar": {
              "outlinewidth": 0,
              "ticks": ""
             }
            },
            "type": "scatterternary"
           }
          ],
          "surface": [
           {
            "colorbar": {
             "outlinewidth": 0,
             "ticks": ""
            },
            "colorscale": [
             [
              0,
              "#0d0887"
             ],
             [
              0.1111111111111111,
              "#46039f"
             ],
             [
              0.2222222222222222,
              "#7201a8"
             ],
             [
              0.3333333333333333,
              "#9c179e"
             ],
             [
              0.4444444444444444,
              "#bd3786"
             ],
             [
              0.5555555555555556,
              "#d8576b"
             ],
             [
              0.6666666666666666,
              "#ed7953"
             ],
             [
              0.7777777777777778,
              "#fb9f3a"
             ],
             [
              0.8888888888888888,
              "#fdca26"
             ],
             [
              1,
              "#f0f921"
             ]
            ],
            "type": "surface"
           }
          ],
          "table": [
           {
            "cells": {
             "fill": {
              "color": "#EBF0F8"
             },
             "line": {
              "color": "white"
             }
            },
            "header": {
             "fill": {
              "color": "#C8D4E3"
             },
             "line": {
              "color": "white"
             }
            },
            "type": "table"
           }
          ]
         },
         "layout": {
          "annotationdefaults": {
           "arrowcolor": "#2a3f5f",
           "arrowhead": 0,
           "arrowwidth": 1
          },
          "autotypenumbers": "strict",
          "coloraxis": {
           "colorbar": {
            "outlinewidth": 0,
            "ticks": ""
           }
          },
          "colorscale": {
           "diverging": [
            [
             0,
             "#8e0152"
            ],
            [
             0.1,
             "#c51b7d"
            ],
            [
             0.2,
             "#de77ae"
            ],
            [
             0.3,
             "#f1b6da"
            ],
            [
             0.4,
             "#fde0ef"
            ],
            [
             0.5,
             "#f7f7f7"
            ],
            [
             0.6,
             "#e6f5d0"
            ],
            [
             0.7,
             "#b8e186"
            ],
            [
             0.8,
             "#7fbc41"
            ],
            [
             0.9,
             "#4d9221"
            ],
            [
             1,
             "#276419"
            ]
           ],
           "sequential": [
            [
             0,
             "#0d0887"
            ],
            [
             0.1111111111111111,
             "#46039f"
            ],
            [
             0.2222222222222222,
             "#7201a8"
            ],
            [
             0.3333333333333333,
             "#9c179e"
            ],
            [
             0.4444444444444444,
             "#bd3786"
            ],
            [
             0.5555555555555556,
             "#d8576b"
            ],
            [
             0.6666666666666666,
             "#ed7953"
            ],
            [
             0.7777777777777778,
             "#fb9f3a"
            ],
            [
             0.8888888888888888,
             "#fdca26"
            ],
            [
             1,
             "#f0f921"
            ]
           ],
           "sequentialminus": [
            [
             0,
             "#0d0887"
            ],
            [
             0.1111111111111111,
             "#46039f"
            ],
            [
             0.2222222222222222,
             "#7201a8"
            ],
            [
             0.3333333333333333,
             "#9c179e"
            ],
            [
             0.4444444444444444,
             "#bd3786"
            ],
            [
             0.5555555555555556,
             "#d8576b"
            ],
            [
             0.6666666666666666,
             "#ed7953"
            ],
            [
             0.7777777777777778,
             "#fb9f3a"
            ],
            [
             0.8888888888888888,
             "#fdca26"
            ],
            [
             1,
             "#f0f921"
            ]
           ]
          },
          "colorway": [
           "#636efa",
           "#EF553B",
           "#00cc96",
           "#ab63fa",
           "#FFA15A",
           "#19d3f3",
           "#FF6692",
           "#B6E880",
           "#FF97FF",
           "#FECB52"
          ],
          "font": {
           "color": "#2a3f5f"
          },
          "geo": {
           "bgcolor": "white",
           "lakecolor": "white",
           "landcolor": "#E5ECF6",
           "showlakes": true,
           "showland": true,
           "subunitcolor": "white"
          },
          "hoverlabel": {
           "align": "left"
          },
          "hovermode": "closest",
          "mapbox": {
           "style": "light"
          },
          "paper_bgcolor": "white",
          "plot_bgcolor": "#E5ECF6",
          "polar": {
           "angularaxis": {
            "gridcolor": "white",
            "linecolor": "white",
            "ticks": ""
           },
           "bgcolor": "#E5ECF6",
           "radialaxis": {
            "gridcolor": "white",
            "linecolor": "white",
            "ticks": ""
           }
          },
          "scene": {
           "xaxis": {
            "backgroundcolor": "#E5ECF6",
            "gridcolor": "white",
            "gridwidth": 2,
            "linecolor": "white",
            "showbackground": true,
            "ticks": "",
            "zerolinecolor": "white"
           },
           "yaxis": {
            "backgroundcolor": "#E5ECF6",
            "gridcolor": "white",
            "gridwidth": 2,
            "linecolor": "white",
            "showbackground": true,
            "ticks": "",
            "zerolinecolor": "white"
           },
           "zaxis": {
            "backgroundcolor": "#E5ECF6",
            "gridcolor": "white",
            "gridwidth": 2,
            "linecolor": "white",
            "showbackground": true,
            "ticks": "",
            "zerolinecolor": "white"
           }
          },
          "shapedefaults": {
           "line": {
            "color": "#2a3f5f"
           }
          },
          "ternary": {
           "aaxis": {
            "gridcolor": "white",
            "linecolor": "white",
            "ticks": ""
           },
           "baxis": {
            "gridcolor": "white",
            "linecolor": "white",
            "ticks": ""
           },
           "bgcolor": "#E5ECF6",
           "caxis": {
            "gridcolor": "white",
            "linecolor": "white",
            "ticks": ""
           }
          },
          "title": {
           "x": 0.05
          },
          "xaxis": {
           "automargin": true,
           "gridcolor": "white",
           "linecolor": "white",
           "ticks": "",
           "title": {
            "standoff": 15
           },
           "zerolinecolor": "white",
           "zerolinewidth": 2
          },
          "yaxis": {
           "automargin": true,
           "gridcolor": "white",
           "linecolor": "white",
           "ticks": "",
           "title": {
            "standoff": 15
           },
           "zerolinecolor": "white",
           "zerolinewidth": 2
          }
         }
        },
        "title": {
         "text": "Optimal Number of Clusters Analysis"
        },
        "xaxis": {
         "anchor": "y",
         "domain": [
          0,
          0.45
         ],
         "title": {
          "text": "Number of Clusters (k)"
         }
        },
        "xaxis2": {
         "anchor": "y2",
         "domain": [
          0.55,
          1
         ],
         "title": {
          "text": "Number of Clusters (k)"
         }
        },
        "yaxis": {
         "anchor": "x",
         "domain": [
          0,
          1
         ],
         "title": {
          "text": "Inertia"
         }
        },
        "yaxis2": {
         "anchor": "x2",
         "domain": [
          0,
          1
         ],
         "title": {
          "text": "Silhouette Score"
         }
        }
       }
      }
     },
     "metadata": {},
     "output_type": "display_data"
    },
    {
     "name": "stdout",
     "output_type": "stream",
     "text": [
      "📊 OPTIMAL CLUSTERING RESULTS:\n",
      "Best number of clusters: 3\n",
      "Best silhouette score: 0.450\n",
      "\n",
      "Silhouette scores by k:\n",
      "k=2: 0.382\n",
      "k=3: 0.450\n",
      "k=4: 0.434\n",
      "k=5: 0.383\n",
      "k=6: 0.397\n",
      "k=7: 0.401\n",
      "k=8: 0.398\n",
      "k=9: 0.383\n",
      "k=10: 0.384\n"
     ]
    }
   ],
   "source": [
    "# Find optimal number of clusters\n",
    "def find_optimal_clusters(data, max_clusters=10):\n",
    "    \"\"\"Find optimal number of clusters using elbow method and silhouette score\"\"\"\n",
    "    \n",
    "    inertias = []\n",
    "    silhouette_scores = []\n",
    "    K_range = range(2, max_clusters + 1)\n",
    "    \n",
    "    for k in K_range:\n",
    "        kmeans = KMeans(n_clusters=k, random_state=42, n_init=10)\n",
    "        kmeans.fit(data)\n",
    "        \n",
    "        inertias.append(kmeans.inertia_)\n",
    "        silhouette_scores.append(silhouette_score(data, kmeans.labels_))\n",
    "    \n",
    "    return K_range, inertias, silhouette_scores\n",
    "\n",
    "# Find optimal clusters\n",
    "k_range, inertias, sil_scores = find_optimal_clusters(scaled_data)\n",
    "\n",
    "# Plot elbow curve and silhouette scores\n",
    "fig = make_subplots(\n",
    "    rows=1, cols=2,\n",
    "    subplot_titles=['Elbow Method', 'Silhouette Score']\n",
    ")\n",
    "\n",
    "# Elbow method\n",
    "fig.add_trace(\n",
    "    go.Scatter(x=list(k_range), y=inertias, mode='lines+markers', name='Inertia'),\n",
    "    row=1, col=1\n",
    ")\n",
    "\n",
    "# Silhouette score\n",
    "fig.add_trace(\n",
    "    go.Scatter(x=list(k_range), y=sil_scores, mode='lines+markers', name='Silhouette Score'),\n",
    "    row=1, col=2\n",
    ")\n",
    "\n",
    "fig.update_xaxes(title_text=\"Number of Clusters (k)\")\n",
    "fig.update_yaxes(title_text=\"Inertia\", row=1, col=1)\n",
    "fig.update_yaxes(title_text=\"Silhouette Score\", row=1, col=2)\n",
    "fig.update_layout(height=400, title_text=\"Optimal Number of Clusters Analysis\")\n",
    "fig.show()\n",
    "\n",
    "# Find best k based on silhouette score\n",
    "best_k = k_range[np.argmax(sil_scores)]\n",
    "best_silhouette = max(sil_scores)\n",
    "\n",
    "print(f\"📊 OPTIMAL CLUSTERING RESULTS:\")\n",
    "print(f\"Best number of clusters: {best_k}\")\n",
    "print(f\"Best silhouette score: {best_silhouette:.3f}\")\n",
    "\n",
    "# Show silhouette scores for each k\n",
    "print(\"\\nSilhouette scores by k:\")\n",
    "for k, score in zip(k_range, sil_scores):\n",
    "    print(f\"k={k}: {score:.3f}\")"
   ]
  },
  {
   "cell_type": "code",
   "execution_count": 9,
   "metadata": {},
   "outputs": [
    {
     "name": "stdout",
     "output_type": "stream",
     "text": [
      "🎯 K-MEANS CLUSTERING RESULTS (k=3):\n"
     ]
    },
    {
     "data": {
      "text/html": [
       "<div>\n",
       "<style scoped>\n",
       "    .dataframe tbody tr th:only-of-type {\n",
       "        vertical-align: middle;\n",
       "    }\n",
       "\n",
       "    .dataframe tbody tr th {\n",
       "        vertical-align: top;\n",
       "    }\n",
       "\n",
       "    .dataframe thead th {\n",
       "        text-align: right;\n",
       "    }\n",
       "</style>\n",
       "<table border=\"1\" class=\"dataframe\">\n",
       "  <thead>\n",
       "    <tr style=\"text-align: right;\">\n",
       "      <th></th>\n",
       "      <th>Recency_Mean</th>\n",
       "      <th>Recency_Std</th>\n",
       "      <th>Frequency_Mean</th>\n",
       "      <th>Frequency_Std</th>\n",
       "      <th>Monetary_Mean</th>\n",
       "      <th>Monetary_Std</th>\n",
       "      <th>Customer_Count</th>\n",
       "    </tr>\n",
       "    <tr>\n",
       "      <th>KMeans_Cluster</th>\n",
       "      <th></th>\n",
       "      <th></th>\n",
       "      <th></th>\n",
       "      <th></th>\n",
       "      <th></th>\n",
       "      <th></th>\n",
       "      <th></th>\n",
       "    </tr>\n",
       "  </thead>\n",
       "  <tbody>\n",
       "    <tr>\n",
       "      <th>0</th>\n",
       "      <td>80.22</td>\n",
       "      <td>33.62</td>\n",
       "      <td>1.0</td>\n",
       "      <td>0.0</td>\n",
       "      <td>61.51</td>\n",
       "      <td>21.55</td>\n",
       "      <td>746</td>\n",
       "    </tr>\n",
       "    <tr>\n",
       "      <th>1</th>\n",
       "      <td>18.26</td>\n",
       "      <td>13.68</td>\n",
       "      <td>1.0</td>\n",
       "      <td>0.0</td>\n",
       "      <td>38.35</td>\n",
       "      <td>11.45</td>\n",
       "      <td>1587</td>\n",
       "    </tr>\n",
       "    <tr>\n",
       "      <th>2</th>\n",
       "      <td>17.96</td>\n",
       "      <td>13.51</td>\n",
       "      <td>1.0</td>\n",
       "      <td>0.0</td>\n",
       "      <td>80.62</td>\n",
       "      <td>11.89</td>\n",
       "      <td>1567</td>\n",
       "    </tr>\n",
       "  </tbody>\n",
       "</table>\n",
       "</div>"
      ],
      "text/plain": [
       "                Recency_Mean  Recency_Std  Frequency_Mean  Frequency_Std  \\\n",
       "KMeans_Cluster                                                             \n",
       "0                      80.22        33.62             1.0            0.0   \n",
       "1                      18.26        13.68             1.0            0.0   \n",
       "2                      17.96        13.51             1.0            0.0   \n",
       "\n",
       "                Monetary_Mean  Monetary_Std  Customer_Count  \n",
       "KMeans_Cluster                                               \n",
       "0                       61.51         21.55             746  \n",
       "1                       38.35         11.45            1587  \n",
       "2                       80.62         11.89            1567  "
      ]
     },
     "metadata": {},
     "output_type": "display_data"
    },
    {
     "data": {
      "application/vnd.plotly.v1+json": {
       "config": {
        "plotlyServerURL": "https://plot.ly"
       },
       "data": [
        {
         "hovertemplate": "Recency=%{x}<br>Frequency=%{y}<br>Monetary=%{z}<br>KMeans_Cluster=%{marker.color}<extra></extra>",
         "legendgroup": "",
         "marker": {
          "color": {
           "bdata": "AAAAAAIAAAAAAAAAAgAAAAEAAAABAAAAAgAAAAEAAAAAAAAAAQAAAAEAAAACAAAAAgAAAAEAAAABAAAAAgAAAAAAAAABAAAAAQAAAAIAAAAAAAAAAgAAAAEAAAACAAAAAQAAAAEAAAABAAAAAQAAAAIAAAABAAAAAQAAAAIAAAACAAAAAQAAAAIAAAABAAAAAgAAAAEAAAABAAAAAgAAAAIAAAABAAAAAgAAAAIAAAABAAAAAAAAAAEAAAAAAAAAAQAAAAEAAAABAAAAAQAAAAEAAAABAAAAAgAAAAEAAAACAAAAAgAAAAEAAAAAAAAAAAAAAAAAAAABAAAAAAAAAAAAAAABAAAAAgAAAAEAAAAAAAAAAgAAAAAAAAABAAAAAQAAAAIAAAABAAAAAgAAAAEAAAABAAAAAgAAAAIAAAACAAAAAgAAAAEAAAABAAAAAAAAAAIAAAABAAAAAQAAAAEAAAACAAAAAAAAAAAAAAACAAAAAgAAAAIAAAACAAAAAgAAAAIAAAACAAAAAQAAAAIAAAAAAAAAAgAAAAIAAAABAAAAAgAAAAEAAAACAAAAAgAAAAIAAAAAAAAAAgAAAAIAAAABAAAAAgAAAAAAAAACAAAAAQAAAAEAAAACAAAAAgAAAAIAAAAAAAAAAgAAAAIAAAABAAAAAQAAAAIAAAABAAAAAAAAAAEAAAABAAAAAAAAAAIAAAACAAAAAgAAAAIAAAABAAAAAQAAAAIAAAABAAAAAQAAAAEAAAABAAAAAQAAAAAAAAAAAAAAAgAAAAIAAAACAAAAAgAAAAEAAAAAAAAAAQAAAAIAAAAAAAAAAQAAAAIAAAAAAAAAAQAAAAEAAAAAAAAAAgAAAAIAAAACAAAAAgAAAAEAAAABAAAAAgAAAAEAAAABAAAAAAAAAAIAAAABAAAAAAAAAAIAAAACAAAAAQAAAAAAAAAAAAAAAgAAAAIAAAAAAAAAAQAAAAEAAAABAAAAAQAAAAAAAAABAAAAAgAAAAIAAAAAAAAAAQAAAAIAAAACAAAAAQAAAAIAAAACAAAAAQAAAAIAAAACAAAAAAAAAAEAAAABAAAAAgAAAAAAAAABAAAAAgAAAAEAAAACAAAAAQAAAAIAAAACAAAAAgAAAAEAAAACAAAAAAAAAAEAAAABAAAAAgAAAAEAAAACAAAAAgAAAAEAAAACAAAAAQAAAAIAAAACAAAAAgAAAAEAAAACAAAAAQAAAAEAAAACAAAAAQAAAAAAAAACAAAAAgAAAAAAAAABAAAAAQAAAAIAAAACAAAAAgAAAAEAAAABAAAAAgAAAAIAAAACAAAAAQAAAAEAAAABAAAAAQAAAAAAAAABAAAAAQAAAAEAAAABAAAAAgAAAAEAAAABAAAAAAAAAAEAAAAAAAAAAAAAAAAAAAACAAAAAAAAAAEAAAABAAAAAQAAAAIAAAAAAAAAAQAAAAEAAAAAAAAAAQAAAAEAAAACAAAAAgAAAAAAAAACAAAAAAAAAAEAAAABAAAAAQAAAAEAAAABAAAAAgAAAAIAAAABAAAAAQAAAAIAAAABAAAAAQAAAAEAAAAAAAAAAQAAAAAAAAACAAAAAgAAAAIAAAABAAAAAgAAAAIAAAABAAAAAQAAAAEAAAABAAAAAQAAAAAAAAABAAAAAgAAAAIAAAABAAAAAQAAAAEAAAACAAAAAgAAAAIAAAAAAAAAAAAAAAIAAAACAAAAAAAAAAIAAAABAAAAAQAAAAEAAAABAAAAAQAAAAAAAAACAAAAAgAAAAEAAAACAAAAAgAAAAEAAAACAAAAAQAAAAEAAAAAAAAAAQAAAAEAAAAAAAAAAQAAAAEAAAABAAAAAQAAAAIAAAACAAAAAgAAAAIAAAAAAAAAAgAAAAAAAAACAAAAAQAAAAEAAAACAAAAAQAAAAIAAAACAAAAAgAAAAAAAAACAAAAAQAAAAEAAAABAAAAAQAAAAEAAAACAAAAAgAAAAEAAAACAAAAAQAAAAEAAAABAAAAAgAAAAEAAAAAAAAAAQAAAAIAAAAAAAAAAQAAAAAAAAABAAAAAgAAAAAAAAABAAAAAgAAAAIAAAACAAAAAAAAAAEAAAACAAAAAAAAAAEAAAACAAAAAQAAAAAAAAAAAAAAAAAAAAEAAAACAAAAAgAAAAAAAAACAAAAAgAAAAEAAAABAAAAAQAAAAIAAAAAAAAAAgAAAAEAAAAAAAAAAgAAAAAAAAACAAAAAQAAAAAAAAABAAAAAQAAAAEAAAACAAAAAAAAAAIAAAACAAAAAgAAAAEAAAACAAAAAAAAAAIAAAAAAAAAAQAAAAAAAAABAAAAAQAAAAAAAAACAAAAAgAAAAIAAAACAAAAAQAAAAEAAAACAAAAAgAAAAEAAAABAAAAAQAAAAEAAAABAAAAAQAAAAIAAAACAAAAAgAAAAIAAAAAAAAAAQAAAAAAAAACAAAAAgAAAAIAAAABAAAAAgAAAAEAAAABAAAAAQAAAAEAAAACAAAAAgAAAAEAAAABAAAAAgAAAAIAAAACAAAAAQAAAAEAAAACAAAAAAAAAAIAAAABAAAAAgAAAAAAAAAAAAAAAgAAAAIAAAABAAAAAgAAAAEAAAAAAAAAAAAAAAEAAAAAAAAAAQAAAAIAAAABAAAAAgAAAAIAAAABAAAAAQAAAAEAAAABAAAAAQAAAAAAAAABAAAAAQAAAAEAAAACAAAAAgAAAAEAAAABAAAAAAAAAAIAAAAAAAAAAQAAAAAAAAACAAAAAAAAAAIAAAAAAAAAAAAAAAEAAAABAAAAAQAAAAEAAAABAAAAAgAAAAIAAAABAAAAAQAAAAAAAAAAAAAAAgAAAAEAAAACAAAAAAAAAAEAAAABAAAAAQAAAAEAAAACAAAAAgAAAAAAAAABAAAAAgAAAAEAAAACAAAAAQAAAAAAAAAAAAAAAAAAAAEAAAABAAAAAAAAAAIAAAACAAAAAgAAAAEAAAABAAAAAgAAAAIAAAACAAAAAQAAAAEAAAACAAAAAQAAAAIAAAABAAAAAgAAAAIAAAACAAAAAgAAAAIAAAAAAAAAAgAAAAEAAAACAAAAAAAAAAIAAAACAAAAAgAAAAIAAAACAAAAAQAAAAAAAAACAAAAAgAAAAAAAAAAAAAAAQAAAAEAAAAAAAAAAgAAAAIAAAABAAAAAgAAAAIAAAABAAAAAgAAAAEAAAABAAAAAQAAAAIAAAAAAAAAAgAAAAEAAAABAAAAAAAAAAIAAAABAAAAAQAAAAEAAAACAAAAAgAAAAIAAAABAAAAAgAAAAEAAAACAAAAAQAAAAIAAAACAAAAAgAAAAAAAAAAAAAAAQAAAAAAAAACAAAAAgAAAAAAAAABAAAAAQAAAAIAAAABAAAAAQAAAAEAAAABAAAAAQAAAAIAAAAAAAAAAAAAAAEAAAACAAAAAQAAAAAAAAACAAAAAAAAAAIAAAABAAAAAQAAAAEAAAACAAAAAQAAAAEAAAABAAAAAgAAAAEAAAAAAAAAAgAAAAAAAAACAAAAAAAAAAIAAAABAAAAAQAAAAIAAAACAAAAAgAAAAEAAAABAAAAAQAAAAIAAAABAAAAAgAAAAIAAAACAAAAAgAAAAAAAAABAAAAAQAAAAEAAAAAAAAAAgAAAAIAAAABAAAAAQAAAAEAAAACAAAAAgAAAAEAAAACAAAAAQAAAAEAAAACAAAAAQAAAAIAAAABAAAAAQAAAAAAAAACAAAAAgAAAAIAAAACAAAAAgAAAAAAAAAAAAAAAQAAAAIAAAACAAAAAgAAAAIAAAACAAAAAAAAAAAAAAABAAAAAgAAAAEAAAABAAAAAgAAAAEAAAABAAAAAQAAAAIAAAAAAAAAAgAAAAIAAAACAAAAAQAAAAEAAAABAAAAAQAAAAEAAAACAAAAAQAAAAEAAAABAAAAAAAAAAEAAAACAAAAAgAAAAEAAAAAAAAAAgAAAAIAAAAAAAAAAgAAAAEAAAACAAAAAgAAAAAAAAACAAAAAQAAAAEAAAABAAAAAgAAAAEAAAACAAAAAQAAAAEAAAACAAAAAQAAAAEAAAABAAAAAgAAAAAAAAACAAAAAgAAAAIAAAAAAAAAAgAAAAEAAAACAAAAAAAAAAEAAAACAAAAAQAAAAEAAAACAAAAAQAAAAEAAAABAAAAAgAAAAIAAAACAAAAAQAAAAIAAAABAAAAAgAAAAEAAAABAAAAAAAAAAEAAAABAAAAAQAAAAIAAAACAAAAAQAAAAAAAAABAAAAAQAAAAEAAAABAAAAAAAAAAEAAAABAAAAAgAAAAAAAAACAAAAAgAAAAEAAAABAAAAAQAAAAIAAAACAAAAAQAAAAAAAAACAAAAAQAAAAEAAAABAAAAAQAAAAEAAAACAAAAAgAAAAIAAAABAAAAAgAAAAEAAAACAAAAAgAAAAAAAAACAAAAAgAAAAAAAAACAAAAAQAAAAEAAAAAAAAAAQAAAAIAAAACAAAAAgAAAAEAAAABAAAAAgAAAAAAAAAAAAAAAgAAAAAAAAACAAAAAgAAAAEAAAABAAAAAgAAAAEAAAAAAAAAAQAAAAIAAAACAAAAAgAAAAIAAAABAAAAAQAAAAAAAAAAAAAAAQAAAAIAAAAAAAAAAgAAAAEAAAAAAAAAAgAAAAIAAAABAAAAAQAAAAIAAAAAAAAAAgAAAAIAAAAAAAAAAQAAAAAAAAAAAAAAAgAAAAEAAAABAAAAAgAAAAIAAAABAAAAAQAAAAIAAAABAAAAAgAAAAIAAAABAAAAAgAAAAIAAAABAAAAAAAAAAIAAAABAAAAAAAAAAIAAAAAAAAAAAAAAAAAAAACAAAAAAAAAAEAAAACAAAAAQAAAAEAAAACAAAAAQAAAAEAAAACAAAAAQAAAAIAAAACAAAAAQAAAAIAAAABAAAAAgAAAAAAAAACAAAAAgAAAAEAAAACAAAAAgAAAAEAAAABAAAAAgAAAAEAAAABAAAAAgAAAAEAAAACAAAAAAAAAAEAAAABAAAAAgAAAAIAAAACAAAAAQAAAAEAAAABAAAAAAAAAAEAAAABAAAAAQAAAAIAAAAAAAAAAgAAAAIAAAACAAAAAQAAAAEAAAACAAAAAQAAAAIAAAACAAAAAAAAAAEAAAABAAAAAAAAAAEAAAAAAAAAAQAAAAIAAAACAAAAAgAAAAIAAAAAAAAAAQAAAAIAAAABAAAAAAAAAAEAAAAAAAAAAQAAAAIAAAABAAAAAgAAAAIAAAACAAAAAAAAAAIAAAABAAAAAAAAAAIAAAACAAAAAgAAAAIAAAACAAAAAAAAAAEAAAACAAAAAQAAAAEAAAAAAAAAAAAAAAAAAAACAAAAAgAAAAIAAAAAAAAAAAAAAAEAAAABAAAAAQAAAAEAAAACAAAAAgAAAAEAAAABAAAAAAAAAAIAAAACAAAAAgAAAAEAAAABAAAAAgAAAAAAAAAAAAAAAgAAAAAAAAAAAAAAAAAAAAIAAAABAAAAAQAAAAEAAAABAAAAAgAAAAEAAAABAAAAAgAAAAEAAAABAAAAAQAAAAAAAAACAAAAAQAAAAIAAAABAAAAAQAAAAIAAAABAAAAAAAAAAEAAAABAAAAAAAAAAIAAAAAAAAAAgAAAAEAAAABAAAAAQAAAAEAAAACAAAAAgAAAAEAAAABAAAAAQAAAAIAAAAAAAAAAgAAAAAAAAACAAAAAgAAAAIAAAACAAAAAgAAAAAAAAAAAAAAAQAAAAEAAAABAAAAAQAAAAEAAAACAAAAAAAAAAEAAAACAAAAAgAAAAAAAAABAAAAAAAAAAEAAAACAAAAAQAAAAAAAAABAAAAAQAAAAEAAAABAAAAAgAAAAIAAAABAAAAAgAAAAAAAAABAAAAAQAAAAIAAAAAAAAAAgAAAAAAAAACAAAAAgAAAAIAAAACAAAAAgAAAAEAAAABAAAAAgAAAAIAAAACAAAAAQAAAAAAAAAAAAAAAAAAAAIAAAABAAAAAgAAAAAAAAABAAAAAQAAAAIAAAABAAAAAgAAAAAAAAABAAAAAgAAAAIAAAACAAAAAgAAAAEAAAAAAAAAAQAAAAAAAAACAAAAAQAAAAEAAAACAAAAAQAAAAEAAAACAAAAAQAAAAAAAAACAAAAAQAAAAEAAAAAAAAAAQAAAAEAAAACAAAAAgAAAAEAAAABAAAAAQAAAAIAAAABAAAAAgAAAAIAAAABAAAAAgAAAAAAAAACAAAAAgAAAAEAAAAAAAAAAgAAAAEAAAACAAAAAgAAAAEAAAABAAAAAQAAAAEAAAACAAAAAQAAAAEAAAAAAAAAAgAAAAIAAAACAAAAAQAAAAIAAAABAAAAAgAAAAAAAAAAAAAAAQAAAAIAAAACAAAAAgAAAAAAAAACAAAAAQAAAAAAAAABAAAAAAAAAAIAAAACAAAAAQAAAAIAAAACAAAAAgAAAAIAAAAAAAAAAgAAAAAAAAACAAAAAQAAAAEAAAACAAAAAAAAAAEAAAACAAAAAAAAAAAAAAABAAAAAQAAAAIAAAACAAAAAQAAAAEAAAABAAAAAgAAAAAAAAABAAAAAAAAAAIAAAABAAAAAgAAAAAAAAACAAAAAAAAAAIAAAABAAAAAQAAAAEAAAACAAAAAQAAAAIAAAACAAAAAQAAAAEAAAABAAAAAAAAAAEAAAABAAAAAAAAAAIAAAABAAAAAgAAAAIAAAACAAAAAgAAAAEAAAACAAAAAgAAAAIAAAAAAAAAAQAAAAIAAAACAAAAAQAAAAIAAAABAAAAAAAAAAEAAAACAAAAAQAAAAIAAAACAAAAAgAAAAEAAAAAAAAAAgAAAAIAAAACAAAAAgAAAAIAAAABAAAAAQAAAAIAAAAAAAAAAQAAAAIAAAACAAAAAgAAAAIAAAACAAAAAAAAAAAAAAACAAAAAQAAAAIAAAAAAAAAAQAAAAAAAAACAAAAAQAAAAAAAAABAAAAAQAAAAEAAAAAAAAAAAAAAAIAAAABAAAAAgAAAAAAAAABAAAAAQAAAAIAAAABAAAAAQAAAAIAAAAAAAAAAgAAAAIAAAACAAAAAQAAAAEAAAACAAAAAgAAAAIAAAACAAAAAgAAAAIAAAABAAAAAQAAAAIAAAACAAAAAAAAAAEAAAACAAAAAQAAAAEAAAABAAAAAQAAAAEAAAAAAAAAAgAAAAAAAAABAAAAAAAAAAAAAAACAAAAAAAAAAEAAAACAAAAAgAAAAIAAAABAAAAAgAAAAAAAAABAAAAAQAAAAAAAAACAAAAAgAAAAEAAAACAAAAAAAAAAIAAAACAAAAAgAAAAIAAAABAAAAAgAAAAEAAAACAAAAAQAAAAEAAAACAAAAAQAAAAIAAAAAAAAAAAAAAAIAAAAAAAAAAQAAAAIAAAABAAAAAAAAAAEAAAABAAAAAQAAAAEAAAABAAAAAQAAAAEAAAACAAAAAQAAAAIAAAABAAAAAQAAAAAAAAABAAAAAQAAAAIAAAABAAAAAgAAAAEAAAABAAAAAgAAAAEAAAACAAAAAgAAAAEAAAACAAAAAAAAAAEAAAACAAAAAgAAAAEAAAACAAAAAQAAAAIAAAABAAAAAQAAAAEAAAACAAAAAgAAAAEAAAABAAAAAAAAAAEAAAACAAAAAAAAAAIAAAACAAAAAgAAAAEAAAAAAAAAAgAAAAEAAAAAAAAAAAAAAAEAAAABAAAAAQAAAAEAAAACAAAAAQAAAAAAAAABAAAAAQAAAAIAAAABAAAAAAAAAAIAAAABAAAAAQAAAAEAAAACAAAAAgAAAAAAAAABAAAAAgAAAAIAAAACAAAAAQAAAAEAAAACAAAAAQAAAAAAAAABAAAAAAAAAAAAAAACAAAAAQAAAAEAAAABAAAAAgAAAAIAAAABAAAAAAAAAAIAAAAAAAAAAQAAAAIAAAAAAAAAAQAAAAEAAAAAAAAAAAAAAAEAAAABAAAAAAAAAAEAAAACAAAAAQAAAAEAAAAAAAAAAgAAAAEAAAAAAAAAAQAAAAIAAAABAAAAAQAAAAAAAAACAAAAAQAAAAEAAAACAAAAAQAAAAEAAAACAAAAAgAAAAIAAAABAAAAAAAAAAAAAAACAAAAAQAAAAAAAAACAAAAAAAAAAEAAAAAAAAAAAAAAAIAAAACAAAAAQAAAAIAAAABAAAAAAAAAAIAAAACAAAAAgAAAAIAAAACAAAAAQAAAAAAAAAAAAAAAQAAAAAAAAABAAAAAQAAAAEAAAABAAAAAQAAAAEAAAABAAAAAAAAAAEAAAABAAAAAQAAAAEAAAAAAAAAAAAAAAIAAAACAAAAAgAAAAAAAAACAAAAAQAAAAEAAAACAAAAAAAAAAEAAAACAAAAAAAAAAEAAAACAAAAAgAAAAEAAAABAAAAAQAAAAIAAAABAAAAAgAAAAAAAAACAAAAAgAAAAEAAAACAAAAAgAAAAEAAAACAAAAAgAAAAEAAAACAAAAAgAAAAIAAAACAAAAAgAAAAEAAAABAAAAAQAAAAAAAAACAAAAAQAAAAEAAAABAAAAAQAAAAIAAAACAAAAAQAAAAEAAAAAAAAAAQAAAAIAAAABAAAAAQAAAAAAAAABAAAAAQAAAAIAAAABAAAAAgAAAAIAAAACAAAAAQAAAAAAAAABAAAAAQAAAAEAAAABAAAAAQAAAAEAAAAAAAAAAgAAAAEAAAABAAAAAQAAAAIAAAABAAAAAQAAAAEAAAABAAAAAQAAAAIAAAABAAAAAQAAAAAAAAACAAAAAgAAAAEAAAAAAAAAAgAAAAIAAAACAAAAAAAAAAIAAAABAAAAAgAAAAEAAAACAAAAAQAAAAEAAAACAAAAAQAAAAEAAAACAAAAAQAAAAEAAAABAAAAAAAAAAAAAAABAAAAAQAAAAAAAAACAAAAAQAAAAIAAAACAAAAAQAAAAIAAAABAAAAAQAAAAIAAAABAAAAAQAAAAIAAAACAAAAAQAAAAIAAAABAAAAAgAAAAIAAAABAAAAAgAAAAAAAAAAAAAAAgAAAAIAAAACAAAAAgAAAAAAAAACAAAAAQAAAAAAAAACAAAAAAAAAAIAAAAAAAAAAQAAAAEAAAACAAAAAAAAAAEAAAACAAAAAQAAAAIAAAACAAAAAQAAAAIAAAAAAAAAAQAAAAEAAAACAAAAAQAAAAIAAAABAAAAAQAAAAAAAAAAAAAAAAAAAAEAAAAAAAAAAQAAAAEAAAABAAAAAgAAAAEAAAAAAAAAAgAAAAEAAAAAAAAAAgAAAAIAAAACAAAAAAAAAAEAAAACAAAAAgAAAAIAAAABAAAAAQAAAAEAAAACAAAAAAAAAAIAAAABAAAAAQAAAAEAAAACAAAAAQAAAAEAAAACAAAAAAAAAAEAAAABAAAAAgAAAAEAAAACAAAAAQAAAAAAAAABAAAAAgAAAAEAAAACAAAAAQAAAAIAAAABAAAAAgAAAAIAAAABAAAAAgAAAAEAAAACAAAAAgAAAAIAAAAAAAAAAAAAAAEAAAABAAAAAQAAAAEAAAABAAAAAQAAAAEAAAAAAAAAAgAAAAEAAAAAAAAAAQAAAAEAAAAAAAAAAQAAAAIAAAABAAAAAAAAAAEAAAAAAAAAAgAAAAEAAAACAAAAAgAAAAEAAAACAAAAAAAAAAEAAAACAAAAAgAAAAAAAAACAAAAAAAAAAIAAAAAAAAAAAAAAAAAAAACAAAAAQAAAAIAAAABAAAAAQAAAAIAAAACAAAAAQAAAAIAAAACAAAAAgAAAAIAAAABAAAAAQAAAAEAAAACAAAAAAAAAAIAAAABAAAAAgAAAAAAAAABAAAAAgAAAAIAAAABAAAAAgAAAAEAAAACAAAAAAAAAAEAAAACAAAAAgAAAAIAAAACAAAAAgAAAAAAAAAAAAAAAgAAAAIAAAABAAAAAgAAAAAAAAABAAAAAQAAAAIAAAACAAAAAQAAAAEAAAABAAAAAgAAAAIAAAACAAAAAgAAAAEAAAABAAAAAgAAAAEAAAACAAAAAQAAAAAAAAABAAAAAQAAAAEAAAABAAAAAQAAAAEAAAACAAAAAQAAAAIAAAABAAAAAQAAAAIAAAABAAAAAQAAAAAAAAACAAAAAAAAAAIAAAACAAAAAAAAAAAAAAACAAAAAQAAAAAAAAACAAAAAQAAAAEAAAACAAAAAgAAAAAAAAABAAAAAgAAAAEAAAABAAAAAgAAAAIAAAABAAAAAgAAAAAAAAABAAAAAgAAAAAAAAACAAAAAAAAAAIAAAABAAAAAgAAAAEAAAACAAAAAQAAAAEAAAABAAAAAAAAAAIAAAABAAAAAgAAAAIAAAAAAAAAAQAAAAAAAAAAAAAAAgAAAAEAAAAAAAAAAQAAAAEAAAABAAAAAQAAAAAAAAACAAAAAgAAAAEAAAACAAAAAQAAAAIAAAAAAAAAAQAAAAAAAAACAAAAAgAAAAIAAAABAAAAAQAAAAEAAAABAAAAAgAAAAIAAAACAAAAAgAAAAAAAAACAAAAAQAAAAEAAAABAAAAAQAAAAIAAAAAAAAAAQAAAAIAAAACAAAAAgAAAAIAAAACAAAAAAAAAAEAAAACAAAAAAAAAAEAAAACAAAAAAAAAAIAAAABAAAAAgAAAAIAAAAAAAAAAgAAAAEAAAABAAAAAQAAAAAAAAABAAAAAgAAAAIAAAAAAAAAAgAAAAAAAAACAAAAAAAAAAEAAAACAAAAAQAAAAIAAAABAAAAAgAAAAEAAAACAAAAAQAAAAAAAAAAAAAAAAAAAAAAAAABAAAAAQAAAAIAAAABAAAAAAAAAAAAAAACAAAAAgAAAAEAAAACAAAAAQAAAAEAAAABAAAAAQAAAAIAAAACAAAAAgAAAAIAAAABAAAAAQAAAAEAAAABAAAAAQAAAAAAAAABAAAAAQAAAAIAAAACAAAAAAAAAAIAAAACAAAAAQAAAAIAAAAAAAAAAQAAAAEAAAABAAAAAgAAAAEAAAACAAAAAgAAAAAAAAAAAAAAAgAAAAEAAAACAAAAAQAAAAIAAAACAAAAAAAAAAIAAAACAAAAAQAAAAEAAAABAAAAAQAAAAEAAAABAAAAAAAAAAEAAAACAAAAAAAAAAEAAAACAAAAAAAAAAAAAAACAAAAAgAAAAEAAAAAAAAAAgAAAAAAAAACAAAAAQAAAAIAAAABAAAAAQAAAAEAAAACAAAAAQAAAAEAAAABAAAAAAAAAAIAAAABAAAAAQAAAAIAAAABAAAAAQAAAAIAAAACAAAAAAAAAAEAAAAAAAAAAgAAAAEAAAABAAAAAQAAAAAAAAAAAAAAAgAAAAEAAAACAAAAAAAAAAIAAAABAAAAAQAAAAEAAAABAAAAAgAAAAAAAAACAAAAAQAAAAEAAAAAAAAAAAAAAAAAAAABAAAAAgAAAAIAAAACAAAAAQAAAAIAAAABAAAAAgAAAAEAAAABAAAAAQAAAAEAAAABAAAAAAAAAAEAAAACAAAAAgAAAAEAAAAAAAAAAAAAAAIAAAAAAAAAAgAAAAIAAAABAAAAAAAAAAEAAAAAAAAAAgAAAAEAAAACAAAAAAAAAAEAAAACAAAAAAAAAAIAAAABAAAAAAAAAAIAAAACAAAAAgAAAAIAAAABAAAAAgAAAAIAAAAAAAAAAQAAAAEAAAABAAAAAAAAAAEAAAACAAAAAgAAAAIAAAABAAAAAgAAAAEAAAACAAAAAAAAAAIAAAACAAAAAQAAAAEAAAABAAAAAQAAAAIAAAAAAAAAAAAAAAEAAAABAAAAAQAAAAAAAAABAAAAAgAAAAIAAAACAAAAAgAAAAAAAAABAAAAAQAAAAIAAAACAAAAAgAAAAAAAAACAAAAAgAAAAEAAAACAAAAAgAAAAIAAAABAAAAAgAAAAEAAAABAAAAAgAAAAEAAAACAAAAAgAAAAIAAAABAAAAAgAAAAIAAAACAAAAAAAAAAAAAAABAAAAAQAAAAAAAAACAAAAAQAAAAIAAAAAAAAAAgAAAAIAAAACAAAAAQAAAAAAAAABAAAAAQAAAAAAAAACAAAAAgAAAAIAAAACAAAAAQAAAAEAAAACAAAAAgAAAAEAAAAAAAAAAQAAAAEAAAAAAAAAAgAAAAEAAAACAAAAAQAAAAEAAAACAAAAAQAAAAEAAAACAAAAAQAAAAEAAAACAAAAAQAAAAIAAAAAAAAAAQAAAAEAAAACAAAAAAAAAAAAAAABAAAAAQAAAAIAAAACAAAAAAAAAAIAAAACAAAAAgAAAAAAAAACAAAAAQAAAAEAAAACAAAAAgAAAAIAAAAAAAAAAgAAAAAAAAAAAAAAAgAAAAEAAAABAAAAAQAAAAIAAAAAAAAAAAAAAAEAAAABAAAAAQAAAAAAAAABAAAAAAAAAAIAAAABAAAAAQAAAAAAAAAAAAAAAQAAAAAAAAACAAAAAgAAAAEAAAACAAAAAgAAAAEAAAACAAAAAgAAAAAAAAACAAAAAQAAAAEAAAAAAAAAAQAAAAIAAAABAAAAAAAAAAAAAAACAAAAAQAAAAAAAAABAAAAAQAAAAIAAAACAAAAAQAAAAAAAAAAAAAAAgAAAAIAAAACAAAAAgAAAAAAAAAAAAAAAgAAAAIAAAACAAAAAAAAAAAAAAAAAAAAAgAAAAEAAAABAAAAAQAAAAIAAAACAAAAAgAAAAAAAAACAAAAAgAAAAIAAAAAAAAAAAAAAAIAAAAAAAAAAAAAAAEAAAACAAAAAgAAAAIAAAACAAAAAgAAAAIAAAACAAAAAAAAAAAAAAACAAAAAQAAAAIAAAABAAAAAgAAAAIAAAACAAAAAQAAAAEAAAACAAAAAQAAAAEAAAABAAAAAAAAAAEAAAACAAAAAAAAAAIAAAABAAAAAQAAAAIAAAABAAAAAgAAAAEAAAAAAAAAAQAAAAIAAAACAAAAAQAAAAEAAAABAAAAAQAAAAEAAAABAAAAAgAAAAIAAAACAAAAAgAAAAEAAAABAAAAAQAAAAAAAAABAAAAAQAAAAIAAAABAAAAAgAAAAAAAAAAAAAAAgAAAAAAAAABAAAAAQAAAAAAAAACAAAAAAAAAAAAAAAAAAAAAgAAAAIAAAACAAAAAQAAAAIAAAABAAAAAQAAAAIAAAACAAAAAQAAAAIAAAAAAAAAAgAAAAIAAAABAAAAAgAAAAAAAAACAAAAAAAAAAIAAAAAAAAAAQAAAAAAAAAAAAAAAgAAAAIAAAACAAAAAgAAAAIAAAACAAAAAgAAAAEAAAABAAAAAQAAAAAAAAABAAAAAgAAAAAAAAACAAAAAAAAAAAAAAAAAAAAAgAAAAAAAAABAAAAAgAAAAIAAAACAAAAAQAAAAAAAAACAAAAAgAAAAIAAAABAAAAAgAAAAEAAAAAAAAAAQAAAAIAAAABAAAAAQAAAAIAAAACAAAAAQAAAAEAAAACAAAAAQAAAAEAAAABAAAAAQAAAAAAAAAAAAAAAAAAAAEAAAABAAAAAAAAAAIAAAAAAAAAAgAAAAAAAAAAAAAAAgAAAAEAAAAAAAAAAQAAAAIAAAABAAAAAQAAAAEAAAABAAAAAgAAAAAAAAABAAAAAgAAAAIAAAACAAAAAQAAAAAAAAAAAAAAAAAAAAIAAAAAAAAAAAAAAAEAAAAAAAAAAgAAAAAAAAABAAAAAgAAAAIAAAACAAAAAQAAAAEAAAABAAAAAgAAAAIAAAABAAAAAQAAAAEAAAACAAAAAgAAAAAAAAABAAAAAQAAAAEAAAABAAAAAQAAAAIAAAACAAAAAgAAAAAAAAAAAAAAAQAAAAEAAAABAAAAAQAAAAIAAAACAAAAAQAAAAEAAAAAAAAAAQAAAAIAAAABAAAAAAAAAAIAAAAAAAAAAQAAAAEAAAABAAAAAAAAAAIAAAACAAAAAQAAAAIAAAACAAAAAAAAAAIAAAABAAAAAgAAAAIAAAACAAAAAQAAAAIAAAACAAAAAQAAAAEAAAAAAAAAAAAAAAIAAAABAAAAAAAAAAEAAAABAAAAAQAAAAAAAAACAAAAAQAAAAEAAAAAAAAAAQAAAAIAAAABAAAAAAAAAAEAAAABAAAAAAAAAAAAAAAAAAAAAQAAAAIAAAACAAAAAQAAAAAAAAAAAAAAAQAAAAEAAAABAAAAAQAAAAEAAAACAAAAAgAAAAIAAAACAAAAAQAAAAEAAAACAAAAAgAAAAIAAAABAAAAAgAAAAIAAAACAAAAAQAAAAAAAAABAAAAAQAAAAIAAAABAAAAAQAAAAAAAAABAAAAAgAAAAAAAAACAAAAAAAAAAEAAAABAAAAAgAAAAEAAAAAAAAAAQAAAAIAAAACAAAAAgAAAAEAAAABAAAAAQAAAAIAAAACAAAAAQAAAAAAAAABAAAAAQAAAAEAAAACAAAAAgAAAAEAAAABAAAAAQAAAAEAAAACAAAAAQAAAAAAAAACAAAAAQAAAAEAAAABAAAAAgAAAAEAAAAAAAAAAgAAAAAAAAACAAAAAgAAAAIAAAABAAAAAgAAAAIAAAABAAAAAgAAAAIAAAACAAAAAgAAAAEAAAACAAAAAQAAAAEAAAACAAAAAgAAAAIAAAABAAAAAQAAAAIAAAACAAAAAAAAAAIAAAAAAAAAAgAAAAIAAAACAAAAAAAAAAEAAAACAAAAAgAAAAEAAAACAAAAAQAAAAIAAAABAAAAAgAAAAIAAAABAAAAAgAAAAIAAAABAAAAAgAAAAIAAAABAAAAAQAAAAEAAAACAAAAAgAAAAIAAAABAAAAAgAAAAAAAAAAAAAAAgAAAAIAAAABAAAAAQAAAAIAAAABAAAAAQAAAAIAAAACAAAAAQAAAAAAAAAAAAAAAAAAAAIAAAABAAAAAgAAAAIAAAACAAAAAgAAAAIAAAABAAAAAQAAAAEAAAABAAAAAgAAAAEAAAABAAAAAgAAAAIAAAABAAAAAgAAAAAAAAACAAAAAgAAAAEAAAACAAAAAgAAAAAAAAABAAAAAgAAAAIAAAAAAAAAAQAAAAIAAAAAAAAAAgAAAAIAAAABAAAAAgAAAAIAAAABAAAAAgAAAAIAAAAAAAAAAQAAAAIAAAACAAAAAgAAAAIAAAABAAAAAQAAAAAAAAABAAAAAAAAAAAAAAACAAAAAQAAAAIAAAABAAAAAAAAAAIAAAABAAAAAgAAAAIAAAAAAAAAAQAAAAIAAAABAAAAAgAAAAIAAAAAAAAAAQAAAAEAAAACAAAAAQAAAAIAAAAAAAAAAQAAAAEAAAABAAAAAgAAAAEAAAABAAAAAgAAAAIAAAABAAAAAQAAAAEAAAABAAAAAQAAAAAAAAAAAAAAAQAAAAAAAAACAAAAAQAAAAIAAAABAAAAAAAAAAIAAAABAAAAAQAAAAEAAAACAAAAAQAAAAEAAAABAAAAAQAAAAEAAAACAAAAAQAAAAEAAAABAAAAAgAAAAIAAAABAAAAAQAAAAIAAAAAAAAAAQAAAAAAAAABAAAAAAAAAAEAAAABAAAAAgAAAAIAAAAAAAAAAQAAAAEAAAABAAAAAgAAAAIAAAABAAAAAAAAAAEAAAACAAAAAgAAAAIAAAABAAAAAgAAAAAAAAAAAAAAAgAAAAIAAAABAAAAAgAAAAEAAAABAAAAAQAAAAIAAAABAAAAAQAAAAEAAAABAAAAAQAAAAEAAAABAAAAAAAAAAIAAAACAAAAAQAAAAIAAAAAAAAAAAAAAAAAAAACAAAAAAAAAAIAAAACAAAAAAAAAAIAAAABAAAAAgAAAAIAAAACAAAAAgAAAAEAAAABAAAAAQAAAAAAAAACAAAAAQAAAAEAAAABAAAAAQAAAAEAAAACAAAAAAAAAAIAAAABAAAAAAAAAAIAAAACAAAAAgAAAAEAAAABAAAAAAAAAAIAAAABAAAAAAAAAAEAAAABAAAAAQAAAAIAAAABAAAAAQAAAAEAAAACAAAAAgAAAAIAAAABAAAAAgAAAAIAAAACAAAAAQAAAAAAAAABAAAAAgAAAAAAAAABAAAAAQAAAAAAAAACAAAAAgAAAAAAAAACAAAAAgAAAAEAAAACAAAAAgAAAAEAAAACAAAAAQAAAAEAAAACAAAAAQAAAAEAAAAAAAAAAgAAAAEAAAABAAAAAgAAAAIAAAAAAAAAAQAAAAAAAAACAAAAAQAAAAIAAAABAAAAAQAAAAAAAAACAAAAAAAAAAEAAAAAAAAAAQAAAAAAAAACAAAAAAAAAAIAAAACAAAAAQAAAAAAAAACAAAAAgAAAAIAAAACAAAAAgAAAAEAAAAAAAAAAgAAAAEAAAAAAAAAAQAAAAIAAAACAAAAAgAAAAEAAAACAAAAAAAAAAIAAAABAAAAAQAAAAEAAAAAAAAAAgAAAAEAAAABAAAAAgAAAAIAAAABAAAAAAAAAAEAAAACAAAAAgAAAAEAAAABAAAAAAAAAAIAAAABAAAAAQAAAAEAAAACAAAAAgAAAAIAAAAAAAAAAAAAAAIAAAAAAAAAAgAAAAEAAAABAAAAAgAAAAAAAAACAAAAAgAAAAIAAAACAAAAAgAAAAEAAAAAAAAAAQAAAAEAAAABAAAAAgAAAAIAAAABAAAAAgAAAAIAAAACAAAAAQAAAAEAAAACAAAAAQAAAAIAAAACAAAAAAAAAAEAAAABAAAAAgAAAAEAAAAAAAAAAgAAAAIAAAABAAAAAQAAAAEAAAABAAAAAAAAAAIAAAACAAAAAAAAAAAAAAAAAAAAAgAAAAIAAAABAAAAAQAAAAEAAAABAAAAAgAAAAAAAAACAAAAAgAAAAEAAAAAAAAAAQAAAAIAAAAAAAAAAgAAAAEAAAACAAAAAQAAAAEAAAACAAAAAgAAAAAAAAAAAAAAAgAAAAIAAAABAAAAAgAAAAIAAAACAAAAAQAAAAAAAAABAAAAAQAAAAEAAAABAAAAAQAAAAEAAAABAAAAAQAAAAEAAAACAAAAAgAAAAAAAAAAAAAAAQAAAAEAAAACAAAAAgAAAAIAAAAAAAAAAgAAAAIAAAAAAAAAAgAAAAIAAAABAAAAAQAAAAEAAAAAAAAAAgAAAAEAAAABAAAAAQAAAAEAAAAAAAAAAgAAAAEAAAABAAAAAQAAAAEAAAAAAAAAAgAAAAIAAAAAAAAAAQAAAAIAAAAAAAAAAgAAAAAAAAABAAAAAQAAAAEAAAACAAAAAgAAAAIAAAACAAAAAgAAAAIAAAACAAAAAgAAAAAAAAABAAAAAAAAAAEAAAACAAAAAgAAAAIAAAACAAAAAQAAAAIAAAABAAAAAAAAAAEAAAACAAAAAgAAAAIAAAACAAAAAAAAAAIAAAACAAAAAgAAAAIAAAABAAAAAAAAAAIAAAABAAAAAQAAAAEAAAACAAAAAQAAAAIAAAABAAAAAQAAAAEAAAACAAAAAQAAAAIAAAACAAAAAQAAAAIAAAACAAAAAAAAAAEAAAAAAAAAAQAAAAEAAAACAAAAAgAAAAIAAAACAAAAAQAAAAEAAAACAAAAAgAAAAEAAAACAAAAAQAAAAAAAAAAAAAAAgAAAAAAAAACAAAAAQAAAAEAAAAAAAAAAgAAAAEAAAABAAAAAAAAAAIAAAAAAAAAAgAAAAEAAAACAAAAAgAAAAIAAAABAAAAAQAAAAEAAAACAAAAAQAAAAEAAAABAAAAAgAAAAAAAAACAAAAAgAAAAAAAAACAAAAAAAAAAEAAAABAAAAAgAAAAIAAAAAAAAAAQAAAAIAAAACAAAAAgAAAAEAAAABAAAAAgAAAAEAAAABAAAAAQAAAAEAAAAAAAAAAQAAAAAAAAACAAAAAgAAAAEAAAABAAAAAgAAAAEAAAABAAAAAgAAAAIAAAAAAAAAAgAAAAIAAAABAAAAAQAAAAAAAAACAAAAAQAAAAEAAAAAAAAAAgAAAAEAAAACAAAAAgAAAAEAAAACAAAAAQAAAAEAAAAAAAAAAgAAAAAAAAABAAAAAQAAAAEAAAACAAAAAQAAAAEAAAAAAAAAAgAAAAAAAAABAAAAAgAAAAEAAAABAAAAAAAAAAEAAAAAAAAAAQAAAAAAAAACAAAAAgAAAAIAAAABAAAAAgAAAAEAAAACAAAAAAAAAAAAAAABAAAAAAAAAAEAAAAAAAAAAAAAAAEAAAACAAAAAgAAAAAAAAABAAAAAgAAAAIAAAABAAAAAAAAAAIAAAACAAAAAQAAAAIAAAACAAAAAgAAAAIAAAAAAAAAAAAAAAEAAAABAAAAAgAAAAEAAAACAAAAAgAAAAIAAAABAAAAAQAAAAEAAAACAAAAAgAAAAAAAAABAAAAAQAAAAIAAAACAAAAAgAAAAIAAAACAAAAAgAAAAAAAAACAAAAAgAAAAIAAAAAAAAAAgAAAAAAAAAAAAAAAQAAAAEAAAABAAAAAgAAAAAAAAABAAAAAgAAAAIAAAACAAAAAQAAAAIAAAABAAAAAQAAAAIAAAABAAAAAgAAAAEAAAAAAAAAAQAAAAEAAAABAAAAAgAAAAAAAAACAAAAAgAAAAEAAAAAAAAAAgAAAAIAAAACAAAAAgAAAAAAAAABAAAAAAAAAAIAAAACAAAAAQAAAAIAAAABAAAAAAAAAAEAAAABAAAAAQAAAAIAAAABAAAAAgAAAAIAAAABAAAAAQAAAAEAAAABAAAAAQAAAAEAAAABAAAAAgAAAAIAAAACAAAAAAAAAAEAAAABAAAAAgAAAAEAAAABAAAAAgAAAAIAAAABAAAAAgAAAAAAAAACAAAAAQAAAAIAAAACAAAAAgAAAAIAAAABAAAAAgAAAAEAAAACAAAAAQAAAAAAAAACAAAAAgAAAAEAAAABAAAAAQAAAAIAAAACAAAAAgAAAAEAAAABAAAAAAAAAAIAAAAAAAAAAgAAAAAAAAABAAAAAgAAAAEAAAABAAAAAAAAAAEAAAAAAAAAAQAAAAIAAAABAAAAAgAAAAIAAAABAAAAAQAAAAIAAAABAAAAAgAAAAEAAAACAAAAAAAAAAEAAAAAAAAAAQAAAAAAAAACAAAAAQAAAAIAAAACAAAAAgAAAAAAAAABAAAAAgAAAAIAAAACAAAAAQAAAAAAAAABAAAAAgAAAAAAAAACAAAAAQAAAAIAAAAAAAAAAQAAAAEAAAACAAAAAAAAAAIAAAACAAAAAgAAAAIAAAACAAAAAgAAAAEAAAACAAAAAAAAAAIAAAABAAAAAgAAAAEAAAABAAAAAQAAAAAAAAABAAAAAgAAAAIAAAABAAAAAQAAAAAAAAACAAAAAQAAAAEAAAABAAAAAQAAAAEAAAAAAAAAAgAAAAAAAAACAAAAAQAAAAEAAAACAAAAAgAAAAIAAAACAAAAAQAAAAIAAAAAAAAAAAAAAAEAAAACAAAAAQAAAAEAAAAAAAAAAQAAAAIAAAABAAAAAQAAAAEAAAABAAAAAgAAAAIAAAABAAAAAgAAAAAAAAABAAAAAgAAAAEAAAACAAAAAQAAAAEAAAABAAAAAgAAAAEAAAACAAAAAgAAAAIAAAACAAAAAgAAAAEAAAACAAAAAQAAAAAAAAACAAAAAQAAAAEAAAACAAAAAQAAAAEAAAACAAAAAgAAAAEAAAACAAAAAgAAAAIAAAAAAAAAAQAAAAAAAAABAAAAAAAAAAAAAAACAAAAAAAAAAEAAAACAAAAAQAAAAIAAAABAAAAAQAAAAEAAAABAAAAAQAAAAAAAAAAAAAAAQAAAAIAAAAAAAAAAQAAAAIAAAACAAAAAgAAAAIAAAAAAAAAAgAAAAAAAAAAAAAAAgAAAAEAAAABAAAAAgAAAAAAAAACAAAAAQAAAAEAAAABAAAAAgAAAAEAAAACAAAAAQAAAAIAAAABAAAAAQAAAAIAAAAAAAAAAgAAAAIAAAABAAAAAgAAAAIAAAACAAAAAAAAAAEAAAAAAAAAAQAAAAEAAAABAAAAAAAAAAEAAAACAAAAAgAAAAIAAAABAAAAAQAAAAAAAAAAAAAAAQAAAAEAAAACAAAAAgAAAAIAAAAAAAAAAQAAAAEAAAACAAAAAgAAAAEAAAABAAAAAAAAAAIAAAABAAAAAAAAAAEAAAABAAAAAQAAAAAAAAABAAAAAQAAAAIAAAABAAAAAgAAAAEAAAACAAAAAgAAAAAAAAABAAAAAgAAAAAAAAACAAAAAQAAAAIAAAABAAAAAAAAAAEAAAAAAAAAAAAAAAIAAAACAAAAAAAAAAAAAAAAAAAAAQAAAAEAAAACAAAAAgAAAAIAAAAAAAAAAAAAAAEAAAABAAAAAgAAAAIAAAAAAAAAAgAAAAEAAAACAAAAAQAAAAEAAAABAAAAAgAAAAEAAAAAAAAAAAAAAAIAAAAAAAAAAgAAAAIAAAABAAAAAAAAAAIAAAABAAAAAQAAAAEAAAABAAAAAQAAAAEAAAACAAAAAgAAAAAAAAAAAAAAAgAAAAEAAAAAAAAAAQAAAAAAAAACAAAAAgAAAAEAAAABAAAAAQAAAAAAAAACAAAAAgAAAAAAAAABAAAAAAAAAAEAAAAAAAAAAgAAAAIAAAACAAAAAgAAAAIAAAABAAAAAgAAAAIAAAABAAAAAgAAAAIAAAACAAAAAQAAAAAAAAABAAAAAgAAAAAAAAABAAAAAQAAAAEAAAAAAAAAAQAAAAIAAAAAAAAAAQAAAAEAAAABAAAAAAAAAAIAAAABAAAAAgAAAAEAAAABAAAAAgAAAAEAAAAAAAAAAgAAAAIAAAABAAAAAgAAAAIAAAACAAAAAQAAAAIAAAACAAAAAAAAAAEAAAAAAAAAAQAAAAIAAAACAAAA",
           "dtype": "i4"
          },
          "coloraxis": "coloraxis",
          "symbol": "circle"
         },
         "mode": "markers",
         "name": "",
         "scene": "scene",
         "showlegend": false,
         "type": "scatter3d",
         "x": {
          "bdata": "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",
          "dtype": "f8"
         },
         "y": {
          "bdata": "AQEBAQEBAQEBAQEBAQEBAQEBAQEBAQEBAQEBAQEBAQEBAQEBAQEBAQEBAQEBAQEBAQEBAQEBAQEBAQEBAQEBAQEBAQEBAQEBAQEBAQEBAQEBAQEBAQEBAQEBAQEBAQEBAQEBAQEBAQEBAQEBAQEBAQEBAQEBAQEBAQEBAQEBAQEBAQEBAQEBAQEBAQEBAQEBAQEBAQEBAQEBAQEBAQEBAQEBAQEBAQEBAQEBAQEBAQEBAQEBAQEBAQEBAQEBAQEBAQEBAQEBAQEBAQEBAQEBAQEBAQEBAQEBAQEBAQEBAQEBAQEBAQEBAQEBAQEBAQEBAQEBAQEBAQEBAQEBAQEBAQEBAQEBAQEBAQEBAQEBAQEBAQEBAQEBAQEBAQEBAQEBAQEBAQEBAQEBAQEBAQEBAQEBAQEBAQEBAQEBAQEBAQEBAQEBAQEBAQEBAQEBAQEBAQEBAQEBAQEBAQEBAQEBAQEBAQEBAQEBAQEBAQEBAQEBAQEBAQEBAQEBAQEBAQEBAQEBAQEBAQEBAQEBAQEBAQEBAQEBAQEBAQEBAQEBAQEBAQEBAQEBAQEBAQEBAQEBAQEBAQEBAQEBAQEBAQEBAQEBAQEBAQEBAQEBAQEBAQEBAQEBAQEBAQEBAQEBAQEBAQEBAQEBAQEBAQEBAQEBAQEBAQEBAQEBAQEBAQEBAQEBAQEBAQEBAQEBAQEBAQEBAQEBAQEBAQEBAQEBAQEBAQEBAQEBAQEBAQEBAQEBAQEBAQEBAQEBAQEBAQEBAQEBAQEBAQEBAQEBAQEBAQEBAQEBAQEBAQEBAQEBAQEBAQEBAQEBAQEBAQEBAQEBAQEBAQEBAQEBAQEBAQEBAQEBAQEBAQEBAQEBAQEBAQEBAQEBAQEBAQEBAQEBAQEBAQEBAQEBAQEBAQEBAQEBAQEBAQEBAQEBAQEBAQEBAQEBAQEBAQEBAQEBAQEBAQEBAQEBAQEBAQEBAQEBAQEBAQEBAQEBAQEBAQEBAQEBAQEBAQEBAQEBAQEBAQEBAQEBAQEBAQEBAQEBAQEBAQEBAQEBAQEBAQEBAQEBAQEBAQEBAQEBAQEBAQEBAQEBAQEBAQEBAQEBAQEBAQEBAQEBAQEBAQEBAQEBAQEBAQEBAQEBAQEBAQEBAQEBAQEBAQEBAQEBAQEBAQEBAQEBAQEBAQEBAQEBAQEBAQEBAQEBAQEBAQEBAQEBAQEBAQEBAQEBAQEBAQEBAQEBAQEBAQEBAQEBAQEBAQEBAQEBAQEBAQEBAQEBAQEBAQEBAQEBAQEBAQEBAQEBAQEBAQEBAQEBAQEBAQEBAQEBAQEBAQEBAQEBAQEBAQEBAQEBAQEBAQEBAQEBAQEBAQEBAQEBAQEBAQEBAQEBAQEBAQEBAQEBAQEBAQEBAQEBAQEBAQEBAQEBAQEBAQEBAQEBAQEBAQEBAQEBAQEBAQEBAQEBAQEBAQEBAQEBAQEBAQEBAQEBAQEBAQEBAQEBAQEBAQEBAQEBAQEBAQEBAQEBAQEBAQEBAQEBAQEBAQEBAQEBAQEBAQEBAQEBAQEBAQEBAQEBAQEBAQEBAQEBAQEBAQEBAQEBAQEBAQEBAQEBAQEBAQEBAQEBAQEBAQEBAQEBAQEBAQEBAQEBAQEBAQEBAQEBAQEBAQEBAQEBAQEBAQEBAQEBAQEBAQEBAQEBAQEBAQEBAQEBAQEBAQEBAQEBAQEBAQEBAQEBAQEBAQEBAQEBAQEBAQEBAQEBAQEBAQEBAQEBAQEBAQEBAQEBAQEBAQEBAQEBAQEBAQEBAQEBAQEBAQEBAQEBAQEBAQEBAQEBAQEBAQEBAQEBAQEBAQEBAQEBAQEBAQEBAQEBAQEBAQEBAQEBAQEBAQEBAQEBAQEBAQEBAQEBAQEBAQEBAQEBAQEBAQEBAQEBAQEBAQEBAQEBAQEBAQEBAQEBAQEBAQEBAQEBAQEBAQEBAQEBAQEBAQEBAQEBAQEBAQEBAQEBAQEBAQEBAQEBAQEBAQEBAQEBAQEBAQEBAQEBAQEBAQEBAQEBAQEBAQEBAQEBAQEBAQEBAQEBAQEBAQEBAQEBAQEBAQEBAQEBAQEBAQEBAQEBAQEBAQEBAQEBAQEBAQEBAQEBAQEBAQEBAQEBAQEBAQEBAQEBAQEBAQEBAQEBAQEBAQEBAQEBAQEBAQEBAQEBAQEBAQEBAQEBAQEBAQEBAQEBAQEBAQEBAQEBAQEBAQEBAQEBAQEBAQEBAQEBAQEBAQEBAQEBAQEBAQEBAQEBAQEBAQEBAQEBAQEBAQEBAQEBAQEBAQEBAQEBAQEBAQEBAQEBAQEBAQEBAQEBAQEBAQEBAQEBAQEBAQEBAQEBAQEBAQEBAQEBAQEBAQEBAQEBAQEBAQEBAQEBAQEBAQEBAQEBAQEBAQEBAQEBAQEBAQEBAQEBAQEBAQEBAQEBAQEBAQEBAQEBAQEBAQEBAQEBAQEBAQEBAQEBAQEBAQEBAQEBAQEBAQEBAQEBAQEBAQEBAQEBAQEBAQEBAQEBAQEBAQEBAQEBAQEBAQEBAQEBAQEBAQEBAQEBAQEBAQEBAQEBAQEBAQEBAQEBAQEBAQEBAQEBAQEBAQEBAQEBAQEBAQEBAQEBAQEBAQEBAQEBAQEBAQEBAQEBAQEBAQEBAQEBAQEBAQEBAQEBAQEBAQEBAQEBAQEBAQEBAQEBAQEBAQEBAQEBAQEBAQEBAQEBAQEBAQEBAQEBAQEBAQEBAQEBAQEBAQEBAQEBAQEBAQEBAQEBAQEBAQEBAQEBAQEBAQEBAQEBAQEBAQEBAQEBAQEBAQEBAQEBAQEBAQEBAQEBAQEBAQEBAQEBAQEBAQEBAQEBAQEBAQEBAQEBAQEBAQEBAQEBAQEBAQEBAQEBAQEBAQEBAQEBAQEBAQEBAQEBAQEBAQEBAQEBAQEBAQEBAQEBAQEBAQEBAQEBAQEBAQEBAQEBAQEBAQEBAQEBAQEBAQEBAQEBAQEBAQEBAQEBAQEBAQEBAQEBAQEBAQEBAQEBAQEBAQEBAQEBAQEBAQEBAQEBAQEBAQEBAQEBAQEBAQEBAQEBAQEBAQEBAQEBAQEBAQEBAQEBAQEBAQEBAQEBAQEBAQEBAQEBAQEBAQEBAQEBAQEBAQEBAQEBAQEBAQEBAQEBAQEBAQEBAQEBAQEBAQEBAQEBAQEBAQEBAQEBAQEBAQEBAQEBAQEBAQEBAQEBAQEBAQEBAQEBAQEBAQEBAQEBAQEBAQEBAQEBAQEBAQEBAQEBAQEBAQEBAQEBAQEBAQEBAQEBAQEBAQEBAQEBAQEBAQEBAQEBAQEBAQEBAQEBAQEBAQEBAQEBAQEBAQEBAQEBAQEBAQEBAQEBAQEBAQEBAQEBAQEBAQEBAQEBAQEBAQEBAQEBAQEBAQEBAQEBAQEBAQEBAQEBAQEBAQEBAQEBAQEBAQEBAQEBAQEBAQEBAQEBAQEBAQEBAQEBAQEBAQEBAQEBAQEBAQEBAQEBAQEBAQEBAQEBAQEBAQEBAQEBAQEBAQEBAQEBAQEBAQEBAQEBAQEBAQEBAQEBAQEBAQEBAQEBAQEBAQEBAQEBAQEBAQEBAQEBAQEBAQEBAQEBAQEBAQEBAQEBAQEBAQEBAQEBAQEBAQEBAQEBAQEBAQEBAQEBAQEBAQEBAQEBAQEBAQEBAQEBAQEBAQEBAQEBAQEBAQEBAQEBAQEBAQEBAQEBAQEBAQEBAQEBAQEBAQEBAQEBAQEBAQEBAQEBAQEBAQEBAQEBAQEBAQEBAQEBAQEBAQEBAQEBAQEBAQEBAQEBAQEBAQEBAQEBAQEBAQEBAQEBAQEBAQEBAQEBAQEBAQEBAQEBAQEBAQEBAQEBAQEBAQEBAQEBAQEBAQEBAQEBAQEBAQEBAQEBAQEBAQEBAQEBAQEBAQEBAQEBAQEBAQEBAQEBAQEBAQEBAQEBAQEBAQEBAQEBAQEBAQEBAQEBAQEBAQEBAQEBAQEBAQEBAQEBAQEBAQEBAQEBAQEBAQEBAQEBAQEBAQEBAQEBAQEBAQEBAQEBAQEBAQEBAQEBAQEBAQEBAQEBAQEBAQEBAQEBAQEBAQEBAQEBAQEBAQEBAQEBAQEBAQEBAQEBAQEBAQEBAQEBAQEBAQEBAQEBAQEBAQEBAQEBAQEBAQEBAQEBAQEBAQEBAQEBAQEBAQEBAQEBAQEBAQEBAQEBAQEBAQEBAQEBAQEBAQEBAQEBAQEBAQEBAQEBAQEBAQEBAQEBAQEBAQEBAQEBAQEBAQEBAQEBAQEBAQEBAQEBAQEBAQEBAQEBAQEBAQEBAQEBAQEBAQEBAQEBAQEBAQEBAQEBAQEBAQEBAQEBAQEBAQEBAQEBAQEBAQEBAQEBAQEBAQEBAQEBAQEBAQEBAQEBAQEBAQEBAQEBAQEBAQEBAQEBAQEBAQEBAQEBAQEBAQEBAQEBAQEBAQEBAQEBAQEBAQEBAQEBAQEBAQEBAQEBAQEBAQEBAQEBAQEBAQEBAQEBAQEBAQEBAQEBAQEBAQEBAQEBAQEBAQEBAQEBAQEBAQEBAQEBAQEBAQEBAQEBAQEBAQEBAQEBAQEBAQEBAQEBAQEBAQEBAQEBAQEBAQEBAQEBAQEBAQEBAQEBAQEBAQEBAQEBAQEBAQEBAQEBAQEBAQEBAQEBAQEBAQEBAQEBAQEBAQEBAQEBAQEBAQEBAQEBAQEBAQEBAQEBAQEBAQEBAQEBAQEBAQEBAQEBAQEBAQEBAQEBAQEBAQEBAQEBAQEBAQEBAQEBAQEBAQEBAQEBAQEBAQEBAQEBAQEBAQEBAQEBAQEBAQEBAQEBAQEBAQEBAQEBAQEBAQEBAQEBAQEBAQEBAQEBAQEBAQEBAQEBAQEBAQEBAQEBAQEBAQEBAQEBAQEBAQEBAQEBAQEBAQEBAQEBAQEBAQEBAQEBAQEBAQEBAQEBAQEBAQEBAQEBAQEBAQEBAQEBAQEBAQEBAQEBAQEBAQEBAQEBAQEBAQEBAQEBAQEBAQEBAQEBAQEBAQEBAQEBAQEBAQEBAQEBAQEBAQEBAQEBAQEBAQEBAQEBAQEBAQEBAQEBAQEBAQEBAQEBAQEBAQEBAQEBAQEBAQEBAQEBAQEBAQEBAQEBAQEBAQEBAQEBAQEBAQEBAQEBAQEBAQEBAQEBAQEBAQEBAQEBAQEBAQEBAQEBAQEBAQEBAQEBAQEBAQEBAQEBAQEBAQEBAQEBAQEBAQEBAQEBAQEBAQEBAQEBAQEBAQEBAQEBAQEB",
          "dtype": "i1"
         },
         "z": {
          "bdata": "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",
          "dtype": "i1"
         }
        }
       ],
       "layout": {
        "coloraxis": {
         "colorbar": {
          "title": {
           "text": "KMeans_Cluster"
          }
         },
         "colorscale": [
          [
           0,
           "#0d0887"
          ],
          [
           0.1111111111111111,
           "#46039f"
          ],
          [
           0.2222222222222222,
           "#7201a8"
          ],
          [
           0.3333333333333333,
           "#9c179e"
          ],
          [
           0.4444444444444444,
           "#bd3786"
          ],
          [
           0.5555555555555556,
           "#d8576b"
          ],
          [
           0.6666666666666666,
           "#ed7953"
          ],
          [
           0.7777777777777778,
           "#fb9f3a"
          ],
          [
           0.8888888888888888,
           "#fdca26"
          ],
          [
           1,
           "#f0f921"
          ]
         ]
        },
        "legend": {
         "tracegroupgap": 0
        },
        "scene": {
         "domain": {
          "x": [
           0,
           1
          ],
          "y": [
           0,
           1
          ]
         },
         "xaxis": {
          "title": {
           "text": "Recency"
          }
         },
         "yaxis": {
          "title": {
           "text": "Frequency"
          }
         },
         "zaxis": {
          "title": {
           "text": "Monetary"
          }
         }
        },
        "template": {
         "data": {
          "bar": [
           {
            "error_x": {
             "color": "#2a3f5f"
            },
            "error_y": {
             "color": "#2a3f5f"
            },
            "marker": {
             "line": {
              "color": "#E5ECF6",
              "width": 0.5
             },
             "pattern": {
              "fillmode": "overlay",
              "size": 10,
              "solidity": 0.2
             }
            },
            "type": "bar"
           }
          ],
          "barpolar": [
           {
            "marker": {
             "line": {
              "color": "#E5ECF6",
              "width": 0.5
             },
             "pattern": {
              "fillmode": "overlay",
              "size": 10,
              "solidity": 0.2
             }
            },
            "type": "barpolar"
           }
          ],
          "carpet": [
           {
            "aaxis": {
             "endlinecolor": "#2a3f5f",
             "gridcolor": "white",
             "linecolor": "white",
             "minorgridcolor": "white",
             "startlinecolor": "#2a3f5f"
            },
            "baxis": {
             "endlinecolor": "#2a3f5f",
             "gridcolor": "white",
             "linecolor": "white",
             "minorgridcolor": "white",
             "startlinecolor": "#2a3f5f"
            },
            "type": "carpet"
           }
          ],
          "choropleth": [
           {
            "colorbar": {
             "outlinewidth": 0,
             "ticks": ""
            },
            "type": "choropleth"
           }
          ],
          "contour": [
           {
            "colorbar": {
             "outlinewidth": 0,
             "ticks": ""
            },
            "colorscale": [
             [
              0,
              "#0d0887"
             ],
             [
              0.1111111111111111,
              "#46039f"
             ],
             [
              0.2222222222222222,
              "#7201a8"
             ],
             [
              0.3333333333333333,
              "#9c179e"
             ],
             [
              0.4444444444444444,
              "#bd3786"
             ],
             [
              0.5555555555555556,
              "#d8576b"
             ],
             [
              0.6666666666666666,
              "#ed7953"
             ],
             [
              0.7777777777777778,
              "#fb9f3a"
             ],
             [
              0.8888888888888888,
              "#fdca26"
             ],
             [
              1,
              "#f0f921"
             ]
            ],
            "type": "contour"
           }
          ],
          "contourcarpet": [
           {
            "colorbar": {
             "outlinewidth": 0,
             "ticks": ""
            },
            "type": "contourcarpet"
           }
          ],
          "heatmap": [
           {
            "colorbar": {
             "outlinewidth": 0,
             "ticks": ""
            },
            "colorscale": [
             [
              0,
              "#0d0887"
             ],
             [
              0.1111111111111111,
              "#46039f"
             ],
             [
              0.2222222222222222,
              "#7201a8"
             ],
             [
              0.3333333333333333,
              "#9c179e"
             ],
             [
              0.4444444444444444,
              "#bd3786"
             ],
             [
              0.5555555555555556,
              "#d8576b"
             ],
             [
              0.6666666666666666,
              "#ed7953"
             ],
             [
              0.7777777777777778,
              "#fb9f3a"
             ],
             [
              0.8888888888888888,
              "#fdca26"
             ],
             [
              1,
              "#f0f921"
             ]
            ],
            "type": "heatmap"
           }
          ],
          "histogram": [
           {
            "marker": {
             "pattern": {
              "fillmode": "overlay",
              "size": 10,
              "solidity": 0.2
             }
            },
            "type": "histogram"
           }
          ],
          "histogram2d": [
           {
            "colorbar": {
             "outlinewidth": 0,
             "ticks": ""
            },
            "colorscale": [
             [
              0,
              "#0d0887"
             ],
             [
              0.1111111111111111,
              "#46039f"
             ],
             [
              0.2222222222222222,
              "#7201a8"
             ],
             [
              0.3333333333333333,
              "#9c179e"
             ],
             [
              0.4444444444444444,
              "#bd3786"
             ],
             [
              0.5555555555555556,
              "#d8576b"
             ],
             [
              0.6666666666666666,
              "#ed7953"
             ],
             [
              0.7777777777777778,
              "#fb9f3a"
             ],
             [
              0.8888888888888888,
              "#fdca26"
             ],
             [
              1,
              "#f0f921"
             ]
            ],
            "type": "histogram2d"
           }
          ],
          "histogram2dcontour": [
           {
            "colorbar": {
             "outlinewidth": 0,
             "ticks": ""
            },
            "colorscale": [
             [
              0,
              "#0d0887"
             ],
             [
              0.1111111111111111,
              "#46039f"
             ],
             [
              0.2222222222222222,
              "#7201a8"
             ],
             [
              0.3333333333333333,
              "#9c179e"
             ],
             [
              0.4444444444444444,
              "#bd3786"
             ],
             [
              0.5555555555555556,
              "#d8576b"
             ],
             [
              0.6666666666666666,
              "#ed7953"
             ],
             [
              0.7777777777777778,
              "#fb9f3a"
             ],
             [
              0.8888888888888888,
              "#fdca26"
             ],
             [
              1,
              "#f0f921"
             ]
            ],
            "type": "histogram2dcontour"
           }
          ],
          "mesh3d": [
           {
            "colorbar": {
             "outlinewidth": 0,
             "ticks": ""
            },
            "type": "mesh3d"
           }
          ],
          "parcoords": [
           {
            "line": {
             "colorbar": {
              "outlinewidth": 0,
              "ticks": ""
             }
            },
            "type": "parcoords"
           }
          ],
          "pie": [
           {
            "automargin": true,
            "type": "pie"
           }
          ],
          "scatter": [
           {
            "fillpattern": {
             "fillmode": "overlay",
             "size": 10,
             "solidity": 0.2
            },
            "type": "scatter"
           }
          ],
          "scatter3d": [
           {
            "line": {
             "colorbar": {
              "outlinewidth": 0,
              "ticks": ""
             }
            },
            "marker": {
             "colorbar": {
              "outlinewidth": 0,
              "ticks": ""
             }
            },
            "type": "scatter3d"
           }
          ],
          "scattercarpet": [
           {
            "marker": {
             "colorbar": {
              "outlinewidth": 0,
              "ticks": ""
             }
            },
            "type": "scattercarpet"
           }
          ],
          "scattergeo": [
           {
            "marker": {
             "colorbar": {
              "outlinewidth": 0,
              "ticks": ""
             }
            },
            "type": "scattergeo"
           }
          ],
          "scattergl": [
           {
            "marker": {
             "colorbar": {
              "outlinewidth": 0,
              "ticks": ""
             }
            },
            "type": "scattergl"
           }
          ],
          "scattermap": [
           {
            "marker": {
             "colorbar": {
              "outlinewidth": 0,
              "ticks": ""
             }
            },
            "type": "scattermap"
           }
          ],
          "scattermapbox": [
           {
            "marker": {
             "colorbar": {
              "outlinewidth": 0,
              "ticks": ""
             }
            },
            "type": "scattermapbox"
           }
          ],
          "scatterpolar": [
           {
            "marker": {
             "colorbar": {
              "outlinewidth": 0,
              "ticks": ""
             }
            },
            "type": "scatterpolar"
           }
          ],
          "scatterpolargl": [
           {
            "marker": {
             "colorbar": {
              "outlinewidth": 0,
              "ticks": ""
             }
            },
            "type": "scatterpolargl"
           }
          ],
          "scatterternary": [
           {
            "marker": {
             "colorbar": {
              "outlinewidth": 0,
              "ticks": ""
             }
            },
            "type": "scatterternary"
           }
          ],
          "surface": [
           {
            "colorbar": {
             "outlinewidth": 0,
             "ticks": ""
            },
            "colorscale": [
             [
              0,
              "#0d0887"
             ],
             [
              0.1111111111111111,
              "#46039f"
             ],
             [
              0.2222222222222222,
              "#7201a8"
             ],
             [
              0.3333333333333333,
              "#9c179e"
             ],
             [
              0.4444444444444444,
              "#bd3786"
             ],
             [
              0.5555555555555556,
              "#d8576b"
             ],
             [
              0.6666666666666666,
              "#ed7953"
             ],
             [
              0.7777777777777778,
              "#fb9f3a"
             ],
             [
              0.8888888888888888,
              "#fdca26"
             ],
             [
              1,
              "#f0f921"
             ]
            ],
            "type": "surface"
           }
          ],
          "table": [
           {
            "cells": {
             "fill": {
              "color": "#EBF0F8"
             },
             "line": {
              "color": "white"
             }
            },
            "header": {
             "fill": {
              "color": "#C8D4E3"
             },
             "line": {
              "color": "white"
             }
            },
            "type": "table"
           }
          ]
         },
         "layout": {
          "annotationdefaults": {
           "arrowcolor": "#2a3f5f",
           "arrowhead": 0,
           "arrowwidth": 1
          },
          "autotypenumbers": "strict",
          "coloraxis": {
           "colorbar": {
            "outlinewidth": 0,
            "ticks": ""
           }
          },
          "colorscale": {
           "diverging": [
            [
             0,
             "#8e0152"
            ],
            [
             0.1,
             "#c51b7d"
            ],
            [
             0.2,
             "#de77ae"
            ],
            [
             0.3,
             "#f1b6da"
            ],
            [
             0.4,
             "#fde0ef"
            ],
            [
             0.5,
             "#f7f7f7"
            ],
            [
             0.6,
             "#e6f5d0"
            ],
            [
             0.7,
             "#b8e186"
            ],
            [
             0.8,
             "#7fbc41"
            ],
            [
             0.9,
             "#4d9221"
            ],
            [
             1,
             "#276419"
            ]
           ],
           "sequential": [
            [
             0,
             "#0d0887"
            ],
            [
             0.1111111111111111,
             "#46039f"
            ],
            [
             0.2222222222222222,
             "#7201a8"
            ],
            [
             0.3333333333333333,
             "#9c179e"
            ],
            [
             0.4444444444444444,
             "#bd3786"
            ],
            [
             0.5555555555555556,
             "#d8576b"
            ],
            [
             0.6666666666666666,
             "#ed7953"
            ],
            [
             0.7777777777777778,
             "#fb9f3a"
            ],
            [
             0.8888888888888888,
             "#fdca26"
            ],
            [
             1,
             "#f0f921"
            ]
           ],
           "sequentialminus": [
            [
             0,
             "#0d0887"
            ],
            [
             0.1111111111111111,
             "#46039f"
            ],
            [
             0.2222222222222222,
             "#7201a8"
            ],
            [
             0.3333333333333333,
             "#9c179e"
            ],
            [
             0.4444444444444444,
             "#bd3786"
            ],
            [
             0.5555555555555556,
             "#d8576b"
            ],
            [
             0.6666666666666666,
             "#ed7953"
            ],
            [
             0.7777777777777778,
             "#fb9f3a"
            ],
            [
             0.8888888888888888,
             "#fdca26"
            ],
            [
             1,
             "#f0f921"
            ]
           ]
          },
          "colorway": [
           "#636efa",
           "#EF553B",
           "#00cc96",
           "#ab63fa",
           "#FFA15A",
           "#19d3f3",
           "#FF6692",
           "#B6E880",
           "#FF97FF",
           "#FECB52"
          ],
          "font": {
           "color": "#2a3f5f"
          },
          "geo": {
           "bgcolor": "white",
           "lakecolor": "white",
           "landcolor": "#E5ECF6",
           "showlakes": true,
           "showland": true,
           "subunitcolor": "white"
          },
          "hoverlabel": {
           "align": "left"
          },
          "hovermode": "closest",
          "mapbox": {
           "style": "light"
          },
          "paper_bgcolor": "white",
          "plot_bgcolor": "#E5ECF6",
          "polar": {
           "angularaxis": {
            "gridcolor": "white",
            "linecolor": "white",
            "ticks": ""
           },
           "bgcolor": "#E5ECF6",
           "radialaxis": {
            "gridcolor": "white",
            "linecolor": "white",
            "ticks": ""
           }
          },
          "scene": {
           "xaxis": {
            "backgroundcolor": "#E5ECF6",
            "gridcolor": "white",
            "gridwidth": 2,
            "linecolor": "white",
            "showbackground": true,
            "ticks": "",
            "zerolinecolor": "white"
           },
           "yaxis": {
            "backgroundcolor": "#E5ECF6",
            "gridcolor": "white",
            "gridwidth": 2,
            "linecolor": "white",
            "showbackground": true,
            "ticks": "",
            "zerolinecolor": "white"
           },
           "zaxis": {
            "backgroundcolor": "#E5ECF6",
            "gridcolor": "white",
            "gridwidth": 2,
            "linecolor": "white",
            "showbackground": true,
            "ticks": "",
            "zerolinecolor": "white"
           }
          },
          "shapedefaults": {
           "line": {
            "color": "#2a3f5f"
           }
          },
          "ternary": {
           "aaxis": {
            "gridcolor": "white",
            "linecolor": "white",
            "ticks": ""
           },
           "baxis": {
            "gridcolor": "white",
            "linecolor": "white",
            "ticks": ""
           },
           "bgcolor": "#E5ECF6",
           "caxis": {
            "gridcolor": "white",
            "linecolor": "white",
            "ticks": ""
           }
          },
          "title": {
           "x": 0.05
          },
          "xaxis": {
           "automargin": true,
           "gridcolor": "white",
           "linecolor": "white",
           "ticks": "",
           "title": {
            "standoff": 15
           },
           "zerolinecolor": "white",
           "zerolinewidth": 2
          },
          "yaxis": {
           "automargin": true,
           "gridcolor": "white",
           "linecolor": "white",
           "ticks": "",
           "title": {
            "standoff": 15
           },
           "zerolinecolor": "white",
           "zerolinewidth": 2
          }
         }
        },
        "title": {
         "text": "K-Means Customer Clusters (k=3)"
        }
       }
      }
     },
     "metadata": {},
     "output_type": "display_data"
    },
    {
     "name": "stdout",
     "output_type": "stream",
     "text": [
      "\n",
      "📊 CLUSTER DISTRIBUTION:\n",
      "Cluster 0:  746 customers ( 19.1%)\n",
      "Cluster 1: 1587 customers ( 40.7%)\n",
      "Cluster 2: 1567 customers ( 40.2%)\n"
     ]
    }
   ],
   "source": [
    "# Apply K-means clustering with optimal k\n",
    "optimal_k = best_k\n",
    "kmeans = KMeans(n_clusters=optimal_k, random_state=42, n_init=10)\n",
    "cluster_labels = kmeans.fit_predict(scaled_data)\n",
    "\n",
    "# Add cluster labels to original data\n",
    "rfm_clustered = rfm_segmented.copy()\n",
    "rfm_clustered['KMeans_Cluster'] = cluster_labels\n",
    "\n",
    "# Analyze K-means clusters\n",
    "kmeans_analysis = rfm_clustered.groupby('KMeans_Cluster').agg({\n",
    "    'Recency': ['mean', 'std'],\n",
    "    'Frequency': ['mean', 'std'],\n",
    "    'Monetary': ['mean', 'std'],\n",
    "    'KMeans_Cluster': 'count'\n",
    "}).round(2)\n",
    "\n",
    "kmeans_analysis.columns = ['Recency_Mean', 'Recency_Std', 'Frequency_Mean', 'Frequency_Std',\n",
    "                          'Monetary_Mean', 'Monetary_Std', 'Customer_Count']\n",
    "\n",
    "print(f\"🎯 K-MEANS CLUSTERING RESULTS (k={optimal_k}):\")\n",
    "display(kmeans_analysis)\n",
    "\n",
    "# Visualize clusters in 3D\n",
    "fig = px.scatter_3d(\n",
    "    rfm_clustered,\n",
    "    x='Recency',\n",
    "    y='Frequency', \n",
    "    z='Monetary',\n",
    "    color='KMeans_Cluster',\n",
    "    title=f'K-Means Customer Clusters (k={optimal_k})',\n",
    "    labels={'color': 'Cluster'}\n",
    ")\n",
    "fig.show()\n",
    "\n",
    "# Show cluster distribution\n",
    "cluster_dist = rfm_clustered['KMeans_Cluster'].value_counts().sort_index()\n",
    "print(f\"\\n📊 CLUSTER DISTRIBUTION:\")\n",
    "for cluster, count in cluster_dist.items():\n",
    "    percentage = (count / len(rfm_clustered)) * 100\n",
    "    print(f\"Cluster {cluster}: {count:>4} customers ({percentage:>5.1f}%)\")"
   ]
  },
  {
   "cell_type": "markdown",
   "metadata": {},
   "source": [
    "## 4. Hierarchical Clustering Analysis"
   ]
  },
  {
   "cell_type": "code",
   "execution_count": 10,
   "metadata": {},
   "outputs": [
    {
     "name": "stdout",
     "output_type": "stream",
     "text": [
      "📊 Using sample of 500 customers for dendrogram visualization\n"
     ]
    },
    {
     "data": {
      "image/png": "[encoded data removed]",
      "text/plain": [
       "<Figure size 1200x800 with 1 Axes>"
      ]
     },
     "metadata": {},
     "output_type": "display_data"
    },
    {
     "name": "stdout",
     "output_type": "stream",
     "text": [
      "🌳 HIERARCHICAL CLUSTERING RESULTS:\n"
     ]
    },
    {
     "data": {
      "text/html": [
       "<div>\n",
       "<style scoped>\n",
       "    .dataframe tbody tr th:only-of-type {\n",
       "        vertical-align: middle;\n",
       "    }\n",
       "\n",
       "    .dataframe tbody tr th {\n",
       "        vertical-align: top;\n",
       "    }\n",
       "\n",
       "    .dataframe thead th {\n",
       "        text-align: right;\n",
       "    }\n",
       "</style>\n",
       "<table border=\"1\" class=\"dataframe\">\n",
       "  <thead>\n",
       "    <tr style=\"text-align: right;\">\n",
       "      <th></th>\n",
       "      <th>Recency_Mean</th>\n",
       "      <th>Recency_Std</th>\n",
       "      <th>Frequency_Mean</th>\n",
       "      <th>Frequency_Std</th>\n",
       "      <th>Monetary_Mean</th>\n",
       "      <th>Monetary_Std</th>\n",
       "      <th>Customer_Count</th>\n",
       "    </tr>\n",
       "    <tr>\n",
       "      <th>Hierarchical_Cluster</th>\n",
       "      <th></th>\n",
       "      <th></th>\n",
       "      <th></th>\n",
       "      <th></th>\n",
       "      <th></th>\n",
       "      <th></th>\n",
       "      <th></th>\n",
       "    </tr>\n",
       "  </thead>\n",
       "  <tbody>\n",
       "    <tr>\n",
       "      <th>0</th>\n",
       "      <td>60.85</td>\n",
       "      <td>32.57</td>\n",
       "      <td>1.0</td>\n",
       "      <td>0.0</td>\n",
       "      <td>63.70</td>\n",
       "      <td>23.40</td>\n",
       "      <td>1394</td>\n",
       "    </tr>\n",
       "    <tr>\n",
       "      <th>1</th>\n",
       "      <td>13.83</td>\n",
       "      <td>9.69</td>\n",
       "      <td>1.0</td>\n",
       "      <td>0.0</td>\n",
       "      <td>39.08</td>\n",
       "      <td>11.80</td>\n",
       "      <td>1382</td>\n",
       "    </tr>\n",
       "    <tr>\n",
       "      <th>2</th>\n",
       "      <td>11.59</td>\n",
       "      <td>8.18</td>\n",
       "      <td>1.0</td>\n",
       "      <td>0.0</td>\n",
       "      <td>80.31</td>\n",
       "      <td>11.36</td>\n",
       "      <td>1124</td>\n",
       "    </tr>\n",
       "  </tbody>\n",
       "</table>\n",
       "</div>"
      ],
      "text/plain": [
       "                      Recency_Mean  Recency_Std  Frequency_Mean  \\\n",
       "Hierarchical_Cluster                                              \n",
       "0                            60.85        32.57             1.0   \n",
       "1                            13.83         9.69             1.0   \n",
       "2                            11.59         8.18             1.0   \n",
       "\n",
       "                      Frequency_Std  Monetary_Mean  Monetary_Std  \\\n",
       "Hierarchical_Cluster                                               \n",
       "0                               0.0          63.70         23.40   \n",
       "1                               0.0          39.08         11.80   \n",
       "2                               0.0          80.31         11.36   \n",
       "\n",
       "                      Customer_Count  \n",
       "Hierarchical_Cluster                  \n",
       "0                               1394  \n",
       "1                               1382  \n",
       "2                               1124  "
      ]
     },
     "metadata": {},
     "output_type": "display_data"
    }
   ],
   "source": [
    "# Hierarchical clustering\n",
    "def perform_hierarchical_clustering(data, n_clusters=None, sample_size=500):\n",
    "    \"\"\"Perform hierarchical clustering with dendrogram visualization\"\"\"\n",
    "    \n",
    "    # Sample data for visualization if too large\n",
    "    if len(data) > sample_size:\n",
    "        sample_idx = np.random.choice(len(data), sample_size, replace=False)\n",
    "        data_sample = data.iloc[sample_idx]\n",
    "        print(f\"📊 Using sample of {sample_size} customers for dendrogram visualization\")\n",
    "    else:\n",
    "        data_sample = data\n",
    "    \n",
    "    # Create dendrogram\n",
    "    linkage_matrix = linkage(data_sample, method='ward')\n",
    "    \n",
    "    plt.figure(figsize=(12, 8))\n",
    "    dendrogram(linkage_matrix, truncate_mode='level', p=5)\n",
    "    plt.title('Hierarchical Clustering Dendrogram')\n",
    "    plt.xlabel('Sample Index or (Cluster Size)')\n",
    "    plt.ylabel('Distance')\n",
    "    plt.show()\n",
    "    \n",
    "    # Apply hierarchical clustering to full dataset\n",
    "    if n_clusters is None:\n",
    "        n_clusters = optimal_k  # Use same as K-means for comparison\n",
    "    \n",
    "    hierarchical = AgglomerativeClustering(n_clusters=n_clusters, linkage='ward')\n",
    "    hierarchical_labels = hierarchical.fit_predict(data)\n",
    "    \n",
    "    return hierarchical_labels\n",
    "\n",
    "# Perform hierarchical clustering\n",
    "hierarchical_labels = perform_hierarchical_clustering(scaled_data, optimal_k)\n",
    "\n",
    "# Add hierarchical cluster labels\n",
    "rfm_clustered['Hierarchical_Cluster'] = hierarchical_labels\n",
    "\n",
    "# Analyze hierarchical clusters\n",
    "hierarchical_analysis = rfm_clustered.groupby('Hierarchical_Cluster').agg({\n",
    "    'Recency': ['mean', 'std'],\n",
    "    'Frequency': ['mean', 'std'],\n",
    "    'Monetary': ['mean', 'std'],\n",
    "    'Hierarchical_Cluster': 'count'\n",
    "}).round(2)\n",
    "\n",
    "hierarchical_analysis.columns = ['Recency_Mean', 'Recency_Std', 'Frequency_Mean', 'Frequency_Std',\n",
    "                                'Monetary_Mean', 'Monetary_Std', 'Customer_Count']\n",
    "\n",
    "print(f\"🌳 HIERARCHICAL CLUSTERING RESULTS:\")\n",
    "display(hierarchical_analysis)"
   ]
  },
  {
   "cell_type": "markdown",
   "metadata": {},
   "source": [
    "## 5. Segmentation Comparison and Validation"
   ]
  },
  {
   "cell_type": "code",
   "execution_count": 11,
   "metadata": {},
   "outputs": [
    {
     "name": "stdout",
     "output_type": "stream",
     "text": [
      "🔍 SEGMENTATION METHODS COMPARISON:\n"
     ]
    },
    {
     "data": {
      "text/html": [
       "<div>\n",
       "<style scoped>\n",
       "    .dataframe tbody tr th:only-of-type {\n",
       "        vertical-align: middle;\n",
       "    }\n",
       "\n",
       "    .dataframe tbody tr th {\n",
       "        vertical-align: top;\n",
       "    }\n",
       "\n",
       "    .dataframe thead th {\n",
       "        text-align: right;\n",
       "    }\n",
       "</style>\n",
       "<table border=\"1\" class=\"dataframe\">\n",
       "  <thead>\n",
       "    <tr style=\"text-align: right;\">\n",
       "      <th></th>\n",
       "      <th>Method</th>\n",
       "      <th>Number of Segments</th>\n",
       "      <th>Silhouette Score</th>\n",
       "    </tr>\n",
       "  </thead>\n",
       "  <tbody>\n",
       "    <tr>\n",
       "      <th>0</th>\n",
       "      <td>RFM Segments</td>\n",
       "      <td>8</td>\n",
       "      <td>0.001460</td>\n",
       "    </tr>\n",
       "    <tr>\n",
       "      <th>1</th>\n",
       "      <td>K-Means</td>\n",
       "      <td>3</td>\n",
       "      <td>0.450087</td>\n",
       "    </tr>\n",
       "    <tr>\n",
       "      <th>2</th>\n",
       "      <td>Hierarchical</td>\n",
       "      <td>3</td>\n",
       "      <td>0.369672</td>\n",
       "    </tr>\n",
       "  </tbody>\n",
       "</table>\n",
       "</div>"
      ],
      "text/plain": [
       "         Method  Number of Segments  Silhouette Score\n",
       "0  RFM Segments                   8          0.001460\n",
       "1       K-Means                   3          0.450087\n",
       "2  Hierarchical                   3          0.369672"
      ]
     },
     "metadata": {},
     "output_type": "display_data"
    },
    {
     "name": "stdout",
     "output_type": "stream",
     "text": [
      "\n",
      "🔄 RFM vs K-Means Segments:\n"
     ]
    },
    {
     "data": {
      "text/html": [
       "<div>\n",
       "<style scoped>\n",
       "    .dataframe tbody tr th:only-of-type {\n",
       "        vertical-align: middle;\n",
       "    }\n",
       "\n",
       "    .dataframe tbody tr th {\n",
       "        vertical-align: top;\n",
       "    }\n",
       "\n",
       "    .dataframe thead th {\n",
       "        text-align: right;\n",
       "    }\n",
       "</style>\n",
       "<table border=\"1\" class=\"dataframe\">\n",
       "  <thead>\n",
       "    <tr style=\"text-align: right;\">\n",
       "      <th>KMeans_Cluster</th>\n",
       "      <th>0</th>\n",
       "      <th>1</th>\n",
       "      <th>2</th>\n",
       "    </tr>\n",
       "    <tr>\n",
       "      <th>RFM_Segment</th>\n",
       "      <th></th>\n",
       "      <th></th>\n",
       "      <th></th>\n",
       "    </tr>\n",
       "  </thead>\n",
       "  <tbody>\n",
       "    <tr>\n",
       "      <th>At Risk</th>\n",
       "      <td>285</td>\n",
       "      <td>27</td>\n",
       "      <td>246</td>\n",
       "    </tr>\n",
       "    <tr>\n",
       "      <th>Cannot Lose Them</th>\n",
       "      <td>211</td>\n",
       "      <td>296</td>\n",
       "      <td>0</td>\n",
       "    </tr>\n",
       "    <tr>\n",
       "      <th>Champions</th>\n",
       "      <td>0</td>\n",
       "      <td>0</td>\n",
       "      <td>256</td>\n",
       "    </tr>\n",
       "    <tr>\n",
       "      <th>Lost Customers</th>\n",
       "      <td>250</td>\n",
       "      <td>80</td>\n",
       "      <td>165</td>\n",
       "    </tr>\n",
       "    <tr>\n",
       "      <th>Loyal Customers</th>\n",
       "      <td>0</td>\n",
       "      <td>152</td>\n",
       "      <td>446</td>\n",
       "    </tr>\n",
       "    <tr>\n",
       "      <th>New Customers</th>\n",
       "      <td>0</td>\n",
       "      <td>331</td>\n",
       "      <td>294</td>\n",
       "    </tr>\n",
       "    <tr>\n",
       "      <th>Others</th>\n",
       "      <td>0</td>\n",
       "      <td>672</td>\n",
       "      <td>0</td>\n",
       "    </tr>\n",
       "    <tr>\n",
       "      <th>Potential Loyalists</th>\n",
       "      <td>0</td>\n",
       "      <td>29</td>\n",
       "      <td>160</td>\n",
       "    </tr>\n",
       "  </tbody>\n",
       "</table>\n",
       "</div>"
      ],
      "text/plain": [
       "KMeans_Cluster         0    1    2\n",
       "RFM_Segment                       \n",
       "At Risk              285   27  246\n",
       "Cannot Lose Them     211  296    0\n",
       "Champions              0    0  256\n",
       "Lost Customers       250   80  165\n",
       "Loyal Customers        0  152  446\n",
       "New Customers          0  331  294\n",
       "Others                 0  672    0\n",
       "Potential Loyalists    0   29  160"
      ]
     },
     "metadata": {},
     "output_type": "display_data"
    },
    {
     "name": "stdout",
     "output_type": "stream",
     "text": [
      "\n",
      "🔄 K-Means vs Hierarchical Clusters:\n"
     ]
    },
    {
     "data": {
      "text/html": [
       "<div>\n",
       "<style scoped>\n",
       "    .dataframe tbody tr th:only-of-type {\n",
       "        vertical-align: middle;\n",
       "    }\n",
       "\n",
       "    .dataframe tbody tr th {\n",
       "        vertical-align: top;\n",
       "    }\n",
       "\n",
       "    .dataframe thead th {\n",
       "        text-align: right;\n",
       "    }\n",
       "</style>\n",
       "<table border=\"1\" class=\"dataframe\">\n",
       "  <thead>\n",
       "    <tr style=\"text-align: right;\">\n",
       "      <th>Hierarchical_Cluster</th>\n",
       "      <th>0</th>\n",
       "      <th>1</th>\n",
       "      <th>2</th>\n",
       "    </tr>\n",
       "    <tr>\n",
       "      <th>KMeans_Cluster</th>\n",
       "      <th></th>\n",
       "      <th></th>\n",
       "      <th></th>\n",
       "    </tr>\n",
       "  </thead>\n",
       "  <tbody>\n",
       "    <tr>\n",
       "      <th>0</th>\n",
       "      <td>746</td>\n",
       "      <td>0</td>\n",
       "      <td>0</td>\n",
       "    </tr>\n",
       "    <tr>\n",
       "      <th>1</th>\n",
       "      <td>240</td>\n",
       "      <td>1343</td>\n",
       "      <td>4</td>\n",
       "    </tr>\n",
       "    <tr>\n",
       "      <th>2</th>\n",
       "      <td>408</td>\n",
       "      <td>39</td>\n",
       "      <td>1120</td>\n",
       "    </tr>\n",
       "  </tbody>\n",
       "</table>\n",
       "</div>"
      ],
      "text/plain": [
       "Hierarchical_Cluster    0     1     2\n",
       "KMeans_Cluster                       \n",
       "0                     746     0     0\n",
       "1                     240  1343     4\n",
       "2                     408    39  1120"
      ]
     },
     "metadata": {},
     "output_type": "display_data"
    }
   ],
   "source": [
    "# Compare different segmentation methods\n",
    "def compare_segmentation_methods(df):\n",
    "    \"\"\"Compare RFM, K-means, and Hierarchical clustering results\"\"\"\n",
    "    \n",
    "    comparison_results = {\n",
    "        'Method': ['RFM Segments', 'K-Means', 'Hierarchical'],\n",
    "        'Number of Segments': [df['RFM_Segment'].nunique(), \n",
    "                              df['KMeans_Cluster'].nunique(), \n",
    "                              df['Hierarchical_Cluster'].nunique()],\n",
    "        'Silhouette Score': []\n",
    "    }\n",
    "    \n",
    "    # Calculate silhouette scores\n",
    "    methods_data = {\n",
    "        'RFM': df['RFM_Segment'].astype('category').cat.codes,\n",
    "        'KMeans': df['KMeans_Cluster'],\n",
    "        'Hierarchical': df['Hierarchical_Cluster']\n",
    "    }\n",
    "    \n",
    "    for method, labels in methods_data.items():\n",
    "        try:\n",
    "            score = silhouette_score(scaled_data, labels)\n",
    "            comparison_results['Silhouette Score'].append(score)\n",
    "        except:\n",
    "            comparison_results['Silhouette Score'].append(np.nan)\n",
    "    \n",
    "    comparison_df = pd.DataFrame(comparison_results)\n",
    "    return comparison_df\n",
    "\n",
    "# Compare methods\n",
    "comparison = compare_segmentation_methods(rfm_clustered)\n",
    "print(\"🔍 SEGMENTATION METHODS COMPARISON:\")\n",
    "display(comparison)\n",
    "\n",
    "# Cross-tabulation between methods\n",
    "print(\"\\n🔄 RFM vs K-Means Segments:\")\n",
    "rfm_kmeans_crosstab = pd.crosstab(rfm_clustered['RFM_Segment'], rfm_clustered['KMeans_Cluster'])\n",
    "display(rfm_kmeans_crosstab)\n",
    "\n",
    "print(\"\\n🔄 K-Means vs Hierarchical Clusters:\")\n",
    "kmeans_hierarchical_crosstab = pd.crosstab(rfm_clustered['KMeans_Cluster'], rfm_clustered['Hierarchical_Cluster'])\n",
    "display(kmeans_hierarchical_crosstab)"
   ]
  },
  {
   "cell_type": "code",
   "execution_count": 12,
   "metadata": {},
   "outputs": [
    {
     "data": {
      "application/vnd.plotly.v1+json": {
       "config": {
        "plotlyServerURL": "https://plot.ly"
       },
       "data": [
        {
         "mode": "markers",
         "name": "Lost Customers",
         "scene": "scene",
         "showlegend": false,
         "type": "scatter3d",
         "x": {
          "bdata": "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",
          "dtype": "f8"
         },
         "y": {
          "bdata": "AQEBAQEBAQEBAQEBAQEBAQEBAQEBAQEBAQEBAQEBAQEBAQEBAQEBAQEBAQEBAQEBAQEBAQEBAQEBAQEBAQEBAQEBAQEBAQEBAQEBAQEBAQEBAQEBAQEBAQEBAQEBAQEBAQEBAQEBAQEBAQEBAQEBAQEBAQEBAQEBAQEBAQEBAQEBAQEBAQEBAQEBAQEBAQEBAQEBAQEBAQEBAQEBAQEBAQEBAQEBAQEBAQEBAQEBAQEBAQEBAQEBAQEBAQEBAQEBAQEBAQEBAQEBAQEBAQEBAQEBAQEBAQEBAQEBAQEBAQEBAQEBAQEBAQEBAQEBAQEBAQEBAQEBAQEBAQEBAQEBAQEBAQEBAQEBAQEBAQEBAQEBAQEBAQEBAQEBAQEBAQEBAQEBAQEBAQEBAQEBAQEBAQEBAQEBAQEBAQEBAQEBAQEBAQEBAQEBAQEBAQEBAQEBAQEBAQEBAQEBAQEBAQEBAQEBAQEBAQEBAQEBAQEBAQEBAQEBAQEBAQEBAQEBAQEBAQEBAQEBAQEBAQEBAQEBAQEBAQEBAQEBAQEBAQEBAQEBAQEBAQEBAQEBAQEBAQEBAQEBAQEBAQEBAQEBAQEBAQEBAQEBAQEBAQEBAQEBAQEBAQEBAQEBAQEBAQEBAQEBAQEBAQEBAQEBAQEBAQEB",
          "dtype": "i1"
         },
         "z": {
          "bdata": "NUBJMWE1USQzPl4fQyZkNRU2NxRANk8lRE9TLh1VVSs1YCA1UzBjXFUYYBpLQV4tVChDOkFeVl8wK18eYFVNREkxUCMjUSsfYCFeUkxkXhZAFlRdPS1YXhZaWSJCGSlJKh45TS5OO0s2GiFVHUVeHidVJ0o1YlQxIFVZGEgkX1IzYlYURylXQCpQGUBYTj5FTV1dUkFYQltONx1jWDdJNigXR14oVjQuMlFFFB0VZFtBUVE0JipYSSxFPkQeFj8UUDFBQzE2KVgoF1RMPDEWQDJAPk5eOzkpXVhPVilOFEYnI0U/LiAZNiFVIllPT1VaRB4UWE4ZNh8lNERTUzU8Pl8kUkdbRDQpT1pXWi8mWkY/Fj1hGTlFOhgfVC1HX0hVYzFjMDYuN1lgUVRbXlBZWFBJPGRURTZNQVlMPVtjYkQ4OE5YWVtaSmM1Y0g/N0NCQ1paYk5QYD9jUFs8O0Q+VUU1X0dCVFpZNFBMQEZAUWBIYVVHPUlTU2BhQlQ6PjpJYlE1TDZCVlJcU1teRExRU0lAWTg3PVJkPl40T0BFRTc0T0lEXE1PTFY4T2JQSURhYk5dVTY7V0tKPj88VThbNkdTWj9BNzpASDo7TzhkWlhAXE85WkdHP0g9QzQ2TFVCVlRaSUlITEs7WV9NWTle",
          "dtype": "i1"
         }
        },
        {
         "mode": "markers",
         "name": "Potential Loyalists",
         "scene": "scene",
         "showlegend": false,
         "type": "scatter3d",
         "x": {
          "bdata": "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",
          "dtype": "f8"
         },
         "y": {
          "bdata": "AQEBAQEBAQEBAQEBAQEBAQEBAQEBAQEBAQEBAQEBAQEBAQEBAQEBAQEBAQEBAQEBAQEBAQEBAQEBAQEBAQEBAQEBAQEBAQEBAQEBAQEBAQEBAQEBAQEBAQEBAQEBAQEBAQEBAQEBAQEBAQEBAQEBAQEBAQEBAQEBAQEBAQEBAQEBAQEBAQEBAQEBAQEBAQEBAQEBAQEBAQEBAQEBAQEBAQEBAQEBAQEBAQEBAQEBAQEBAQEBAQEBAQEBAQEB",
          "dtype": "i1"
         },
         "z": {
          "bdata": "WlVIPExFXltXPkxVVlk6QFo3YkNBPU5JN1s5SlpVNVY1X0U9UF87NFJGQFE7O1pHOGBYU0pCSls7QFlDSjhjSEJYRGM+Ylo8QURQTV48U01cOzldRkRPN1lWQjxaNU9OOEJcR181VVM4RFpXPVY8TEJBS0ZjQFJOYUc+YURaT15GTF9ZSk9gPktRRztVUGBNQVo1Wlk3YztKYVBjY1dAUzhEXUQ9PD84TUlhWWE2VjhVQ0tLNTxhX11KSV1S",
          "dtype": "i1"
         }
        },
        {
         "mode": "markers",
         "name": "New Customers",
         "scene": "scene",
         "showlegend": false,
         "type": "scatter3d",
         "x": {
          "bdata": "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",
          "dtype": "f8"
         },
         "y": {
          "bdata": "AQEBAQEBAQEBAQEBAQEBAQEBAQEBAQEBAQEBAQEBAQEBAQEBAQEBAQEBAQEBAQEBAQEBAQEBAQEBAQEBAQEBAQEBAQEBAQEBAQEBAQEBAQEBAQEBAQEBAQEBAQEBAQEBAQEBAQEBAQEBAQEBAQEBAQEBAQEBAQEBAQEBAQEBAQEBAQEBAQEBAQEBAQEBAQEBAQEBAQEBAQEBAQEBAQEBAQEBAQEBAQEBAQEBAQEBAQEBAQEBAQEBAQEBAQEBAQEBAQEBAQEBAQEBAQEBAQEBAQEBAQEBAQEBAQEBAQEBAQEBAQEBAQEBAQEBAQEBAQEBAQEBAQEBAQEBAQEBAQEBAQEBAQEBAQEBAQEBAQEBAQEBAQEBAQEBAQEBAQEBAQEBAQEBAQEBAQEBAQEBAQEBAQEBAQEBAQEBAQEBAQEBAQEBAQEBAQEBAQEBAQEBAQEBAQEBAQEBAQEBAQEBAQEBAQEBAQEBAQEBAQEBAQEBAQEBAQEBAQEBAQEBAQEBAQEBAQEBAQEBAQEBAQEBAQEBAQEBAQEBAQEBAQEBAQEBAQEBAQEBAQEBAQEBAQEBAQEBAQEBAQEBAQEBAQEBAQEBAQEBAQEBAQEBAQEBAQEBAQEBAQEBAQEBAQEBAQEBAQEBAQEBAQEBAQEBAQEBAQEBAQEBAQEBAQEBAQEBAQEBAQEBAQEBAQEBAQEBAQEBAQEBAQEBAQEBAQEBAQEBAQEBAQEBAQEBAQEBAQEBAQEBAQEBAQEBAQEBAQEBAQEBAQEBAQEBAQEBAQEBAQEBAQEBAQEBAQEBAQEBAQEBAQEBAQEBAQEBAQEBAQEBAQEBAQEBAQ==",
          "dtype": "i1"
         },
         "z": {
          "bdata": "FCIiRCZaJVgWGTgwT1shRS0nKx47SV5GMBo6SGAoXylkSUNiQ1kjQ082XyBMSFY2WSBRHRwuTC8aF0o8HxseGUMuVlEgODVGWC09JiZkYVwyQDBEKVNPWBtTJ0QzLVhkKmQvMxRKOSosNEUgHi0zJT5jFCo8TRZDSk4pKh8uVU8hLyQnO0RMSlgkKCgiVRsgIBlMISdHVlJBQyMtXUxRGldbTFwcMhdSFx8tYWBdWDMuP0xaOFQqST9VKjAkPydOLSgUVy4pZFQnJTRYJUgtVCVPIEovTT5jOisyIWNMYUQ0WmQXVh1CGiY6WhdIKzNkSDleP0ZXLF4zPBQYXSggGzskUGJMVSkeQko7HSY7FV8VQyo/LkcyT1tRHRY+OSBOHCQwRU8nSic2KRggMlsuTWREFlQ8IDJeGiw5QUg+VCwyGk5SJykeOCM+JzteXjM+OUw/GEhJVyk7UyonMzYvTVRAPEUdWzpELGMZSjgvQxYiUTw/TiVeJBhUL1QYLCM/YSYYICRLFzBAMzcfPUsUVB9aLlMeGSVhGRZNITUkFyJLFGBeXBw7IR4+FTpQMiIuYhxMFxw+PUMZOiRDFB5BU1skJ1kmJCk1QjQ4YEAwPjcVFiFgFUQdYS1GX1hcWV5aTlEgP1sXMxcfPCUyF0QwQ10dPkZcWDU5UV5jMRwjSkBRF2QZIE9DICtdVChBW0U0VkgbKzglXyRbPUIWRC5LRShLQ0A9MUAjYC4rIC1RFxxkPTpdZDNaGRsXYR48X1NMIzlkVV8xXEgbYjggF2Q9OCxiIEU3UBQeNh5bF0QpQjtYH0s/U0JKQTcsKzMgNzEtSw==",
          "dtype": "i1"
         }
        },
        {
         "mode": "markers",
         "name": "Others",
         "scene": "scene",
         "showlegend": false,
         "type": "scatter3d",
         "x": {
          "bdata": "hlgdY4FlN0C5wsgdDGc4QP4vxqWkijdA6Fnj27xiM0BJJIEmQ9UxQLZKO726mTRAu5BNueTLNUBqHlaxItwuQCiZf8q2tjRAUN50peAQMUAH1uWHJKMyQPQsBLi0yjNAQoeTGyFvNEDYlXTYui85QKYDvYQyfTRAc9BqS29aNEBwDXG5IBIwQPt8S4IiaDlALpIR0Z5ZL0C0sDDjSAU7QPCsVyo2bjVA3U0ucaa/NkANwumjQzc3QKOlgpPgQTNADS7nQJEnMUDv4DtdS0wvQN0qcBZNSDhAX8RmrTgiN0CUcCv69Yw3QGATfRs0IjdAcpnkboTyOkBMTc8JH4guQNW2NdObsThAPnMYGNV4NUBsTZVJUnA0QNiUwAoCMzBAugxLVqJhOUCoKtVSFVMyQLuJcpkG1TNA5aDtJAZxOUCpP7uJgL8yQJ3kngIgVDRAtNBRN9NbOkBPUSD8Bcw3QOujxg8uvC9AcKCWnQbTNECM/OHuCsExQEg2MzP95zZA+X1ibfpHMkAvAETTY+80QGxLia1NgTpAfCTeMdC+NUB4GCByPOwtQDz9y7WNhTZA+2UO6L5RNUBwKjsyU1M6QOzZJKDoCDdAlZ9TSVm7NkAyduWjtEE6QA9eoDH+8jlA5yqoZcCHMUDJDKEf6x8xQMet1oR3pjdA0fkHyGaFOkB32h/z4KM1QHkJdu+9BztARMteaWAAOkCZWnPjW64wQJeX8c4KVzhAu2nhkNsaOEAXk/zuxZY3QF/fMB6RpzJAYf4ey6GiMUD5bfW3AkkzQGmk/e+ydS5AYmPaVY3vOUDETQPF3Oo6QGV8MttHfDVAvB/JA1Z3OEDB9PSB+SowQCKD2C51rS1APVbXQKi4OkD6g7atA60wQNxtk+jaNjJAbzdG+NAtLkBc7M8mO14zQBdQeigbJDRAUoQXJvKCNkCQRaIwU7IxQE9l1iHRdjdAH3UWfev/OECIPC2j6so1QO1f9QGzlTlAw4GNXbc6OkCljSdDs8E2QMzDI45ocjdAvEYLrmWjN0DvM8mrCcM4QEOEUtcY7jdA7Y0MVyBgL0DluUjpRvkxQE3fgY2pUC5ACUbVtbeCNEBqROL315YzQBiWo0OKuDFAeL3VtzcIMUBHCFi6d/00QCcBLDT25zJAiXicAO4MNEBnkFgEl0IvQM6wG+9GdjZA+w1VTEMxMUCnhkABlXI5QDnjIVOhVzJAKU7TTwzWNEAJ+L8qAaowQByxNV0o4TZA/cv3UD8rM0Bia+xLeMIzQI4NuwcACi9AP8Ia2MBPNkAkNNmbZG4xQJW9S0816DZABGO0gxCmOkAWd5+Vfs03QKTSA49O/TdA46EtWb/lN0Cz8rpryDoyQFEeA1WH4zdAgCJbWF7dMUDZInT7e2Y4QGu3X8B+sjJAP67rfqZsLkCeHah6/WQwQCqDQDSI+i5ANEq275tsOUC6XF1PpZQ5QIzAxUbkiDBAXHhjQXdMOEAc0IyHZ+I3QNJpeS6CcjRA7Q+WdsgkNUBDKbuFFAcAQKA058SqezdA6SypF5/bGkCmYUFnOaj6P1OOKuInVShASuk4ehbHMEAso3s5bCPjP97k3w7DLsI/KssGGbXFOEBZ3P9GOT83QMXtnDcbnzVAWcAf6Kk4MEDB4yCMZWwoQDJNlzX0uw1Apr8GULqoNUDlHTYzXUgyQIQD8JYgVypAn2SwM4ofFEB8v2ejlYMlQDJgj2vToxVAAdWNWOljL0CKMXu5TFAWQL/9dx3XzDdAwp0Zn6hLOUCn80cKH74nQEyrSZxuUgxAH0UE/ZR01z/Nc3Wi/ygSQNJfdM3oaQVA1leTS1yWBkC0i1Q+DP3lP3pL1rTVrhBAndY/I2ZtKED21l0EFWYiQDx3CZQQ4B1Amj03BZsaKkB0e7DthNohQFi7me7aLixAvZEcldy5GkB6rKRQwvkuQAbNLkw5UgNAwtv73qPTNkCsNMllWFofQMpZzWcdESZAvO5LFEX2C0DwW4iZenizP+5UDC/rSh5AKsItT51WOUAdNZw8QmcEQMxbjESEDjJAoyuAqxklIEANR91IpMT9P+Th4OFDs/8/FLu2tGym/z8fkGsGpaI2QLd7r0zkNSRAI1Qcefg/B0CkDiA4Dl82QI8c2z2W6hBAlUN41sFI/z/h+OHb6t0jQNt9C+fWi/Q/xaTc3F4+IkCyufDgHoMlQG5Kk/zCwyFAoEz8M+bE5z9SL7MlnbMsQBo6hZozuDBAXwW8VdEQO0BYJPw8XTImQIgQE/0NMhhAiflHJGEdNkCg/nM+Z1glQGZ8PZH4+QFAQg3ll7U22T+nPhfUDhoZQCoKjOtIjQFAYLULWh40IEDA+8+d/HomQKHW2Sx4shJA+Rwx/y0jJkCfkFB3HJEQQLGGjfYBKsU/MBf/J/IQNkDfgonjjycpQBkUG9usVBBAyIhcvGmoMEDpFtGzN6k5QFUG1TNg3h5AgydZrpCnLkCVEXHBJtw6QNCUVR+n7DBAFTWy7wUbMUBiv/h2v0IRQBZwqPLCli1AHBycxDG/M0Der7lJjiQgQIbtqKQY1iRAjCuchw49xT/Jm4tupoURQEsa+fxIOB9A3Emd34mLNEB6kpbM7OwiQHpGBAGY4CRAqI7/i6JBNUBAbid7y68jQPJsqCFh3h5AfpDCtehRNUBHqbo5PhoqQMQdcSMIjDJAO2JFNzhFJUCIE0fN/qYqQIPFMnfBejpABrTnYhXYFUDblUNvWDEhQGU1hWDyiBxA8XSU22Au2j8aBQTGMzc5QKjt3vZhjiZAgms2XKKyMkCiDyRwFSYoQFiTygAuWS5A34Sn9jplKED98Wlad3EkQFjILP6oWjpAhqBE85+9HEAkM15WBQHkP9M5H8FbAhNAfbpqsYB89j9oEM19FxH8P1WqAMYdJvw/JU7CbMT9HEBEVbwU70vnP2Xvnp7NfCBA5v15VnrfK0BzNgJp0y0iQFVYrazOYhFAtSXOU3eQJkAeZFfTswc5QDzsJsdgezJAyTBXxub3N0CltqRGH5cUQMf75SdcvBFA/VuqZCk/I0C8Wd7w9v8KQJJB/9FafRNAdI/TQq6XHECGHw4GitUlQKROt3ImPRVAuyE8AueQGEB+NMAuF3Y1QP2mDoKaVy1AuUoOmGtFL0Dg5M6zu8EzQD27cSfbdM4/t5eH//U3HkCaQjGt4WMyQPg/DNd1jjNAS41BoblPIUAcc2Oqlp0kQMAtx9zw6jFAhzyCe5Op4D/lsfbSfJ8PQJr6SsQTbytAesk6oBsGGkCO5Cgrk7QUQAQYQUy3FxRA5HJIfefXxD/Mrb+Z6lYTQJ26PWJKCTtA6ouSdD0HDkC0Y7K57UUzQB2l6LetaTBAB03mYC/OJ0CX9hdT/LsPQJ+ocSlViDVA0ieyBqzGOECnHHxLIHg0QBd3dmBj9jlAKP8ltYKgCECte7y5Ud84QBqtqTXYW/k/JsudsIO+B0D6eotutREtQNbEL2mfVSFASihQskLHMECvvU8iyYIwQE2711/U9jdA97ckqlU2N0AdiAUqOwYUQL9GobDITTVAUbMMTHhfO0ByEPaZgYTEP2IkatqExzNA+zHBjIm7N0DqR3sVKh4qQPuE4yTaHhRAFI41T2ikL0DMsdV/9vyAPz1iJMIHzhtA8mYxdkzcIkAKVbdfGcrYP0opHvXcgyJABykLrR9PGUBzmRVZtAEWQELrmrtyGABAEI8rGD9COEDgiMTbjFouQGScpsFOgBRAbr6+d1icGUD7LTvqNg8mQNhKt6X6gzlAwM8A0czzNkCSu5vsiaoVQCDAM6GZ3yNARGn4UVPy9D+9EH/Vot0yQMFp7dVoeSVAOneN9oleB0B4y7RLP9EtQH96iZaoei1AuE043Qo5O0CqkItoPjwnQGsR0CzWMixAVLc+82FzIkCjcodZiGIlQOINYW7HCztAFjbR6C5tKUB3ANMNwC4cQDF2c3R/AxJAuZi3WaMXF0BLae71CBs4QEipZ8eqsDRAqtWMp2QZ8D8kYm2AnVwsQPlLUWOCIxpAaP0++Wd/MEAGgxNxjHccQI79fpqVMjJAPQemCtgpLUBqJBg901wtQGrSyuIGLwlAaCDlUbncDUB24alzXCIiQLYTjmqm2CBAUl6oiQI4JUCAEnMOTCglQFGtk/HikhVAGMKLVVDtIUBIV7+0B4cGQLOfoP7bwTRA/RMXO+GPLEBjYWaciC83QFfZMVTjhBBA/YELHBqQC0Du3NSvXisAQCahUbwdzhhAQWAphe5C+D/AajK/UKIJQHsRSSDpHfg/nCNPytU2A0Bewz6PsbwuQD8+u5uWsA1APpecUqXSEUArYXvGIdU0QEcMxQuQQQpAJp8eyjp7KUBdXpTPNhwyQKDbcK7d6zJA4KbPRg5pMUBZufNElVQhQA5xXwx14yVAsiTPwxwAIEB8DGC4sDwpQKDy9UAFtLo/1De6loF0MEB5iid6hgwSQK4y5eXHQDBAJRdjrkaPCEAihHXPByEyQKQmO6rT9idANDs2lkiw/z/FvtzDMhM0QC4MFFexxR1ANltaRmIaIECXQOCsOMUgQLhh3UrgWDpAtPmLLZD+I0BaqS9Cg8EQQAmlSlD8Ay5AeiXMBSHEOEBlXFLiT7wlQHEgqxED3+Q/q4GSeB6sHEBlWmh5IxMrQKeZnHyNkTNA2IemRiOJOUDzkp4LHDw0QKtA/d9IgSpAIs9JnZu6LED0DEu5Gn/uP4xpjcP1HDJAlvGugnv+H0AhQ0Akrb04QGRAbGDPLvE/Gi0STarJA0DH+JlotA0jQB6uABIDqB9AAp9ZBG4WM0B6oMXTYvQ2QDe4EVe5FR5A1A8EWhBJNUBO9JV1nv/7P7yCrXn+qidA0rDdRP2wEkAE/zJ3j+A2QAbfSeRp/xFAaSseLM4+L0BCJxwu6wAwQICRT5CVKiRAMaa26CVzNkD4fx8TbhU5QNobXsZznCJA5jolN5BcH0DIjD0I4rEgQP9Rjgbs8TNAjj9VSL63OECO0y6RyL0bQHkanHGdCR9AR0ZSchFNIkCw0T/FSFv4PyNpKLu8PiJAaFi073313j8enUQgISUUQN861F8nOS1AkBWSJx8BKkAGQm8ZfeL2P/kP1d/S7ChAQSFRk5pbOUBPIlocKsvlP3Q/Kl3uKTtAwOp0T+K1JkA/KdLuPZPpP4XGbmm81CdAnpKv2FDjIkD1628+SbAMQOiI+FrYnNk/2bULbywLOUDPUjKht1YzQP3W7gO0UiVAgRmVTWr2MUDS84qnhbb/Pzl0UKMYiBpAMVmMzrf0DECJvuNCpY0BQJlJCqdKRtY/42un7wzeGkCKj2qPuUU2QGNuaQfjRTRAV5VFxUqjHkBNhh4S4nATQJZJ69tFIQlAMuqbzBpcHEAVLS650bEkQNxCJ4q1lzpAqml9u22yLEC8TYtNVJIfQG4Z5LyKoCxAHS0FBjJkBUBYC+aPrlr7P9mdhDLIijhA8rRuzJzjMkAReyU8OQUSQCLI1ShQTxxAKLstXXOuBEDWa+rZQUzzP1TTH3yfQytAUrlpLeQFL0BqSBDI8hcYQHRwq3/Jiy5A3kyVWsESIEBb3dgNbGIwQPTSOvEXNRFAHIWMcoQj8j88cpkuq5w5QGaBM16/YyhAe0vGSMNwJUBDELgbzqMhQMUhporv7zBArzSD7TtBMECmilN3dyg1QL9BwrKNDB1Ax9CduXiAN0BQiWiQ6IIyQKUTxc9Ncy5A3M3lUnnFOkD+IReRnPM2QPqVBsYhFDNAFasKoNIeNkCnjIx5VHwqQCzZTNG8KCVAggc78Jn0LkAvJUJK/lQsQPgaQVX46yFAhe6+2wKzIkAgmW1cRXAoQOyWU+AY7hpAHzNKq2wnO0CENADpF3YhQFgTYv4IRPQ/S2kZSsGgLUATjnaW40wPQFDr3KXXqBNA/UCzm7NmJUDvfSArqBUeQPRJT5+nXAtAZWn4a7VnKkB9SungsnImQGxAN8ZE1yJAcDCKSu+AM0BzuysUd1IgQJNj+5uwizVAlIQyZOryH0DNj8dP9p4sQNl7AGxQCSZAhTX/7w6UKEBYgyWfbzkuQKk3CG5dajtAsogkLP3aM0BIQ8+aekwWQADFQud6TztAjL3ysbjoIkDPmAoRD1sUQMzFRE5jMBdAXhssOWcVFkC9HY+KE04SQPn9vYeYMwdAcSrcpIF0J0C7ljChS4IkQMYgZ0udXztA8nEv+gAcNUBKc/I+2bozQKqM4u4KyypA/1T0hqcsIkAG5x4eHVM5QCZKm2opww1AjvRlgubc+T88Hn6+FvMzQNAHpsUKtTBAbY3KGfo1MkBvkA+SbSHiP8kFS5WqSghAhwvbLpUbJEABxPTFvzY2QE8ZOao8UjVAblg/hCZYM0Apnc6DHT8RQFcM+p5vYSlAjWg0c9epMUCOINoHMW4lQIwPZrF1NC9AuZM7yR+oHEBWeFEXS7scQHH3dQ6zbQZAZapSS6aoL0Bq/+w4NoEuQDfVwSUJ/TBA445y8WiwMkAuAjp34a7eP1RGaTX1Ass/bv5iQcQi5j8vFFgEijc5QGXWYsIQDCdAyjbZo50fOEDKOk1O570lQG8E9uPiFzBAEq0qDgS+9D/8ls43TWkhQEHyyPJtbjtAWH0GU5KHKUB30sPRH8spQOcwsCsgRDpAnDISQSYAH0DzzGGhz0spQBTXJ4lDFSNAvPHGr/6GMEAIa4WrrzwoQC+mzm086iBA56MunCY3K0CkYSXMhXTyP5c760Ua3SdA1MLGeeL/NUCU9tcjryQiQOcoGzsUxyJAp8MaQiwCK0DvuhIcr9clQMDLbSw0cStAccNFJeU8HUCWoJZXUmYxQID0z74vjCtASM0Fg2ePLEBHDzBkj0kyQIOLHMvhZzpAOvIl7bW5NEDP9Y7HlMXwP67nFZtDvxlAnqA+sAf+H0BiN85cPP4AQPHd/kzapDdAFCNE7v+0JECrOmatapIpQC7K5bNJjCRA5hbwfZpTKEAmjFLPNToyQOdzbjRVSy9AFdTV/n5jNEDw3FkO3/wkQIDL86rogOM/VoVq6YlQJ0DWLjktcYMOQHu2D3jyVyBAEwHGcRNjD0DKZZn76WUvQBxlEtVE8DVAG4YRzCA4OUCnylMAMt80QMjzLMFIUhlAM5q5fN2LMkCY16y1sUQ1QAhEB9dddjdA",
          "dtype": "f8"
         },
         "y": {
          "bdata": "AQEBAQEBAQEBAQEBAQEBAQEBAQEBAQEBAQEBAQEBAQEBAQEBAQEBAQEBAQEBAQEBAQEBAQEBAQEBAQEBAQEBAQEBAQEBAQEBAQEBAQEBAQEBAQEBAQEBAQEBAQEBAQEBAQEBAQEBAQEBAQEBAQEBAQEBAQEBAQEBAQEBAQEBAQEBAQEBAQEBAQEBAQEBAQEBAQEBAQEBAQEBAQEBAQEBAQEBAQEBAQEBAQEBAQEBAQEBAQEBAQEBAQEBAQEBAQEBAQEBAQEBAQEBAQEBAQEBAQEBAQEBAQEBAQEBAQEBAQEBAQEBAQEBAQEBAQEBAQEBAQEBAQEBAQEBAQEBAQEBAQEBAQEBAQEBAQEBAQEBAQEBAQEBAQEBAQEBAQEBAQEBAQEBAQEBAQEBAQEBAQEBAQEBAQEBAQEBAQEBAQEBAQEBAQEBAQEBAQEBAQEBAQEBAQEBAQEBAQEBAQEBAQEBAQEBAQEBAQEBAQEBAQEBAQEBAQEBAQEBAQEBAQEBAQEBAQEBAQEBAQEBAQEBAQEBAQEBAQEBAQEBAQEBAQEBAQEBAQEBAQEBAQEBAQEBAQEBAQEBAQEBAQEBAQEBAQEBAQEBAQEBAQEBAQEBAQEBAQEBAQEBAQEBAQEBAQEBAQEBAQEBAQEBAQEBAQEBAQEBAQEBAQEBAQEBAQEBAQEBAQEBAQEBAQEBAQEBAQEBAQEBAQEBAQEBAQEBAQEBAQEBAQEBAQEBAQEBAQEBAQEBAQEBAQEBAQEBAQEBAQEBAQEBAQEBAQEBAQEBAQEBAQEBAQEBAQEBAQEBAQEBAQEBAQEBAQEBAQEBAQEBAQEBAQEBAQEBAQEBAQEBAQEBAQEBAQEBAQEBAQEBAQEBAQEBAQEBAQEBAQEBAQEBAQEBAQEB",
          "dtype": "i1"
         },
         "z": {
          "bdata": "HzMwFCUcGBwVJCEcLygkJx0rGyodHRkmHBooIRoaLB0WGDIyHiczHSodLjMaHy0eGCcrHR8YMzAbHTAlJRshKhcaIRkjHTInMyUjFB0mLRgcHTAaIzMqGDMoKh4eMyQvGSQhHRcqMRUqFh0YMh0gFR8yFSooHx4YKCYmGSQyIxsYISwaFyEeIxUuGBovLCEhKRwiKRgeMBUaHykpLysgLSMVMBwXGDMzICQjGSQlLRYoIRYsJRopFB0WLzInHDMcMBUWMiIzGxcoHRQsLSIvLDEfHSIpKBQjMCouMiQdIxokFSwsISQdKR4sHhQWIx4mMiAdISorFxwxICUtHjMdHxQsMRcdGxkwFRovIRczJB4zISAwLiUyIiovKx8XGRwsJC0vIikqJxcrLRUoMDAUMDElIiAXHS8zGSQzJi4kGxkyJDEfIhUlJR8WGhgZFRsmLR4iFCccHyImHxwlIDIuGScUIRohJiIYLiotLCQlFSsVIi8kMCEmIS8nIBYVKyYZGyooMBQdFyQZISwoGjMoIhUjKxQkLywcJRceGSMgGSUqKDMWHCAhHRkZFykZGCcsGCMqFBsrJTIvGhUZMBwgJisxIisdMDIrICErJxsgJS0YMh8WGyInLiwcHCstMCcvJCAkJBQVHS0aKSwaHywwJhYWGi4fKhQyJSEfMiYtIBQeFRYZKS4qJSgYJiUYHR4iKB0gFB8oMi0tFDIYFyIXKRsgIx8wITEtHBohHxkgGCsmIh4aIyYxLBwUJSUXKi0qJRUYGxwmJjAjMCoWLjImFC0VHBwfIh8XGhkkJhgWHCkiKR0bFyApFiYULB8tICAdGyctMi0XFSIuMCsoHyIyHh8XHxwZFSMqLRQaGhwhHjApKiMfJhkdKiIjFSoUGSYc",
          "dtype": "i1"
         }
        },
        {
         "mode": "markers",
         "name": "Cannot Lose Them",
         "scene": "scene",
         "showlegend": false,
         "type": "scatter3d",
         "x": {
          "bdata": "TbATKnn0SEBvSBcCiThXQJ1GgaoFDFtAj68eRohUUEAeRQYkKgxIQCYZSdqIkz5AsEmWfNUnQEByjxS694tNQKAeyHpzzVZAYGAyHo30SEC/mCWjGlpIQNie2t7S+1tAnlywndZdP0CAtgXoP6NDQJ61azBYhEVA/Sg/oMdMUEBmSQ2FQgFCQIjsdqAQwVFAOvdKyHDoS0DF/RiXLRg9QJvautCFQ0RAthJ/L1IbZkBM2ZcrsGNQQENwUFTkhz9AkqKnuRjpQkBBFXy3nbE9QK2QyJXQr1BA8OBb+SmmRkDE29ZIM7NQQIT7f+i3QUBAPx/YspTiREATeexErUJNQNntm8LJBUdAusTT7sjaPkARWNl9V1VFQFcaGEOFUT5AxlMBsRVbUkCfaS69js1SQKymZyjvx0BAJgvsfZF/SkBLqcLWKZVBQDDl0isHZ0FAXo/8Vqf7QUACrc84F0diQEvFPH43SkJAZI05P51BSEDeixwcraVIQNh1l5ajqUZAygIHSp+hSEDTRidEPDhOQOtBZpXi7EBAkWVydmhPR0AHNj20wnhRQGvZ4vgSkkJAIh8hGu3NQUDfBVN5q5FRQHJ7fcH0VVJAh3toF79iSUCokeIIr7ZBQDhKhjgBpEJAAqgBnY/PRECZ/zTFzgxIQD3oCbzK/UpAwpaz/OkMR0CMas4/DuVIQAQNk+3ai0xAdI0TmxvBV0AlUwataa49QHwPxIDRLURA/Y3IbmukQ0BAvASzNWxDQNA+4W+4o1ZA6Ro6++j6VECO3Y0Ma75UQORKvR62/U1Anro2UubZQ0B/GhUfVkdCQCiQGdMu8ENAhs/yraIMRkB76gthYJpXQLfbRRrlFk5Ak2WIjTeUWEA/hlIYIE9BQBy0UcEoR05AIrZqs/h6O0Ao01+/T5pDQG3G0wUUTURAcpJJ2sZ7aEDSUu7qIEM9QLC4FqCZVEJAlf7VnpgSQUDr9MWBThhEQKbADnA/iUpAPCJBEotUXUA+yh3shJhIQGNol7veU0RASvRr8YQuQkCN5KuM6t9QQJMMyQESuUhAGH6lqW0EQUDWg+zt9BdGQIOJ0UWtmEZA8JJ6d44qZUAib8vh/PpKQPhUx5q14TtA8t012EnpUEBR96etLO5EQJiBo3hFiFJA3FUsJ3xsRECvazAY/LJLQIhRD56mekpAq6wGUjH5O0C3VZFouPxGQOWDdgxiW0tAXsqpFHpLQUAmtwb6IA9AQH7LQkX1mE5AtRAQ+aKhQkAX3GSs3LE7QOMtHzyOuURAZMjDZFNjT0CVm9YsywFFQAWBXZHOKUNAvCBxS18oQ0AoXYeSVRVNQHefY2XPojxAfoAyzlEjSEDShJY5m7NMQDpGYjg83z1An80COy8UQkB4pgnOkflQQM+u7/VvyFNAgaFeqIFpXkB1l23Fol5YQENJb32RTFBAcL9NOKoLUEDs8zLW3q49QDPyePkFjUtAcUBG4WM1RkAiLRoSptlAQFB0BvOPf09AxN9X0qrCQUDWRlNNsew9QKCFDzQXDlVAtsY9/IVIVUDWH9VEQYZDQGt0znWAJFVAw0tPzpVdUkAoNT/gMlxDQMxuDGjR2UVAKlpPt/TVQEAmfG9MZppCQEMqnL5fn05AFqzNLfM8PEC3QUvA8JlGQGics3E9+GFA8Dnxs4OkPUCuZG8GRBBUQFqdGSDC/kpAqvxbDbO/UUDU/lvDBdJcQDDuXgXdO0FASzA/lj2CO0DQrsQH4kpLQCUEThiHrDtAlovjuEF+UECLRkSf7upLQP7FiY8R8kZA7pz9x+GuTUA/4KRMVV0+QNB+ArM5BTxA6ZvfWLSIUEAvPwfZ5vtKQOaD2uELC09AFkxThOsVP0D426ua4m9SQL6+Dad00ldA0Klzq3maQUBfp/9itQRDQHyeZ/YmOUhAry59Jqz2RUBnugqzvhxTQBxQL7/UVkVA+NM2m0RlQUA4o8k8q30+QFq4UUvnbkpAcEZOo2GpSEB1yo8rMq07QPcV31eGkWVA/0k4BPwlTkB3sEqSCXNJQL7TL2NDrDxA8tRMYVbJO0BU/u6vZ6FIQFI+UlNpMz1AvTQTRlkNPEAS2lLu3pdIQPiy8vmTC0FAYGdIt5SxUUAlQR8lncxCQP8G3Z8cm0ZAaM+Y2Y7iTkCgmcCeAO1CQNkSD0grHT1AoJtI+9WRS0BnbUadj2dDQCHBO8PxE09At9WrcN+gVkBe72bGP+c7QIxdPfNwzUpA4tcjsg3qYUAq+/JeUkhKQFE4fI/6vlBAbvfWTXjDR0CDIUyNbl1bQOFtRLScuT1AnXQmj0PlRkDY57/0xdZEQBF5JXOADEhAmRbNc+ibSEBeRKBPxhVAQEpxmoMHXzxAvtMUwBjbO0Bv5Y59bDJYQDdUg+oIu15AUnHtpoaxQEASVthnNl1SQEh2yfAuJ0BAH0UpQIiiQECVW4SAMTlLQA37LVokPklAAH3U01z7QUAirDMhMslFQFmDMznms11Aotj5W9SbQkAseNwb/CJXQIQ3QUCMN1tAoEa7XXGOTkBWzOHxrj5gQB9PAEpaeVxAhF0Oq8n0TkCqwKwufq5MQH/pPiJ17EFAIFbwRIuuSkC5dM1GL2lVQGJ1AMUU7EZA5M8ZiM3PU0AcFRmPGQpFQKRpn/MBFERA/4kx6yeyQkDxS8pDNgg9QA9hcCANFUFAUFFtoQK6RkDAwJq0v5E+QOZVD94iu0lALe2DWENkVUDkQaoYhqA9QALj5SHY9ElAJF7NSjFORkAyD2BSI1o9QANvFZhs/0RAm5dCQ/tsWED8HsVhMtNQQEtjrHrI+l9Atbu5SXoBUEBqevsc+O5LQGFP4m2u1GpADIzgCNziSECr+5Pzq2JaQPsV1Y2gIEVAgqp9BRKsQkCNfRiD4S1IQI51bZGec1BA8Dx73W2KRkC0ECV25lhaQPaUI+tCp1BASFQ2XHY3ZkCeDsob+wFNQMJVFbPa50FAnmDGleUuUEAXbOWh+1thQEqrzxZAg1pAP8Jm+i5sTkBS8kq0A/48QFqk9W7chE9ArSlEVDICRUCAxUQlWpNDQHGfLqinF0JA6s27T6AUVED5KYhN/BBSQFJhQu9ixD1AmFNqa8UmRUCPfh4XD/JEQEclnWj7+UhASsmMbLWlR0A5XtfjdXg9QAwZJ2IzSVZAtWVsw0MMSkA7VudKynxCQBr0xUVkUklA8gEJgPS1RUCXH3/dOIk/QCLfbP2apU5AW5KHBcYyQUBVDO3L5v9AQDRwQEYyO0lABpFUjSyNQUCCnygVcpA9QLbBFpuaLzxAxmcup5nQWkBdzjCgROU+QOu4CfjvMV5A2N6mWK0WVEAwg4vmixxAQJmTRtwGODxA4gQQMiSZRUAgC4VgJCdQQF2ydEgQRWRADp1qj+l9O0BrWJhkl8xBQKKvu4xSw1lA10qb99+tQUDPoQGlZIA7QClQ3PM3/lJAXZqc65kjVUDLI7T+cuI7QAnD5y9oJ09A6O/JHYNQSEC5LRuMsGNIQFulCWItEUdAa4D2gm+LQECAxErLH2tRQIb3bNWhDUdANG3HTbZQQ0D5dxcje4dNQEdTCF1lKllAmz8P8+hrUkAf4f6BNB1BQGG4EjQwakhAesfFhW07VEAvz2AVo/1EQE8gGqNhg0ZA+OBwopFuQkBi4t++yuw9QPzuAsSWVEJA11Zh+zvUTEB07/6x+etLQI645JUvkVZAu9NnOr1rRECK5HvOrMxAQOceAmOuvD1ABJgejRiKTECg8a6aopZTQKyWTICC1UJAQopcWx7BVEAB2rNFO3s9QCrX5al3IUNAgbmdZFABR0CK4hK7A2BlQN1kRqDleEFA+sdl+Mf1QECvak50SoZDQKRkucbEZ09AIctn6oXORUBkg8MUDztHQD68bAffdztAVGhBahSRS0ATd78IW7dNQP9+RV9aWk1ASOe5TJNGVUALIW7+DbtEQIAbOyh1d0pAZmGvRX/IREC0j0HCeixSQDz0aS3+BjxAG3kX2TzrUkACgj2r/lVBQELborcoCGlAXPFdJnIxRUAxOYbzXJRPQMpKvTh2zFVATgciadaWV0DOx59rLjtGQPe2pNIq+U9ABlnfBBTfRkB+uAAxYp1nQKacrNQusEpA2Iw1YFquQEDuN6zPX/1LQI/k4n8pa0lACt+JQDZ1UkB3+8UIeKI7QC8uOObty0BApHdMApaHP0Ccx18EnqlLQCRxak0qgUVAKwhVp7HTREAcwCzUomNVQAKxS2axtFhAveLWIoiOTkD0wDecY2ZGQOQC16d6xUFAZ7juWvuPTUB1eBPIg9VaQEaMazTW1EZAh9Y3UfsJQ0CxtLoDWIxGQPQ99xNs5E5AZzhevQkzQECdxd7/3L1QQAxoEvmBYmJAz91ur4SZQ0CAXW40Mk9JQERh3mSsdDxAQvwIbjjGV0AYDJYq4C9UQK0KdIteclBA4zarTtYWQ0DQe/7qjgdCQJ5ejnxNPkRA+rAwsNhqRkD0WsR2q6U8QL26l2EaOERAzsnNPyI0W0ACijvd9SlAQPrleNtlr0VA9oqTtScfYEDMR1+7Uy9GQOCFGSVgk1VAPXfwGe+LRkD2n38PlZZMQIOO1UFTfGJAP/71pFDDO0B5M9DRU7hSQJByKtIBSVJAmNEW3x5ZRUD7e86IbyBVQGC6JAOkVkRAxXn/rUE6WUCd0kN23dVDQIyn7APckURA47bQMePDT0Bm/6Ou4NREQFikWJBn/ERAST82iNNmQEAHLuQxiYhKQCfj7xZiGltAs63sj+B4T0BFYg/Et3VQQE9FNT6xn1FAL0Xs+tAHSkB0ERbBf05TQBXkXnVwKUFAfwoAe7eCP0AAsGnWgWVAQMVhdJ345z1ATtbC3EpCQEAdbPlFsqhBQCZcXK0s30RATVn/rM4JVkAwmktegddPQK12oBR59T9AjxTtT+3/UkCHxYQVCzA+QKYru2Pi/j1A3iZ/tWJuQkD+2zCiAV1DQMsfgydKKVpAELypHgZ7PUCXTXhMHQFCQG9ueaTIJT1AV6OsuX94RkCIvDTdb+1YQJSJM3DcrUpAouL+eH/LQkCR37DlWoc/QIobWcBjb2VA+ImUpPlXTkDkUNs2IOg/QABjovi7J0RAnAahpIQ9PUDskkyMJKpCQOHqYLRmEUlAWNZzFjiBSUD6PYBjs2REQF+ZLtevjFBA1l1z6TA6WkBdL0JmgHRTQOFsOTgdVD1AMhS0cAYmVUD0nSoat2o/QMIScAJaoD1AqXtUBtQMTkAh0+eo2PZbQDSv9NiwSElAhu0spz5kPEAVyZobCQBIQIoSH3axPVNAgkzCb7RhSEBW1ckMJC09QJjfWUarp0JAFOhKUskLSEBnRv0CX3xYQE9C/p/LeERAQK89nQ7tQEAisrdQGX9HQGAa6do/60hA",
          "dtype": "f8"
         },
         "y": {
          "bdata": "AQEBAQEBAQEBAQEBAQEBAQEBAQEBAQEBAQEBAQEBAQEBAQEBAQEBAQEBAQEBAQEBAQEBAQEBAQEBAQEBAQEBAQEBAQEBAQEBAQEBAQEBAQEBAQEBAQEBAQEBAQEBAQEBAQEBAQEBAQEBAQEBAQEBAQEBAQEBAQEBAQEBAQEBAQEBAQEBAQEBAQEBAQEBAQEBAQEBAQEBAQEBAQEBAQEBAQEBAQEBAQEBAQEBAQEBAQEBAQEBAQEBAQEBAQEBAQEBAQEBAQEBAQEBAQEBAQEBAQEBAQEBAQEBAQEBAQEBAQEBAQEBAQEBAQEBAQEBAQEBAQEBAQEBAQEBAQEBAQEBAQEBAQEBAQEBAQEBAQEBAQEBAQEBAQEBAQEBAQEBAQEBAQEBAQEBAQEBAQEBAQEBAQEBAQEBAQEBAQEBAQEBAQEBAQEBAQEBAQEBAQEBAQEBAQEBAQEBAQEBAQEBAQEBAQEBAQEBAQEBAQEBAQEBAQEBAQEBAQEBAQEBAQEBAQEBAQEBAQEBAQEBAQEBAQEBAQEBAQEBAQEBAQEBAQEBAQEBAQEBAQEBAQEBAQEBAQEBAQEBAQEBAQEBAQEBAQEBAQEBAQEBAQEBAQEBAQEBAQEBAQEBAQEBAQEBAQEBAQEBAQEBAQEBAQEBAQEBAQEBAQEBAQEBAQEBAQEB",
          "dtype": "i1"
         },
         "z": {
          "bdata": "FS0vFSQnGxofFSwUKywhGhQhJTMaLSsYJTMyGighLS8cGBgpJBYyHS4WHhsjHCsyJDAoGxkpJCEkHxcnLjEUFyUWJRsaKR8YHSAhJhwYMTMfKyAkFyYdFRQuMiYhMC8zKSwiGRwnLiwmFi4dMCImHxkZKSMVGi4fLiQWFSQqGCkjMB4pFhQhFSwbKhYhJiIaIxwbJy8YGighITMoMCEkJCQtJiUhIDMwKi0bGSAXJh0jFxkgFBghKBUZHBcYMS0ZHCMiLh8oMxcmMxczKiAyJSMpFBktJyAWKCwxJiYbLTAWHiccJBgfMSIaIykmFxcjHy8sFiUrMxooMRomGxgUHi8ZJCQVKC8XGyUoJyolMxgcJBwuKjEqMiAwGRcgFBsnHiUcHTEkFhcuMy4sLBsXIykjLxwVKSYrLRsUHi0oMSksKBkiJjMsJx8yIBwlKzIhJDAwKC4hHConFCApJh4YMRgwKBkxJC0sKDAdFRoYJScgGyUxFiswKCksJRUkIS4aFCAsLB0jKDIiIBgaIh0fFjEiJRUaJCMZHzIgJyQvHi0uHywXIxctFyQyMBcwGS8uIyslLiMeGCUbKBohHSkyJR0bHCMpKS8kJxkfLysyIC0UMhweJCosHikhIiwtKRopLB4YGhkvLSwnLCkaIBsUFTEqIB0uKx0iHjEh",
          "dtype": "i1"
         }
        },
        {
         "mode": "markers",
         "name": "Loyal Customers",
         "scene": "scene",
         "showlegend": false,
         "type": "scatter3d",
         "x": {
          "bdata": "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",
          "dtype": "f8"
         },
         "y": {
          "bdata": "AQEBAQEBAQEBAQEBAQEBAQEBAQEBAQEBAQEBAQEBAQEBAQEBAQEBAQEBAQEBAQEBAQEBAQEBAQEBAQEBAQEBAQEBAQEBAQEBAQEBAQEBAQEBAQEBAQEBAQEBAQEBAQEBAQEBAQEBAQEBAQEBAQEBAQEBAQEBAQEBAQEBAQEBAQEBAQEBAQEBAQEBAQEBAQEBAQEBAQEBAQEBAQEBAQEBAQEBAQEBAQEBAQEBAQEBAQEBAQEBAQEBAQEBAQEBAQEBAQEBAQEBAQEBAQEBAQEBAQEBAQEBAQEBAQEBAQEBAQEBAQEBAQEBAQEBAQEBAQEBAQEBAQEBAQEBAQEBAQEBAQEBAQEBAQEBAQEBAQEBAQEBAQEBAQEBAQEBAQEBAQEBAQEBAQEBAQEBAQEBAQEBAQEBAQEBAQEBAQEBAQEBAQEBAQEBAQEBAQEBAQEBAQEBAQEBAQEBAQEBAQEBAQEBAQEBAQEBAQEBAQEBAQEBAQEBAQEBAQEBAQEBAQEBAQEBAQEBAQEBAQEBAQEBAQEBAQEBAQEBAQEBAQEBAQEBAQEBAQEBAQEBAQEBAQEBAQEBAQEBAQEBAQEBAQEBAQEBAQEBAQEBAQEBAQEBAQEBAQEBAQEBAQEBAQEBAQEBAQEBAQEBAQEBAQEBAQEBAQEBAQEBAQEBAQEBAQEBAQEBAQEBAQEBAQEBAQEBAQEBAQEBAQEBAQEBAQEBAQEBAQEBAQEBAQEBAQEBAQEBAQEBAQEBAQEBAQEBAQEBAQEBAQEBAQEBAQEBAQEBAQEBAQEBAQEBAQEBAQ==",
          "dtype": "i1"
         },
         "z": {
          "bdata": "VEtdWFxLYUdNXF9NY2RTVVw6XT5ASEFNWk5QXVFCVjVJPkc0XzldS0lYQ1dGU1dTO11XR1RiYj1iUD9VXTdeOl9dOFlLUk5AUWI7OUdNP1xPXjVVSzxQYFBHTU45Tkw1ZExQUENVRUBIPjQ6TWNgQEc+Njo1W1k5OUo9YWFMSkc4YUo4P11cNENEPGNQNVJNQ1pIO1pfXk1OYl5bTTpPYmBaRmM1UkRJN0Y/RjRgXjxiP2NRUmRCTjteW2FbNE5YS11VREdXOURaQkleXEVYSmJhW11iUj9jNl5LTlhZTV5kQ1tCQUBISmFSVGBHQkdgUkxcXmNSYT9bRFhXST9gRF83P001TU9eTEA8Qj9HTUJEQD45Nzk5SVNIU2I3Ok5aPzU4NUk6OGE/PDQ+WmI/UTU9OGJEQT43TTtSOlA4YjRHQUg/RjQ5YDZeNjk0W1xMRlZCPkJAOz07NDlCUD88OTg+Q0FJP0M1WE9fNjhhNzo5Mzc7QDVISUNSNTQ1P19TQ1g+ZDhANUFWSUE3PFI6OEBDTEpQOztiPzdjQD81P0A5UV04NUJNM0RYN1pZVUJQODVHSDQ6OzRBQVBKOTpKWzwzNEphN1ZGOV49MzxJOkY0S15DXEA2OlFjQkM9QTNLMzQ+Tj05RjkzPUw4Wl48Nl0+P2A/OkdZNVc1WUI4Qz0+OUE2UVBFYUI7QzM/N2M3OEdDQk1XUzNDNkI5PEpQO000UVBbQjdBQTVVWzg8Rzo4MzVYNlA0MzxTQTljNUE6SDlPQVJWO1Q9WEA5NjM/QFxBVkBNUQ==",
          "dtype": "i1"
         }
        },
        {
         "mode": "markers",
         "name": "At Risk",
         "scene": "scene",
         "showlegend": false,
         "type": "scatter3d",
         "x": {
          "bdata": "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",
          "dtype": "f8"
         },
         "y": {
          "bdata": "AQEBAQEBAQEBAQEBAQEBAQEBAQEBAQEBAQEBAQEBAQEBAQEBAQEBAQEBAQEBAQEBAQEBAQEBAQEBAQEBAQEBAQEBAQEBAQEBAQEBAQEBAQEBAQEBAQEBAQEBAQEBAQEBAQEBAQEBAQEBAQEBAQEBAQEBAQEBAQEBAQEBAQEBAQEBAQEBAQEBAQEBAQEBAQEBAQEBAQEBAQEBAQEBAQEBAQEBAQEBAQEBAQEBAQEBAQEBAQEBAQEBAQEBAQEBAQEBAQEBAQEBAQEBAQEBAQEBAQEBAQEBAQEBAQEBAQEBAQEBAQEBAQEBAQEBAQEBAQEBAQEBAQEBAQEBAQEBAQEBAQEBAQEBAQEBAQEBAQEBAQEBAQEBAQEBAQEBAQEBAQEBAQEBAQEBAQEBAQEBAQEBAQEBAQEBAQEBAQEBAQEBAQEBAQEBAQEBAQEBAQEBAQEBAQEBAQEBAQEBAQEBAQEBAQEBAQEBAQEBAQEBAQEBAQEBAQEBAQEBAQEBAQEBAQEBAQEBAQEBAQEBAQEBAQEBAQEBAQEBAQEBAQEBAQEBAQEBAQEBAQEBAQEBAQEBAQEBAQEBAQEBAQEBAQEBAQEBAQEBAQEBAQEBAQEBAQEBAQEBAQEBAQEBAQEBAQEBAQEBAQEBAQEBAQEBAQEBAQEBAQEBAQEBAQEBAQEBAQEBAQEBAQEBAQEBAQEBAQEBAQEBAQEBAQEBAQEBAQEBAQEBAQEBAQEBAQEBAQEBAQEB",
          "dtype": "i1"
         },
         "z": {
          "bdata": "Y0w/UEhQXzY7YkhETjpAWFBGTUU/QDtJOFphRj1LX0VDUTpFYEg1V1U9SF1GOFg2XF4+WFxSOmBhPkNjPkhWNUs0Yk5JPUw3PFpVP0dUUUdUPzU5WTVOODZRRmFhX0JQWUFIUmFeRmFEVENXRFJAOEY/VlxYNVlZWTlHP1ZEVTliPDRXXl1fYjpKU0RUOjw3WU5FPjpQT0RgPlhAQlhNQlpgWV5gT0hgOENkUl9TOVhHTlFfTzdUXT9eYURBWVxDQFQ6Q09VXjxfSlNSWGFgU1dSZEI7QWBBODxDX0hVP1RISUw8XWBST0leTV5cWjtIPmJWUEpYRz5RS1pgYkJRVlM6Nl9dS1pLPFdROlRMS0BES1pcWFw+WmNLXVBRXmJiNTRhYlJGW1k0PkZMYltZWj5TOFRQT0ddV0tRVFY9Q1dOQkhGQFtYVU0/XUpBYVtdN0c1TzxBUU1SRmRKOk9dPEBbO1pYX0k2O1JVOEVPTDthQlVjQFpXTU47NDQ0M2E7RGNHXlxDOFpVOkxFQ2FgVFFMYk9TXzxjY0VPQz9SW1I8RE5eY1tGYDtROjRiQlNaYjw3R0FIXUQ1W0dARWBJW1NdOjdOSTxJO1VjOU9ZQWA4Y2E0YlNcOEJPQlo0Xl9TXzQ3UFdHUVZaOFZLUlhJM0RDYkNEQkFbSTxWRjZUQj03T2A+SGQ+XFhjUT1eOz88Ql5QSzNcSDdLWVtjXTo5VFc0OjxTTUBeVWBfRVFO",
          "dtype": "i1"
         }
        },
        {
         "mode": "markers",
         "name": "Champions",
         "scene": "scene",
         "showlegend": false,
         "type": "scatter3d",
         "x": {
          "bdata": "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",
          "dtype": "f8"
         },
         "y": {
          "bdata": "AQEBAQEBAQEBAQEBAQEBAQEBAQEBAQEBAQEBAQEBAQEBAQEBAQEBAQEBAQEBAQEBAQEBAQEBAQEBAQEBAQEBAQEBAQEBAQEBAQEBAQEBAQEBAQEBAQEBAQEBAQEBAQEBAQEBAQEBAQEBAQEBAQEBAQEBAQEBAQEBAQEBAQEBAQEBAQEBAQEBAQEBAQEBAQEBAQEBAQEBAQEBAQEBAQEBAQEBAQEBAQEBAQEBAQEBAQEBAQEBAQEBAQEBAQEBAQEBAQEBAQEBAQEBAQEBAQEBAQEBAQEBAQEBAQEBAQEBAQEBAQEBAQEBAQEBAQEBAQEBAQEBAQEBAQEBAQEBAQEBAQ==",
          "dtype": "i1"
         },
         "z": {
          "bdata": "R05dUVBbR0leSFdhUUxZX0VRSVpfTGJWY1RcYltcV2FgVEtSSUZEXU5jXWNYYUxTRlNRVWBUX01bRFFfUkZTV0dTUWJSX15iRk9cVUlZTGRhZFlIYFpkTUhJS1pSSVZbUlNEUFZbY1JGZGFjRFVbZGBbRmNGR2JKRkdgTElUUWJVXGFhTF5fVUZTTVxYWF1XTkxOVGJHX0RUY1piRGRYUFJPZGFfYF5KT0pjSldPU0hHTk5FUlhVS1JSV2BKRlVKRF9TSlheYFhhRlpJWVJMXVJZUmNiSUdgWlJITUdeTVNXVVNST2BgUF9hXUVXVktSUVRNR19WSWRHREpPTE5jYQ==",
          "dtype": "i1"
         }
        },
        {
         "mode": "markers",
         "name": "K-Means 0",
         "scene": "scene2",
         "showlegend": false,
         "type": "scatter3d",
         "x": {
          "bdata": "wSE2R0PLTkBjt4V+W2ZSQIbgFQg9oWBA2mQJ7Dy8S0D+L0AA8qlLQFvT/UIVWVFAKS9hxOKiW0C+cZMz2wlLQNZ0uJuPG1JAoT6xcfFdTUBOFCdpmUNVQI1Lf7j6pk5A8hZ/Pz6cVEDv7ATE8u5QQAOK+FRQKlVAkRS0gaoJV0CqHRJRAedRQDmCHbAt91VAokeGGNk1VUC0A/5cONdRQOoxGfBHok1AbTM3SrBjTEDD0Hcf74JWQLpCwAojsllAYIw3kucaTkAtcW9mxuJRQOiyMjoUNUhAofwIc3UCYUD2hMVc/LJnQLg18WcZ+FFAHtFmYQ3YSkAs5rMN00xbQC7iMoFZl1BAh3waO5zbUUDR6Imn+VhVQG+9j2p/SlpA6f80/5p/UkCe5E6mbQpIQFnjUtx20lFA/e1qkZfaU0A6BztA78ZLQKhTqucCf0pAWcafd0upWECJckaIJZNJQFfzhOr6XUpA4unfU/uKRkAA+ccviTRNQEe3a77f9lFAFRNtstHiT0D+juRX2R1KQIpX0squDVdAp/DrnXcUYEA7Eg4RI4lHQIlY1ekknUtAVwT7M6/HVUAzl6qgiSZWQARHcUrNb0lAwv9wwymLXEBhOxEESQpYQIeiYO9YM1NAjA59VtkVU0DAVWwajLFQQDJpjPnS0lNA9KrC2+fjSECJIjmc9GJTQLqDcrTx81dA/v4lkgekTkAi7I8sGaxMQBlOj28p3ExAR8xhbKaSSkBpCdxmdyFRQEphqjvIv11Anl0G5Ma7VEAFXGzSxklOQOXlaaXgulNAVTnsvsTbUkBhxP50KxZRQDo5vjgN4ElAa5QUnggcWkBKcSlScN9TQE1BvuZWXkhAz5AExreaR0BA6BLaIwlVQBbdu9EDDVZAnHV+6bYfT0AiUMVt0iBhQBlJO5gEcUxAB/Ro1p/HUUD2mWbn4phLQBmc4Bjkv1hA9lWCfwn0U0BMJ1XhhmpKQK4D0KEvm0hAwjcFrcXHV0CrQnYcrm9HQMAId7iZK05A7KweijOYWEBS5wD99jpJQC114DlOYklADeGlxnSJUECCMtJAREBFQPLEJfAGC0lAmzr9Yn/tXkAOCBikJ5xiQMKtkP113FFAzM3H8TfDUEAWXRCEB5lJQHXuRN7T705A/QT0PBxNVkBfIy4c74FZQJZdUjbPAldAV99Ty5VjTUDtXGsmiLBoQATJ2htBo1lA6XwvCRjLYEBl7l2cGD9WQLQCztz28EZAFO7LOfzRSkB/nw/Jl1VPQEDEo5qN0FNAI1aDF+u8UkByD/t/ZZRHQEyeX1AdVkdA3rIUmHYsSUAxlTqzs5dMQFXcKgB8S25AE93GUsKRVkBS5cNCYXxVQBIbSEcmQlFAfyC8+B0BUUDjafa01iZMQDLBMYzq81tAAgAd2zGaU0BBcSSwby5ZQKHvgPacAWFAqvsgwzsxTkBL3VaY7IBhQPGdVjcp3EhAcXly7CjkT0BvSBcCiThXQIANa/V+YFxAnUaBqgUMW0CRgzN+fUpMQI+vHkaIVFBAD25upsAvSEByjxS694tNQKAeyHpzzVZAv5gloxpaSEAoXbua12xSQNie2t7S+1tAUvPUeI53VED9KD+gx0xQQAQ3mbUPQU9AP8NGHqPoakCI7HagEMFRQKP9mdP6pFRAppgX6L7VXEA690rIcOhLQOG17814uFJAYGfwultyUEC2En8vUhtmQE34BaCMeVlAAHUfR4B/W0BM2ZcrsGNQQF6GiYQS3FdAdLXzyzQJTEDaFcs5HFtRQOyMTicsjltArZDIldCvUEAJU5AxsTFJQJSQFnMq51BAJKx6DoeOTkAO5l1CmX9MQMTb1kgzs1BAxHZlXh5bXkATeexErUJNQALvLLWsnkhAnC2JhP3lUEDnPquLng9eQCBlXoZGp1ZAE1UREd3nRUDqIZ9PZyxUQE9RyK9CS19AeJ+YdT4fSUDz2IsDemFYQB5rhCy/i1dAkvxTf3TdUUDGUwGxFVtSQJ9pLr2OzVJA3FlzJAfOSUDiE+eRTw5iQMo1lxR91lNAAq3POBdHYkDeixwcraVIQLfD4vS2d0lA2HWXlqOpRkBpNlEx72ZJQD0Mvc5DlFdAJb9rypSKXkCsjlxkCsZNQNNGJ0Q8OE5ATs++dp6MYkBZUT9toLtdQAc2PbTCeFFA0/qJQe68WEBjRN3R5jBXQDkKoadh0WJAfHuu5Cc1UkD60/aD7/dWQHW+ZisJKUtA3wVTeauRUUBye33B9FVSQEaAX7ivklFAkDS3lm2HW0ABSu0fOrRHQDJzAEjnZlRAFYlCIDgVXEARwgl3VuJOQJn/NMXODEhAg0v2YvmuR0AfOH5ratNdQO8ar/GDDFBAJ19T/WYtTkAp6O7fON1VQByq4lf0TlBAGh8rDTsDSUCyV3GVLSFXQG/MI0Oow0xAi85oRaqATEB0jRObG8FXQOKgl/m7I2NA3TpOS5zASUAX5M7SPztSQIg5EbnqX1JAdCuJ3vuXSEDQPuFvuKNWQOkaOvvo+lRA7sU2Khv9VUCUl70a5lZPQI7djQxrvlRA5Eq9Hrb9TUC31iL5x9lSQCl38ujv6E9Au6UZKTb/UED3B9m0EUpWQHvqC2FgmldA0njCNo72TkDe5ETwdJlNQFpoo60L4kZAt9tFGuUWTkB0k7miqM1YQJNliI03lFhAQn1ld/AFV0ActFHBKEdOQD6sVa7kUlBA37VPY1PzREAEGfKU2+1HQMO8d8t6eEpAcpJJ2sZ7aEBXWtZkt+xHQBBcXn8fZVxAhER+Yh5ETUA8IkESi1RdQFgyYLiEQE9APsod7ISYSECN5KuM6t9QQIZ9eKZpT0xA0s2oLAKFS0Az+TH1xpxQQAFQUdykNkVA0p4AsjASVkAy1Dv089ZFQPCSeneOKmVAIm/L4fz6SkDEOEV5Is5OQJFBx+6YyFdAzvdoQaMwTkCDS8BD+CRMQGFuSFVj0EpAsTDSgBL1S0AGZrmp2UFRQJfLC0+VsFJA7GX53ZWrVEDsG75RdP9YQPLdNdhJ6VBAkZBFvqJ9U0AYjCP744ZLQPTnkAKSTVFAqy5h+/HPS0DfwnHLbMFKQJiBo3hFiFJARef0Q3W+ZECvazAY/LJLQIhRD56mekpA4HNAqtdJV0A8Mv3sHIhGQEBEFUXNIklAfstCRfWYTkCZdhG0VexNQMGnAsuOwFFAZMjDZFNjT0Crgo5qQ5dNQMJ+xW9DTU5AmwTnIVUZa0AoXYeSVRVNQNKEljmbs0xAuIh79t6jVUC4BY68JnBNQHimCc6R+VBA7B9n4KcAUUByaN9goUBMQHDXDGCO9FRAz67v9W/IU0CBoV6ogWleQOTcYsVwSktA7XXsid6qSUB1l23Fol5YQOXfRhdPqUlAQ0lvfZFMUEBIUnbrTqFOQD38QLTy31JAP8ujEhhGTEBwv004qgtQQNBPkj5+IUxAlAJhvtz/TUDFeVrwIilTQFB0BvOPf09AY8sE+PpbT0CghQ80Fw5VQNHrXCjRuVJAtsY9/IVIVUDvKw5G9sBWQBOd1OwI4VVAI1hjzpdUVUAVrnYPj1NQQJnszeYIG15Aa3TOdYAkVUDDS0/OlV1SQMFyiy8cbk1Aadp/QR1YRkCNPP1zBdlmQJZOl1hTGl1A/HDVJldqR0CcU6eyjTBHQEAjZxvCL1lAQyqcvl+fTkBSCDxzRi1LQLdBS8DwmUZAaJyzcT34YUCLTeGv8ZVMQOqQ5SO91U1AzfRaoXbCSUCuZG8GRBBUQFqdGSDC/kpAqvxbDbO/UUDU/lvDBdJcQHnZKj9rVFZA+Q92QMdFVkBqzgktyk5MQA1NzJSiA0dA0K7EB+JKS0Ap6BjmhkVPQCq1gAENBUdAlovjuEF+UECLRkSf7upLQOHro6U77WFA/sWJjxHyRkDunP3H4a5NQHcb/p5o91lAstVqShVQUECpZSiytBxUQJRpSlw/m2NA6ZvfWLSIUEAvPwfZ5vtKQEOVGcwYjFRA+NRMfU/CZUDmg9rhCwtPQPjbq5rib1JAvr4Np3TSV0AKpMosnqRRQGe6CrO+HFNAh+uCYRZoWkAztfLQ6a1KQKaWj9msumRAF6Y/2dlpXkD3Fd9XhpFlQHTNQA43L11A/0k4BPwlTkC0HZZ0pepKQCpnmuO2klhAd7BKkglzSUD3TJgHvE1NQFxfuVccPU1AYGdIt5SxUUBK9JHb+GxMQBsVYCiPKVBA0iKIu/VLRkCMYGI9v4ZOQLq9kQ8QhVBA3AvJLh4wYkBoz5jZjuJOQGT4T1mB9k5AZWvU37W4UEApPjKB/QhMQBzCC6sPA1VAjzGqQbFRTUDmm6nGHItWQKCbSPvVkUtAJkkz1s6uVkAhwTvD8RNPQLfVq3DfoFZAyjmYP+uaSEBn/FlRpaNSQIxdPfNwzUpA07XVllILTEDi1yOyDephQItbaxQhmk1AoNtfFXPNS0AeTOrK9WpIQE8j+8Fnj1ZAufxJjXSIWkBROHyP+r5QQFY5qSeYwktAgyFMjW5dW0AReSVzgAxIQKmfstbubElA/x0+zhK1cEDvlzcbeoNLQG/ljn1sMlhAN1SD6gi7XkCEtW2frDFVQN+zVhrjwFpA9rZc1VFCY0Ah9PIEc79QQIyrC3Zk3EtAElbYZzZdUkCLwz5/8EVRQN55sk2BjEtAQ+yZeEASWkDM0PpO1hxOQD2WynWkyVBAm8YRec51UUAYoBzYThBMQBvLYQMIz1BA+lDlvcQAb0BZgzM55rNdQBuV4WLd3VlAUdnAVjQ6TkAseNwb/CJXQJ7z+49r21VA14K2gqm9UUCEN0FAjDdbQKBGu11xjk5AwA6UFmuyaEBWzOHxrj5gQNQQP5DOwE9AH08ASlp5XECEXQ6ryfROQKrArC5+rkxAGkeuVw1ZSUC5dM1GL2lVQOTPGYjNz1NAnPC2uFfdUEBVuGeNq8BMQC3tg1hDZFVAZ3EAgWZTR0DXMpUiMElHQNFMmUValEZAAynjhoAgSEDFHUZNvmNiQPLSHRF3Nk5A77GDv3JxUkA7Dozq4GFHQCkm1+5bZkxAabH501kETUA+QzZ6PBlGQJuXQkP7bFhABxeK3gKCTUD8HsVhMtNQQEtjrHrI+l9Atbu5SXoBUEBqevsc+O5LQGFP4m2u1GpAG4cFYnddSkCr+5Pzq2JaQMq2w2NBjkVA0AfyjQ5tXUCOdW2RnnNQQOKv9kpnF2VAtBAlduZYWkD2lCPrQqdQQEhUNlx2N2ZAng7KG/sBTUCeYMaV5S5QQBds5aH7W2FASqvPFkCDWkA/wmb6LmxOQFzBsNi/tlBA/fpkSimKTUBapPVu3IRPQLjQzYaES1lALCjLcqKeT0DqzbtPoBRUQPkpiE38EFJAvlUBKD7HVUA+3+9KVCZRQCr6XOJePltAJAExtfjaRUBc7sD/59xOQAwZJ2IzSVZAS3DawVNgUkC1ZWzDQwxKQBr0xUVkUklAKo1rTazNV0Ai32z9mqVOQLH9wbOxckhA8M97FSJ2SUCEXWqVrWlZQITeUNN18WZA90nU7uSVUkBeIVK4YLtgQMZnLqeZ0FpA67gJ+O8xXkAKwkiMfvVGQNjeplitFlRArL/ncs2qSkDLpNqJP3hUQCALhWAkJ1BAXbJ0SBBFZEBhTSDxdn9JQOLFpsM5ZUpAe8jA+enCVECir7uMUsNZQFkBEMYjfUdAKVDc8zf+UkBdmpzrmSNVQPwWJzvPB1VACcPnL2gnT0BkmizeurJTQFulCWItEUdAgMRKyx9rUUBMH8+YeqJeQJ2KtqY0o1RAN4iUD7P+U0D5dxcje4dNQEdTCF1lKllAmz8P8+hrUkALu2I4+TlhQAwyxw5Bck5AYbgSNDBqSEB6x8WFbTtUQEEPBu+FnkxAZWDAbR8PSUCNsJcB+xFOQHTv/rH560tAjrjklS+RVkB6YWqw+GxTQF1LjPfkZldAY22J7zozU0DZq1dXOIlPQNlFU/EWkVJABJgejRiKTECobaVLie9NQNrQZa59SF5AjOXNMpMRTUCg8a6aopZTQEKKXFsewVRAncQ2DZvDWUCwfcb26oBLQEn9dalZaVFAiuISuwNgZUDG5laTDndNQKRkucbEZ09AXkq42dW5YUAcLsiEntpVQGryIybzjVtApku9b3NMV0BWpRBoA0lZQFRoQWoUkUtAsSo6/hLPRkATd78IW7dNQP9+RV9aWk1ASOe5TJNGVUCAGzsodXdKQD6AKq7THHBAYJ0QoIhbR0C0j0HCeixSQBt5F9k861JAtKC+HWAPUkBC26K3KAhpQDE5hvNclE9Aykq9OHbMVUAm2oLeVwtQQE4HImnWlldAuokYDhwbRkDsO2ErqVxXQPe2pNIq+U9AiaK5GJ7jWkD5zrNeUwpWQH64ADFinWdAppys1C6wSkDuN6zPX/1LQArfiUA2dVJA1CPNSVnLUEBJiySb14JVQIhLLnxUm01AtfW/s4Z9X0DftvSkGVpLQIIoUNXx/FRAQR3h40xMUkBN2CePyfJQQKo4kYpWTVRAHMAs1KJjVUACsUtmsbRYQL3i1iKIjk5Aof6ZI3ZYUEAjGYmEIwhRQA/yEF3NflBAHqwdF2utVEBnuO5a+49NQIrF9HNFP1BAdXgTyIPVWkD0PfcTbOROQBofZ+1WilNApXE7P/4TUUAugV65DLxKQJ3F3v/cvVBA11CJ7rcTUUBtcJ6cHeFLQAxoEvmBYmJAQvwIbjjGV0AYDJYq4C9UQK0KdIteclBAyRX15k0rXUCO6t21blVeQM7JzT8iNFtA6jeWxTVfZUCRAfSdNYlcQPaKk7UnH2BAR1XZrepoRUDghRklYJNVQPaffw+VlkxAg47VQVN8YkDzy0aZNZ9ZQHkz0NFTuFJAiu2rfPkDVEBp5wXkn/ZMQLrq+EW1zUtAkHIq0gFJUkCZt/m7iIdUQBSKOoXnyE1AcphgB0EJSEBcu2bYrd9IQBJRb8QvJlpA+3vOiG8gVUDqGp9CHPtVQIF3Gtz+PVdAxXn/rUE6WUCKAlMR9BNYQCT7NQ3MZ15AbXrRUi0aX0DPL2m1RHhTQAFlm7XZ5E5A47bQMePDT0CpYO1i4FhPQDnmaK/MXFBAuhx75vufUkAHLuQxiYhKQCfj7xZiGltARzvqGOpqVEADQEk4MNdMQM+p47dbj0dAR4hVapbhZECIFvUO4zFNQLOt7I/geE9ARWIPxLd1UECS3b9PyU5iQFkCQ8HqOVRAT0U1PrGfUUB0ERbBf05TQKed83S15UtALrBlq3l+SEB5rK0mUu9RQCIlX2lCwmFA6G2GXktuYkCqcSNPo1VVQE1Z/6zOCVZAc6wj/Wn2SkAwmktegddPQArQbkdkEEpAjxTtT+3/UkCQlXBdAXxQQKzsD8bTZ0pAyx+DJ0opWkAnAErOuG9LQLhGWhLmjGBAWIZdBMAnRkDYR9nSbjZWQIi8NN1v7VhAlIkzcNytSkCIpdrlfj1RQOYqt2pXCk5ARcyizPtkSUBCHUaCJF9eQM/0lWg69FBAmh/RITcrVUC9cYgadlBXQPUdjy7+hFJAihtZwGNvZUD4iZSk+VdOQMvdTxLvhVRAuX4G1OJqXkBI1GHIY0lhQPZkYQGeRVhAtGEzwocjZUCzRcQ/ULFSQLhXCV70sEpAtZ4x3lJ/RUCTx5OuWi5QQF+ZLtevjFBAjhvryrZIVEDWXXPpMDpaQDeJ4Q9MrVFAXS9CZoB0U0CyCshbewROQHWqCgRK6kdAxOSDKJkLSUADGyS4bttXQDIUtHAGJlVAJK/S4yYLTkCpe1QG1AxOQCHT56jY9ltAstfE04ypVUA1I8egk2NWQAyCN3lKgEhAzrqDLJtvT0A8+OCVGZZVQKKSrCSRKl5AFcmaGwkASECKEh92sT1TQNmRsoRFTFpAuBRQ+7ltU0DYX0DwwvZMQGdG/QJffFhAm/wA1oCiSEAisrdQGX9HQA==",
          "dtype": "f8"
         },
         "y": {
          "bdata": "AQEBAQEBAQEBAQEBAQEBAQEBAQEBAQEBAQEBAQEBAQEBAQEBAQEBAQEBAQEBAQEBAQEBAQEBAQEBAQEBAQEBAQEBAQEBAQEBAQEBAQEBAQEBAQEBAQEBAQEBAQEBAQEBAQEBAQEBAQEBAQEBAQEBAQEBAQEBAQEBAQEBAQEBAQEBAQEBAQEBAQEBAQEBAQEBAQEBAQEBAQEBAQEBAQEBAQEBAQEBAQEBAQEBAQEBAQEBAQEBAQEBAQEBAQEBAQEBAQEBAQEBAQEBAQEBAQEBAQEBAQEBAQEBAQEBAQEBAQEBAQEBAQEBAQEBAQEBAQEBAQEBAQEBAQEBAQEBAQEBAQEBAQEBAQEBAQEBAQEBAQEBAQEBAQEBAQEBAQEBAQEBAQEBAQEBAQEBAQEBAQEBAQEBAQEBAQEBAQEBAQEBAQEBAQEBAQEBAQEBAQEBAQEBAQEBAQEBAQEBAQEBAQEBAQEBAQEBAQEBAQEBAQEBAQEBAQEBAQEBAQEBAQEBAQEBAQEBAQEBAQEBAQEBAQEBAQEBAQEBAQEBAQEBAQEBAQEBAQEBAQEBAQEBAQEBAQEBAQEBAQEBAQEBAQEBAQEBAQEBAQEBAQEBAQEBAQEBAQEBAQEBAQEBAQEBAQEBAQEBAQEBAQEBAQEBAQEBAQEBAQEBAQEBAQEBAQEBAQEBAQEBAQEBAQEBAQEBAQEBAQEBAQEBAQEBAQEBAQEBAQEBAQEBAQEBAQEBAQEBAQEBAQEBAQEBAQEBAQEBAQEBAQEBAQEBAQEBAQEBAQEBAQEBAQEBAQEBAQEBAQEBAQEBAQEBAQEBAQEBAQEBAQEBAQEBAQEBAQEBAQEBAQEBAQEBAQEBAQEBAQEBAQEBAQEBAQEBAQEBAQEBAQEBAQEBAQEBAQEBAQEBAQEBAQEBAQEBAQEBAQEBAQEBAQEBAQEBAQEBAQEBAQEBAQEBAQEBAQEBAQEBAQEBAQEBAQEBAQEBAQEBAQEBAQEBAQE=",
          "dtype": "i1"
         },
         "z": {
          "bdata": "NUlhJDMVNk8lRE9TLh0gMGNVGl4oQzpfHlVNSTEjIysfYF5MFkA9WSJJTS5OOzYaVUVeSjVVSCRSYhRHQCpYRU1dUkFYQltON2M3SShHVjQuMltBWEksRT5EP0FDMTYpWEw8MUA+Tl45VikURicjIDZPT1VEThk2HzREU18kTy8mRj89H1QtSDA2Li03L2AVUBofLEkUPBpFNiFZPSVbYi1EOCs4WFlaMj83Q1ooYi8/Wzw7RD5VNUJUWiQWUEBGGytRMkhhRz0wU2AZVDo+OmI1ISRSW0RJODcxPVJeNE9FRU9JXCVWOE9QThgdVTYgITtXS0ozWzZHH1MrWiQ3OkBIFThYQDBcLyxPWkc/SEMuLDQ2TFVCVklJSEwWSztfTVkdOSImYz9QFUhELkBGTSQpQDsePUVDKRZRRRRIITVVPRVGOFghWBpcIzpgYz5IGydWNGJJTDc8IVozKFU/VCEkJCQ1OVk1JTg2IDNhMCpCWUhSGSBhRBcdI0QYOD9WWBhZMVlHLVZEMzliPDReXTM6U0Q6PDcqWTIlTjopRBRgWE1CWi1PIDFIZFIwFjlOUV9PJzdUP15hRFlDQBo6QylPVSYXXhc8Ix8vUyUzVzseQUE4PENfP0hJTDwoUi8XGyUoTSo7SBw+HC4qMTIgMBlKWCA+YB4lUVZTNl0uSzMsWhdLPFc6VEspK0QtXFgtKFBRYiw0IiZGLGIyHD44VDIhJEdXMChRPUMgKU5CRkBVMU0/XRgoSkFbLTUdTzxRRmQlOicgGzFbOysoWiwVJDYhOEwaYVUgLB0oWldNOzNhO0RHHR8WWjpDYSViFRljQz8yW1IgHi0uTl4XRmAwOjAvLkIrU1piJTw3QUg1I0ldGDo3STtVKDlPWSkyY1w4Qk8lHVo0GyNTNDdHVlYvSytJIEREHltJPFYpITY9N09IZFxYLSljUT1eOz88Ql4vSy0zLEg3S1ksYyAbXTo5Vzo8MSpAXlUdTjE=",
          "dtype": "i1"
         }
        },
        {
         "mode": "markers",
         "name": "K-Means 2",
         "scene": "scene2",
         "showlegend": false,
         "type": "scatter3d",
         "x": {
          "bdata": "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",
          "dtype": "f8"
         },
         "y": {
          "bdata": "AQEBAQEBAQEBAQEBAQEBAQEBAQEBAQEBAQEBAQEBAQEBAQEBAQEBAQEBAQEBAQEBAQEBAQEBAQEBAQEBAQEBAQEBAQEBAQEBAQEBAQEBAQEBAQEBAQEBAQEBAQEBAQEBAQEBAQEBAQEBAQEBAQEBAQEBAQEBAQEBAQEBAQEBAQEBAQEBAQEBAQEBAQEBAQEBAQEBAQEBAQEBAQEBAQEBAQEBAQEBAQEBAQEBAQEBAQEBAQEBAQEBAQEBAQEBAQEBAQEBAQEBAQEBAQEBAQEBAQEBAQEBAQEBAQEBAQEBAQEBAQEBAQEBAQEBAQEBAQEBAQEBAQEBAQEBAQEBAQEBAQEBAQEBAQEBAQEBAQEBAQEBAQEBAQEBAQEBAQEBAQEBAQEBAQEBAQEBAQEBAQEBAQEBAQEBAQEBAQEBAQEBAQEBAQEBAQEBAQEBAQEBAQEBAQEBAQEBAQEBAQEBAQEBAQEBAQEBAQEBAQEBAQEBAQEBAQEBAQEBAQEBAQEBAQEBAQEBAQEBAQEBAQEBAQEBAQEBAQEBAQEBAQEBAQEBAQEBAQEBAQEBAQEBAQEBAQEBAQEBAQEBAQEBAQEBAQEBAQEBAQEBAQEBAQEBAQEBAQEBAQEBAQEBAQEBAQEBAQEBAQEBAQEBAQEBAQEBAQEBAQEBAQEBAQEBAQEBAQEBAQEBAQEBAQEBAQEBAQEBAQEBAQEBAQEBAQEBAQEBAQEBAQEBAQEBAQEBAQEBAQEBAQEBAQEBAQEBAQEBAQEBAQEBAQEBAQEBAQEBAQEBAQEBAQEBAQEBAQEBAQEBAQEBAQEBAQEBAQEBAQEBAQEBAQEBAQEBAQEBAQEBAQEBAQEBAQEBAQEBAQEBAQEBAQEBAQEBAQEBAQEBAQEBAQEBAQEBAQEBAQEBAQEBAQEBAQEBAQEBAQEBAQEBAQEBAQEBAQEBAQEBAQEBAQEBAQEBAQEBAQEBAQEBAQEBAQEBAQEBAQEBAQEBAQEBAQEBAQEBAQEBAQEBAQEBAQEBAQEBAQEBAQEBAQEBAQEBAQEBAQEBAQEBAQEBAQEBAQEBAQEBAQEBAQEBAQEBAQEBAQEBAQEBAQEBAQEBAQEBAQEBAQEBAQEBAQEBAQEBAQEBAQEBAQEBAQEBAQEBAQEBAQEBAQEBAQEBAQEBAQEBAQEBAQEBAQEBAQEBAQEBAQEBAQEBAQEBAQEBAQEBAQEBAQEBAQEBAQEBAQEBAQEBAQEBAQEBAQEBAQEBAQEBAQEBAQEBAQEBAQEBAQEBAQEBAQEBAQEBAQEBAQEBAQEBAQEBAQEBAQEBAQEBAQEBAQEBAQEBAQEBAQEBAQEBAQEBAQEBAQEBAQEBAQEBAQEBAQEBAQEBAQEBAQEBAQEBAQEBAQEBAQEBAQEBAQEBAQEBAQEBAQEBAQEBAQEBAQEBAQEBAQEBAQEBAQEBAQEBAQEBAQEBAQEBAQEBAQEBAQEBAQEBAQEBAQEBAQEBAQEBAQEBAQEBAQEBAQEBAQEBAQEBAQEBAQEBAQEBAQEBAQEBAQEBAQEBAQEBAQEBAQEBAQEBAQEBAQEBAQEBAQEBAQEBAQEBAQEBAQEBAQEBAQEBAQEBAQEBAQEBAQEBAQEBAQEBAQEBAQEBAQEBAQEBAQEBAQEBAQEBAQEBAQEBAQEBAQEBAQEBAQEBAQEBAQEBAQEBAQEBAQEBAQEBAQEBAQEBAQEBAQEBAQEBAQEBAQEBAQEBAQEBAQEBAQEBAQEBAQEBAQEBAQEBAQEBAQEBAQEBAQEBAQEBAQEBAQEBAQEBAQEBAQEBAQEBAQEBAQEBAQEBAQEBAQEBAQEBAQEBAQEBAQEBAQEBAQEBAQEBAQEBAQEBAQEBAQEBAQEBAQEBAQEBAQEBAQEBAQEBAQEBAQEBAQEBAQEBAQEBAQEBAQEBAQEBAQEBAQEBAQEBAQEBAQEBAQEBAQEBAQEBAQEBAQEBAQEBAQEBAQEBAQEBAQEBAQEBAQEBAQEBAQEBAQEBAQEBAQEBAQEBAQEBAQEBAQEBAQEBAQEBAQEBAQEBAQEBAQEBAQEBAQEBAQEBAQEBAQEBAQEBAQEBAQEBAQEBAQEBAQEBAQ==",
          "dtype": "i1"
         },
         "z": {
          "bdata": "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",
          "dtype": "i1"
         }
        },
        {
         "mode": "markers",
         "name": "K-Means 1",
         "scene": "scene2",
         "showlegend": false,
         "type": "scatter3d",
         "x": {
          "bdata": "9ZvP+NMCRkBbT4RKusssQLQbUKvi+gJAhlgdY4FlN0CqD8YxgtkoQLnCyB0MZzhArEmr8JhGPEAHz9M9SvMWQP4vxqWkijdAR5XFqzwAAEDcYzydEtMCQCZSjwDyhglA6Fnj27xiM0CX0yo6tWUnQJ+OLxu+QC1AfBdFPYbKPkCKFBQ/+fdCQCaSi1S9vw5ACtyERbRgEEBJJIEmQ9UxQOCBb7bI1ARAnzmpl/ZfPEB9Xxk2GTEmQKkuMiyb7UNAOqKDuWjF/D+2Sju9upk0QCmPBiOVPytAqiwOLNdpQEC7kE255Ms1QGoeVrEi3C5AxBVaz1GkPEAomX/KtrY0QFDedKXgEDFAB9blhySjMkC50+PjwLAqQFDLOutILyxAqmsEmt/lIkCYVNI2KBw+QNGJNaOuJEVA9CwEuLTKM0Dkq4PODb3xP5jZZnjbGCFA4pbjcfdURUBCh5MbIW80QNiVdNi6LzlAjR6lyB6yQEBcrFAo09shQF+a08FnhRdAZiV4TK6eCEA47Tnwj0VGQF672IIq9QNApgO9hDJ9NEA8N3+/XlYtQHPQaktvWjRAcA1xuSASMED7fEuCImg5QIREHp+UHB1AdCjA2QpoGUCmToGqgOYiQNvLUGGa/TdA4pGx5LOTO0AVa7nH5Vg9QGAZVEwbBrw/nTfSlo4aOEApIAPcRJMMQC6SEdGeWS9Axa3ykJB7KUDmVGtFJS3uP48aH4CTreM/2kjrUeWs7j+mg3mv7CkWQMAJFv1ckCVAtLAw40gFO0DwrFcqNm41QNqvOdflxTxA64287gFxIkAm6J6rmmclQOy2DWZjBA1A3U0ucaa/NkANwumjQzc3QIvpbTmgIRFAdE0vFFzD4D/+LgMhQ9EgQEeWoWqaIztAo6WCk+BBM0A25TVQNQJEQAyCh79OrP0/cfjDqa/nCkB1tFpCwMhFQHGqBBNkezBA+bCBSsd5KUDrcLvN2lVCQA0u50CRJzFA7+A7XUtML0BkNY0lGXoIQPviA+o5jypASUt8j15ALED1ZliYD4LgP1f4aTup+ek/DbNC10drOUCpwAYRLOkiQJRUw6DR+z9A77gPTpnqJkACcx07cUtEQPwX8gJL7z9AbEq1d9pGIkBWIAVeJwVGQFQ/0CSDbjlAoN0Ho1qmH0AAlaqQUaFAQN0qcBZNSDhAE1KIA/syDUDK93gQid/qP5QfK2NOhP4/QY6ixzWfQUAOo+5iOz4jQCITlzw5sSNALX+im1A6RUBYaWsNaG5IQJfDmivwLyBABnnZW9zMQ0DDzf0JAwspQJaA8hN3KgVAX8RmrTgiN0CUcCv69Yw3QGC8H/pq1kBASf6MMKvY9j8MCPLLP7wcQGATfRs0IjdAcpnkboTyOkAAopDukr8uQDoABHUmhUJAQDOmOWjlQkBMTc8JH4guQNW2NdObsThAMAIkJV0hO0A+cxgY1Xg1QCBBUBKvG0VAYkQKa4SPCUBFFOAVBh0SQGL2xRwWeRBAbE2VSVJwNEAdnwWM/mq0P+k1J1FMWkFAFYRJXjYA7z+G2zQOMG06QMoTwS2cNBNA5rcEgQ9NHUALDYpNdVstQJTppOZ3DiBAvdVQDoidNUDYlMAKAjMwQEvIJMBLTkZAVXtt3n5gEkBeh/f+8v40QFIjDztwq0VAugxLVqJhOUDUMiuYtdgqQFKTyoaBaf4/qCrVUhVTMkCxK7qQpAUnQPABV4FWIfE/HVfJ6++OH0Aty3vEY/QfQLuJcpkG1TNA/vrbUsSLK0DloO0kBnE5QKQAxNdoZCFA4TcR/QXRIUB0D6z0vmohQKk/u4mAvzJAneSeAiBUNEC00FE301s6QJnsF/wmMSVAkFG3L/VN+j9PUSD8Bcw3QOujxg8uvC9Asp7XnSz5PUBwoJadBtM0QPh26H0lGUNA4lFBh7f0M0B2AXgH33YMQOkciUG960RAPNWEeFnVO0BEziSHZf0gQIbvzVkL6iZAdNwItWxVKUDxU5KHVwpAQFuAgbmWmEVANubMUm89+j+M/OHuCsExQG0QwSBKGUFAubKfXq8tJ0BQy8jrAcr/P34/oQeCRjVASDYzM/3nNkCAhTDQoCVFQPl9Ym36RzJAHKwTxBpw4D/3G6irVDZAQP3LupBoPxxALwBE02PvNED1r3wbXIZAQLXDLVApixBAbEuJrU2BOkCR9QSq2WQgQHwk3jHQvjVAeUJ1jx+K8T8LpK32wMabP7oBTIpSSCBA8WweJu91G0B4GCByPOwtQPvANVPXjRtA7cazLTA4SkA8/cu1jYU2QOYRWPr+ojxAxb24HSIwEkCcyjVA3cETQHQYggcXUEFAiUQGz+EHFkDhD1/9AQ1GQNg9OOqHyCdAJL+ErUlTRUB9I7pcmVkoQOcNXG3kQPY/xL9wFJNAF0DfOFQq1RBEQEmMDEmJFypA+2UO6L5RNUB1ABh1M4ksQEbsJxMSnkRAcCo7MlNTOkAYy1O0a/YIQOzZJKDoCDdAI4O48VKqGUBsOGPTFapFQJWfU0lZuzZAb2B7txmfO0D3PAHni4AXQHeBnCOKDUJAMnblo7RBOkCMgIGFid8hQOzvkWzT1CBAgOXf33bAGEBEhekmvMcUQEq9aylxkR1Aa50OJLrtIUAPXqAx/vI5QOAT/yKREg9A5yqoZcCHMUC6WNdscLAUQHa8nuS/tfo//5BeRpIuEECXreue60NDQLEE9TEiAx5AoGrdTGAASED3AwjffFJAQDUuSTTkHSFAHNt8w4yuIkDTqnZpNWEoQEDoQ0LFhEBAyQyhH+sfMUBKtb8ez2QlQLDZ4QMiJg9Ax63WhHemN0BmWrlMZ8kxQBiod3Ep60RAUnUBi1RoSkAGhKWHIQ4iQLQBHhB4LQxAULUI97/aMEDR+QfIZoU6QMwOaPW73B1AgjYPR3kiEEDnMZmCopYoQD7SUzw2WPg/vtIuR2A2HkB32h/z4KM1QMsIA2BqBjxAYORxc6uVNUB5CXbvvQc7QOlgmMUlbgBAxuodiJvuGUC6dNx7ZY8+QETLXmlgADpAmVpz41uuMEDNGzlF73MmQOSrjxQc5ixAl5fxzgpXOEATqCTegmrgP7uK2+7iDy1A7oJZMXNXJEAK8ZWaaYdEQNsVu/uaWwlAWnAL/sWfAEBGzTEbT7pBQKPLNliL9SRAQoc7jgP3+j/WLscNYDkrQJ+JpYCqA/A/MvKKdgGvPkAJKupQ6FQKQFHjv/x1cS1A/UkuM8w2OEB3wzzW6UIuQM796MTga0lAJQI3fN0hDEC6qHlaquc+QN8jMUkObPM/hykWm553JECoCUzcJpQ8QMvIiCrDbkJAu2nhkNsaOEAG3O0jaH4rQEeOo4Q7cSpAuQo8hNLeGECCXTt4X6cWQMiBYb1IZCZAXfrF9FrKIUCq60eg1n0+QDZnpHgNTx1AeSmoZj+GIUAXk/zuxZY3QF/fMB6RpzJA1U44A7hHHECzyQqbHEU2QKgCRmKmghxASul7lrttHUA1Mn4q7wAtQKHevkHEdyZAQ6O3pU/FKUBNsBMqefRIQGH+HsuhojFA+W31twJJM0BJmWoUXXchQGmk/e+ydS5ATfO4yLAZJkAvdCUIas0rQN0R+BOGIi1AYmPaVY3vOUDETQPF3Oo6QITkCfSNBPM/ZXwy20d8NUA6x/y0Sm4hQAo0W9NzQCZAl9yYvfNiDUB+tpLEIR8xQLwfyQNWdzhAwfT0gfkqMEAeRQYkKgxIQFos0Y4WNCRAJhlJ2oiTPkA0GqFICUYnQLBJlnzVJ0BAKLsKR/xoIkBYmfE02F3lPyKD2C51rS1APVbXQKi4OkDZ+0lMD1r7P/qDtq0DrTBAYGAyHo30SECeXLCd1l0/QIC2Beg/o0NAnrVrMFiERUDcbZPo2jYyQFgWio6mLCRAB7rwTjFaGkBmSQ2FQgFCQKkr1XQEayJAwoyiXapcF0ARYQDJbjwCQG83RvjQLS5AUMHDBQKCIUDsBpb38X4fQMX9GJctGD1Am9q60IVDREBc7M8mO14zQGZsKSoFyxBAtljcP94HFEAi+ajz+sQaQBBIfJG7gwRAEV/Zxq3HIkDc0a8DBF72P3lFemEW8CBA3RY+1JPkBkAXUHooGyQ0QFKEFybygjZAQ3BQVOSHP0CIPr4GIgILQOKDmDWb5g5A+BSubwTgI0AXxtMf4LoYQJBFojBTsjFAteTO68XJI0BW4ZtIvmEJQOiQj/iEASFASiN2GEJR+j+0+XAPG08nQBwTUCUIUBJAie5YC0YSI0CSoqe5GOlCQEEVfLedsT1ABKR5vlZ4IkDKGQCDnwRDQI5GgqO0PCJA3sntOLb3JUAEOkncBDEtQPDgW/kppkZANwhIy4JqF0BPZdYh0XY3QAY9wjfQch9AhPt/6LdBQEAfdRZ96/84QD8f2LKU4kRAqzxpOB/iEUCIPC2j6so1QNntm8LJBUdAofrekL+YBUAIRxiv7IMmQLrE0+7I2j5ATGwdjCWBDkBNghnwdcUEQBFY2X1XVUVA7V/1AbOVOUDDgY1dtzo6QFcaGEOFUT5ArKZnKO/HQECljSdDs8E2QGhmwmxrFkFAJgvsfZF/SkDMwyOOaHI3QACBzhMG1ClAS6nC1imVQUAw5dIrB2dBQLxGC65lozdAXo/8Vqf7QUD8v3Vk9WoeQO8zyasJwzhAhWPqx3036T/4WR0on2XaPw5DhSQd7x5Au3dZJXxwBkBDhFLXGO43QOI+9vVPgQ1AS8U8fjdKQkDtjQxXIGAvQGSNOT+dQUhACSGtbNLC+D/IJgCEbQANQGHKyJB0XwBAtAGiRBVsK0CXUKYPVEI4QApAspyTXA5AygIHSp+hSEDz52bXYtIlQMWI/y2hcCxAGle8GilLI0DrQWaV4uxAQKJtvzlQOylA39W06esPLUCRZXJ2aE9HQId+liVMR/o/KlbWABU7HUCz4GEcMcMQQOewGEMoJxJAtSV2MAAYIUAkKgC4mcAQQHcI7PbwlChAh7scvBAQLkAC7+zsJJYbQGvZ4vgSkkJAIh8hGu3NQUBwkNFK9KYbQHnnAFGphABA5blI6Ub5MUBnS0PIiEE9QNMvdkXLK/w/3F2f7ablDUBN34GNqVAuQAlG1bW3gjRAf2+EZOY6FEBWn+9lB8ULQGpE4vfXljNAwlBLuOTLNkAYlqNDirgxQHS/PYxo3QZAi/+xZQTOAUDQaAs6Hc4EQAcctIzoqw9Ah3toF79iSUB/niIMeRAnQNqYtiR2LhtAcS9Lt2nUI0CokeIIr7ZBQF4Yv6FaEwVAOEqGOAGkQkCV8wRVb5sIQHSlOZ6kfhJAAqgBnY/PREB4vdW3NwgxQEcIWLp3/TRA9HNXcHOVNEA96Am8yv1KQIzkVeiP1PE/wpaz/OkMR0AnASw09ucyQIl4nADuDDRAjGrOPw7lSEDULQSaYEc/QFDPsLzdk0FAFYtMSkq8AEAEDZPt2otMQH2RoLM7MytAJVMGrWmuPUA/kTcDU3EPQKXPMg0RlxVA22VbxbIiIUBNqGlPJ7UFQHwPxIDRLURA/Y3IbmukQ0BRe5y3U0T4P1C0Ol7IJiJAgmnTUx18DkBAvASzNWxDQBVO+SK9JBdAqc96kP71GEBnkFgEl0IvQM6wG+9GdjZApOB4Jx78LUAzZlw0ZsgiQKP5S+6pehlA2sjJtyPhKkAkZcuvyHMBQCJfEl1POSVAwB1JFrJsMkDDfhlINvsHQJ66NlLm2UNA+w1VTEMxMUB/GhUfVkdCQLHH9e9JZyFAe1VMkZhPE0AokBnTLvBDQKeGQAGVcjlAOeMhU6FXMkCFlWbqZPfdPzOU4zgpAhdAhs/yraIMRkArqwg6b+RDQFVwQ4W4NRNA/GGjttByyD9RCUAw4FgeQFWTIylP2xtAKU7TTwzWNEBMwjDdbLMmQAn4vyoBqjBAwa5yJbF8LEA/hlIYIE9BQBs0i+kROCxAwLXXYgGKBEAcsTVdKOE2QP3L91A/KzNAl5FFQX/0MUDpmTOibRsjQE0L9BfXiAhA9nqD+r7JM0Aitmqz+Ho7QCjTX79PmkNAbcbTBRRNRECXF2cue3IBQNrb5PVn+kBAlqtpuM59KECHRiPrWggtQGJr7Et4wjNAfnNUxR9W/T/T92/JUCgnQLLaY8RnA0JA0lLu6iBDPUBb/1yreEciQLC4FqCZVEJAn9XQvIPKFkCV/tWemBJBQI4NuwcACi9Af3hl8NWrD0BSq1+6hfIlQPql16YFszVAMeJMTaehG0CvFHu19evjPz/CGtjATzZA6/TFgU4YREAkNNmbZG4xQCJzUETgiCJApsAOcD+JSkCVvUtPNeg2QARjtIMQpjpAFneflX7NN0BjaJe73lNEQIA+eoD6aCJAji4YPauYLEBK9GvxhC5CQJMMyQESuUhAGH6lqW0EQUCk0gOPTv03QFbxHFfYHUFA1oPs7fQXRkDjoS1Zv+U3QGQ0fr+ONyBAQaufRUZ0JECDidFFrZhGQLPyumvIOjJAUR4DVYfjN0DPMEmvUNYiQLNefm07MBNAZLmvNaI6/j+AIltYXt0xQKGESzkd5RFA2SJ0+3tmOEBrt1/AfrIyQPhUx5q14TtAc1UNDkhEC0A/rut+pmwuQJ4dqHr9ZDBAOaEK4B4JF0As/anStOgAQCqDQDSI+i5Ah0M3qvOsIkCYLZfFYvgGQBK2jBeyJBdA0HQAS/vuKUCzfby/W4QjQDRKtu+bbDlA6UdWRyUCJkDZM90nqyooQPUfUHD5fQVAulxdT6WUOUCMwMVG5IgwQKQpv8zYTCNAkuUHvE4IJkBceGNBd0w4QOweMHQm0yBAjmA/K4/bFUBR96etLO5EQOkmn2r5rixAlnXOTCaQIEAc0IyHZ+I3QGrh11cI4RhApR/yh5P+DEDcVSwnfGxEQNJpeS6CcjRA7Q+WdsgkNUBDKbuFFAcAQKA058SqezdA6SypF5/bGkCrrAZSMfk7QLdVkWi4/EZApmFBZzmo+j9TjiriJ1UoQErpOHoWxzBA5YN2DGJbS0Aso3s5bCPjP17KqRR6S0FAJrcG+iAPQEDe5N8Owy7CP6d0xSZDKkRAtRAQ+aKhQkCfcfiDPd0/QCrLBhm1xThAF9xkrNyxO0BZ3P9GOT83QF3N+4sHmwlA4y0fPI65REDF7Zw3G581QFnAH+ipODBAweMgjGVsKEAyTZc19LsNQKa/BlC6qDVA5R02M11IMkDNqpGd81g9QIQD8JYgVypAn2SwM4ofFEB8v2ejlYMlQDJgj2vToxVAAdWNWOljL0CVm9YsywFFQIoxe7lMUBZAv/13HdfMN0DCnRmfqEs5QAWBXZHOKUNAvCBxS18oQ0Cn80cKH74nQEyrSZxuUgxAH0UE/ZR01z/Nc3Wi/ygSQNJfdM3oaQVA1leTS1yWBkB3n2Nlz6I8QLSLVD4M/eU/ekvWtNWuEECd1j8jZm0oQH6AMs5RI0hA9tZdBBVmIkBGPK9ZSDA4QDx3CZQQ4B1Amj03BZsaKkB0e7DthNohQBhwnpJWcUFAWLuZ7touLEA6RmI4PN89QFuwIfEfzQtAvZEcldy5GkB89+gwRfwjQJ/NAjsvFEJAeqykUML5LkAGzS5MOVIDQMLb+96j0zZArDTJZVhaH0Cvx0PqIZxAQD9PIBZNeBxAylnNZx0RJkC87ksURfYLQPBbiJl6eLM/7lQML+tKHkAqwi1PnVY5QB01nDxCZwRAzFuMRIQOMkCjK4CrGSUgQA1H3UikxP0/5OHg4UOz/z8Uu7a0bKb/Px+QawalojZAt3uvTOQ1JEAjVBx5+D8HQOzzMtberj1ApA4gOA5fNkCPHNs9luoQQJVDeNbBSP8/M/J4+QWNS0Dh+OHb6t0jQHjk1YLIBPk/YTg0/mWWJUDbfQvn1ov0P3FARuFjNUZAOOaf8yGTGEAgjDVekjlEQMWk3NxePiJAIi0aEqbZQECyufDgHoMlQG5Kk/zCwyFAoEz8M+bE5z9SL7MlnbMsQBo6hZozuDBAXwW8VdEQO0BYJPw8XTImQMTfV9KqwkFAiBAT/Q0yGEDWRlNNsew9QDP/Ilb7eBFAiflHJGEdNkCg/nM+Z1glQGZ8PZH4+QFAQg3ll7U22T+XTneQTW0yQKc+F9QOGhlAKgqM60iNAUDWH9VEQYZDQPrJHByxciBAYLULWh40IEAoNT/gMlxDQMD7z538eiZAodbZLHiyEkCHhuoL+hVDQPkcMf8tIyZAzG4MaNHZRUAh5+SYTZMbQCpaT7f01UBAzNAbDqboI0AmfG9MZppCQJ+QUHcckRBAsYaN9gEqxT8wF/8n8hA2QN+CieOPJylA+2Z3QwI/HEB4EyzwcjYUQBkUG9usVBBAyIhcvGmoMEDpFtGzN6k5QFUG1TNg3h5AFqzNLfM8PECDJ1mukKcuQLx5HWArLiBA5q/0MPRAN0CVEXHBJtw6QMG960P/+ChA0JRVH6fsMEBcx4s9wdshQOUfPaEF8uI/FTWy7wUbMUBiv/h2v0IRQBZwqPLCli1AHBycxDG/M0Der7lJjiQgQIbtqKQY1iRAs/uf9kjmJ0DwOfGzg6Q9QIwrnIcOPcU/4nIDKOL2OkDJm4tupoURQEsa+fxIOB9A3Emd34mLNEBOkDwDzGoNQHqSlszs7CJAekYEAZjgJECojv+LokE1QEBuJ3vLryNAMO5eBd07QUBLMD+WPYI7QPJsqCFh3h5AfpDCtehRNUAfV1p7dbE2QCUEThiHrDtAR6m6OT4aKkCiQgdLGAUlQMQdcSMIjDJAO2JFNzhFJUCIE0fN/qYqQIPFMnfBejpABrTnYhXYFUDblUNvWDEhQGU1hWDyiBxA8XSU22Au2j9RS3M7wyYwQBoFBMYzNzlAqO3e9mGOJkCCazZcorIyQKIPJHAVJihAP+CkTFVdPkDQfgKzOQU8QFiTygAuWS5A34Sn9jplKEAnPp6QKj8VQP3xaVp3cSRAWMgs/qhaOkCGoETzn70cQBZMU4TrFT9AJDNeVgUB5D/QqXOreZpBQNM5H8FbAhNAfbpqsYB89j9vueT7gkAeQGgQzX0XEfw/VaoAxh0m/D9fp/9itQRDQHyeZ/YmOUhAX+Q4jy8v5D8lTsJsxP0cQK8ufSas9kVARFW8FO9L5z9l756ezXwgQBxQL7/UVkVA5v15VnrfK0BzNgJp0y0iQFVYrazOYhFA+NM2m0RlQUA4o8k8q30+QFq4UUvnbkpAOerJiVgCP0BwRk6jYalIQHXKjysyrTtAtSXOU3eQJkAeZFfTswc5QDzsJsdgezJAQy4BH0z6JkCRMcK1l9Q+QL7TL2NDrDxA4xZSEvr6EUDJMFfG5vc3QPLUTGFWyTtApbakRh+XFEDH++UnXLwRQP1bqmQpPyNAVP7ur2ehSEBSPlJTaTM9QL00E0ZZDTxAEtpS7t6XSED4svL5kwtBQCVBHyWdzEJAvFne8Pb/CkCSQf/RWn0TQHSP00KulxxA/wbdnxybRkCGHw4GitUlQKROt3ImPRVAwbmwyXlHMkC7ITwC55AYQH40wC4XdjVA/aYOgppXLUC5Sg6Ya0UvQODkzrO7wTNAoJnAngDtQkA9u3En23TOP7eXh//1Nx5AmkIxreFjMkD4PwzXdY4zQEuNQaG5TyFA2RIPSCsdPUAcc2Oqlp0kQMAtx9zw6jFAhzyCe5Op4D9nbUadj2dDQOWx9tJ8nw9AmvpKxBNvK0B6yTqgGwYaQI7kKCuTtBRABBhBTLcXFEANnYQ9U4k2QF7vZsY/5ztA5HJIfefXxD/Mrb+Z6lYTQJ26PWJKCTtA6ouSdD0HDkC0Y7K57UUzQB2l6LetaTBAB03mYC/OJ0CX9hdT/LsPQCr78l5SSEpAn6hxKVWINUDSJ7IGrMY4QKccfEsgeDRAF3d2YGP2OUAo/yW1gqAIQK17vLlR3zhAGq2pNdhb+T8my52wg74HQPp6i261ES1A1sQvaZ9VIUBKKFCyQscwQK+9TyLJgjBAbvfWTXjDR0BNu9df1PY3QOFtRLScuT1AnXQmj0PlRkDY57/0xdZEQPe3JKpVNjdAmRbNc+ibSEBeRKBPxhVAQEpxmoMHXzxAHYgFKjsGFEDzLbvn1v9DQL9GobDITTVAUbMMTHhfO0ByEPaZgYTEP77TFMAY2ztAYiRq2oTHM0D7McGMibs3QOpHexUqHipA+4TjJNoeFEAUjjVPaKQvQMyx1X/2/IA/PWIkwgfOG0BSce2mhrFAQPJmMXZM3CJAClW3XxnK2D9IdsnwLidAQEopHvXcgyJABykLrR9PGUBzmRVZtAEWQLFodgZtKwJAH0UpQIiiQED5kt5PQ8UjQELrmrtyGABAlVuEgDE5S0AN+y1aJD5JQAB91NNc+0FAEI8rGD9COEAirDMhMslFQOCIxNuMWi5AZJymwU6AFECi2Plb1JtCQG6+vndYnBlA+y076jYPJkDYSrel+oM5QMDPANHM8zZAkrub7ImqFUB/6T4idexBQCBW8ESLrkpAIMAzoZnfI0BPrX6CpbDpP0Rp+FFT8vQ/RM4GGd51OkBidQDFFOxGQBwVGY8ZCkVAvRB/1aLdMkDBae3VaHklQKRpn/MBFERAOneN9oleB0COfQdj4iwTQP+JMesnskJAeMu0Sz/RLUDxS8pDNgg9QA9hcCANFUFAqb3lVBHgzT9/eomWqHotQFBRbaECukZAwMCatL+RPkDmVQ/eIrtJQLhNON0KOTtAqpCLaD48J0DkQaoYhqA9QALj5SHY9ElAaxHQLNYyLEAkXs1KMU5GQDIPYFIjWj1AVLc+82FzIkADbxWYbP9EQKNyh1mIYiVAbOhSzqdBMUA/mYO3JgYkQOINYW7HCztAFjbR6C5tKUAMjOAI3OJIQHcA0w3ALhxAMXZzdH8DEkC5mLdZoxcXQEtp7vUIGzhAmhXFz6tKAUD7FdWNoCBFQEipZ8eqsDRAgqp9BRKsQkCH4JXWW5QFQKrVjKdkGfA/nIXsErugHUCNfRiD4S1IQPA8e91tikZAJGJtgJ1cLED5S1FjgiMaQGj9PvlnfzBAwlUVs9rnQUAxSwabg5EjQAaDE3GMdxxAxGW8VEIKKECO/X6alTIyQPZhcsy7FzZAUvJKtAP+PECtKURUMgJFQD0HpgrYKS1AaiQYPdNcLUBq0sriBi8JQGgg5VG53A1AgMVEJVqTQ0B24alzXCIiQLYTjmqm2CBAcZ8uqKcXQkBSXqiJAjglQIAScw5MKCVAUa2T8eKSFUBSYULvYsQ9QJhTamvFJkVAj34eFw/yREBFh5dy0iw2QBjCi1VQ7SFASFe/tAeHBkCrk4fS1/02QLOfoP7bwTRA/RMXO+GPLEBjYWaciC83QBV4d6dj7DxARyWdaPv5SEBKyYxstaVHQA1agqYisTZAV9kxVOOEEEA5XtfjdXg9QI3R1wMLgyZAO1bnSsp8QkD9gQscGpALQO7c1K9eKwBA8gEJgPS1RUCXH3/dOIk/QESednKaagtAJqFRvB3OGEBBYCmF7kL4P1uShwXGMkFAVQzty+b/QECbxPNXzMwyQMBqMr9QoglAexFJIOkd+D+cI0/K1TYDQF7DPo+xvC5APz67m5awDUA+l5xSpdIRQDRwQEYyO0lAkWFoKZ0iHEAGkVSNLI1BQIKfKBVykD1AK2F7xiHVNEBHDMULkEEKQLbBFpuaLzxAXc4woETlPkAmnx7KOnspQF1elM82HDJAoNtwrt3rMkDgps9GDmkxQFm580SVVCFADnFfDHXjJUCyJM/DHAAgQDCDi+aLHEBAmZNG3AY4PEAo48DiwOPwP5tOoiiBkR5A4gQQMiSZRUB8DGC4sDwpQKDy9UAFtLo/He6N0qWx/j/UN7qWgXQwQKrPGlwyVRpAeYoneoYMEkCuMuXlx0AwQLHCvRMsWQRAkq4oSKDYAEAOnWqP6X07QCUXY65GjwhAIoR1zwchMkCkJjuq0/YnQDQ7NpZIsP8/xb7cwzITNEAuDBRXscUdQNcjetzbnDtAMENwyhSRPUAq99v8DGTzPzZbWkZiGiBAKwbWS5L3HEBrWJhkl8xBQGq7LfJfXvQ/l0DgrDjFIEC4Yd1K4Fg6QNdKm/ffrUFAz6EBpWSAO0C0+YstkP4jQFTst7n3ML0/WqkvQoPBEEDLI7T+cuI7QAmlSlD8Ay5AQm2cfP6sHUB6JcwFIcQ4QGVcUuJPvCVAcSCrEQPf5D+rgZJ4HqwcQEXKdl8UcAFA6O/JHYNQSEC5LRuMsGNIQGuA9oJvi0BAZVpoeSMTK0CG92zVoQ1HQKeZnHyNkTNAWH1UUehUE0DYh6ZGI4k5QDRtx022UENA85KeCxw8NECrQP3fSIEqQCLPSZ2buixA9AxLuRp/7j+MaY3D9RwyQJbxroJ7/h9AIUNAJK29OEAf4f6BNB1BQGRAbGDPLvE/Gi0STarJA0Amrg4VJ2MxQKvVQnHJgChAx/iZaLQNI0BRiWN76pAyQB6uABIDqB9AUq8thWfwNEACn1kEbhYzQHqgxdNi9DZAN7gRV7kVHkAvz2AVo/1EQNC3iFMIvjRAOcGq9Lgq+j/UDwRaEEk1QE70lXWe//s/TyAao2GDRkD44HCikW5CQGLi377K7D1AvIKtef6qJ0Av6VnsPwcHQPzuAsSWVEJA11Zh+zvUTEDSsN1E/bASQFV9W42ykhtABP8yd4/gNkAG30nkaf8RQGkrHizOPi9Ah+75NG4QI0BCJxwu6wAwQICRT5CVKiRAu9NnOr1rREAxprboJXM2QIrke86szEBA+H8fE24VOUDaG17Gc5wiQOceAmOuvD1AOvcb3IWCI0DmOiU3kFwfQMiMPQjisSBAtnK6dR8JHkD/UY4G7PEzQI4/VUi+tzhAjtMukci9G0B5GpxxnQkfQNL/lXSKizJAR0ZSchFNIkCw0T/FSFv4PyNpKLu8PiJAaFi073313j+slkyAgtVCQB6dRCAhJRRAAdqzRTt7PUDfOtRfJzktQCrX5al3IUNAgbmdZFABR0CQFZInHwEqQAZCbxl94vY/+Q/V39LsKEDbHeV+PUEuQEEhUZOaWzlA3WRGoOV4QUBPIlocKsvlP3Q/Kl3uKTtAwOp0T+K1JkBu9TzN9oQ7QD8p0u49k+k/hcZuabzUJ0D6x2X4x/VAQK9qTnRKhkNAnpKv2FDjIkDLZqxftHwEQPXrbz5JsAxAHC1EKFPuI0Ahy2fqhc5FQOiI+FrYnNk/2bULbywLOUDPUjKht1YzQP3W7gO0UiVAgRmVTWr2MUBkg8MUDztHQD68bAffdztA6Ii1iyiROkB+mpBKSgccQNLziqeFtv8/OXRQoxiIGkALIW7+DbtEQDFZjM639AxAZmGvRX/IRECJvuNCpY0BQCIkH+v2wjZAgzOTAPunLEA89Gkt/gY8QJlJCqdKRtY/42un7wzeGkACgj2r/lVBQAWiAKFnKzBAio9qj7lFNkBjbmkH40U0QFeVRcVKox5ATYYeEuJwE0Bc8V0mcjFFQJZJ69tFIQlANtUvZD0SQEAynLH2TeoBQDLqm8waXBxAFS0uudGxJEBkgMvCXKAoQNxCJ4q1lzpAzsefay47RkDhszqFJhc4QAkca9cj5zZAqml9u22yLEC8TYtNVJIfQG4Z5LyKoCxAb3PK9j82LUAdLQUGMmQFQFgL5o+uWvs/BlnfBBTfRkDqSzCdKMA+QNiMNWBarkBA2Z2EMsiKOEDytG7MnOMyQBF7JTw5BRJAj+TifylrSUAiyNUoUE8cQIc7D3ZNGSlAd/vFCHiiO0AvLjjm7ctAQKR3TAKWhz9AnMdfBJ6pS0Aouy1dc64EQCRxak0qgUVA+RqI7Jt0QkDWa+rZQUzzP1CzI918tUJAVNMffJ9DK0BSuWkt5AUvQOHWC2Klr0VAKwhVp7HTREDdedxwaQs7QJr46WrqVi5AoB8d4rYpO0C4w6SrDnjsPyckFAQr+CtAakgQyPIXGEB0cKt/yYsuQN5MlVrBEiBAW93YDWxiMED00jrxFzURQAj0fAzqqyVAHIWMcoQj8j88cpkuq5w5QNGmt5BS5kBAZoEzXr9jKEB7S8ZIw3AlQEMQuBvOoyFA9MA3nGNmRkDkAtenesVBQM51XrqvBDNAxSGmiu/vMECxpO0qVwk2QK80g+07QTBApopTd3coNUC/QcKyjQwdQEaMazTW1EZARzhUWro8NkCH1jdR+wlDQNV1f6311jVAsbS6A1iMRkDH0J25eIA3QFCJaJDogjJAAgiBDYcyL0ClE8XPTXMuQNzN5VJ5xTpA/iEXkZzzNkC8CBFtnXEgQPqVBsYhFDNAZzhevQkzQEA+nfJtHpghQBWrCqDSHjZAp4yMeVR8KkAs2UzRvCglQHrJmNrgvjlAggc78Jn0LkDP3W6vhJlDQIBdbjQyT0lARGHeZKx0PEAvJUJK/lQsQIuhqReuczVA4zarTtYWQ0DQe/7qjgdCQPgaQVX46yFAhe6+2wKzIkCKioKAT/cnQHeOdVqjszVAnl6OfE0+RED6sDCw2GpGQPRaxHarpTxAvbqXYRo4REACijvd9SlAQPrleNtlr0VAIJltXEVwKEDsllPgGO4aQB8zSqtsJztAhDQA6Rd2IUBYE2L+CET0P0tpGUrBoC1ADjW1Oyn3P0ATjnaW40wPQMxHX7tTL0ZAUOvcpdeoE0A9d/AZ74tGQNkG2MWliBxA/UCzm7NmJUDvfSArqBUeQLPl9I649kNA9ElPn6dcC0Cz6ZoqQyshQLGFf5MmXzFAP/71pFDDO0BlafhrtWcqQOt/MWkaYOs/VT9Wp1ez4T99SungsnImQGxAN8ZE1yJArSaLZZ1ZNEBwMIpK74AzQJjRFt8eWUVACs5DUGQdJEBzuysUd1IgQJNj+5uwizVAYLokA6RWREB+BOYj2lEhQJSEMmTq8h9AzY/HT/aeLEDZewBsUAkmQIU1/+8OlChAiZayfQANNkBYgyWfbzkuQJ3SQ3bd1UNAqTcIbl1qO0BqOXNTYqscQLKIJCz92jNASEPPmnpMFkAAxULnek87QIyn7APckURA5Kp3MZ3NFUCMvfKxuOgiQM+YChEPWxRAzMVETmMwF0CC23WJHmQVQF4bLDlnFRZAvR2PihNOEkD5/b2HmDMHQHEq3KSBdCdAZv+jruDUREC7ljChS4IkQMYgZ0udXztAWKRYkGf8REDycS/6ABw1QEpz8j7ZujNAqozi7grLKkBJPzaI02ZAQP9U9IanLCJABuceHh1TOUBawezfBPnZP8bP+TVEwxtAJkqbainDDUCO9GWC5tz5P9ZVHpet9EBAPB5+vhbzM0C+ROd5GpITQNAHpsUKtTBAbY3KGfo1MkBvkA+SbSHiP3gwooMDBkFANfOenlFFH0DJBUuVqkoIQIcL2y6VGyRAIAgcCrpJ/D8BxPTFvzY2QE8ZOao8UjVAblg/hCZYM0Apnc6DHT8RQOSLXLIxxRxAVwz6nm9hKUCNaDRz16kxQI4g2gcxbiVAjA9msXU0L0C5kzvJH6gcQE/Eu6agfzZAL0Xs+tAHSkBWeFEXS7scQHH3dQ6zbQZAFeRedXApQUB/CgB7t4I/QGWqUkumqC9Aav/sODaBLkA31cElCf0wQACwadaBZUBAxWF0nfjnPUAgav0FutEsQOOOcvFosDJAKLqJxdUsQUBO1sLcSkJAQC4COnfhrt4/VEZpNfUCyz8dbPlFsqhBQCZcXK0s30RAbv5iQcQi5j8vFFgEijc5QGXWYsIQDCdAg2Ngc7M3JUCtdqAUefU/QECHAFguGzxAyjbZo50fOEDKOk1O570lQG8E9uPiFzBAEq0qDgS+9D/8ls43TWkhQEHyyPJtbjtAWH0GU5KHKUCHxYQVCzA+QHJhCSoHOTlAd9LD0R/LKUDnMLArIEQ6QKYru2Pi/j1AnDISQSYAH0DzzGGhz0spQOAgDfjI4jBA3iZ/tWJuQkAU1yeJQxUjQGQUv5dS3iZAvPHGr/6GMED+2zCiAV1DQAhrhauvPChAELypHgZ7PUCXTXhMHQFCQG9ueaTIJT1AV6OsuX94RkAvps5tPOogQOejLpwmNytApGElzIV08j+XO+tFGt0nQNTCxnni/zVAWFujyxWGM0CU9tcjryQiQOcoGzsUxyJAp8MaQiwCK0DvuhIcr9clQJ2fyilr8yBAwMttLDRxK0B+3ZIah24HQKLi/nh/y0JAccNFJeU8HUCWoJZXUmYxQJ7HELRqrS5Akd+w5VqHP0BHjD4JEGMwQID0z74vjCtASM0Fg2ePLEBHDzBkj0kyQJkEF6D6TiZAu1lqdnqvIUCDixzL4Wc6QORQ2zYg6D9AAGOi+LsnRECcBqGkhD09QBdejgZEJts/7JJMjCSqQkDh6mC0ZhFJQDryJe21uTRA5I3xXoYOM0DT+JOJSx41QM/1jseUxfA/rucVm0O/GUBY1nMWOIFJQPo9gGOzZERAzsfKbm2WI0CeoD6wB/4fQHoGHOHryzJAHiLma+gTKUBiN85cPP4AQPHd/kzapDdAFCNE7v+0JEB2D4UFngE1QOFsOTgdVD1AqzpmrWqSKUAuyuWzSYwkQOYW8H2aUyhA9J0qGrdqP0AmjFLPNToyQOdzbjRVSy9AFdTV/n5jNEDCEnACWqA9QPDcWQ7f/CRAgMvzquiA4z9WhWrpiVAnQIDy4PSXuS5A1i45LXGDDkB7tg948lcgQBMBxnETYw9AoFiYLG+7QEDKZZn76WUvQDSv9NiwSElAhu0spz5kPEB6p/iatUosQBxlEtVE8DVAgkzCb7RhSEAbhhHMIDg5QFbVyQwkLT1AmN9ZRqunQkAU6EpSyQtIQP6y97cUqTZAszLQQr2RIECnylMAMt80QMjzLMFIUhlAM5q5fN2LMkCY16y1sUQ1QE9C/p/LeERAQK89nQ7tQEAIRAfXXXY3QGAa6do/60hA",
          "dtype": "f8"
         },
         "y": {
          "bdata": "AQEBAQEBAQEBAQEBAQEBAQEBAQEBAQEBAQEBAQEBAQEBAQEBAQEBAQEBAQEBAQEBAQEBAQEBAQEBAQEBAQEBAQEBAQEBAQEBAQEBAQEBAQEBAQEBAQEBAQEBAQEBAQEBAQEBAQEBAQEBAQEBAQEBAQEBAQEBAQEBAQEBAQEBAQEBAQEBAQEBAQEBAQEBAQEBAQEBAQEBAQEBAQEBAQEBAQEBAQEBAQEBAQEBAQEBAQEBAQEBAQEBAQEBAQEBAQEBAQEBAQEBAQEBAQEBAQEBAQEBAQEBAQEBAQEBAQEBAQEBAQEBAQEBAQEBAQEBAQEBAQEBAQEBAQEBAQEBAQEBAQEBAQEBAQEBAQEBAQEBAQEBAQEBAQEBAQEBAQEBAQEBAQEBAQEBAQEBAQEBAQEBAQEBAQEBAQEBAQEBAQEBAQEBAQEBAQEBAQEBAQEBAQEBAQEBAQEBAQEBAQEBAQEBAQEBAQEBAQEBAQEBAQEBAQEBAQEBAQEBAQEBAQEBAQEBAQEBAQEBAQEBAQEBAQEBAQEBAQEBAQEBAQEBAQEBAQEBAQEBAQEBAQEBAQEBAQEBAQEBAQEBAQEBAQEBAQEBAQEBAQEBAQEBAQEBAQEBAQEBAQEBAQEBAQEBAQEBAQEBAQEBAQEBAQEBAQEBAQEBAQEBAQEBAQEBAQEBAQEBAQEBAQEBAQEBAQEBAQEBAQEBAQEBAQEBAQEBAQEBAQEBAQEBAQEBAQEBAQEBAQEBAQEBAQEBAQEBAQEBAQEBAQEBAQEBAQEBAQEBAQEBAQEBAQEBAQEBAQEBAQEBAQEBAQEBAQEBAQEBAQEBAQEBAQEBAQEBAQEBAQEBAQEBAQEBAQEBAQEBAQEBAQEBAQEBAQEBAQEBAQEBAQEBAQEBAQEBAQEBAQEBAQEBAQEBAQEBAQEBAQEBAQEBAQEBAQEBAQEBAQEBAQEBAQEBAQEBAQEBAQEBAQEBAQEBAQEBAQEBAQEBAQEBAQEBAQEBAQEBAQEBAQEBAQEBAQEBAQEBAQEBAQEBAQEBAQEBAQEBAQEBAQEBAQEBAQEBAQEBAQEBAQEBAQEBAQEBAQEBAQEBAQEBAQEBAQEBAQEBAQEBAQEBAQEBAQEBAQEBAQEBAQEBAQEBAQEBAQEBAQEBAQEBAQEBAQEBAQEBAQEBAQEBAQEBAQEBAQEBAQEBAQEBAQEBAQEBAQEBAQEBAQEBAQEBAQEBAQEBAQEBAQEBAQEBAQEBAQEBAQEBAQEBAQEBAQEBAQEBAQEBAQEBAQEBAQEBAQEBAQEBAQEBAQEBAQEBAQEBAQEBAQEBAQEBAQEBAQEBAQEBAQEBAQEBAQEBAQEBAQEBAQEBAQEBAQEBAQEBAQEBAQEBAQEBAQEBAQEBAQEBAQEBAQEBAQEBAQEBAQEBAQEBAQEBAQEBAQEBAQEBAQEBAQEBAQEBAQEBAQEBAQEBAQEBAQEBAQEBAQEBAQEBAQEBAQEBAQEBAQEBAQEBAQEBAQEBAQEBAQEBAQEBAQEBAQEBAQEBAQEBAQEBAQEBAQEBAQEBAQEBAQEBAQEBAQEBAQEBAQEBAQEBAQEBAQEBAQEBAQEBAQEBAQEBAQEBAQEBAQEBAQEBAQEBAQEBAQEBAQEBAQEBAQEBAQEBAQEBAQEBAQEBAQEBAQEBAQEBAQEBAQEBAQEBAQEBAQEBAQEBAQEBAQEBAQEBAQEBAQEBAQEBAQEBAQEBAQEBAQEBAQEBAQEBAQEBAQEBAQEBAQEBAQEBAQEBAQEBAQEBAQEBAQEBAQEBAQEBAQEBAQEBAQEBAQEBAQEBAQEBAQEBAQEBAQEBAQEBAQEBAQEBAQEBAQEBAQEBAQEBAQEBAQEBAQEBAQEBAQEBAQEBAQEBAQEBAQEBAQEBAQEBAQEBAQEBAQEBAQEBAQEBAQEBAQEBAQEBAQEBAQEBAQEBAQEBAQEBAQEBAQEBAQEBAQEBAQEBAQEBAQEBAQEBAQEBAQEBAQEBAQEBAQEBAQEBAQEBAQEBAQEBAQEBAQEBAQEBAQEBAQEBAQEBAQEBAQEBAQEBAQEBAQEBAQEBAQEBAQEBAQEBAQEBAQEBAQEBAQEBAQEBAQEBAQEBAQEBAQEBAQEBAQEBAQEB",
          "dtype": "i1"
         },
         "z": {
          "bdata": "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",
          "dtype": "i1"
         }
        },
        {
         "mode": "markers",
         "name": "Hierarchical 0",
         "scene": "scene3",
         "showlegend": false,
         "type": "scatter3d",
         "x": {
          "bdata": "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",
          "dtype": "f8"
         },
         "y": {
          "bdata": "AQEBAQEBAQEBAQEBAQEBAQEBAQEBAQEBAQEBAQEBAQEBAQEBAQEBAQEBAQEBAQEBAQEBAQEBAQEBAQEBAQEBAQEBAQEBAQEBAQEBAQEBAQEBAQEBAQEBAQEBAQEBAQEBAQEBAQEBAQEBAQEBAQEBAQEBAQEBAQEBAQEBAQEBAQEBAQEBAQEBAQEBAQEBAQEBAQEBAQEBAQEBAQEBAQEBAQEBAQEBAQEBAQEBAQEBAQEBAQEBAQEBAQEBAQEBAQEBAQEBAQEBAQEBAQEBAQEBAQEBAQEBAQEBAQEBAQEBAQEBAQEBAQEBAQEBAQEBAQEBAQEBAQEBAQEBAQEBAQEBAQEBAQEBAQEBAQEBAQEBAQEBAQEBAQEBAQEBAQEBAQEBAQEBAQEBAQEBAQEBAQEBAQEBAQEBAQEBAQEBAQEBAQEBAQEBAQEBAQEBAQEBAQEBAQEBAQEBAQEBAQEBAQEBAQEBAQEBAQEBAQEBAQEBAQEBAQEBAQEBAQEBAQEBAQEBAQEBAQEBAQEBAQEBAQEBAQEBAQEBAQEBAQEBAQEBAQEBAQEBAQEBAQEBAQEBAQEBAQEBAQEBAQEBAQEBAQEBAQEBAQEBAQEBAQEBAQEBAQEBAQEBAQEBAQEBAQEBAQEBAQEBAQEBAQEBAQEBAQEBAQEBAQEBAQEBAQEBAQEBAQEBAQEBAQEBAQEBAQEBAQEBAQEBAQEBAQEBAQEBAQEBAQEBAQEBAQEBAQEBAQEBAQEBAQEBAQEBAQEBAQEBAQEBAQEBAQEBAQEBAQEBAQEBAQEBAQEBAQEBAQEBAQEBAQEBAQEBAQEBAQEBAQEBAQEBAQEBAQEBAQEBAQEBAQEBAQEBAQEBAQEBAQEBAQEBAQEBAQEBAQEBAQEBAQEBAQEBAQEBAQEBAQEBAQEBAQEBAQEBAQEBAQEBAQEBAQEBAQEBAQEBAQEBAQEBAQEBAQEBAQEBAQEBAQEBAQEBAQEBAQEBAQEBAQEBAQEBAQEBAQEBAQEBAQEBAQEBAQEBAQEBAQEBAQEBAQEBAQEBAQEBAQEBAQEBAQEBAQEBAQEBAQEBAQEBAQEBAQEBAQEBAQEBAQEBAQEBAQEBAQEBAQEBAQEBAQEBAQEBAQEBAQEBAQEBAQEBAQEBAQEBAQEBAQEBAQEBAQEBAQEBAQEBAQEBAQEBAQEBAQEBAQEBAQEBAQEBAQEBAQEBAQEBAQEBAQEBAQEBAQEBAQEBAQEBAQEBAQEBAQEBAQEBAQEBAQEBAQEBAQEBAQEBAQEBAQEBAQEBAQEBAQEBAQEBAQEBAQEBAQEBAQEBAQEBAQEBAQEBAQEBAQEBAQEBAQEBAQEBAQEBAQEBAQEBAQEBAQEBAQEBAQEBAQEBAQEBAQEBAQEBAQEBAQEBAQEBAQEBAQEBAQEBAQEBAQEBAQEBAQEBAQEBAQEBAQEBAQEBAQEBAQEBAQEBAQEBAQEBAQEBAQEBAQEBAQEBAQEBAQEBAQEBAQEBAQEBAQEBAQEBAQEBAQEBAQEBAQEBAQEBAQEBAQEBAQEBAQEBAQEBAQEBAQEBAQEBAQEBAQEBAQEBAQEBAQEBAQEBAQEBAQEBAQEBAQEBAQEBAQEBAQEBAQEBAQEBAQEBAQEBAQEBAQEBAQEBAQEBAQEBAQEBAQEBAQEBAQEBAQEBAQEBAQEBAQEBAQEBAQEBAQEBAQEBAQEBAQEBAQEBAQEBAQEBAQEBAQEBAQEBAQEBAQEBAQEBAQEBAQEBAQEBAQEBAQEBAQEBAQEBAQEBAQEBAQEBAQEBAQEBAQEBAQEBAQEBAQEBAQEBAQEBAQEBAQEBAQEBAQEBAQEBAQEBAQEBAQEBAQEBAQEBAQEBAQEBAQE=",
          "dtype": "i1"
         },
         "z": {
          "bdata": "NUBJMWFRJDM+XkMmZBU2N0BPJURPUy4dVVU1YCA1UzBjXFVgGkFeLVQoQzpBXlZfXx5gVU1ESTFBUCMjUSsfYF5STGReFkAWVF09LVheFlpZIkIpSR45TS5OO0s2GlUdX0VeHidVSjViX1QxIFVZGFJIJF9SM2JWFEcpV0AqUBlgQFg+RU1dXVJBWEJbTjdjWDdJNigXR15WNC4yQx1kW0FRUTRYSSxFPkQeP1AxQT5DMTYpWCgXVEw8MRZAMkA+Tl45XU9WKU4URicjRT8uIBk2VVlPT1VaRB4UWE4ZNh80RFNTPD5fJFJHW0Q0T1pXQlovJlpGPz1hGTk6GB9ULV9IVWNjMF82LhUtNy9gUVQVWyReUBofWFAVLEk9FFYsITxkVBpFNiFNQUFZTD0lW2MaYi1EOCs4TlhhWVtaJTJKYzVjSD83GkNCQ1paKGItTmAvP2NEWxw8O0RePlUYNV9CVF9aJBZZMjQdLlAeQEYbQBwrUWAySGEkVUc9MBtJU1NgGWFCVDo+OmJRNSFCJFZSXFNbXkRMH1FTSUBZODcuMT1SZD5eNBRPF0BFRWElNzRPSRZEXCVPYxpWKThPH2JQRGFiTl1dGB1VNiAhJjtXHEsYSj5hPzwxVTM4WzZHH1MrWj8kYUE3OkBIJh06OxUuMk84ZCZaWCFAMFwvMywiXU85HFpHJ0c/SD1DLiw0NkxVQlZUWklJSEwWSztZX01ZLh0wOSJeJl1jP1wZUBlIUF8VNho7YkgfRC46QFgkUBYVRk1FPyQYKUA7SThaYV0wHj1fRUMpFlE6XUVgFEghNVdVPRVIXUYbOCpYNlxePiFYGlwjUjpgYT5DYxw+SBsnVi81SzQYYk5JPUw3PCFaMyhVP1RRRyFUJD8kJDU5WTUtJTg2UUYgM2FhMCpfQllBSFJhGV5GIGFEFx0jVENXGSBEFFJAGDghP1ZcWGQZHBhZMVlZOUctP1YjH0QzVRc5YjwmNFdeXTNfYhc6U0RUOjw3KiBZMl0/JU4+OlBPKUQUGWA+WEBCWE1CWmAtWV5gTycgKCwxJkhgOENkUjBfFlM5WE5RX08nN1RdP15hREEYH1kxXENAVCIaOkMpT1UmF14XPCMfX0ovU1IsWBZhJStgMxpTKFdSMWRCGzsUHkFgQRk4PENfSFUkP1QVSElMPChdYmBSLxcbJSgnXk1eKiVcM1oYO0gcJD5iHFYuKlAxMiAwGUpYIEc+FFFiG1pgYh4lHTFCUVZTOjYkRF9dFi5LMy4sLFoXSzxXUTpUTCNiL0tAKStELVpcHlheLVwoPlpjS11QUV5iYmFiUkZbLDQ+IiZGLEwnYh9bMhxZJVo+UzgrVDJQIU8kRzBdV0swKFFULlY9IRwUQyApV04mQkhGQFtYVTFNP10YMCgxJEpBYVtdLSxHNTAdTzxBFVFSRhpkJTonIE8bQyUxXTxAWxY7KyhaWF8sJRUkNjshUlU4RS5dT0waFDthREJVICwsHWMjKEBaV01OGDsaNDQ0IjNhO0RjR14dXB9DFjhaVTpMRUMxYWBUJVFiUxUaXyQjYTwZY2NFT0M/MlJbUiA8JyQeXkQtLh8sXE4XI14tF2MyW0ZgMDtRFzowGTQvYi5CK1NaYiU8N0dBLkhdNSMeW0dARWBJW1NdYBg6NyVJPBs7VShjOU9ZGkEhYCkyOGNhNGJTXDhCTyVCHVo0XhscXyNTXzQ3UFdHUS9WWjhWHy9LUlgrSSBEQ2JDRDJCHEEeW0k8VkYeKSE2VEI9N09gPkhbZD5cWC0pY1EpPR5eGDsaPxk8Ql4vUEstM1wsSDdLWSxbYyAbXTo5VFc0OjxTFDEqIEAuXitVYF8dIlFOMSE=",
          "dtype": "i1"
         }
        },
        {
         "mode": "markers",
         "name": "Hierarchical 2",
         "scene": "scene3",
         "showlegend": false,
         "type": "scatter3d",
         "x": {
          "bdata": "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",
          "dtype": "f8"
         },
         "y": {
          "bdata": "AQEBAQEBAQEBAQEBAQEBAQEBAQEBAQEBAQEBAQEBAQEBAQEBAQEBAQEBAQEBAQEBAQEBAQEBAQEBAQEBAQEBAQEBAQEBAQEBAQEBAQEBAQEBAQEBAQEBAQEBAQEBAQEBAQEBAQEBAQEBAQEBAQEBAQEBAQEBAQEBAQEBAQEBAQEBAQEBAQEBAQEBAQEBAQEBAQEBAQEBAQEBAQEBAQEBAQEBAQEBAQEBAQEBAQEBAQEBAQEBAQEBAQEBAQEBAQEBAQEBAQEBAQEBAQEBAQEBAQEBAQEBAQEBAQEBAQEBAQEBAQEBAQEBAQEBAQEBAQEBAQEBAQEBAQEBAQEBAQEBAQEBAQEBAQEBAQEBAQEBAQEBAQEBAQEBAQEBAQEBAQEBAQEBAQEBAQEBAQEBAQEBAQEBAQEBAQEBAQEBAQEBAQEBAQEBAQEBAQEBAQEBAQEBAQEBAQEBAQEBAQEBAQEBAQEBAQEBAQEBAQEBAQEBAQEBAQEBAQEBAQEBAQEBAQEBAQEBAQEBAQEBAQEBAQEBAQEBAQEBAQEBAQEBAQEBAQEBAQEBAQEBAQEBAQEBAQEBAQEBAQEBAQEBAQEBAQEBAQEBAQEBAQEBAQEBAQEBAQEBAQEBAQEBAQEBAQEBAQEBAQEBAQEBAQEBAQEBAQEBAQEBAQEBAQEBAQEBAQEBAQEBAQEBAQEBAQEBAQEBAQEBAQEBAQEBAQEBAQEBAQEBAQEBAQEBAQEBAQEBAQEBAQEBAQEBAQEBAQEBAQEBAQEBAQEBAQEBAQEBAQEBAQEBAQEBAQEBAQEBAQEBAQEBAQEBAQEBAQEBAQEBAQEBAQEBAQEBAQEBAQEBAQEBAQEBAQEBAQEBAQEBAQEBAQEBAQEBAQEBAQEBAQEBAQEBAQEBAQEBAQEBAQEBAQEBAQEBAQEBAQEBAQEBAQEBAQEBAQEBAQEBAQEBAQEBAQEBAQEBAQEBAQEBAQEBAQEBAQEBAQEBAQEBAQEBAQEBAQEBAQEBAQEBAQEBAQEBAQEBAQEBAQEBAQEBAQEBAQEBAQEBAQEBAQEBAQEBAQEBAQEBAQEBAQEBAQEBAQEBAQEBAQEBAQEBAQEBAQEBAQEBAQEBAQEBAQEBAQEBAQEBAQEBAQEBAQEBAQEBAQEBAQEBAQEBAQEBAQEBAQEBAQEBAQEBAQEBAQEBAQEBAQEBAQEBAQEBAQEBAQEBAQEBAQEBAQEBAQEBAQEBAQEBAQEBAQEBAQEBAQEBAQEBAQEBAQEBAQEBAQEBAQEBAQEBAQEBAQEBAQEBAQEBAQEBAQEBAQEBAQEBAQEBAQEBAQEBAQEBAQEBAQEBAQEBAQEBAQEBAQEBAQEBAQEBAQEBAQEBAQEBAQEBAQEBAQEBAQEBAQEBAQEBAQEBAQEBAQEBAQEBAQEBAQEBAQEBAQEBAQEBAQEBAQEBAQEBAQEBAQEBAQEBAQEBAQEBAQEBAQEBAQEBAQEBAQEBAQEBAQEBAQEBAQEBAQEBAQE=",
          "dtype": "i1"
         },
         "z": {
          "bdata": "WlVESFpYT1tFTEVeSV5GW0hgX1c+TGRJQ2JDWUNPVUtfVkxIWVZZUUBaTGJKQ0NWUT1GWE5JZFthXEBEU0pPWFNEWlhVZFZkSkVFPT5jUE1DSk5GQFVRT0RaR0xKWFhTVU5MR1ZSQUNdSkxCSlFbO1dbQExcWVFFSlJhYGNdWD9ITEJaVFhJP0RVP05jV2RUWEhUT2JKWjxNQT5jWGNMYUREWlBkTV5WU01CXFpIZEheP0ZXXjtdRl1EUE9iTFVZQlZKX0M/R09bPFFaPk9OTkVFT0JcSkdHW01kRFReQUg+VVROUllTXl5MP0RZWldIPExJV1NCS01UQEVbRkRjY0pDQFJRP05eTlRUP2FHS0A9Sz5QVGFaUFpPU0VhRkxHWUpMT01gPktgXktRXEdVPlBiTD5DUGBNQUNaQUlaU1tMWUJZYEBgRGFGX1hcWV5jO1pOSlE/W1BjTUxEQ1dAXT5GXFNYSVFEXmNEPUpAPFFkP09DXVRNSUFbRVZIX1lbQkRLRUtDQEBWYFVDUWRdZFpLS2FfU2FMX2RVX1xIYmRKSWJFUFtdREJYSz9TQkpSQUtUS0xYS2FHTVxfTWNkU1VcXT5ASE5BTVpOUF1RQlZJR19LRklLWENXRlNXU1dHVGJiYlA/VV1eX11ZS1JOQFFiR00/XE9eVUtQYFBHTU5OTGRMUFBDVUVASD5NY2BARz5bWUphYUxHSkdhSj9dXENEPGNQTlJNQ1pIWl9eTU5iXltNT2JgUFpGY1JESUY/RmBeYj9GY1FSQk5eW2FbTlhLXVVER1dEWkJJXkpcRVhKYmFbYlJjXktFTlhZTV5kQ1tCQUBISmFSVGBHQkdgUkxcXmNSYT9bRFhXR0k/YERfP01NT15MR05dUVBAW0JHST9eR01CSERXQD5hUUxZX0VRSUlaX0xiU1ZjVEhcU2JbXFdhTmBPSVRLUlo/SUlGYT9EPlpLP1FdTmNdYmNYQWFNTFJQU0ZTUVVgVEdfTVtBSEs/RmBEUV9SRlNbXFdHU0xRRlZCPkJAYlJfWV5iQkZQT1xVP0lZTGRhZD5ZQ0FJSD9gQ1pYZE1IT0lfYUtaUklWW0BSU0hJQ0RSUFY/X1NbY1JDWEZkYWRjRFVbQGRgW0ZBY1ZJRkFHTTxSSkBiSkxGSkdQYExJYj9jSVRAUT8/QGJVXFFhQmFNTF5fVUZTWFpNWVVCXFBYWEddSFdOTEFOVEFQYkdfSkRUSmNMW09aYkRkSlhWRl48SVBST0ZLQ2RhX0BgXlFjSk9CQ0o9QWNLPk5GSj1XT0xTWl5EXUg+Rz9OP05HWVdOSVlFQlJYVUM9S1JSVz5BYFFKUEVhQkZVSkNEP19TSmNYXmBYR2FDRkJNWklXWVJTTF1SQ1lSY2JJQkdgWlJITUpQO01HUVBeTVtCQVNBV1U8R1VTUk9gYFBfWGFdRVBXVlNBS2NBUlFUSE1HT19WQUlSVlRkR0RKT0xOTVhAY2E/QFxFQVZATVE=",
          "dtype": "i1"
         }
        },
        {
         "mode": "markers",
         "name": "Hierarchical 1",
         "scene": "scene3",
         "showlegend": false,
         "type": "scatter3d",
         "x": {
          "bdata": "W0+ESrrLLEC0G1Cr4voCQIZYHWOBZTdAqg/GMYLZKEC5wsgdDGc4QKxJq/CYRjxAB8/TPUrzFkD+L8alpIo3QEeVxas8AABA3GM8nRLTAkAmUo8A8oYJQOhZ49u8YjNAl9MqOrVlJ0Cfji8bvkAtQHwXRT2Gyj5AJpKLVL2/DkAK3IRFtGAQQEkkgSZD1TFAPRouTCsjOEDggW+2yNQEQJ85qZf2XzxAfV8ZNhkxJkA6ooO5aMX8P7ZKO726mTRAKY8GI5U/K0CqLA4s12lAQLuQTbnkyzVAah5WsSLcLkDEFVrPUaQ8QCiZf8q2tjRAUN50peAQMUAH1uWHJKMyQLnT4+PAsCpAUMs660gvLECqawSa3+UiQJhU0jYoHD5A9CwEuLTKM0Dkq4PODb3xP5jZZnjbGCFAQoeTGyFvNEDYlXTYui85QI0epcgeskBAXKxQKNPbIUBfmtPBZ4UXQGYleEyunghAXrvYgir1A0CmA72EMn00QDw3f79eVi1Ac9BqS29aNEBwDXG5IBIwQPt8S4IiaDlAhEQen5QcHUB0KMDZCmgZQKZOgaqA5iJA28tQYZr9N0DikbHks5M7QBVrucflWD1AYBlUTBsGvD+dN9KWjho4QCkgA9xEkwxALpIR0Z5ZL0DFrfKQkHspQLS9kf5kht0/5lRrRSUt7j+PGh+Ak63jP9pI61HlrO4/poN5r+wpFkDACRb9XJAlQLSwMONIBTtA8KxXKjZuNUDarznX5cU8QOuNvO4BcSJAJuieq5pnJUDstg1mYwQNQN1NLnGmvzZADcLpo0M3N0CL6W05oCERQNrEPTR1ARRAdE0vFFzD4D/+LgMhQ9EgQEeWoWqaIztAo6WCk+BBM0AMgoe/Tqz9P3H4w6mv5wpAcaoEE2R7MED5sIFKx3kpQA0u50CRJzFA7+A7XUtML0BkNY0lGXoIQPviA+o5jypASUt8j15ALED1ZliYD4LgP1f4aTup+ek/DbNC10drOUCpwAYRLOkiQJRUw6DR+z9A77gPTpnqJkD8F/ICS+8/QGxKtXfaRiJAVD/QJINuOUCg3QejWqYfQN0qcBZNSDhAE1KIA/syDUDK93gQid/qP5QfK2NOhP4/QY6ixzWfQUAOo+5iOz4jQCITlzw5sSNAl8OaK/AvIEDDzf0JAwspQJaA8hN3KgVAX8RmrTgiN0CUcCv69Yw3QGC8H/pq1kBASf6MMKvY9j8MCPLLP7wcQGATfRs0IjdAcpnkboTyOkAOumABAXwSQACikO6Svy5ATE3PCR+ILkDVtjXTm7E4QDACJCVdITtAPnMYGNV4NUBiRAprhI8JQEUU4BUGHRJAYvbFHBZ5EEBsTZVJUnA0QB2fBYz+arQ/FYRJXjYA7z+G2zQOMG06QMoTwS2cNBNA5rcEgQ9NHUALDYpNdVstQJTppOZ3DiBAvdVQDoidNUDYlMAKAjMwQFV7bd5+YBJAXof3/vL+NEC6DEtWomE5QNQyK5i12CpAUpPKhoFp/j+oKtVSFVMyQLErupCkBSdA8AFXgVYh8T8dV8nr744fQC3Le8Rj9B9Au4lymQbVM0D++ttSxIsrQOWg7SQGcTlApADE12hkIUDhNxH9BdEhQHQPrPS+aiFAqT+7iYC/MkCd5J4CIFQ0QLTQUTfTWzpAmewX/CYxJUCQUbcv9U36P09RIPwFzDdA66PGDy68L0CyntedLPk9QHCglp0G0zRAdgF4B992DEA81YR4WdU7QETOJIdl/SBAhu/NWQvqJkB03Ai1bFUpQPFTkodXCkBANubMUm89+j+M/OHuCsExQG0QwSBKGUFAubKfXq8tJ0BQy8jrAcr/P34/oQeCRjVASDYzM/3nNkD5fWJt+kcyQBysE8QacOA/9xuoq1Q2QED9y7qQaD8cQC8ARNNj7zRA9a98G1yGQEC1wy1QKYsQQGxLia1NgTpAkfUEqtlkIEB8JN4x0L41QHlCdY8fivE/C6St9sDGmz+6AUyKUkggQPFsHibvdRtAeBggcjzsLUD7wDVT140bQDz9y7WNhTZA5hFY+v6iPEDFvbgdIjASQJzKNUDdwRNAdBiCBxdQQUCJRAbP4QcWQNg9OOqHyCdAfSO6XJlZKEDnDVxt5ED2P8S/cBSTQBdASYwMSYkXKkD7ZQ7ovlE1QHUAGHUziSxAcCo7MlNTOkAYy1O0a/YIQOzZJKDoCDdAI4O48VKqGUCVn1NJWbs2QG9ge7cZnztA9zwB54uAF0B3gZwjig1CQDJ25aO0QTpAjICBhYnfIUDs75Fs09QgQIDl3992wBhARIXpJrzHFEBKvWspcZEdQGudDiS67SFAekvaNvZ4OEAPXqAx/vI5QOAT/yKREg9A5yqoZcCHMUC6WNdscLAUQHa8nuS/tfo//5BeRpIuEECxBPUxIgMeQPcDCN98UkBANS5JNOQdIUAc23zDjK4iQNOqdmk1YShAQOhDQsWEQEDJDKEf6x8xQEq1vx7PZCVAsNnhAyImD0DHrdaEd6Y3QArp4WUfm+k/BoSlhyEOIkC0AR4QeC0MQFC1CPe/2jBA0fkHyGaFOkDMDmj1u9wdQII2D0d5IhBA5zGZgqKWKEA+0lM8Nlj4P77SLkdgNh5Ad9of8+CjNUDLCANgagY8QGDkcXOrlTVAeQl2770HO0DpYJjFJW4AQMbqHYib7hlAunTce2WPPkBEy15pYAA6QJlac+NbrjBAzRs5Re9zJkDkq48UHOYsQJeX8c4KVzhAE6gk3oJq4D+7itvu4g8tQO6CWTFzVyRA2xW7+5pbCUBacAv+xZ8AQEbNMRtPukFAo8s2WIv1JEBChzuOA/f6P9Yuxw1gOStAn4mlgKoD8D8y8op2Aa8+QAkq6lDoVApAUeO//HVxLUD9SS4zzDY4QHfDPNbpQi5AJQI3fN0hDEDfIzFJDmzzP4cpFpuedyRAu2nhkNsaOEAG3O0jaH4rQEeOo4Q7cSpAuQo8hNLeGECCXTt4X6cWQMiBYb1IZCZAXfrF9FrKIUCq60eg1n0+QDZnpHgNTx1AeSmoZj+GIUAXk/zuxZY3QF/fMB6RpzJA1U44A7hHHECzyQqbHEU2QBLxex49PydAqAJGYqaCHEBK6XuWu20dQDUyfirvAC1Aod6+QcR3JkBDo7elT8UpQGH+HsuhojFA+W31twJJM0BJmWoUXXchQGmk/e+ydS5ATfO4yLAZJkAvdCUIas0rQN0R+BOGIi1AYmPaVY3vOUDETQPF3Oo6QITkCfSNBPM/ZXwy20d8NUA6x/y0Sm4hQAo0W9NzQCZAl9yYvfNiDUB+tpLEIR8xQLwfyQNWdzhATGs0SBMQE0DB9PSB+SowQFos0Y4WNCRAJhlJ2oiTPkA0GqFICUYnQLBJlnzVJ0BAKLsKR/xoIkCtgqdN8nMUQFiZ8TTYXeU/IoPYLnWtLUA9VtdAqLg6QNn7SUwPWvs/+oO2rQOtMECeXLCd1l0/QNxtk+jaNjJAWBaKjqYsJEAHuvBOMVoaQGZJDYVCAUJAqSvVdARrIkDCjKJdqlwXQBFhAMluPAJAbzdG+NAtLkBQwcMFAoIhQOwGlvfxfh9Axf0Yly0YPUBc7M8mO14zQOUutGz6JipAZmwpKgXLEEC2WNw/3gcUQCL5qPP6xBpAEEh8kbuDBEARX9nGrcciQNzRrwMEXvY/eUV6YRbwIEDdFj7Uk+QGQBdQeigbJDRAUoQXJvKCNkAw3UaKKAUWQENwUFTkhz9AiD6+BiICC0Dig5g1m+YOQPgUrm8E4CNAF8bTH+C6GECQRaIwU7IxQLXkzuvFySNAVuGbSL5hCUDokI/4hAEhQEojdhhCUfo/tPlwDxtPJ0AcE1AlCFASQInuWAtGEiNAQRV8t52xPUAEpHm+VngiQI5GgqO0PCJA3sntOLb3JUAEOkncBDEtQDcISMuCahdAT2XWIdF2N0AGPcI30HIfQIT7f+i3QUBAH3UWfev/OECrPGk4H+IRQIg8LaPqyjVAofrekL+YBUAIRxiv7IMmQLrE0+7I2j5ATGwdjCWBDkBNghnwdcUEQO1f9QGzlTlAw4GNXbc6OkBXGhhDhVE+QKWNJ0OzwTZAzMMjjmhyN0AAgc4TBtQpQDDl0isHZ0FAvEYLrmWjN0D8v3Vk9WoeQO8zyasJwzhAhWPqx3036T/4WR0on2XaPw5DhSQd7x5Au3dZJXxwBkBDhFLXGO43QOI+9vVPgQ1AS8U8fjdKQkDtjQxXIGAvQAkhrWzSwvg/yCYAhG0ADUBhysiQdF8AQLQBokQVbCtAl1CmD1RCOEAKQLKck1wOQPPnZtdi0iVAxYj/LaFwLEAaV7waKUsjQOtBZpXi7EBAom2/OVA7KUDf1bTp6w8tQId+liVMR/o/KlbWABU7HUCz4GEcMcMQQJ/9rgJf7hBA57AYQygnEkC1JXYwABghQCQqALiZwBBAdwjs9vCUKECHuxy8EBAuQALv7OwklhtAa9ni+BKSQkAiHyEa7c1BQHCQ0Ur0phtAeecAUamEAEDluUjpRvkxQGdLQ8iIQT1A0y92Rcsr/D/cXZ/tpuUNQE3fgY2pUC5ACUbVtbeCNEB/b4Rk5joUQFaf72UHxQtAakTi99eWM0DCUEu45Ms2QBiWo0OKuDFAdL89jGjdBkCL/7FlBM4BQNBoCzodzgRAByndViz+E0AHHLSM6KsPQH+eIgx5ECdA2pi2JHYuG0BxL0u3adQjQKiR4givtkFAXhi/oVoTBUA4SoY4AaRCQJXzBFVvmwhAdKU5nqR+EkB4vdW3NwgxQEcIWLp3/TRAjORV6I/U8T8nASw09ucyQIl4nADuDDRAFYtMSkq8AEB9kaCzOzMrQCVTBq1prj1AP5E3A1NxD0ClzzINEZcVQBdDkYYLlgZA22VbxbIiIUBNqGlPJ7UFQFF7nLdTRPg/ULQ6XsgmIkCCadNTHXwOQBVO+SK9JBdAqc96kP71GEBnkFgEl0IvQM6wG+9GdjZApOB4Jx78LUAzZlw0ZsgiQKP5S+6pehlA2sjJtyPhKkAkZcuvyHMBQCJfEl1POSVAwB1JFrJsMkDDfhlINvsHQPsNVUxDMTFAscf170lnIUB7VUyRmE8TQKeGQAGVcjlAOeMhU6FXMkCFlWbqZPfdPzOU4zgpAhdAVXBDhbg1E0D8YaO20HLIP1EJQDDgWB5AVZMjKU/bG0ApTtNPDNY0QEzCMN1ssyZACfi/KgGqMECYz70/i7glQMGuciWxfCxAP4ZSGCBPQUAbNIvpETgsQMC112IBigRA4m0FmERWK0AcsTVdKOE2QP3L91A/KzNAl5FFQX/0MUDpmTOibRsjQE0L9BfXiAhA9nqD+r7JM0Aitmqz+Ho7QJcXZy57cgFAlqtpuM59KECHRiPrWggtQGJr7Et4wjNAfnNUxR9W/T/T92/JUCgnQNJS7uogQz1AW/9cq3hHIkCIE9tNM18PQJ/V0LyDyhZAjg27BwAKL0B/eGXw1asPQFKrX7qF8iVA+qXXpgWzNUAx4kxNp6EbQNSe79JjJy9ArxR7tfXr4z8/whrYwE82QCQ02ZtkbjFAInNQROCIIkDm8XRS/pskQJW9S0816DZABGO0gxCmOkAWd5+Vfs03QIA+eoD6aCJAji4YPauYLEBK9GvxhC5CQBh+paltBEFApNIDj079N0DjoS1Zv+U3QGQ0fr+ONyBAQaufRUZ0JECz8rpryDoyQFEeA1WH4zdAzzBJr1DWIkCzXn5tOzATQGS5rzWiOv4/gCJbWF7dMUAbfp5VWiwmQKGESzkd5RFA2SJ0+3tmOEBrt1/AfrIyQPhUx5q14TtAc1UNDkhEC0A/rut+pmwuQJ4dqHr9ZDBAOaEK4B4JF0As/anStOgAQCqDQDSI+i5Ah0M3qvOsIkCYLZfFYvgGQBK2jBeyJBdA0HQAS/vuKUCzfby/W4QjQDRKtu+bbDlA6UdWRyUCJkDZM90nqyooQPUfUHD5fQVAulxdT6WUOUCMwMVG5IgwQKQpv8zYTCNAkuUHvE4IJkBceGNBd0w4QOweMHQm0yBAjmA/K4/bFUDpJp9q+a4sQJZ1zkwmkCBAHNCMh2fiN0Bq4ddXCOEYQKUf8oeT/gxA0ml5LoJyNEDtD5Z2yCQ1QEMpu4UUBwBAoDTnxKp7N0DpLKkXn9saQKusBlIx+TtApmFBZzmo+j9TjiriJ1UoQErpOHoWxzBALKN7OWwj4z9eyqkUektBQCa3BvogD0BA3uTfDsMuwj8qywYZtcU4QBfcZKzcsTtAWdz/Rjk/N0BdzfuLB5sJQMXtnDcbnzVAWcAf6Kk4MEDB4yCMZWwoQDJNlzX0uw1Apr8GULqoNUDlHTYzXUgyQIQD8JYgVypAn2SwM4ofFEB8v2ejlYMlQDJgj2vToxVAAdWNWOljL0CKMXu5TFAWQL/9dx3XzDdAwp0Zn6hLOUCn80cKH74nQEyrSZxuUgxAH0UE/ZR01z/Nc3Wi/ygSQNJfdM3oaQVA1leTS1yWBkB3n2Nlz6I8QLSLVD4M/eU/ekvWtNWuEECd1j8jZm0oQPbWXQQVZiJARjyvWUgwOEA8dwmUEOAdQJo9NwWbGipAdHuw7YTaIUAa6Q1+fFAkQFi7me7aLixAOkZiODzfPUBbsCHxH80LQL2RHJXcuRpAfPfoMEX8I0B6rKRQwvkuQAbNLkw5UgNAwtv73qPTNkCsNMllWFofQD9PIBZNeBxAylnNZx0RJkC87ksURfYLQPBbiJl6eLM/7lQML+tKHkAqwi1PnVY5QB01nDxCZwRAzFuMRIQOMkCjK4CrGSUgQA1H3UikxP0/5OHg4UOz/z8Uu7a0bKb/Px+QawalojZAAG+TSjEdD0C3e69M5DUkQCNUHHn4PwdA7PMy1t6uPUCkDiA4Dl82QI8c2z2W6hBAlUN41sFI/z/h+OHb6t0jQHjk1YLIBPk/YTg0/mWWJUDbfQvn1ov0Pzjmn/MhkxhAxaTc3F4+IkAiLRoSptlAQLK58OAegyVAbkqT/MLDIUCgTPwz5sTnP1IvsyWdsyxAGjqFmjO4MEBfBbxV0RA7QFgk/DxdMiZAxN9X0qrCQUCIEBP9DTIYQNZGU02x7D1AM/8iVvt4EUCJ+UckYR02QKD+cz5nWCVAZnw9kfj5AUBCDeWXtTbZP5dOd5BNbTJApz4X1A4aGUAqCozrSI0BQPrJHByxciBAYLULWh40IEALLDtQSojzP8D7z538eiZAodbZLHiyEkD5HDH/LSMmQCHn5JhNkxtAKlpPt/TVQEDM0BsOpugjQCZ8b0xmmkJAn5BQdxyREECxho32ASrFPzAX/yfyEDZA34KJ448nKUD7ZndDAj8cQHgTLPByNhRAGRQb26xUEEDIiFy8aagwQOkW0bM3qTlAVQbVM2DeHkAWrM0t8zw8QIMnWa6Qpy5AvHkdYCsuIEDmr/Qw9EA3QJURccEm3DpAwb3rQ//4KEDQlFUfp+wwQFzHiz3B2yFA5R89oQXy4j8VNbLvBRsxQGK/+Ha/QhFA1PmgSOc1JEAWcKjywpYtQBwcnMQxvzNA3q+5SY4kIECG7aikGNYkQLP7n/ZI5idA8Dnxs4OkPUCMK5yHDj3FP+JyAyji9jpAyZuLbqaFEUBLGvn8SDgfQNxJnd+JizRATpA8A8xqDUB6kpbM7OwiQHpGBAGY4CRAqI7/i6JBNUBAbid7y68jQEswP5Y9gjtA8myoIWHeHkB+kMK16FE1QB9XWnt1sTZAJQROGIesO0BHqbo5PhoqQKJCB0sYBSVAxB1xIwiMMkA7YkU3OEUlQIgTR83+pipAg8Uyd8F6OkAGtOdiFdgVQNuVQ29YMSFAZTWFYPKIHEDxdJTbYC7aP1FLczvDJjBAGgUExjM3OUCo7d72YY4mQIJrNlyisjJAog8kcBUmKEA/4KRMVV0+QNB+ArM5BTxAWJPKAC5ZLkDfhKf2OmUoQCc+npAqPxVA/fFpWndxJEBYyCz+qFo6QIagRPOfvRxAFkxThOsVP0AkM15WBQHkP9Cpc6t5mkFA0zkfwVsCE0B9umqxgHz2P2+55PuCQB5AaBDNfRcR/D9VqgDGHSb8P1/kOI8vL+Q/JU7CbMT9HEBEVbwU70vnP2Xvnp7NfCBA0SLIACuTI0Dm/XlWet8rQHM2AmnTLSJAVVitrM5iEUD40zabRGVBQDijyTyrfT5AOerJiVgCP0B1yo8rMq07QLUlzlN3kCZAHmRX07MHOUA87CbHYHsyQEMuAR9M+iZAvtMvY0OsPEDjFlIS+voRQMkwV8bm9zdA8tRMYVbJO0CltqRGH5cUQMf75SdcvBFA/VuqZCk/I0BSPlJTaTM9QL00E0ZZDTxA+LLy+ZMLQUC8Wd7w9v8KQJJB/9FafRNAdI/TQq6XHECGHw4GitUlQKROt3ImPRVAwbmwyXlHMkC7ITwC55AYQH40wC4XdjVA/aYOgppXLUC5Sg6Ya0UvQODkzrO7wTNAPbtxJ9t0zj+3l4f/9TceQJpCMa3hYzJA+D8M13WOM0BLjUGhuU8hQNkSD0grHT1AHHNjqpadJEDALcfc8OoxQIc8gnuTqeA/5bH20nyfD0Ca+krEE28rQHrJOqAbBhpAjuQoK5O0FEAEGEFMtxcUQA2dhD1TiTZAXu9mxj/nO0Dkckh959fEP8ytv5nqVhNAnbo9YkoJO0Dqi5J0PQcOQLRjsrntRTNAHaXot61pMEAHTeZgL84nQJf2F1P8uw9An6hxKVWINUDSJ7IGrMY4QKccfEsgeDRAF3d2YGP2OUAo/yW1gqAIQK17vLlR3zhAGq2pNdhb+T8my52wg74HQPp6i261ES1A1sQvaZ9VIUBKKFCyQscwQK+9TyLJgjBATbvXX9T2N0DhbUS0nLk9QPe3JKpVNjdAXkSgT8YVQEBKcZqDB188QB2IBSo7BhRAv0ahsMhNNUBRswxMeF87QHIQ9pmBhMQ/vtMUwBjbO0BiJGrahMczQPsxwYyJuzdA6kd7FSoeKkD7hOMk2h4UQBSONU9opC9AzLHVf/b8gD89YiTCB84bQFJx7aaGsUBA8mYxdkzcIkAKVbdfGcrYP0h2yfAuJ0BASike9dyDIkAHKQutH08ZQHOZFVm0ARZAsWh2Bm0rAkAfRSlAiKJAQPmS3k9DxSNAQuuau3IYAEAQjysYP0I4QOCIxNuMWi5AZJymwU6AFECi2Plb1JtCQFMSwlSrgS5Abr6+d1icGUD7LTvqNg8mQNhKt6X6gzlAwM8A0czzNkCSu5vsiaoVQCDAM6GZ3yNAT61+gqWw6T9EafhRU/L0P0TOBhnedTpAvRB/1aLdMkDBae3VaHklQDp3jfaJXgdAjn0HY+IsE0B4y7RLP9EtQPFLykM2CD1AD2FwIA0VQUCpveVUEeDNP396iZaoei1AwMCatL+RPkC4TTjdCjk7QKqQi2g+PCdA5EGqGIagPUBrEdAs1jIsQDIPYFIjWj1AVLc+82FzIkCjcodZiGIlQGzoUs6nQTFAP5mDtyYGJEDiDWFuxws7QBY20egubSlAdwDTDcAuHEAxdnN0fwMSQLmYt1mjFxdAS2nu9QgbOECaFcXPq0oBQEipZ8eqsDRAh+CV1luUBUCq1YynZBnwP5yF7BK7oB1AJGJtgJ1cLED5S1FjgiMaQGj9PvlnfzBAwlUVs9rnQUAxSwabg5EjQAaDE3GMdxxAxGW8VEIKKECO/X6alTIyQPo43bM6HyZA9mFyzLsXNkBS8kq0A/48QD0HpgrYKS1AaiQYPdNcLUBq0sriBi8JQGgg5VG53A1AduGpc1wiIkC2E45qptggQHGfLqinF0JAUl6oiQI4JUCAEnMOTCglQFGtk/HikhVAUmFC72LEPUBFh5dy0iw2QJ/F28FLWiJAGMKLVVDtIUBIV7+0B4cGQKuTh9LX/TZAs5+g/tvBNED9Exc74Y8sQGNhZpyILzdAxnakxZX8JEANWoKmIrE2QFfZMVTjhBBAOV7X43V4PUCN0dcDC4MmQP2BCxwakAtA7tzUr14rAECXH3/dOIk/QESednKaagtAJqFRvB3OGEBBYCmF7kL4P1uShwXGMkFAVQzty+b/QECbxPNXzMwyQMBqMr9QoglAexFJIOkd+D+cI0/K1TYDQF7DPo+xvC5APz67m5awDUA+l5xSpdIRQJFhaCmdIhxAgp8oFXKQPUArYXvGIdU0QEcMxQuQQQpAtsEWm5ovPEBdzjCgROU+QCafHso6eylAXV6UzzYcMkCg23Cu3esyQOCmz0YOaTFAWbnzRJVUIUAOcV8MdeMlQLIkz8McACBAMIOL5oscQECZk0bcBjg8QCjjwOLA4/A/m06iKIGRHkB8DGC4sDwpQKDy9UAFtLo/He6N0qWx/j/UN7qWgXQwQKrPGlwyVRpAeYoneoYMEkCuMuXlx0AwQLHCvRMsWQRAkq4oSKDYAEAOnWqP6X07QCUXY65GjwhAIoR1zwchMkCkJjuq0/YnQDQ7NpZIsP8/xb7cwzITNEAuDBRXscUdQNcjetzbnDtAMENwyhSRPUAq99v8DGTzP9RoyYHCVyRANltaRmIaIEArBtZLkvccQGtYmGSXzEFAarst8l9e9D+XQOCsOMUgQLhh3UrgWDpA10qb99+tQUDPoQGlZIA7QLT5iy2Q/iNAVOy3ufcwvT9aqS9Cg8EQQMsjtP5y4jtAO4O7zUwMF0AJpUpQ/AMuQEJtnHz+rB1AeiXMBSHEOEBlXFLiT7wlQHEgqxED3+Q/q4GSeB6sHEBFynZfFHABQGuA9oJvi0BAZVpoeSMTK0CnmZx8jZEzQFh9VFHoVBNA2IemRiOJOUDzkp4LHDw0QKtA/d9IgSpAIs9JnZu6LED0DEu5Gn/uP4xpjcP1HDJAlvGugnv+H0AhQ0Akrb04QGRAbGDPLvE/Gi0STarJA0Amrg4VJ2MxQKvVQnHJgChAx/iZaLQNI0BRiWN76pAyQB6uABIDqB9AUq8thWfwNEACn1kEbhYzQHqgxdNi9DZAN7gRV7kVHkDQt4hTCL40QDnBqvS4Kvo/1A8EWhBJNUBO9JV1nv/7P2Li377K7D1AvIKtef6qJ0Av6VnsPwcHQPzuAsSWVEJA0rDdRP2wEkBVfVuNspIbQAT/MneP4DZABt9J5Gn/EUBpKx4szj4vQIfu+TRuECNAQiccLusAMECAkU+QlSokQDGmtuglczZAiuR7zqzMQED4fx8TbhU5QNobXsZznCJA5x4CY668PUA69xvchYIjQOY6JTeQXB9AyIw9COKxIEC2crp1HwkeQP9Rjgbs8TNAjj9VSL63OECO0y6RyL0bQHkanHGdCR9A0v+VdIqLMkBHRlJyEU0iQLDRP8VIW/g/I2kou7w+IkBoWLTvffXePx6dRCAhJRRAAdqzRTt7PUDfOtRfJzktQJAVkicfASpAJVJgXRKJFkAGQm8ZfeL2P/kP1d/S7ChA2x3lfj1BLkBBIVGTmls5QE8iWhwqy+U/dD8qXe4pO0DA6nRP4rUmQG71PM32hDtAPynS7j2T6T+Fxm5pvNQnQPrHZfjH9UBAnpKv2FDjIkDLZqxftHwEQPXrbz5JsAxAHC1EKFPuI0DoiPha2JzZP9m1C28sCzlAz1IyobdWM0D91u4DtFIlQIEZlU1q9jFAPrxsB993O0DoiLWLKJE6QH6akEpKBxxA0vOKp4W2/z85dFCjGIgaQDFZjM639AxAib7jQqWNAUAiJB/r9sI2QIMzkwD7pyxAPPRpLf4GPECZSQqnSkbWP+Nrp+8M3hpAAoI9q/5VQUAFogChZyswQIqPao+5RTZAY25pB+NFNEBXlUXFSqMeQE2GHhLicBNAlknr20UhCUAynLH2TeoBQDLqm8waXBxAFS0uudGxJEBkgMvCXKAoQNxCJ4q1lzpA4bM6hSYXOEAJHGvXI+c2QKppfbttsixAvE2LTVSSH0BuGeS8iqAsQG9zyvY/Ni1AHS0FBjJkBUBYC+aPrlr7P9mdhDLIijhA8rRuzJzjMkAReyU8OQUSQCLI1ShQTxxAhzsPdk0ZKUB3+8UIeKI7QC8uOObty0BApHdMApaHP0Aouy1dc64EQNZr6tlBTPM/VNMffJ9DK0BSuWkt5AUvQN153HBpCztAmvjpaupWLkCgHx3itik7QLjDpKsOeOw/JyQUBCv4K0BqSBDI8hcYQHRwq3/Jiy5A3kyVWsESIEBb3dgNbGIwQPTSOvEXNRFACPR8DOqrJUAchYxyhCPyPzxymS6rnDlAZoEzXr9jKEB7S8ZIw3AlQEMQuBvOoyFA5ALXp3rFQUDOdV66rwQzQMUhporv7zBAsaTtKlcJNkCvNIPtO0EwQPZJvSWbKf4/popTd3coNUC/QcKyjQwdQEc4VFq6PDZA1XV/rfXWNUDH0J25eIA3QFCJaJDogjJAAgiBDYcyL0ClE8XPTXMuQNzN5VJ5xTpA/iEXkZzzNkC8CBFtnXEgQPqVBsYhFDNAZzhevQkzQEBlDx5YU/MvQD6d8m0emCFAFasKoNIeNkCnjIx5VHwqQCzZTNG8KCVAesmY2uC+OUCCBzvwmfQuQERh3mSsdDxALyVCSv5ULECLoakXrnM1QPgaQVX46yFAhe6+2wKzIkCKioKAT/cnQHeOdVqjszVA9FrEdqulPEACijvd9SlAQCCZbVxFcChA7JZT4BjuGkAfM0qrbCc7QIQ0AOkXdiFAWBNi/ghE9D9LaRlKwaAtQBOOdpbjTA9AUOvcpdeoE0DZBtjFpYgcQP1As5uzZiVA730gK6gVHkD0SU+fp1wLQLPpmipDKyFAsYV/kyZfMUA//vWkUMM7QGVp+Gu1ZypAXLnIednXFEDrfzFpGmDrP1U/VqdXs+E/fUrp4LJyJkBsQDfGRNciQK0mi2WdWTRAcDCKSu+AM0AKzkNQZB0kQHO7KxR3UiBAk2P7m7CLNUBkXXe9acgTQH4E5iPaUSFAlIQyZOryH0DNj8dP9p4sQNl7AGxQCSZAhTX/7w6UKECJlrJ9AA02QFiDJZ9vOS5AqTcIbl1qO0BqOXNTYqscQLKIJCz92jNASEPPmnpMFkAAxULnek87QOSqdzGdzRVAjL3ysbjoIkDPmAoRD1sUQMzFRE5jMBdAgtt1iR5kFUBeGyw5ZxUWQL0dj4oTThJA+f29h5gzB0BxKtykgXQnQLuWMKFLgiRAxiBnS51fO0DycS/6ABw1QEpz8j7ZujNAqozi7grLKkBJPzaI02ZAQP9U9IanLCJABuceHh1TOUBawezfBPnZP8bP+TVEwxtAJkqbainDDUCO9GWC5tz5Pzwefr4W8zNAvkTneRqSE0DQB6bFCrUwQG2Nyhn6NTJAb5APkm0h4j81856eUUUfQMkFS5WqSghAhwvbLpUbJEAgCBwKukn8PwHE9MW/NjZATxk5qjxSNUBuWD+EJlgzQCmdzoMdPxFA5ItcsjHFHEBXDPqeb2EpQI1oNHPXqTFAjiDaBzFuJUCMD2axdTQvQLmTO8kfqBxAT8S7pqB/NkBWeFEXS7scQHH3dQ6zbQZAFeRedXApQUB/CgB7t4I/QGWqUkumqC9Aav/sODaBLkA31cElCf0wQMVhdJ345z1AIGr9BbrRLEDjjnLxaLAyQE7WwtxKQkBALgI6d+Gu3j9URmk19QLLPx1s+UWyqEFAbv5iQcQi5j8vFFgEijc5QGXWYsIQDCdAg2Ngc7M3JUCtdqAUefU/QECHAFguGzxAyjbZo50fOEDKOk1O570lQG8E9uPiFzBAEq0qDgS+9D/8ls43TWkhQEHyyPJtbjtAWH0GU5KHKUCHxYQVCzA+QHJhCSoHOTlA78lRC/LdCkB30sPRH8spQOcwsCsgRDpApiu7Y+L+PUCcMhJBJgAfQPPMYaHPSylAFNcniUMVI0BkFL+XUt4mQLzxxq/+hjBACGuFq688KEAQvKkeBns9QJdNeEwdAUJAb255pMglPUAvps5tPOogQOejLpwmNytApGElzIV08j+XO+tFGt0nQNTCxnni/zVAWFujyxWGM0CU9tcjryQiQOcoGzsUxyJAp8MaQiwCK0DvuhIcr9clQJ2fyilr8yBAwMttLDRxK0B+3ZIah24HQKLi/nh/y0JAccNFJeU8HUCWoJZXUmYxQJ7HELRqrS5Akd+w5VqHP0BHjD4JEGMwQID0z74vjCtASM0Fg2ePLEBHDzBkj0kyQJkEF6D6TiZAu1lqdnqvIUCDixzL4Wc6QORQ2zYg6D9AnAahpIQ9PUAXXo4GRCbbPzryJe21uTRA5I3xXoYOM0DT+JOJSx41QM/1jseUxfA/rucVm0O/GUDTDImPT14UQM7Hym5tliNAnqA+sAf+H0B6Bhzh68syQB4i5mvoEylAYjfOXDz+AEDx3f5M2qQ3QBQjRO7/tCRAdg+FBZ4BNUDhbDk4HVQ9QKs6Zq1qkilALsrls0mMJEDmFvB9mlMoQPSdKhq3aj9AJoxSzzU6MkDnc240VUsvQBXU1f5+YzRAwhJwAlqgPUDw3FkO3/wkQIDL86rogOM/VoVq6YlQJ0CA8uD0l7kuQNYuOS1xgw5Ae7YPePJXIEATAcZxE2MPQMplmfvpZS9AWiyZFihZCECG7SynPmQ8QHqn+Jq1SixAHGUS1UTwNUAbhhHMIDg5QFbVyQwkLT1A/rL3txSpNkCzMtBCvZEgQKfKUwAy3zRAyPMswUhSGUAzmrl83YsyQJjXrLWxRDVAQK89nQ7tQEAIRAfXXXY3QA==",
          "dtype": "f8"
         },
         "y": {
          "bdata": "AQEBAQEBAQEBAQEBAQEBAQEBAQEBAQEBAQEBAQEBAQEBAQEBAQEBAQEBAQEBAQEBAQEBAQEBAQEBAQEBAQEBAQEBAQEBAQEBAQEBAQEBAQEBAQEBAQEBAQEBAQEBAQEBAQEBAQEBAQEBAQEBAQEBAQEBAQEBAQEBAQEBAQEBAQEBAQEBAQEBAQEBAQEBAQEBAQEBAQEBAQEBAQEBAQEBAQEBAQEBAQEBAQEBAQEBAQEBAQEBAQEBAQEBAQEBAQEBAQEBAQEBAQEBAQEBAQEBAQEBAQEBAQEBAQEBAQEBAQEBAQEBAQEBAQEBAQEBAQEBAQEBAQEBAQEBAQEBAQEBAQEBAQEBAQEBAQEBAQEBAQEBAQEBAQEBAQEBAQEBAQEBAQEBAQEBAQEBAQEBAQEBAQEBAQEBAQEBAQEBAQEBAQEBAQEBAQEBAQEBAQEBAQEBAQEBAQEBAQEBAQEBAQEBAQEBAQEBAQEBAQEBAQEBAQEBAQEBAQEBAQEBAQEBAQEBAQEBAQEBAQEBAQEBAQEBAQEBAQEBAQEBAQEBAQEBAQEBAQEBAQEBAQEBAQEBAQEBAQEBAQEBAQEBAQEBAQEBAQEBAQEBAQEBAQEBAQEBAQEBAQEBAQEBAQEBAQEBAQEBAQEBAQEBAQEBAQEBAQEBAQEBAQEBAQEBAQEBAQEBAQEBAQEBAQEBAQEBAQEBAQEBAQEBAQEBAQEBAQEBAQEBAQEBAQEBAQEBAQEBAQEBAQEBAQEBAQEBAQEBAQEBAQEBAQEBAQEBAQEBAQEBAQEBAQEBAQEBAQEBAQEBAQEBAQEBAQEBAQEBAQEBAQEBAQEBAQEBAQEBAQEBAQEBAQEBAQEBAQEBAQEBAQEBAQEBAQEBAQEBAQEBAQEBAQEBAQEBAQEBAQEBAQEBAQEBAQEBAQEBAQEBAQEBAQEBAQEBAQEBAQEBAQEBAQEBAQEBAQEBAQEBAQEBAQEBAQEBAQEBAQEBAQEBAQEBAQEBAQEBAQEBAQEBAQEBAQEBAQEBAQEBAQEBAQEBAQEBAQEBAQEBAQEBAQEBAQEBAQEBAQEBAQEBAQEBAQEBAQEBAQEBAQEBAQEBAQEBAQEBAQEBAQEBAQEBAQEBAQEBAQEBAQEBAQEBAQEBAQEBAQEBAQEBAQEBAQEBAQEBAQEBAQEBAQEBAQEBAQEBAQEBAQEBAQEBAQEBAQEBAQEBAQEBAQEBAQEBAQEBAQEBAQEBAQEBAQEBAQEBAQEBAQEBAQEBAQEBAQEBAQEBAQEBAQEBAQEBAQEBAQEBAQEBAQEBAQEBAQEBAQEBAQEBAQEBAQEBAQEBAQEBAQEBAQEBAQEBAQEBAQEBAQEBAQEBAQEBAQEBAQEBAQEBAQEBAQEBAQEBAQEBAQEBAQEBAQEBAQEBAQEBAQEBAQEBAQEBAQEBAQEBAQEBAQEBAQEBAQEBAQEBAQEBAQEBAQEBAQEBAQEBAQEBAQEBAQEBAQEBAQEBAQEBAQEBAQEBAQEBAQEBAQEBAQEBAQEBAQEBAQEBAQEBAQEBAQEBAQEBAQEBAQEBAQEBAQEBAQEBAQEBAQEBAQEBAQEBAQEBAQEBAQEBAQEBAQEBAQEBAQEBAQEBAQEBAQEBAQEBAQEBAQEBAQEBAQEBAQEBAQEBAQEBAQEBAQEBAQEBAQEBAQEBAQEBAQEBAQEBAQEBAQEBAQEBAQEBAQEBAQEBAQEBAQEBAQEBAQEBAQEBAQEBAQEBAQEBAQEBAQEBAQEBAQEBAQEBAQEBAQEBAQEBAQEBAQEBAQEBAQEBAQEBAQEBAQEBAQEBAQEBAQEBAQEBAQEBAQEBAQEBAQEBAQEBAQEBAQEBAQE=",
          "dtype": "i1"
         },
         "z": {
          "bdata": "FCIfIjM1JjAlFhkUODAfIS0lPCc1Kx4cOxQYHDYVJCEwGjorHCgpLygYIzYgNiQgJx0rHRwuOjArLzcaGxc8HxseGS4qHSEgODUdGS09JiY3JjIwOSkcGhsnMy0qNS8ZMyoUNTkoKiw0ISAeLTMlIRonFCoaLDw7HRY0GBYpKjIfLjshLyQnOzI7OB4kKCcoIhsgMyAdGSEnKh0uIy0zGh0fGigcMhcUFy0VHy04HhgzJi4nKjgrKh0qMCQnHy0YFigUFC4pJyU0JTMtMCUbIB07LykwOisyITQXPCUdJRomOhchKzM5IhssMyE8FBg5KiggGzskFyU3GikeNSEZOx0jJjsVFSopLjIdFhY5IDU4HCQwHScnNikYIDEyLjInFjU8IDIaLDkzJSwjMhonFB0pJh44IzgtPhgnJzsbMz45HB0YMCsaKTsUKiczIzYvMzM8HTosGTgvFiIqGDwYJSQYLzMYLCMmGCAkMxcwMzcfKBQhKh8eLh4YGSUeMykkLxkWGRYkITUkFyEiIx0UHDshOx4VOjIoIi4cFxw9GTokFDUeKSQkJxc2JiQqMSk1FTcqNDgwPjcVFiEXFScdLRYdIBgyFzMbFx88JTIXMB01OR0gODEcIxcZOCAVICsfMig0Gys4JRUkKj0WIC4oPSgfNjEjOBcuKyAeLRcUHD06GDMZNRs8FygmHjwmGSQjOSkZMiMxGxsYOCAXIT04LBomLBchIDceFB42HhcjKTsfFS43LBgrMyA3GjEtLywhISkfHCIpGCkjHjAuFToaHykpLysgLSMVMBwXGDMzICQjGSokJS0WNSghFj4sIzQlORopFB07Fi8yJxwzHDAVFjIiPTMbLBcoHRQ3Oiw4LRYiLywxHx0iJikiOygUIzA5Ki41MjwkHSM5GjUoGiQVLDQ6LCEkHSEpNjoeNSw5OR4UPRYjHiY4MDI4IB0hNCorFxwmMSA1ISU7LR4zHR8ULDE6Fx0bGS0bMBU1Gi8hJhcXMyQ3HjM0ISAwPC4lMigVNRciKi87GTQrHB8XGSIuKBwsJC0vOSIpKicXKy0VKDAzMBQwMSUiIBc2Ix0vMxkkMyYuJBsZMiQxHyIVJSUfFhYaJhsYGRUbLSYtHiIUJxweHyIcJh8cNyQ1JSAyLiM8GScUIRohOSY3IhguOSoaJjktGCwkLyUkFSs3OhUiLyQwITUmOCE1LycgKjoWOBU8NBcrJhkbKignMBQdHDU9FyQ4GSEsPjcoFzsaMxs6KCIjKTgVIysUJC80HCwcFSYlFx4ZIyAZGxQ0OSUqNig2MxY5NDEcICEdGRk1NDs9FzspNCkZKBkYOSczPCw5GCMqFDggGys1JTIvGhUZMBwgJjY4KzcxOiIrHTkzMDIqKzcnIDshKyc1GyAlHi0YGDUyHzQWGyInNS4sHBwrGS0wPicvOCQgJCQ3FBUoHTUtNxopLBofGDo4LDAmFjs7MBYaKTcuHyoUMjUlITkfODUyJi0zIBQeFRYZNzIiICkuKiU4NTQ6OygYJiUYNB0eIigdIjkgOhQ8HygzNDItNy0UMjkYHz0zFyIXOikvGzQgIzY6FyQfMCExLRwaITMfGSAzNCMYPTk5KyYzIjgeGjw2IyYxLDocFDUlJRc1Ki0qOCUVGBscJiYwIx0wKjk2Fi4yOyYULTMVHDccHyIfNxcaGSQmOBgWKSkcKSIkMyknHRsZFyApNjIzFiYULB8tIC05PCAdFBsnLTQyLSQqLBcVIi4wNysoHyI1MjgiHh86LDgXHxwzNRkaLDYVNDMjKjw5LTU6FBoaOSccIR4pMCkqGiMfJjsZHSoiPRU5IxUdNjMqFBkmHhw=",
          "dtype": "i1"
         }
        },
        {
         "name": "Segment Count",
         "type": "bar",
         "x": [
          "RFM",
          "K-Means",
          "Hierarchical"
         ],
         "xaxis": "x",
         "y": [
          8,
          3,
          3
         ],
         "yaxis": "y"
        }
       ],
       "layout": {
        "annotations": [
         {
          "font": {
           "size": 16
          },
          "showarrow": false,
          "text": "RFM Segments",
          "x": 0.225,
          "xanchor": "center",
          "xref": "paper",
          "y": 1,
          "yanchor": "bottom",
          "yref": "paper"
         },
         {
          "font": {
           "size": 16
          },
          "showarrow": false,
          "text": "K-Means Clusters",
          "x": 0.775,
          "xanchor": "center",
          "xref": "paper",
          "y": 1,
          "yanchor": "bottom",
          "yref": "paper"
         },
         {
          "font": {
           "size": 16
          },
          "showarrow": false,
          "text": "Hierarchical Clusters",
          "x": 0.225,
          "xanchor": "center",
          "xref": "paper",
          "y": 0.375,
          "yanchor": "bottom",
          "yref": "paper"
         },
         {
          "font": {
           "size": 16
          },
          "showarrow": false,
          "text": "Segment Sizes",
          "x": 0.775,
          "xanchor": "center",
          "xref": "paper",
          "y": 0.375,
          "yanchor": "bottom",
          "yref": "paper"
         }
        ],
        "height": 800,
        "scene": {
         "domain": {
          "x": [
           0,
           0.45
          ],
          "y": [
           0.625,
           1
          ]
         }
        },
        "scene2": {
         "domain": {
          "x": [
           0.55,
           1
          ],
          "y": [
           0.625,
           1
          ]
         }
        },
        "scene3": {
         "domain": {
          "x": [
           0,
           0.45
          ],
          "y": [
           0,
           0.375
          ]
         }
        },
        "template": {
         "data": {
          "bar": [
           {
            "error_x": {
             "color": "#2a3f5f"
            },
            "error_y": {
             "color": "#2a3f5f"
            },
            "marker": {
             "line": {
              "color": "#E5ECF6",
              "width": 0.5
             },
             "pattern": {
              "fillmode": "overlay",
              "size": 10,
              "solidity": 0.2
             }
            },
            "type": "bar"
           }
          ],
          "barpolar": [
           {
            "marker": {
             "line": {
              "color": "#E5ECF6",
              "width": 0.5
             },
             "pattern": {
              "fillmode": "overlay",
              "size": 10,
              "solidity": 0.2
             }
            },
            "type": "barpolar"
           }
          ],
          "carpet": [
           {
            "aaxis": {
             "endlinecolor": "#2a3f5f",
             "gridcolor": "white",
             "linecolor": "white",
             "minorgridcolor": "white",
             "startlinecolor": "#2a3f5f"
            },
            "baxis": {
             "endlinecolor": "#2a3f5f",
             "gridcolor": "white",
             "linecolor": "white",
             "minorgridcolor": "white",
             "startlinecolor": "#2a3f5f"
            },
            "type": "carpet"
           }
          ],
          "choropleth": [
           {
            "colorbar": {
             "outlinewidth": 0,
             "ticks": ""
            },
            "type": "choropleth"
           }
          ],
          "contour": [
           {
            "colorbar": {
             "outlinewidth": 0,
             "ticks": ""
            },
            "colorscale": [
             [
              0,
              "#0d0887"
             ],
             [
              0.1111111111111111,
              "#46039f"
             ],
             [
              0.2222222222222222,
              "#7201a8"
             ],
             [
              0.3333333333333333,
              "#9c179e"
             ],
             [
              0.4444444444444444,
              "#bd3786"
             ],
             [
              0.5555555555555556,
              "#d8576b"
             ],
             [
              0.6666666666666666,
              "#ed7953"
             ],
             [
              0.7777777777777778,
              "#fb9f3a"
             ],
             [
              0.8888888888888888,
              "#fdca26"
             ],
             [
              1,
              "#f0f921"
             ]
            ],
            "type": "contour"
           }
          ],
          "contourcarpet": [
           {
            "colorbar": {
             "outlinewidth": 0,
             "ticks": ""
            },
            "type": "contourcarpet"
           }
          ],
          "heatmap": [
           {
            "colorbar": {
             "outlinewidth": 0,
             "ticks": ""
            },
            "colorscale": [
             [
              0,
              "#0d0887"
             ],
             [
              0.1111111111111111,
              "#46039f"
             ],
             [
              0.2222222222222222,
              "#7201a8"
             ],
             [
              0.3333333333333333,
              "#9c179e"
             ],
             [
              0.4444444444444444,
              "#bd3786"
             ],
             [
              0.5555555555555556,
              "#d8576b"
             ],
             [
              0.6666666666666666,
              "#ed7953"
             ],
             [
              0.7777777777777778,
              "#fb9f3a"
             ],
             [
              0.8888888888888888,
              "#fdca26"
             ],
             [
              1,
              "#f0f921"
             ]
            ],
            "type": "heatmap"
           }
          ],
          "histogram": [
           {
            "marker": {
             "pattern": {
              "fillmode": "overlay",
              "size": 10,
              "solidity": 0.2
             }
            },
            "type": "histogram"
           }
          ],
          "histogram2d": [
           {
            "colorbar": {
             "outlinewidth": 0,
             "ticks": ""
            },
            "colorscale": [
             [
              0,
              "#0d0887"
             ],
             [
              0.1111111111111111,
              "#46039f"
             ],
             [
              0.2222222222222222,
              "#7201a8"
             ],
             [
              0.3333333333333333,
              "#9c179e"
             ],
             [
              0.4444444444444444,
              "#bd3786"
             ],
             [
              0.5555555555555556,
              "#d8576b"
             ],
             [
              0.6666666666666666,
              "#ed7953"
             ],
             [
              0.7777777777777778,
              "#fb9f3a"
             ],
             [
              0.8888888888888888,
              "#fdca26"
             ],
             [
              1,
              "#f0f921"
             ]
            ],
            "type": "histogram2d"
           }
          ],
          "histogram2dcontour": [
           {
            "colorbar": {
             "outlinewidth": 0,
             "ticks": ""
            },
            "colorscale": [
             [
              0,
              "#0d0887"
             ],
             [
              0.1111111111111111,
              "#46039f"
             ],
             [
              0.2222222222222222,
              "#7201a8"
             ],
             [
              0.3333333333333333,
              "#9c179e"
             ],
             [
              0.4444444444444444,
              "#bd3786"
             ],
             [
              0.5555555555555556,
              "#d8576b"
             ],
             [
              0.6666666666666666,
              "#ed7953"
             ],
             [
              0.7777777777777778,
              "#fb9f3a"
             ],
             [
              0.8888888888888888,
              "#fdca26"
             ],
             [
              1,
              "#f0f921"
             ]
            ],
            "type": "histogram2dcontour"
           }
          ],
          "mesh3d": [
           {
            "colorbar": {
             "outlinewidth": 0,
             "ticks": ""
            },
            "type": "mesh3d"
           }
          ],
          "parcoords": [
           {
            "line": {
             "colorbar": {
              "outlinewidth": 0,
              "ticks": ""
             }
            },
            "type": "parcoords"
           }
          ],
          "pie": [
           {
            "automargin": true,
            "type": "pie"
           }
          ],
          "scatter": [
           {
            "fillpattern": {
             "fillmode": "overlay",
             "size": 10,
             "solidity": 0.2
            },
            "type": "scatter"
           }
          ],
          "scatter3d": [
           {
            "line": {
             "colorbar": {
              "outlinewidth": 0,
              "ticks": ""
             }
            },
            "marker": {
             "colorbar": {
              "outlinewidth": 0,
              "ticks": ""
             }
            },
            "type": "scatter3d"
           }
          ],
          "scattercarpet": [
           {
            "marker": {
             "colorbar": {
              "outlinewidth": 0,
              "ticks": ""
             }
            },
            "type": "scattercarpet"
           }
          ],
          "scattergeo": [
           {
            "marker": {
             "colorbar": {
              "outlinewidth": 0,
              "ticks": ""
             }
            },
            "type": "scattergeo"
           }
          ],
          "scattergl": [
           {
            "marker": {
             "colorbar": {
              "outlinewidth": 0,
              "ticks": ""
             }
            },
            "type": "scattergl"
           }
          ],
          "scattermap": [
           {
            "marker": {
             "colorbar": {
              "outlinewidth": 0,
              "ticks": ""
             }
            },
            "type": "scattermap"
           }
          ],
          "scattermapbox": [
           {
            "marker": {
             "colorbar": {
              "outlinewidth": 0,
              "ticks": ""
             }
            },
            "type": "scattermapbox"
           }
          ],
          "scatterpolar": [
           {
            "marker": {
             "colorbar": {
              "outlinewidth": 0,
              "ticks": ""
             }
            },
            "type": "scatterpolar"
           }
          ],
          "scatterpolargl": [
           {
            "marker": {
             "colorbar": {
              "outlinewidth": 0,
              "ticks": ""
             }
            },
            "type": "scatterpolargl"
           }
          ],
          "scatterternary": [
           {
            "marker": {
             "colorbar": {
              "outlinewidth": 0,
              "ticks": ""
             }
            },
            "type": "scatterternary"
           }
          ],
          "surface": [
           {
            "colorbar": {
             "outlinewidth": 0,
             "ticks": ""
            },
            "colorscale": [
             [
              0,
              "#0d0887"
             ],
             [
              0.1111111111111111,
              "#46039f"
             ],
             [
              0.2222222222222222,
              "#7201a8"
             ],
             [
              0.3333333333333333,
              "#9c179e"
             ],
             [
              0.4444444444444444,
              "#bd3786"
             ],
             [
              0.5555555555555556,
              "#d8576b"
             ],
             [
              0.6666666666666666,
              "#ed7953"
             ],
             [
              0.7777777777777778,
              "#fb9f3a"
             ],
             [
              0.8888888888888888,
              "#fdca26"
             ],
             [
              1,
              "#f0f921"
             ]
            ],
            "type": "surface"
           }
          ],
          "table": [
           {
            "cells": {
             "fill": {
              "color": "#EBF0F8"
             },
             "line": {
              "color": "white"
             }
            },
            "header": {
             "fill": {
              "color": "#C8D4E3"
             },
             "line": {
              "color": "white"
             }
            },
            "type": "table"
           }
          ]
         },
         "layout": {
          "annotationdefaults": {
           "arrowcolor": "#2a3f5f",
           "arrowhead": 0,
           "arrowwidth": 1
          },
          "autotypenumbers": "strict",
          "coloraxis": {
           "colorbar": {
            "outlinewidth": 0,
            "ticks": ""
           }
          },
          "colorscale": {
           "diverging": [
            [
             0,
             "#8e0152"
            ],
            [
             0.1,
             "#c51b7d"
            ],
            [
             0.2,
             "#de77ae"
            ],
            [
             0.3,
             "#f1b6da"
            ],
            [
             0.4,
             "#fde0ef"
            ],
            [
             0.5,
             "#f7f7f7"
            ],
            [
             0.6,
             "#e6f5d0"
            ],
            [
             0.7,
             "#b8e186"
            ],
            [
             0.8,
             "#7fbc41"
            ],
            [
             0.9,
             "#4d9221"
            ],
            [
             1,
             "#276419"
            ]
           ],
           "sequential": [
            [
             0,
             "#0d0887"
            ],
            [
             0.1111111111111111,
             "#46039f"
            ],
            [
             0.2222222222222222,
             "#7201a8"
            ],
            [
             0.3333333333333333,
             "#9c179e"
            ],
            [
             0.4444444444444444,
             "#bd3786"
            ],
            [
             0.5555555555555556,
             "#d8576b"
            ],
            [
             0.6666666666666666,
             "#ed7953"
            ],
            [
             0.7777777777777778,
             "#fb9f3a"
            ],
            [
             0.8888888888888888,
             "#fdca26"
            ],
            [
             1,
             "#f0f921"
            ]
           ],
           "sequentialminus": [
            [
             0,
             "#0d0887"
            ],
            [
             0.1111111111111111,
             "#46039f"
            ],
            [
             0.2222222222222222,
             "#7201a8"
            ],
            [
             0.3333333333333333,
             "#9c179e"
            ],
            [
             0.4444444444444444,
             "#bd3786"
            ],
            [
             0.5555555555555556,
             "#d8576b"
            ],
            [
             0.6666666666666666,
             "#ed7953"
            ],
            [
             0.7777777777777778,
             "#fb9f3a"
            ],
            [
             0.8888888888888888,
             "#fdca26"
            ],
            [
             1,
             "#f0f921"
            ]
           ]
          },
          "colorway": [
           "#636efa",
           "#EF553B",
           "#00cc96",
           "#ab63fa",
           "#FFA15A",
           "#19d3f3",
           "#FF6692",
           "#B6E880",
           "#FF97FF",
           "#FECB52"
          ],
          "font": {
           "color": "#2a3f5f"
          },
          "geo": {
           "bgcolor": "white",
           "lakecolor": "white",
           "landcolor": "#E5ECF6",
           "showlakes": true,
           "showland": true,
           "subunitcolor": "white"
          },
          "hoverlabel": {
           "align": "left"
          },
          "hovermode": "closest",
          "mapbox": {
           "style": "light"
          },
          "paper_bgcolor": "white",
          "plot_bgcolor": "#E5ECF6",
          "polar": {
           "angularaxis": {
            "gridcolor": "white",
            "linecolor": "white",
            "ticks": ""
           },
           "bgcolor": "#E5ECF6",
           "radialaxis": {
            "gridcolor": "white",
            "linecolor": "white",
            "ticks": ""
           }
          },
          "scene": {
           "xaxis": {
            "backgroundcolor": "#E5ECF6",
            "gridcolor": "white",
            "gridwidth": 2,
            "linecolor": "white",
            "showbackground": true,
            "ticks": "",
            "zerolinecolor": "white"
           },
           "yaxis": {
            "backgroundcolor": "#E5ECF6",
            "gridcolor": "white",
            "gridwidth": 2,
            "linecolor": "white",
            "showbackground": true,
            "ticks": "",
            "zerolinecolor": "white"
           },
           "zaxis": {
            "backgroundcolor": "#E5ECF6",
            "gridcolor": "white",
            "gridwidth": 2,
            "linecolor": "white",
            "showbackground": true,
            "ticks": "",
            "zerolinecolor": "white"
           }
          },
          "shapedefaults": {
           "line": {
            "color": "#2a3f5f"
           }
          },
          "ternary": {
           "aaxis": {
            "gridcolor": "white",
            "linecolor": "white",
            "ticks": ""
           },
           "baxis": {
            "gridcolor": "white",
            "linecolor": "white",
            "ticks": ""
           },
           "bgcolor": "#E5ECF6",
           "caxis": {
            "gridcolor": "white",
            "linecolor": "white",
            "ticks": ""
           }
          },
          "title": {
           "x": 0.05
          },
          "xaxis": {
           "automargin": true,
           "gridcolor": "white",
           "linecolor": "white",
           "ticks": "",
           "title": {
            "standoff": 15
           },
           "zerolinecolor": "white",
           "zerolinewidth": 2
          },
          "yaxis": {
           "automargin": true,
           "gridcolor": "white",
           "linecolor": "white",
           "ticks": "",
           "title": {
            "standoff": 15
           },
           "zerolinecolor": "white",
           "zerolinewidth": 2
          }
         }
        },
        "title": {
         "text": "Segmentation Methods Comparison"
        },
        "xaxis": {
         "anchor": "y",
         "domain": [
          0.55,
          1
         ]
        },
        "yaxis": {
         "anchor": "x",
         "domain": [
          0,
          0.375
         ]
        }
       }
      }
     },
     "metadata": {},
     "output_type": "display_data"
    }
   ],
   "source": [
    "# Visualize segmentation comparison\n",
    "fig = make_subplots(\n",
    "    rows=2, cols=2,\n",
    "    subplot_titles=['RFM Segments', 'K-Means Clusters', 'Hierarchical Clusters', 'Segment Sizes'],\n",
    "    specs=[[{'type': 'scatter3d'}, {'type': 'scatter3d'}],\n",
    "           [{'type': 'scatter3d'}, {'type': 'bar'}]]\n",
    ")\n",
    "\n",
    "# RFM Segments 3D\n",
    "for i, segment in enumerate(rfm_clustered['RFM_Segment'].unique()):\n",
    "    segment_data = rfm_clustered[rfm_clustered['RFM_Segment'] == segment]\n",
    "    fig.add_trace(\n",
    "        go.Scatter3d(\n",
    "            x=segment_data['Recency'],\n",
    "            y=segment_data['Frequency'],\n",
    "            z=segment_data['Monetary'],\n",
    "            mode='markers',\n",
    "            name=segment,\n",
    "            showlegend=False\n",
    "        ),\n",
    "        row=1, col=1\n",
    "    )\n",
    "\n",
    "# K-Means Clusters 3D\n",
    "for cluster in rfm_clustered['KMeans_Cluster'].unique():\n",
    "    cluster_data = rfm_clustered[rfm_clustered['KMeans_Cluster'] == cluster]\n",
    "    fig.add_trace(\n",
    "        go.Scatter3d(\n",
    "            x=cluster_data['Recency'],\n",
    "            y=cluster_data['Frequency'],\n",
    "            z=cluster_data['Monetary'],\n",
    "            mode='markers',\n",
    "            name=f'K-Means {cluster}',\n",
    "            showlegend=False\n",
    "        ),\n",
    "        row=1, col=2\n",
    "    )\n",
    "\n",
    "# Hierarchical Clusters 3D\n",
    "for cluster in rfm_clustered['Hierarchical_Cluster'].unique():\n",
    "    cluster_data = rfm_clustered[rfm_clustered['Hierarchical_Cluster'] == cluster]\n",
    "    fig.add_trace(\n",
    "        go.Scatter3d(\n",
    "            x=cluster_data['Recency'],\n",
    "            y=cluster_data['Frequency'],\n",
    "            z=cluster_data['Monetary'],\n",
    "            mode='markers',\n",
    "            name=f'Hierarchical {cluster}',\n",
    "            showlegend=False\n",
    "        ),\n",
    "        row=2, col=1\n",
    "    )\n",
    "\n",
    "# Segment sizes comparison\n",
    "methods = ['RFM', 'K-Means', 'Hierarchical']\n",
    "segment_counts = [\n",
    "    len(rfm_clustered['RFM_Segment'].unique()),\n",
    "    len(rfm_clustered['KMeans_Cluster'].unique()),\n",
    "    len(rfm_clustered['Hierarchical_Cluster'].unique())\n",
    "]\n",
    "\n",
    "fig.add_trace(\n",
    "    go.Bar(x=methods, y=segment_counts, name='Segment Count'),\n",
    "    row=2, col=2\n",
    ")\n",
    "\n",
    "fig.update_layout(height=800, title_text=\"Segmentation Methods Comparison\")\n",
    "fig.show()"
   ]
  },
  {
   "cell_type": "markdown",
   "metadata": {},
   "source": [
    "## 6. Customer Personas and Business Insights"
   ]
  },
  {
   "cell_type": "code",
   "execution_count": 13,
   "metadata": {},
   "outputs": [
    {
     "name": "stdout",
     "output_type": "stream",
     "text": [
      "👥 CUSTOMER PERSONAS ANALYSIS\n",
      "============================================================\n",
      "\n",
      "🎯 LOST CUSTOMERS (495 customers, 12.7%)\n",
      "Description: Customers who have likely churned\n",
      "Strategy: Reactivation or let go\n",
      "Key Actions:\n",
      "  • Win-back campaigns\n",
      "  • Surveys\n",
      "  • Minimal investment\n",
      "  • Learning from churn\n",
      "--------------------------------------------------\n",
      "\n",
      "🎯 POTENTIAL LOYALISTS (189 customers, 4.8%)\n",
      "Description: Customers showing signs of increased engagement\n",
      "Strategy: Develop into loyal customers\n",
      "Key Actions:\n",
      "  • Targeted offers\n",
      "  • Engagement campaigns\n",
      "  • Value demonstration\n",
      "--------------------------------------------------\n",
      "\n",
      "🎯 NEW CUSTOMERS (625 customers, 16.0%)\n",
      "Description: Recent customers with potential for growth\n",
      "Strategy: Nurture and convert to loyal\n",
      "Key Actions:\n",
      "  • Welcome series\n",
      "  • Education\n",
      "  • Support\n",
      "  • Incentives for repeat purchase\n",
      "--------------------------------------------------\n",
      "\n",
      "🎯 CANNOT LOSE THEM (507 customers, 13.0%)\n",
      "Description: High-value customers at risk of churning\n",
      "Strategy: Immediate intervention required\n",
      "Key Actions:\n",
      "  • Personal contact\n",
      "  • Exclusive offers\n",
      "  • Account management\n",
      "  • Problem resolution\n",
      "--------------------------------------------------\n",
      "\n",
      "🎯 LOYAL CUSTOMERS (598 customers, 15.3%)\n",
      "Description: Consistent customers with good value and regular engagement\n",
      "Strategy: Maintain relationship and increase value\n",
      "Key Actions:\n",
      "  • Cross-sell\n",
      "  • Upsell\n",
      "  • Personalization\n",
      "  • Relationship building\n",
      "--------------------------------------------------\n",
      "\n",
      "🎯 AT RISK (558 customers, 14.3%)\n",
      "Description: Previously good customers showing declining engagement\n",
      "Strategy: Win-back campaigns\n",
      "Key Actions:\n",
      "  • Re-engagement offers\n",
      "  • Surveys\n",
      "  • Personal outreach\n",
      "  • Special incentives\n",
      "--------------------------------------------------\n",
      "\n",
      "🎯 CHAMPIONS (256 customers, 6.6%)\n",
      "Description: Best customers - high value, frequent purchases, recent activity\n",
      "Strategy: Reward and retain\n",
      "Key Actions:\n",
      "  • VIP treatment\n",
      "  • Exclusive offers\n",
      "  • Early access\n",
      "  • Loyalty rewards\n",
      "--------------------------------------------------\n"
     ]
    }
   ],
   "source": [
    "# Create customer personas based on RFM segments\n",
    "def create_customer_personas(rfm_df):\n",
    "    \"\"\"Create detailed customer personas for each segment\"\"\"\n",
    "    \n",
    "    personas = {\n",
    "        'Champions': {\n",
    "            'description': 'Best customers - high value, frequent purchases, recent activity',\n",
    "            'characteristics': ['High spending', 'Regular purchases', 'Recently active', 'Highly engaged'],\n",
    "            'strategy': 'Reward and retain',\n",
    "            'actions': ['VIP treatment', 'Exclusive offers', 'Early access', 'Loyalty rewards']\n",
    "        },\n",
    "        'Loyal Customers': {\n",
    "            'description': 'Consistent customers with good value and regular engagement',\n",
    "            'characteristics': ['Moderate to high spending', 'Regular engagement', 'Predictable behavior'],\n",
    "            'strategy': 'Maintain relationship and increase value',\n",
    "            'actions': ['Cross-sell', 'Upsell', 'Personalization', 'Relationship building']\n",
    "        },\n",
    "        'New Customers': {\n",
    "            'description': 'Recent customers with potential for growth',\n",
    "            'characteristics': ['Recent first purchase', 'Low frequency', 'Testing the waters'],\n",
    "            'strategy': 'Nurture and convert to loyal',\n",
    "            'actions': ['Welcome series', 'Education', 'Support', 'Incentives for repeat purchase']\n",
    "        },\n",
    "        'Potential Loyalists': {\n",
    "            'description': 'Customers showing signs of increased engagement',\n",
    "            'characteristics': ['Increasing activity', 'Good value potential', 'Responsive to offers'],\n",
    "            'strategy': 'Develop into loyal customers',\n",
    "            'actions': ['Targeted offers', 'Engagement campaigns', 'Value demonstration']\n",
    "        },\n",
    "        'At Risk': {\n",
    "            'description': 'Previously good customers showing declining engagement',\n",
    "            'characteristics': ['Declining frequency', 'Haven\\'t purchased recently', 'High historical value'],\n",
    "            'strategy': 'Win-back campaigns',\n",
    "            'actions': ['Re-engagement offers', 'Surveys', 'Personal outreach', 'Special incentives']\n",
    "        },\n",
    "        'Cannot Lose Them': {\n",
    "            'description': 'High-value customers at risk of churning',\n",
    "            'characteristics': ['High historical spend', 'Infrequent recent activity', 'High churn risk'],\n",
    "            'strategy': 'Immediate intervention required',\n",
    "            'actions': ['Personal contact', 'Exclusive offers', 'Account management', 'Problem resolution']\n",
    "        },\n",
    "        'Lost Customers': {\n",
    "            'description': 'Customers who have likely churned',\n",
    "            'characteristics': ['No recent activity', 'Low engagement', 'Minimal historical value'],\n",
    "            'strategy': 'Reactivation or let go',\n",
    "            'actions': ['Win-back campaigns', 'Surveys', 'Minimal investment', 'Learning from churn']\n",
    "        }\n",
    "    }\n",
    "    \n",
    "    return personas\n",
    "\n",
    "# Generate personas\n",
    "personas = create_customer_personas(rfm_segmented)\n",
    "\n",
    "# Display persona details for each segment found in data\n",
    "active_segments = rfm_segmented['RFM_Segment'].unique()\n",
    "\n",
    "print(\"👥 CUSTOMER PERSONAS ANALYSIS\")\n",
    "print(\"=\" * 60)\n",
    "\n",
    "for segment in active_segments:\n",
    "    if segment in personas:\n",
    "        persona = personas[segment]\n",
    "        segment_size = (rfm_segmented['RFM_Segment'] == segment).sum()\n",
    "        segment_pct = (segment_size / len(rfm_segmented)) * 100\n",
    "        \n",
    "        print(f\"\\n🎯 {segment.upper()} ({segment_size} customers, {segment_pct:.1f}%)\")\n",
    "        print(f\"Description: {persona['description']}\")\n",
    "        print(f\"Strategy: {persona['strategy']}\")\n",
    "        print(\"Key Actions:\")\n",
    "        for action in persona['actions']:\n",
    "            print(f\"  • {action}\")\n",
    "        print(\"-\" * 50)"
   ]
  },
  {
   "cell_type": "code",
   "execution_count": 14,
   "metadata": {},
   "outputs": [
    {
     "name": "stdout",
     "output_type": "stream",
     "text": [
      "💼 BUSINESS IMPACT ANALYSIS\n",
      "==================================================\n"
     ]
    },
    {
     "data": {
      "text/html": [
       "<div>\n",
       "<style scoped>\n",
       "    .dataframe tbody tr th:only-of-type {\n",
       "        vertical-align: middle;\n",
       "    }\n",
       "\n",
       "    .dataframe tbody tr th {\n",
       "        vertical-align: top;\n",
       "    }\n",
       "\n",
       "    .dataframe thead th {\n",
       "        text-align: right;\n",
       "    }\n",
       "</style>\n",
       "<table border=\"1\" class=\"dataframe\">\n",
       "  <thead>\n",
       "    <tr style=\"text-align: right;\">\n",
       "      <th></th>\n",
       "      <th>Total_Revenue</th>\n",
       "      <th>Avg_Revenue_Per_Customer</th>\n",
       "      <th>Avg_Frequency</th>\n",
       "      <th>Avg_Recency</th>\n",
       "      <th>Customer_Count</th>\n",
       "      <th>Revenue_Share_Pct</th>\n",
       "      <th>Customer_Share_Pct</th>\n",
       "    </tr>\n",
       "    <tr>\n",
       "      <th>RFM_Segment</th>\n",
       "      <th></th>\n",
       "      <th></th>\n",
       "      <th></th>\n",
       "      <th></th>\n",
       "      <th></th>\n",
       "      <th></th>\n",
       "      <th></th>\n",
       "    </tr>\n",
       "  </thead>\n",
       "  <tbody>\n",
       "    <tr>\n",
       "      <th>Loyal Customers</th>\n",
       "      <td>43281</td>\n",
       "      <td>72.38</td>\n",
       "      <td>1.0</td>\n",
       "      <td>12.89</td>\n",
       "      <td>598</td>\n",
       "      <td>18.6</td>\n",
       "      <td>15.3</td>\n",
       "    </tr>\n",
       "    <tr>\n",
       "      <th>At Risk</th>\n",
       "      <td>42872</td>\n",
       "      <td>76.83</td>\n",
       "      <td>1.0</td>\n",
       "      <td>59.09</td>\n",
       "      <td>558</td>\n",
       "      <td>18.4</td>\n",
       "      <td>14.3</td>\n",
       "    </tr>\n",
       "    <tr>\n",
       "      <th>New Customers</th>\n",
       "      <td>36204</td>\n",
       "      <td>57.93</td>\n",
       "      <td>1.0</td>\n",
       "      <td>6.77</td>\n",
       "      <td>625</td>\n",
       "      <td>15.5</td>\n",
       "      <td>16.0</td>\n",
       "    </tr>\n",
       "    <tr>\n",
       "      <th>Lost Customers</th>\n",
       "      <td>33567</td>\n",
       "      <td>67.81</td>\n",
       "      <td>1.0</td>\n",
       "      <td>57.68</td>\n",
       "      <td>495</td>\n",
       "      <td>14.4</td>\n",
       "      <td>12.7</td>\n",
       "    </tr>\n",
       "    <tr>\n",
       "      <th>Others</th>\n",
       "      <td>23280</td>\n",
       "      <td>34.64</td>\n",
       "      <td>1.0</td>\n",
       "      <td>13.59</td>\n",
       "      <td>672</td>\n",
       "      <td>10.0</td>\n",
       "      <td>17.2</td>\n",
       "    </tr>\n",
       "    <tr>\n",
       "      <th>Champions</th>\n",
       "      <td>21614</td>\n",
       "      <td>84.43</td>\n",
       "      <td>1.0</td>\n",
       "      <td>6.91</td>\n",
       "      <td>256</td>\n",
       "      <td>9.3</td>\n",
       "      <td>6.6</td>\n",
       "    </tr>\n",
       "    <tr>\n",
       "      <th>Cannot Lose Them</th>\n",
       "      <td>17918</td>\n",
       "      <td>35.34</td>\n",
       "      <td>1.0</td>\n",
       "      <td>56.71</td>\n",
       "      <td>507</td>\n",
       "      <td>7.7</td>\n",
       "      <td>13.0</td>\n",
       "    </tr>\n",
       "    <tr>\n",
       "      <th>Potential Loyalists</th>\n",
       "      <td>14345</td>\n",
       "      <td>75.90</td>\n",
       "      <td>1.0</td>\n",
       "      <td>20.35</td>\n",
       "      <td>189</td>\n",
       "      <td>6.2</td>\n",
       "      <td>4.8</td>\n",
       "    </tr>\n",
       "  </tbody>\n",
       "</table>\n",
       "</div>"
      ],
      "text/plain": [
       "                     Total_Revenue  Avg_Revenue_Per_Customer  Avg_Frequency  \\\n",
       "RFM_Segment                                                                   \n",
       "Loyal Customers              43281                     72.38            1.0   \n",
       "At Risk                      42872                     76.83            1.0   \n",
       "New Customers                36204                     57.93            1.0   \n",
       "Lost Customers               33567                     67.81            1.0   \n",
       "Others                       23280                     34.64            1.0   \n",
       "Champions                    21614                     84.43            1.0   \n",
       "Cannot Lose Them             17918                     35.34            1.0   \n",
       "Potential Loyalists          14345                     75.90            1.0   \n",
       "\n",
       "                     Avg_Recency  Customer_Count  Revenue_Share_Pct  \\\n",
       "RFM_Segment                                                           \n",
       "Loyal Customers            12.89             598               18.6   \n",
       "At Risk                    59.09             558               18.4   \n",
       "New Customers               6.77             625               15.5   \n",
       "Lost Customers             57.68             495               14.4   \n",
       "Others                     13.59             672               10.0   \n",
       "Champions                   6.91             256                9.3   \n",
       "Cannot Lose Them           56.71             507                7.7   \n",
       "Potential Loyalists        20.35             189                6.2   \n",
       "\n",
       "                     Customer_Share_Pct  \n",
       "RFM_Segment                              \n",
       "Loyal Customers                    15.3  \n",
       "At Risk                            14.3  \n",
       "New Customers                      16.0  \n",
       "Lost Customers                     12.7  \n",
       "Others                             17.2  \n",
       "Champions                           6.6  \n",
       "Cannot Lose Them                   13.0  \n",
       "Potential Loyalists                 4.8  "
      ]
     },
     "metadata": {},
     "output_type": "display_data"
    },
    {
     "data": {
      "application/vnd.plotly.v1+json": {
       "config": {
        "plotlyServerURL": "https://plot.ly"
       },
       "data": [
        {
         "name": "Revenue Share",
         "type": "bar",
         "x": [
          "Loyal Customers",
          "At Risk",
          "New Customers",
          "Lost Customers",
          "Others",
          "Champions",
          "Cannot Lose Them",
          "Potential Loyalists"
         ],
         "xaxis": "x",
         "y": {
          "bdata": "mpmZmZmZMkBmZmZmZmYyQAAAAAAAAC9AzczMzMzMLEAAAAAAAAAkQJqZmZmZmSJAzczMzMzMHkDNzMzMzMwYQA==",
          "dtype": "f8"
         },
         "yaxis": "y"
        },
        {
         "name": "Customer Share",
         "type": "bar",
         "x": [
          "Loyal Customers",
          "At Risk",
          "New Customers",
          "Lost Customers",
          "Others",
          "Champions",
          "Cannot Lose Them",
          "Potential Loyalists"
         ],
         "xaxis": "x2",
         "y": {
          "bdata": "mpmZmZmZLkCamZmZmZksQAAAAAAAADBAZmZmZmZmKUAzMzMzMzMxQGZmZmZmZhpAAAAAAAAAKkAzMzMzMzMTQA==",
          "dtype": "f8"
         },
         "yaxis": "y2"
        },
        {
         "mode": "markers+text",
         "name": "Segments",
         "text": [
          "Loyal Customers",
          "At Risk",
          "New Customers",
          "Lost Customers",
          "Others",
          "Champions",
          "Cannot Lose Them",
          "Potential Loyalists"
         ],
         "textposition": "top center",
         "type": "scatter",
         "x": {
          "bdata": "mpmZmZmZLkCamZmZmZksQAAAAAAAADBAZmZmZmZmKUAzMzMzMzMxQGZmZmZmZhpAAAAAAAAAKkAzMzMzMzMTQA==",
          "dtype": "f8"
         },
         "xaxis": "x3",
         "y": {
          "bdata": "mpmZmZmZMkBmZmZmZmYyQAAAAAAAAC9AzczMzMzMLEAAAAAAAAAkQJqZmZmZmSJAzczMzMzMHkDNzMzMzMwYQA==",
          "dtype": "f8"
         },
         "yaxis": "y3"
        },
        {
         "name": "Avg Revenue",
         "type": "bar",
         "x": [
          "Loyal Customers",
          "At Risk",
          "New Customers",
          "Lost Customers",
          "Others",
          "Champions",
          "Cannot Lose Them",
          "Potential Loyalists"
         ],
         "xaxis": "x4",
         "y": {
          "bdata": "uB6F61EYUkCF61G4HjVTQNejcD0K90xApHA9CtfzUEBSuB6F61FBQOxRuB6FG1VA7FG4HoWrQUCamZmZmflSQA==",
          "dtype": "f8"
         },
         "yaxis": "y4"
        }
       ],
       "layout": {
        "annotations": [
         {
          "font": {
           "size": 16
          },
          "showarrow": false,
          "text": "Revenue Share by Segment",
          "x": 0.225,
          "xanchor": "center",
          "xref": "paper",
          "y": 1,
          "yanchor": "bottom",
          "yref": "paper"
         },
         {
          "font": {
           "size": 16
          },
          "showarrow": false,
          "text": "Customer Share by Segment",
          "x": 0.775,
          "xanchor": "center",
          "xref": "paper",
          "y": 1,
          "yanchor": "bottom",
          "yref": "paper"
         },
         {
          "font": {
           "size": 16
          },
          "showarrow": false,
          "text": "Revenue vs Customer Share",
          "x": 0.225,
          "xanchor": "center",
          "xref": "paper",
          "y": 0.375,
          "yanchor": "bottom",
          "yref": "paper"
         },
         {
          "font": {
           "size": 16
          },
          "showarrow": false,
          "text": "Average Revenue per Customer",
          "x": 0.775,
          "xanchor": "center",
          "xref": "paper",
          "y": 0.375,
          "yanchor": "bottom",
          "yref": "paper"
         }
        ],
        "height": 800,
        "showlegend": false,
        "template": {
         "data": {
          "bar": [
           {
            "error_x": {
             "color": "#2a3f5f"
            },
            "error_y": {
             "color": "#2a3f5f"
            },
            "marker": {
             "line": {
              "color": "#E5ECF6",
              "width": 0.5
             },
             "pattern": {
              "fillmode": "overlay",
              "size": 10,
              "solidity": 0.2
             }
            },
            "type": "bar"
           }
          ],
          "barpolar": [
           {
            "marker": {
             "line": {
              "color": "#E5ECF6",
              "width": 0.5
             },
             "pattern": {
              "fillmode": "overlay",
              "size": 10,
              "solidity": 0.2
             }
            },
            "type": "barpolar"
           }
          ],
          "carpet": [
           {
            "aaxis": {
             "endlinecolor": "#2a3f5f",
             "gridcolor": "white",
             "linecolor": "white",
             "minorgridcolor": "white",
             "startlinecolor": "#2a3f5f"
            },
            "baxis": {
             "endlinecolor": "#2a3f5f",
             "gridcolor": "white",
             "linecolor": "white",
             "minorgridcolor": "white",
             "startlinecolor": "#2a3f5f"
            },
            "type": "carpet"
           }
          ],
          "choropleth": [
           {
            "colorbar": {
             "outlinewidth": 0,
             "ticks": ""
            },
            "type": "choropleth"
           }
          ],
          "contour": [
           {
            "colorbar": {
             "outlinewidth": 0,
             "ticks": ""
            },
            "colorscale": [
             [
              0,
              "#0d0887"
             ],
             [
              0.1111111111111111,
              "#46039f"
             ],
             [
              0.2222222222222222,
              "#7201a8"
             ],
             [
              0.3333333333333333,
              "#9c179e"
             ],
             [
              0.4444444444444444,
              "#bd3786"
             ],
             [
              0.5555555555555556,
              "#d8576b"
             ],
             [
              0.6666666666666666,
              "#ed7953"
             ],
             [
              0.7777777777777778,
              "#fb9f3a"
             ],
             [
              0.8888888888888888,
              "#fdca26"
             ],
             [
              1,
              "#f0f921"
             ]
            ],
            "type": "contour"
           }
          ],
          "contourcarpet": [
           {
            "colorbar": {
             "outlinewidth": 0,
             "ticks": ""
            },
            "type": "contourcarpet"
           }
          ],
          "heatmap": [
           {
            "colorbar": {
             "outlinewidth": 0,
             "ticks": ""
            },
            "colorscale": [
             [
              0,
              "#0d0887"
             ],
             [
              0.1111111111111111,
              "#46039f"
             ],
             [
              0.2222222222222222,
              "#7201a8"
             ],
             [
              0.3333333333333333,
              "#9c179e"
             ],
             [
              0.4444444444444444,
              "#bd3786"
             ],
             [
              0.5555555555555556,
              "#d8576b"
             ],
             [
              0.6666666666666666,
              "#ed7953"
             ],
             [
              0.7777777777777778,
              "#fb9f3a"
             ],
             [
              0.8888888888888888,
              "#fdca26"
             ],
             [
              1,
              "#f0f921"
             ]
            ],
            "type": "heatmap"
           }
          ],
          "histogram": [
           {
            "marker": {
             "pattern": {
              "fillmode": "overlay",
              "size": 10,
              "solidity": 0.2
             }
            },
            "type": "histogram"
           }
          ],
          "histogram2d": [
           {
            "colorbar": {
             "outlinewidth": 0,
             "ticks": ""
            },
            "colorscale": [
             [
              0,
              "#0d0887"
             ],
             [
              0.1111111111111111,
              "#46039f"
             ],
             [
              0.2222222222222222,
              "#7201a8"
             ],
             [
              0.3333333333333333,
              "#9c179e"
             ],
             [
              0.4444444444444444,
              "#bd3786"
             ],
             [
              0.5555555555555556,
              "#d8576b"
             ],
             [
              0.6666666666666666,
              "#ed7953"
             ],
             [
              0.7777777777777778,
              "#fb9f3a"
             ],
             [
              0.8888888888888888,
              "#fdca26"
             ],
             [
              1,
              "#f0f921"
             ]
            ],
            "type": "histogram2d"
           }
          ],
          "histogram2dcontour": [
           {
            "colorbar": {
             "outlinewidth": 0,
             "ticks": ""
            },
            "colorscale": [
             [
              0,
              "#0d0887"
             ],
             [
              0.1111111111111111,
              "#46039f"
             ],
             [
              0.2222222222222222,
              "#7201a8"
             ],
             [
              0.3333333333333333,
              "#9c179e"
             ],
             [
              0.4444444444444444,
              "#bd3786"
             ],
             [
              0.5555555555555556,
              "#d8576b"
             ],
             [
              0.6666666666666666,
              "#ed7953"
             ],
             [
              0.7777777777777778,
              "#fb9f3a"
             ],
             [
              0.8888888888888888,
              "#fdca26"
             ],
             [
              1,
              "#f0f921"
             ]
            ],
            "type": "histogram2dcontour"
           }
          ],
          "mesh3d": [
           {
            "colorbar": {
             "outlinewidth": 0,
             "ticks": ""
            },
            "type": "mesh3d"
           }
          ],
          "parcoords": [
           {
            "line": {
             "colorbar": {
              "outlinewidth": 0,
              "ticks": ""
             }
            },
            "type": "parcoords"
           }
          ],
          "pie": [
           {
            "automargin": true,
            "type": "pie"
           }
          ],
          "scatter": [
           {
            "fillpattern": {
             "fillmode": "overlay",
             "size": 10,
             "solidity": 0.2
            },
            "type": "scatter"
           }
          ],
          "scatter3d": [
           {
            "line": {
             "colorbar": {
              "outlinewidth": 0,
              "ticks": ""
             }
            },
            "marker": {
             "colorbar": {
              "outlinewidth": 0,
              "ticks": ""
             }
            },
            "type": "scatter3d"
           }
          ],
          "scattercarpet": [
           {
            "marker": {
             "colorbar": {
              "outlinewidth": 0,
              "ticks": ""
             }
            },
            "type": "scattercarpet"
           }
          ],
          "scattergeo": [
           {
            "marker": {
             "colorbar": {
              "outlinewidth": 0,
              "ticks": ""
             }
            },
            "type": "scattergeo"
           }
          ],
          "scattergl": [
           {
            "marker": {
             "colorbar": {
              "outlinewidth": 0,
              "ticks": ""
             }
            },
            "type": "scattergl"
           }
          ],
          "scattermap": [
           {
            "marker": {
             "colorbar": {
              "outlinewidth": 0,
              "ticks": ""
             }
            },
            "type": "scattermap"
           }
          ],
          "scattermapbox": [
           {
            "marker": {
             "colorbar": {
              "outlinewidth": 0,
              "ticks": ""
             }
            },
            "type": "scattermapbox"
           }
          ],
          "scatterpolar": [
           {
            "marker": {
             "colorbar": {
              "outlinewidth": 0,
              "ticks": ""
             }
            },
            "type": "scatterpolar"
           }
          ],
          "scatterpolargl": [
           {
            "marker": {
             "colorbar": {
              "outlinewidth": 0,
              "ticks": ""
             }
            },
            "type": "scatterpolargl"
           }
          ],
          "scatterternary": [
           {
            "marker": {
             "colorbar": {
              "outlinewidth": 0,
              "ticks": ""
             }
            },
            "type": "scatterternary"
           }
          ],
          "surface": [
           {
            "colorbar": {
             "outlinewidth": 0,
             "ticks": ""
            },
            "colorscale": [
             [
              0,
              "#0d0887"
             ],
             [
              0.1111111111111111,
              "#46039f"
             ],
             [
              0.2222222222222222,
              "#7201a8"
             ],
             [
              0.3333333333333333,
              "#9c179e"
             ],
             [
              0.4444444444444444,
              "#bd3786"
             ],
             [
              0.5555555555555556,
              "#d8576b"
             ],
             [
              0.6666666666666666,
              "#ed7953"
             ],
             [
              0.7777777777777778,
              "#fb9f3a"
             ],
             [
              0.8888888888888888,
              "#fdca26"
             ],
             [
              1,
              "#f0f921"
             ]
            ],
            "type": "surface"
           }
          ],
          "table": [
           {
            "cells": {
             "fill": {
              "color": "#EBF0F8"
             },
             "line": {
              "color": "white"
             }
            },
            "header": {
             "fill": {
              "color": "#C8D4E3"
             },
             "line": {
              "color": "white"
             }
            },
            "type": "table"
           }
          ]
         },
         "layout": {
          "annotationdefaults": {
           "arrowcolor": "#2a3f5f",
           "arrowhead": 0,
           "arrowwidth": 1
          },
          "autotypenumbers": "strict",
          "coloraxis": {
           "colorbar": {
            "outlinewidth": 0,
            "ticks": ""
           }
          },
          "colorscale": {
           "diverging": [
            [
             0,
             "#8e0152"
            ],
            [
             0.1,
             "#c51b7d"
            ],
            [
             0.2,
             "#de77ae"
            ],
            [
             0.3,
             "#f1b6da"
            ],
            [
             0.4,
             "#fde0ef"
            ],
            [
             0.5,
             "#f7f7f7"
            ],
            [
             0.6,
             "#e6f5d0"
            ],
            [
             0.7,
             "#b8e186"
            ],
            [
             0.8,
             "#7fbc41"
            ],
            [
             0.9,
             "#4d9221"
            ],
            [
             1,
             "#276419"
            ]
           ],
           "sequential": [
            [
             0,
             "#0d0887"
            ],
            [
             0.1111111111111111,
             "#46039f"
            ],
            [
             0.2222222222222222,
             "#7201a8"
            ],
            [
             0.3333333333333333,
             "#9c179e"
            ],
            [
             0.4444444444444444,
             "#bd3786"
            ],
            [
             0.5555555555555556,
             "#d8576b"
            ],
            [
             0.6666666666666666,
             "#ed7953"
            ],
            [
             0.7777777777777778,
             "#fb9f3a"
            ],
            [
             0.8888888888888888,
             "#fdca26"
            ],
            [
             1,
             "#f0f921"
            ]
           ],
           "sequentialminus": [
            [
             0,
             "#0d0887"
            ],
            [
             0.1111111111111111,
             "#46039f"
            ],
            [
             0.2222222222222222,
             "#7201a8"
            ],
            [
             0.3333333333333333,
             "#9c179e"
            ],
            [
             0.4444444444444444,
             "#bd3786"
            ],
            [
             0.5555555555555556,
             "#d8576b"
            ],
            [
             0.6666666666666666,
             "#ed7953"
            ],
            [
             0.7777777777777778,
             "#fb9f3a"
            ],
            [
             0.8888888888888888,
             "#fdca26"
            ],
            [
             1,
             "#f0f921"
            ]
           ]
          },
          "colorway": [
           "#636efa",
           "#EF553B",
           "#00cc96",
           "#ab63fa",
           "#FFA15A",
           "#19d3f3",
           "#FF6692",
           "#B6E880",
           "#FF97FF",
           "#FECB52"
          ],
          "font": {
           "color": "#2a3f5f"
          },
          "geo": {
           "bgcolor": "white",
           "lakecolor": "white",
           "landcolor": "#E5ECF6",
           "showlakes": true,
           "showland": true,
           "subunitcolor": "white"
          },
          "hoverlabel": {
           "align": "left"
          },
          "hovermode": "closest",
          "mapbox": {
           "style": "light"
          },
          "paper_bgcolor": "white",
          "plot_bgcolor": "#E5ECF6",
          "polar": {
           "angularaxis": {
            "gridcolor": "white",
            "linecolor": "white",
            "ticks": ""
           },
           "bgcolor": "#E5ECF6",
           "radialaxis": {
            "gridcolor": "white",
            "linecolor": "white",
            "ticks": ""
           }
          },
          "scene": {
           "xaxis": {
            "backgroundcolor": "#E5ECF6",
            "gridcolor": "white",
            "gridwidth": 2,
            "linecolor": "white",
            "showbackground": true,
            "ticks": "",
            "zerolinecolor": "white"
           },
           "yaxis": {
            "backgroundcolor": "#E5ECF6",
            "gridcolor": "white",
            "gridwidth": 2,
            "linecolor": "white",
            "showbackground": true,
            "ticks": "",
            "zerolinecolor": "white"
           },
           "zaxis": {
            "backgroundcolor": "#E5ECF6",
            "gridcolor": "white",
            "gridwidth": 2,
            "linecolor": "white",
            "showbackground": true,
            "ticks": "",
            "zerolinecolor": "white"
           }
          },
          "shapedefaults": {
           "line": {
            "color": "#2a3f5f"
           }
          },
          "ternary": {
           "aaxis": {
            "gridcolor": "white",
            "linecolor": "white",
            "ticks": ""
           },
           "baxis": {
            "gridcolor": "white",
            "linecolor": "white",
            "ticks": ""
           },
           "bgcolor": "#E5ECF6",
           "caxis": {
            "gridcolor": "white",
            "linecolor": "white",
            "ticks": ""
           }
          },
          "title": {
           "x": 0.05
          },
          "xaxis": {
           "automargin": true,
           "gridcolor": "white",
           "linecolor": "white",
           "ticks": "",
           "title": {
            "standoff": 15
           },
           "zerolinecolor": "white",
           "zerolinewidth": 2
          },
          "yaxis": {
           "automargin": true,
           "gridcolor": "white",
           "linecolor": "white",
           "ticks": "",
           "title": {
            "standoff": 15
           },
           "zerolinecolor": "white",
           "zerolinewidth": 2
          }
         }
        },
        "title": {
         "text": "Business Impact by Customer Segment"
        },
        "xaxis": {
         "anchor": "y",
         "domain": [
          0,
          0.45
         ],
         "tickangle": 45
        },
        "xaxis2": {
         "anchor": "y2",
         "domain": [
          0.55,
          1
         ],
         "tickangle": 45
        },
        "xaxis3": {
         "anchor": "y3",
         "domain": [
          0,
          0.45
         ],
         "tickangle": 45
        },
        "xaxis4": {
         "anchor": "y4",
         "domain": [
          0.55,
          1
         ],
         "tickangle": 45
        },
        "yaxis": {
         "anchor": "x",
         "domain": [
          0.625,
          1
         ]
        },
        "yaxis2": {
         "anchor": "x2",
         "domain": [
          0.625,
          1
         ]
        },
        "yaxis3": {
         "anchor": "x3",
         "domain": [
          0,
          0.375
         ]
        },
        "yaxis4": {
         "anchor": "x4",
         "domain": [
          0,
          0.375
         ]
        }
       }
      }
     },
     "metadata": {},
     "output_type": "display_data"
    }
   ],
   "source": [
    "# Calculate business impact metrics\n",
    "def calculate_business_impact(rfm_df):\n",
    "    \"\"\"Calculate business impact metrics for each segment\"\"\"\n",
    "    \n",
    "    segment_impact = rfm_df.groupby('RFM_Segment').agg({\n",
    "        'Monetary': ['sum', 'mean'],\n",
    "        'Frequency': 'mean',\n",
    "        'Recency': 'mean',\n",
    "        'RFM_Segment': 'count'\n",
    "    }).round(2)\n",
    "    \n",
    "    segment_impact.columns = ['Total_Revenue', 'Avg_Revenue_Per_Customer', 'Avg_Frequency', 'Avg_Recency', 'Customer_Count']\n",
    "    \n",
    "    # Calculate revenue share\n",
    "    total_revenue = segment_impact['Total_Revenue'].sum()\n",
    "    segment_impact['Revenue_Share_Pct'] = (segment_impact['Total_Revenue'] / total_revenue * 100).round(1)\n",
    "    \n",
    "    # Calculate customer share\n",
    "    total_customers = segment_impact['Customer_Count'].sum()\n",
    "    segment_impact['Customer_Share_Pct'] = (segment_impact['Customer_Count'] / total_customers * 100).round(1)\n",
    "    \n",
    "    # Sort by total revenue\n",
    "    segment_impact = segment_impact.sort_values('Total_Revenue', ascending=False)\n",
    "    \n",
    "    return segment_impact\n",
    "\n",
    "# Calculate business impact\n",
    "business_impact = calculate_business_impact(rfm_segmented)\n",
    "\n",
    "print(\"💼 BUSINESS IMPACT ANALYSIS\")\n",
    "print(\"=\" * 50)\n",
    "display(business_impact)\n",
    "\n",
    "# Visualize business impact\n",
    "fig = make_subplots(\n",
    "    rows=2, cols=2,\n",
    "    subplot_titles=['Revenue Share by Segment', 'Customer Share by Segment', \n",
    "                   'Revenue vs Customer Share', 'Average Revenue per Customer']\n",
    ")\n",
    "\n",
    "# Revenue share\n",
    "fig.add_trace(\n",
    "    go.Bar(x=business_impact.index, y=business_impact['Revenue_Share_Pct'], name='Revenue Share'),\n",
    "    row=1, col=1\n",
    ")\n",
    "\n",
    "# Customer share\n",
    "fig.add_trace(\n",
    "    go.Bar(x=business_impact.index, y=business_impact['Customer_Share_Pct'], name='Customer Share'),\n",
    "    row=1, col=2\n",
    ")\n",
    "\n",
    "# Revenue vs Customer Share scatter\n",
    "fig.add_trace(\n",
    "    go.Scatter(\n",
    "        x=business_impact['Customer_Share_Pct'], \n",
    "        y=business_impact['Revenue_Share_Pct'],\n",
    "        mode='markers+text',\n",
    "        text=business_impact.index,\n",
    "        textposition='top center',\n",
    "        name='Segments'\n",
    "    ),\n",
    "    row=2, col=1\n",
    ")\n",
    "\n",
    "# Average revenue per customer\n",
    "fig.add_trace(\n",
    "    go.Bar(x=business_impact.index, y=business_impact['Avg_Revenue_Per_Customer'], name='Avg Revenue'),\n",
    "    row=2, col=2\n",
    ")\n",
    "\n",
    "fig.update_xaxes(tickangle=45)\n",
    "fig.update_layout(height=800, title_text=\"Business Impact by Customer Segment\", showlegend=False)\n",
    "fig.show()"
   ]
  },
  {
   "cell_type": "code",
   "execution_count": 15,
   "metadata": {},
   "outputs": [
    {
     "name": "stdout",
     "output_type": "stream",
     "text": [
      "💾 Segmentation results saved to ../reports/analysis/03_customer_segmentation_results.csv\n",
      "💾 Business impact analysis saved to ../reports/analysis/03_business_impact_analysis.csv\n",
      "💾 Segmentation comparison saved to ../reports/analysis/03_segmentation_comparison.csv\n",
      "\n",
      "✅ Customer segmentation analysis completed successfully!\n",
      "🚀 Ready for next notebook: 04_predictive_modeling.ipynb\n",
      "\n",
      "============================================================\n",
      "📋 SEGMENTATION ANALYSIS SUMMARY\n",
      "============================================================\n",
      "✅ RFM Analysis: 8 segments identified\n",
      "✅ K-Means Clustering: 3 clusters (silhouette score: 0.450)\n",
      "✅ Hierarchical Clustering: 3 clusters\n",
      "✅ Business Impact: Revenue concentration analysis completed\n",
      "✅ Customer Personas: Actionable strategies developed\n",
      "\n",
      "🎯 Key Recommendation: Focus on Champions and At-Risk segments for maximum impact\n"
     ]
    }
   ],
   "source": [
    "# Save segmentation results\n",
    "try:\n",
    "    # Save detailed segmentation results\n",
    "    rfm_clustered.to_csv('../reports/analysis/03_customer_segmentation_results.csv', index=False)\n",
    "    print(\"💾 Segmentation results saved to ../reports/analysis/03_customer_segmentation_results.csv\")\n",
    "    \n",
    "    # Save business impact analysis\n",
    "    business_impact.to_csv('../reports/analysis/03_business_impact_analysis.csv')\n",
    "    print(\"💾 Business impact analysis saved to ../reports/analysis/03_business_impact_analysis.csv\")\n",
    "    \n",
    "    # Save segmentation comparison\n",
    "    comparison.to_csv('../reports/analysis/03_segmentation_comparison.csv', index=False)\n",
    "    print(\"💾 Segmentation comparison saved to ../reports/analysis/03_segmentation_comparison.csv\")\n",
    "    \n",
    "    print(\"\\n✅ Customer segmentation analysis completed successfully!\")\n",
    "    print(\"🚀 Ready for next notebook: 04_predictive_modeling.ipynb\")\n",
    "    \n",
    "except Exception as e:\n",
    "    print(f\"⚠️ Could not save reports: {e}\")\n",
    "    print(\"📊 Analysis completed - results available in notebook\")\n",
    "\n",
    "# Final summary\n",
    "print(\"\\n\" + \"=\" * 60)\n",
    "print(\"📋 SEGMENTATION ANALYSIS SUMMARY\")\n",
    "print(\"=\" * 60)\n",
    "print(f\"✅ RFM Analysis: {rfm_segmented['RFM_Segment'].nunique()} segments identified\")\n",
    "print(f\"✅ K-Means Clustering: {optimal_k} clusters (silhouette score: {best_silhouette:.3f})\")\n",
    "print(f\"✅ Hierarchical Clustering: {rfm_clustered['Hierarchical_Cluster'].nunique()} clusters\")\n",
    "print(f\"✅ Business Impact: Revenue concentration analysis completed\")\n",
    "print(f\"✅ Customer Personas: Actionable strategies developed\")\n",
    "print(\"\\n🎯 Key Recommendation: Focus on Champions and At-Risk segments for maximum impact\")"
   ]
  }
 ],
 "metadata": {
  "kernelspec": {
   "display_name": "venv",
   "language": "python",
   "name": "python3"
  },
  "language_info": {
   "codemirror_mode": {
    "name": "ipython",
    "version": 3
   },
   "file_extension": ".py",
   "mimetype": "text/x-python",
   "name": "python",
   "nbconvert_exporter": "python",
   "pygments_lexer": "ipython3",
   "version": "3.10.18"
  }
 },
 "nbformat": 4,
 "nbformat_minor": 4
}
