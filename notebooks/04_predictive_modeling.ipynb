{
 "cells": [
  {
   "cell_type": "markdown",
   "metadata": {},
   "source": [
    "# 🔮 Predictive Modeling - Customer Analytics\n",
    "\n",
    "This notebook focuses on building and training predictive models for customer analytics.\n",
    "\n",
    "## Objectives:\n",
    "- Build churn prediction models\n",
    "- Develop Customer Lifetime Value (CLV) prediction\n",
    "- Create recommendation systems\n",
    "- Implement feature engineering for ML models\n",
    "- Optimize model hyperparameters\n",
    "- Validate model performance\n"
   ]
  },
  {
   "cell_type": "code",
   "execution_count": 7,
   "metadata": {},
   "outputs": [
    {
     "name": "stdout",
     "output_type": "stream",
     "text": [
      "🤖 Predictive modeling libraries loaded!\n",
      "🎯 Random seed set for reproducible results\n"
     ]
    }
   ],
   "source": [
    "# Import libraries\n",
    "import pandas as pd\n",
    "import numpy as np\n",
    "import matplotlib.pyplot as plt\n",
    "import seaborn as sns\n",
    "import plotly.express as px\n",
    "import plotly.graph_objects as go\n",
    "from plotly.subplots import make_subplots\n",
    "\n",
    "# Machine Learning imports\n",
    "from sklearn.model_selection import train_test_split, GridSearchCV, cross_val_score, StratifiedKFold\n",
    "from sklearn.preprocessing import StandardScaler, LabelEncoder, OneHotEncoder\n",
    "from sklearn.ensemble import RandomForestClassifier, RandomForestRegressor, GradientBoostingClassifier\n",
    "from sklearn.linear_model import LogisticRegression, LinearRegression\n",
    "from sklearn.metrics import classification_report, confusion_matrix, roc_auc_score, roc_curve\n",
    "from sklearn.metrics import mean_squared_error, mean_absolute_error, r2_score\n",
    "from sklearn.feature_selection import SelectKBest, f_classif, f_regression\n",
    "\n",
    "import warnings\n",
    "warnings.filterwarnings('ignore')\n",
    "\n",
    "# Import custom modules\n",
    "import sys\n",
    "sys.path.append('../src')\n",
    "from components.predictive_modeling import PredictiveModeling\n",
    "from utils.evaluation import calculate_model_metrics \n",
    "\n",
    "print(\"🤖 Predictive modeling libraries loaded!\")\n",
    "\n",
    "# Set random seed for reproducibility\n",
    "np.random.seed(42)\n",
    "print(\"🎯 Random seed set for reproducible results\")"
   ]
  },
  {
   "cell_type": "code",
   "execution_count": 8,
   "metadata": {},
   "outputs": [
    {
     "name": "stdout",
     "output_type": "stream",
     "text": [
      "📊 Loading raw data for processing...\n",
      "Dataset shape: (3900, 19)\n",
      "✅ Segmentation results loaded: (3900, 11)\n",
      "\n",
      "📋 Dataset Overview:\n",
      "Records: 3,900\n",
      "Unique Customers: 3,900\n",
      "Features: 19\n",
      "Columns: ['Customer ID', 'Age', 'Gender', 'Item Purchased', 'Category', 'Purchase Amount (USD)', 'Location', 'Size', 'Color', 'Season', 'Review Rating', 'Subscription Status', 'Payment Method', 'Shipping Type', 'Discount Applied', 'Promo Code Used', 'Previous Purchases', 'Preferred Payment Method', 'Frequency of Purchases']\n"
     ]
    }
   ],
   "source": [
    "# Load data\n",
    "try:\n",
    "    df = pd.read_csv('../data/processed/cleaned_data.csv')\n",
    "    print(f\"✅ Cleaned dataset loaded: {df.shape}\")\n",
    "except FileNotFoundError:\n",
    "    print(\"📊 Loading raw data for processing...\")\n",
    "    try:\n",
    "        df = pd.read_csv('../data/raw/customer_shopping_data.csv')\n",
    "    except FileNotFoundError:\n",
    "        from src.utils.common import load_sample_data\n",
    "        df = load_sample_data(n_customers=2000)\n",
    "    print(f\"Dataset shape: {df.shape}\")\n",
    "\n",
    "# Load segmentation results if available\n",
    "try:\n",
    "    segmentation_df = pd.read_csv('../reports/analysis/03_customer_segmentation_results.csv')\n",
    "    print(f\"✅ Segmentation results loaded: {segmentation_df.shape}\")\n",
    "except FileNotFoundError:\n",
    "    print(\"⚠️ Segmentation results not found. Will create synthetic segments.\")\n",
    "    segmentation_df = None\n",
    "\n",
    "print(f\"\\n📋 Dataset Overview:\")\n",
    "print(f\"Records: {len(df):,}\")\n",
    "if 'Customer ID' in df.columns:\n",
    "    print(f\"Unique Customers: {df['Customer ID'].nunique():,}\")\n",
    "print(f\"Features: {df.shape[1]}\")\n",
    "print(f\"Columns: {list(df.columns)}\")"
   ]
  },
  {
   "cell_type": "markdown",
   "metadata": {},
   "source": [
    "## 1. Feature Engineering for Predictive Modeling"
   ]
  },
  {
   "cell_type": "code",
   "execution_count": 9,
   "metadata": {},
   "outputs": [
    {
     "name": "stdout",
     "output_type": "stream",
     "text": [
      "🔧 Creating predictive features...\n",
      "  ✅ Customer aggregated features created\n",
      "  ✅ Categorical encoding completed\n",
      "  ✅ Interaction features created\n",
      "\n",
      "📊 Feature engineering completed:\n",
      "  Original features: 19\n",
      "  New features: 84\n",
      "  Added features: 65\n",
      "\n",
      "✅ Features created successfully: (3900, 84)\n"
     ]
    }
   ],
   "source": [
    "# Advanced feature engineering\n",
    "def create_predictive_features(df):\n",
    "    \"\"\"Create features for predictive modeling\"\"\"\n",
    "    \n",
    "    features_df = df.copy()\n",
    "    \n",
    "    print(\"🔧 Creating predictive features...\")\n",
    "    \n",
    "    # Date-based features\n",
    "    if 'Purchase Date' in df.columns:\n",
    "        features_df['Purchase Date'] = pd.to_datetime(features_df['Purchase Date'])\n",
    "        features_df['Purchase_Year'] = features_df['Purchase Date'].dt.year\n",
    "        features_df['Purchase_Month'] = features_df['Purchase Date'].dt.month\n",
    "        features_df['Purchase_Quarter'] = features_df['Purchase Date'].dt.quarter\n",
    "        features_df['Purchase_DayOfWeek'] = features_df['Purchase Date'].dt.dayofweek\n",
    "        features_df['Purchase_Weekend'] = (features_df['Purchase_DayOfWeek'] >= 5).astype(int)\n",
    "        \n",
    "        # Days since reference date\n",
    "        reference_date = features_df['Purchase Date'].max()\n",
    "        features_df['Days_Since_Purchase'] = (reference_date - features_df['Purchase Date']).dt.days\n",
    "        \n",
    "        print(\"  ✅ Date features created\")\n",
    "    \n",
    "    # Customer-level aggregated features\n",
    "    if 'Customer ID' in df.columns:\n",
    "        customer_features = df.groupby('Customer ID').agg({\n",
    "            'Purchase Amount (USD)': ['sum', 'mean', 'std', 'count', 'min', 'max'] if 'Purchase Amount (USD)' in df.columns else None,\n",
    "            'Review Rating': ['mean', 'std', 'count'] if 'Review Rating' in df.columns else None,\n",
    "            'Category': ['nunique', 'count'] if 'Category' in df.columns else None,\n",
    "            'Age': 'first' if 'Age' in df.columns else None\n",
    "        }).fillna(0)\n",
    "        \n",
    "        # Flatten column names\n",
    "        customer_features.columns = ['_'.join(col).strip() if col[1] else col[0] for col in customer_features.columns.values]\n",
    "        \n",
    "        # Additional derived features\n",
    "        if 'Purchase Amount (USD)' in df.columns:\n",
    "            customer_features['Purchase_Amount_CV'] = customer_features['Purchase Amount (USD)_std'] / (customer_features['Purchase Amount (USD)_mean'] + 1e-10)\n",
    "            customer_features['Revenue_Per_Transaction'] = customer_features['Purchase Amount (USD)_sum'] / (customer_features['Purchase Amount (USD)_count'] + 1e-10)\n",
    "            customer_features['High_Value_Transactions'] = (customer_features['Purchase Amount (USD)_max'] > customer_features['Purchase Amount (USD)_mean'] * 2).astype(int)\n",
    "        \n",
    "        # Merge back to main dataframe\n",
    "        features_df = features_df.merge(customer_features, left_on='Customer ID', right_index=True, how='left')\n",
    "        \n",
    "        print(\"  ✅ Customer aggregated features created\")\n",
    "    \n",
    "    # Categorical encoding\n",
    "    categorical_columns = features_df.select_dtypes(include=['object']).columns\n",
    "    categorical_columns = [col for col in categorical_columns if col not in ['Customer ID', 'Purchase Date']]\n",
    "    \n",
    "    for col in categorical_columns:\n",
    "        if features_df[col].nunique() <= 10:  # One-hot encode if few categories\n",
    "            encoded = pd.get_dummies(features_df[col], prefix=col)\n",
    "            features_df = pd.concat([features_df, encoded], axis=1)\n",
    "        else:  # Label encode if many categories\n",
    "            le = LabelEncoder()\n",
    "            features_df[f'{col}_encoded'] = le.fit_transform(features_df[col].astype(str))\n",
    "    \n",
    "    print(\"  ✅ Categorical encoding completed\")\n",
    "    \n",
    "    # Interaction features\n",
    "    if 'Age' in features_df.columns and 'Purchase Amount (USD)' in features_df.columns:\n",
    "        features_df['Age_PurchaseAmount_Interaction'] = features_df['Age'] * features_df['Purchase Amount (USD)']\n",
    "        \n",
    "    if 'Review Rating' in features_df.columns and 'Purchase Amount (USD)' in features_df.columns:\n",
    "        features_df['Rating_PurchaseAmount_Interaction'] = features_df['Review Rating'] * features_df['Purchase Amount (USD)']\n",
    "    \n",
    "    print(\"  ✅ Interaction features created\")\n",
    "    \n",
    "    print(f\"\\n📊 Feature engineering completed:\")\n",
    "    print(f\"  Original features: {df.shape[1]}\")\n",
    "    print(f\"  New features: {features_df.shape[1]}\")\n",
    "    print(f\"  Added features: {features_df.shape[1] - df.shape[1]}\")\n",
    "    \n",
    "    return features_df\n",
    "\n",
    "# Create features\n",
    "model_features = create_predictive_features(df)\n",
    "print(f\"\\n✅ Features created successfully: {model_features.shape}\")"
   ]
  },
  {
   "cell_type": "markdown",
   "metadata": {},
   "source": [
    "## 2. Churn Prediction Model"
   ]
  },
  {
   "cell_type": "code",
   "execution_count": 10,
   "metadata": {},
   "outputs": [
    {
     "name": "stdout",
     "output_type": "stream",
     "text": [
      "🎯 Creating churn labels...\n",
      "  ✅ Churn labels created: 14.4% churn rate\n",
      "\n",
      "📊 Churn distribution:\n",
      "  Active: 3,338 (85.6%)\n",
      "  Churned: 562 (14.4%)\n"
     ]
    }
   ],
   "source": [
    "# Create churn labels (synthetic for demonstration)\n",
    "def create_churn_labels(df):\n",
    "    \"\"\"Create churn labels based on business logic\"\"\"\n",
    "    \n",
    "    print(\"🎯 Creating churn labels...\")\n",
    "    \n",
    "    # Use recency and other factors to determine churn probability\n",
    "    churn_factors = pd.DataFrame()\n",
    "    \n",
    "    if 'Days_Since_Purchase' in df.columns:\n",
    "        # Customers who haven't purchased in 90+ days are more likely to churn\n",
    "        churn_factors['recency_risk'] = (df['Days_Since_Purchase'] > 90).astype(int) * 0.4\n",
    "    else:\n",
    "        churn_factors['recency_risk'] = np.random.random(len(df)) * 0.4\n",
    "    \n",
    "    if 'Review Rating' in df.columns:\n",
    "        # Customers with low ratings are more likely to churn\n",
    "        churn_factors['satisfaction_risk'] = ((5 - df['Review Rating']) / 5) * 0.3\n",
    "    else:\n",
    "        churn_factors['satisfaction_risk'] = np.random.random(len(df)) * 0.3\n",
    "    \n",
    "    if 'Purchase Amount (USD)_count' in df.columns:\n",
    "        # Customers with very few purchases are more likely to churn\n",
    "        churn_factors['frequency_risk'] = (1 / (df['Purchase Amount (USD)_count'] + 1)) * 0.3\n",
    "    else:\n",
    "        churn_factors['frequency_risk'] = np.random.random(len(df)) * 0.3\n",
    "    \n",
    "    # Calculate overall churn probability\n",
    "    churn_probability = churn_factors.sum(axis=1)\n",
    "    churn_probability = np.clip(churn_probability, 0, 1)\n",
    "    \n",
    "    # Generate binary churn labels\n",
    "    np.random.seed(42)\n",
    "    churn_labels = np.random.binomial(1, churn_probability)\n",
    "    \n",
    "    churn_rate = churn_labels.mean()\n",
    "    print(f\"  ✅ Churn labels created: {churn_rate:.1%} churn rate\")\n",
    "    \n",
    "    return churn_labels, churn_probability\n",
    "\n",
    "# Create churn labels\n",
    "churn_labels, churn_probability = create_churn_labels(model_features)\n",
    "model_features['Churn'] = churn_labels\n",
    "model_features['Churn_Probability'] = churn_probability\n",
    "\n",
    "print(f\"\\n📊 Churn distribution:\")\n",
    "churn_dist = pd.Series(churn_labels).value_counts()\n",
    "for label, count in churn_dist.items():\n",
    "    percentage = count / len(churn_labels) * 100\n",
    "    label_name = 'Churned' if label == 1 else 'Active'\n",
    "    print(f\"  {label_name}: {count:,} ({percentage:.1f}%)\")"
   ]
  },
  {
   "cell_type": "code",
   "execution_count": 11,
   "metadata": {},
   "outputs": [
    {
     "name": "stdout",
     "output_type": "stream",
     "text": [
      "📊 Churn modeling data prepared:\n",
      "  Features: 24\n",
      "  Samples: 3900\n",
      "  Selected features: ['Age', 'Purchase Amount (USD)', 'Review Rating', 'Previous Purchases', 'Purchase Amount (USD)_sum']...\n",
      "\n",
      "📈 Data split completed:\n",
      "  Training set: 3120 samples\n",
      "  Test set: 780 samples\n",
      "  Training churn rate: 14.4%\n",
      "  Test churn rate: 14.4%\n"
     ]
    }
   ],
   "source": [
    "# Prepare data for churn prediction\n",
    "def prepare_churn_modeling_data(df):\n",
    "    \"\"\"Prepare features for churn prediction model\"\"\"\n",
    "    \n",
    "    # Select relevant features for modeling\n",
    "    feature_columns = []\n",
    "    \n",
    "    # Numeric features\n",
    "    numeric_cols = df.select_dtypes(include=[np.number]).columns\n",
    "    exclude_cols = ['Churn', 'Churn_Probability', 'Customer ID']\n",
    "    feature_columns.extend([col for col in numeric_cols if col not in exclude_cols])\n",
    "    \n",
    "    # Select features that exist in the dataframe\n",
    "    available_features = [col for col in feature_columns if col in df.columns]\n",
    "    \n",
    "    if len(available_features) == 0:\n",
    "        print(\"⚠️ No suitable features found. Using basic features.\")\n",
    "        # Use basic available numeric columns\n",
    "        available_features = [col for col in df.select_dtypes(include=[np.number]).columns \n",
    "                            if col not in exclude_cols][:10]  # Take first 10 numeric columns\n",
    "    \n",
    "    X = df[available_features].fillna(0)\n",
    "    y = df['Churn']\n",
    "    \n",
    "    print(f\"📊 Churn modeling data prepared:\")\n",
    "    print(f\"  Features: {X.shape[1]}\")\n",
    "    print(f\"  Samples: {X.shape[0]}\")\n",
    "    print(f\"  Selected features: {available_features[:5]}...\")  # Show first 5\n",
    "    \n",
    "    return X, y, available_features\n",
    "\n",
    "# Prepare churn modeling data\n",
    "X_churn, y_churn, churn_features = prepare_churn_modeling_data(model_features)\n",
    "\n",
    "# Split data\n",
    "X_churn_train, X_churn_test, y_churn_train, y_churn_test = train_test_split(\n",
    "    X_churn, y_churn, test_size=0.2, random_state=42, stratify=y_churn\n",
    ")\n",
    "\n",
    "print(f\"\\n📈 Data split completed:\")\n",
    "print(f\"  Training set: {X_churn_train.shape[0]} samples\")\n",
    "print(f\"  Test set: {X_churn_test.shape[0]} samples\")\n",
    "print(f\"  Training churn rate: {y_churn_train.mean():.1%}\")\n",
    "print(f\"  Test churn rate: {y_churn_test.mean():.1%}\")"
   ]
  },
  {
   "cell_type": "code",
   "execution_count": 12,
   "metadata": {},
   "outputs": [
    {
     "name": "stdout",
     "output_type": "stream",
     "text": [
      "🤖 Training churn prediction models...\n",
      "\n",
      "  Training Random Forest...\n",
      "    Accuracy: 0.854\n",
      "    AUC Score: 0.607\n",
      "    CV Score: 0.609 ± 0.019\n",
      "\n",
      "  Training Logistic Regression...\n",
      "    Accuracy: 0.614\n",
      "    AUC Score: 0.681\n",
      "    CV Score: 0.676 ± 0.019\n",
      "\n",
      "  Training Gradient Boosting...\n",
      "    Accuracy: 0.855\n",
      "    AUC Score: 0.642\n",
      "    CV Score: 0.627 ± 0.030\n",
      "\n",
      "🏆 Best churn model: Logistic Regression\n",
      "  AUC Score: 0.681\n",
      "  Accuracy: 0.614\n"
     ]
    }
   ],
   "source": [
    "# Build and train churn prediction models\n",
    "def train_churn_models(X_train, y_train, X_test, y_test):\n",
    "    \"\"\"Train multiple churn prediction models\"\"\"\n",
    "    \n",
    "    models = {\n",
    "        'Random Forest': RandomForestClassifier(n_estimators=100, random_state=42, class_weight='balanced'),\n",
    "        'Logistic Regression': LogisticRegression(random_state=42, class_weight='balanced', max_iter=1000),\n",
    "        'Gradient Boosting': GradientBoostingClassifier(n_estimators=100, random_state=42)\n",
    "    }\n",
    "    \n",
    "    results = {}\n",
    "    \n",
    "    # Scale features\n",
    "    scaler = StandardScaler()\n",
    "    X_train_scaled = scaler.fit_transform(X_train)\n",
    "    X_test_scaled = scaler.transform(X_test)\n",
    "    \n",
    "    print(\"🤖 Training churn prediction models...\")\n",
    "    \n",
    "    for name, model in models.items():\n",
    "        print(f\"\\n  Training {name}...\")\n",
    "        \n",
    "        # Train model\n",
    "        if name == 'Logistic Regression':\n",
    "            model.fit(X_train_scaled, y_train)\n",
    "            y_pred = model.predict(X_test_scaled)\n",
    "            y_pred_proba = model.predict_proba(X_test_scaled)[:, 1]\n",
    "        else:\n",
    "            model.fit(X_train, y_train)\n",
    "            y_pred = model.predict(X_test)\n",
    "            y_pred_proba = model.predict_proba(X_test)[:, 1]\n",
    "        \n",
    "        # Calculate metrics\n",
    "        accuracy = (y_pred == y_test).mean()\n",
    "        auc_score = roc_auc_score(y_test, y_pred_proba)\n",
    "        \n",
    "        # Cross-validation score\n",
    "        cv_scores = cross_val_score(model, X_train_scaled if name == 'Logistic Regression' else X_train, \n",
    "                                  y_train, cv=5, scoring='roc_auc')\n",
    "        \n",
    "        results[name] = {\n",
    "            'model': model,\n",
    "            'accuracy': accuracy,\n",
    "            'auc_score': auc_score,\n",
    "            'cv_mean': cv_scores.mean(),\n",
    "            'cv_std': cv_scores.std(),\n",
    "            'predictions': y_pred,\n",
    "            'probabilities': y_pred_proba\n",
    "        }\n",
    "        \n",
    "        print(f\"    Accuracy: {accuracy:.3f}\")\n",
    "        print(f\"    AUC Score: {auc_score:.3f}\")\n",
    "        print(f\"    CV Score: {cv_scores.mean():.3f} ± {cv_scores.std():.3f}\")\n",
    "    \n",
    "    return results, scaler\n",
    "\n",
    "# Train churn models\n",
    "churn_model_results, churn_scaler = train_churn_models(X_churn_train, y_churn_train, X_churn_test, y_churn_test)\n",
    "\n",
    "# Find best model\n",
    "best_churn_model_name = max(churn_model_results.keys(), \n",
    "                           key=lambda x: churn_model_results[x]['auc_score'])\n",
    "best_churn_model = churn_model_results[best_churn_model_name]\n",
    "\n",
    "print(f\"\\n🏆 Best churn model: {best_churn_model_name}\")\n",
    "print(f\"  AUC Score: {best_churn_model['auc_score']:.3f}\")\n",
    "print(f\"  Accuracy: {best_churn_model['accuracy']:.3f}\")"
   ]
  },
  {
   "cell_type": "code",
   "execution_count": 13,
   "metadata": {},
   "outputs": [
    {
     "data": {
      "application/vnd.plotly.v1+json": {
       "config": {
        "plotlyServerURL": "https://plot.ly"
       },
       "data": [
        {
         "name": "Accuracy",
         "offsetgroup": "1",
         "type": "bar",
         "x": [
          "Random Forest",
          "Logistic Regression",
          "Gradient Boosting"
         ],
         "xaxis": "x",
         "y": [
          0.8538461538461538,
          0.6141025641025641,
          0.8551282051282051
         ],
         "yaxis": "y"
        },
        {
         "name": "AUC Score",
         "offsetgroup": "2",
         "type": "bar",
         "x": [
          "Random Forest",
          "Logistic Regression",
          "Gradient Boosting"
         ],
         "xaxis": "x",
         "y": [
          0.6065948460222412,
          0.6805897134302823,
          0.6415071642429426
         ],
         "yaxis": "y"
        },
        {
         "mode": "lines",
         "name": "Random Forest (AUC=0.607)",
         "type": "scatter",
         "x": {
          "bdata": "AAAAAAAAAABKsKvw5YZYP0qwq/Dlhng/XJzWbJ+ofj9AOpYyCXaFP1Mmwa7Cl4s/Mwl2Fb7ckD9F9aCRd/6WP0qwq/Dlhpg/XJzWbJ+onj+wq/DlhhigP7khBqRjKaM/PH+L05rtoz/HUibBrsKnP9WDRt75W6w/dhW+3BADsj88f4vTmu2zP8dSJsGuwrc/Dxp5529xuj9X4csNMSC9P975W5zWbL8/tWb7RPWgwT8aeedvcVrDP16FLzfEgMQ/I+/8LU5rxj+qB42887fIP9DIO3+L08o/eedvcVqzzT/SsZRJsKvQP6keNPLO39I/UT1o5J2/1T+mTIJdhS/XP1qzfaJ60Ng/4csNMSAd2z/rQSPv/C3eP9KxlEmwq+A/12yfqB404j970Mg7f4vjP77cEAPSseQ/S5kEuwpf5j+2T1QPGnnnP+O0ZvtE9eg//hanNdsn6j/yzt/itGbrPzbbJ6oHjew/w5cbYkA67j/1oJF3/hbvPwAAAAAAAPA/",
          "dtype": "f8"
         },
         "xaxis": "x2",
         "y": {
          "bdata": "AAAAAAAAAAAAAAAAAAAAAAAAAAAAAAAAkiRJkiRJgj+SJEmSJEmCP9u2bdu2bZs/kiRJkiRJoj+3bdu2bdumP9u2bdu2bas/27Zt27Ztqz8AAAAAAACwPwAAAAAAALA/AAAAAAAAsD+SJEmSJEmyP7dt27Zt27Y/SZIkSZIkuT9u27Zt27a9P0mSJEmSJME/SZIkSZIkwT+SJEmSJEnCP9u2bdu2bcM/btu2bdu2xT+3bdu2bdvGP9u2bdu2bcs/AAAAAAAA0D+3bdu2bdvSP0mSJEmSJNU/JUmSJEmS2D+SJEmSJEnaPyVJkiRJktw/t23btm3b3j8lSZIkSZLgP27btm3btuE/SZIkSZIk4z9u27Zt27bjPyVJkiRJkuQ/27Zt27Zt5T/btm3btm3nP0mSJEmSJOk/JUmSJEmS6j8AAAAAAADsP0mSJEmSJO0/kiRJkiRJ7j9JkiRJkiTvP9u2bdu2be8/27Zt27Zt7z8AAAAAAADwPwAAAAAAAPA/",
          "dtype": "f8"
         },
         "yaxis": "y2"
        },
        {
         "mode": "lines",
         "name": "Logistic Regression (AUC=0.681)",
         "type": "scatter",
         "x": {
          "bdata": "AAAAAAAAAAAAAAAAAAAAAAAAAAAAAAAAXJzWbJ+ofj9cnNZsn6h+P0A6ljIJdoU/QDqWMgl2hT9X4csNMSCdP1fhyw0xIJ0/tWb7RPWgoT+1ZvtE9aChPzx/i9Oa7aM/PH+L05rtoz9KsKvw5YaoP0qwq/Dlhqg/zA0xIB1LqT/MDTEgHUupP05rtk9UD6o/Tmu2T1QPqj9TJsGuwperP1Mmwa7Cl6s/3vlbnNZsrz/e+Vuc1myvP7Vm+0T1oLE/tWb7RPWgsT+5IQakYymzP7khBqRjKbM//S1Oa7ZPtD/9LU5rtk+0P0X1oJF3/rY/RfWgkXf+tj8GpGMpk2C3PwakYymTYLc/C19uiAHpuD8LX26IAem4P8wNMSAdS7k/zA0xIB1LuT8ZkI6lTIK9PxmQjqVMgr0/m+0T1YNGvj+b7RPVg0a+P7Cr8OWGGMA/sKvw5YYYwD/SsZRJsKvAP9KxlEmwq8A/dhW+3BADwj92Fb7cEAPCPzfEgHQsZcI/N8SAdCxlwj+YG2JAOpbCP5gbYkA6lsI/PH+L05rtwz88f4vTmu3DP5zWbJ+oHsQ/nNZsn6gexD/9LU5rtk/EP/0tTmu2T8Q/HzTyzt/ixD8fNPLO3+LEPwLpWMok2MU/AulYyiTYxT9n+0T1oJHHP2f7RPWgkcc/qgeNvPO3yD+qB42887fIP05rtk9UD8o/Tmu2T1QPyj9wcVqzfaLKP3BxWrN9oso/0Mg7f4vTyj/QyDt/i9PKPzEgHUuZBMs/MSAdS5kEyz8U1YNG3vnLPxTVg0be+cs/dSxlEuwqzD91LGUS7CrMP5vtE9WDRs4/m+0T1YNGzj/7RPWgkXfOP/tE9aCRd84/wa7Clxti0D/BrsKXG2LQPyIGpGMpk9A/IgakYymT0D/0tzit2T7RP/S3OK3ZPtE/pGMpk2BX0T+kYymTYFfRPwW7Cl9uiNE/BbsKX26I0T9qzfaJ6kHTP2rN9onqQdM/Gnnnb3Fa0z8aeedvcVrTP8ok2FX4ctM/yiTYVfhy0z+L05rtE9XTP4vTmu0T1dM/rdk+UT1o1D+t2T5RPWjUP16FLzfEgNQ/XoUvN8SA1D/P3+K0ZvvUP8/f4rRm+9Q/kI6lTIJd1T+QjqVMgl3VP0A6ljIJdtU/QDqWMgl21T9F9aCRd/7WP0X1oJF3/tY/BqRjKZNg1z8GpGMpk2DXPzmt2T5RPdg/Oa3ZPlE92D8LX26IAenYPwtfbogB6dg/ZCmTYFfh2z9kKZNgV+HbP6c12yeqB90/pzXbJ6oH3T95529xWrPdP3nnb3Fas90/OpYyCXYV3j86ljIJdhXeP5vtE9WDRt4/m+0T1YNG3j+s8OWGGJDeP6zw5YYYkN4/HUuZBLsK3z8dS5kEuwrfP832iepBI98/zfaJ6kEj3z9+onrQyDvfP36ietDIO98/sKvw5YYY4D+wq/DlhhjgP8GuwpcbYuA/wa7Clxti4D/6W5zWbJ/gP/pbnNZsn+A/0rGUSbCr4D/SsZRJsKvgP2u2T1QPGuE/a7ZPVA8a4T/0tzit2T7hP/S3OK3ZPuE/jbzztzit4T+NvPO3OK3hPz1o5J2/xeE/PWjknb/F4T+BdCxlEuziP4F0LGUS7OI/knf+Fqc14z+Sd/4WpzXjP3UsZRLsKuQ/dSxlEuwq5D8OMSAdS5nkPw4xIB1LmeQ/CI2887c45T8IjbzztzjlP9o+UT1o5OU/2j5RPWjk5T/rQSPv/C3mP+tBI+/8LeY/c0MMSMdS5j9zQwxIx1LmP0X1oJF3/uY/RfWgkXf+5j/e+Vuc1mznP975W5zWbOc/tk9UDxp55z+2T1QPGnnnP5+oHjTyzuc/n6geNPLO5z9rtk9UDxrpP2u2T1QPGuk/4csNMSAd6z/hyw0xIB3rP1Mmwa7Cl+s/UybBrsKX6z/3iepBI+/sP/eJ6kEj7+w/RfWgkXf+7j9F9aCRd/7uPwAAAAAAAPA/",
          "dtype": "f8"
         },
         "xaxis": "x2",
         "y": {
          "bdata": "AAAAAAAAAACSJEmSJEmCP5IkSZIkSZI/kiRJkiRJkj+SJEmSJEmiP5IkSZIkSaI/27Zt27Ztqz/btm3btm2rPwAAAAAAALA/AAAAAAAAsD+SJEmSJEmyP5IkSZIkSbI/JUmSJEmStD8lSZIkSZK0P0mSJEmSJLk/SZIkSZIkuT/btm3btm27P9u2bdu2bbs/btu2bdu2vT9u27Zt27a9PwAAAAAAAMA/AAAAAAAAwD+SJEmSJEnCP5IkSZIkScI/JUmSJEmSxD8lSZIkSZLEP27btm3btsU/btu2bdu2xT+3bdu2bdvGP7dt27Zt28Y/AAAAAAAAyD8AAAAAAADIP0mSJEmSJMk/SZIkSZIkyT/btm3btm3LP9u2bdu2bcs/JUmSJEmSzD8lSZIkSZLMP27btm3bts0/btu2bdu2zT8AAAAAAADQPwAAAAAAANA/SZIkSZIk0T9JkiRJkiTRP27btm3bttE/btu2bdu20T/btm3btm3TP9u2bdu2bdM/AAAAAAAA1D8AAAAAAADUPyVJkiRJktQ/JUmSJEmS1D9JkiRJkiTVP0mSJEmSJNU/btu2bdu21T9u27Zt27bVP7dt27Zt29Y/t23btm3b1j/btm3btm3XP9u2bdu2bdc/AAAAAAAA2D8AAAAAAADYPyVJkiRJktg/JUmSJEmS2D9JkiRJkiTZP0mSJEmSJNk/btu2bdu22T9u27Zt27bZP7dt27Zt29o/t23btm3b2j/btm3btm3bP9u2bdu2bds/AAAAAAAA3D8AAAAAAADcPyVJkiRJktw/JUmSJEmS3D9JkiRJkiTdP0mSJEmSJN0/btu2bdu23T9u27Zt27bdP9u2bdu2bd8/27Zt27Zt3z8AAAAAAADgPwAAAAAAAOA/kiRJkiRJ4D+SJEmSJEngPyVJkiRJkuA/JUmSJEmS4D+3bdu2bdvgP7dt27Zt2+A/SZIkSZIk4T9JkiRJkiThP9u2bdu2beE/27Zt27Zt4T9u27Zt27bhP27btm3btuE/AAAAAAAA4j8AAAAAAADiP5IkSZIkSeI/kiRJkiRJ4j8lSZIkSZLiPyVJkiRJkuI/t23btm3b4j+3bdu2bdviP0mSJEmSJOM/SZIkSZIk4z/btm3btm3jP9u2bdu2beM/btu2bdu24z9u27Zt27bjP5IkSZIkSeQ/kiRJkiRJ5D8lSZIkSZLkPyVJkiRJkuQ/t23btm3b5D+3bdu2bdvkP9u2bdu2beU/27Zt27Zt5T9u27Zt27blP27btm3btuU/AAAAAAAA5j8AAAAAAADmP5IkSZIkSeY/kiRJkiRJ5j8lSZIkSZLmPyVJkiRJkuY/t23btm3b5j+3bdu2bdvmP0mSJEmSJOc/SZIkSZIk5z/btm3btm3nP9u2bdu2bec/AAAAAAAA6D8AAAAAAADoP5IkSZIkSeg/kiRJkiRJ6D8lSZIkSZLoPyVJkiRJkug/t23btm3b6D+3bdu2bdvoP0mSJEmSJOk/SZIkSZIk6T/btm3btm3pP9u2bdu2bek/btu2bdu26T9u27Zt27bpPwAAAAAAAOo/AAAAAAAA6j+SJEmSJEnqP5IkSZIkSeo/t23btm3b6j+3bdu2bdvqP0mSJEmSJOs/SZIkSZIk6z/btm3btm3rP9u2bdu2bes/btu2bdu26z9u27Zt27brPwAAAAAAAOw/AAAAAAAA7D+SJEmSJEnsP5IkSZIkSew/JUmSJEmS7D8lSZIkSZLsP7dt27Zt2+w/t23btm3b7D9JkiRJkiTtP0mSJEmSJO0/27Zt27Zt7T/btm3btm3tP27btm3btu0/btu2bdu27T8AAAAAAADuPwAAAAAAAO4/kiRJkiRJ7j+SJEmSJEnuPyVJkiRJku4/JUmSJEmS7j9JkiRJkiTvP0mSJEmSJO8/27Zt27Zt7z/btm3btm3vP27btm3btu8/btu2bdu27z8AAAAAAADwPwAAAAAAAPA/",
          "dtype": "f8"
         },
         "yaxis": "y2"
        },
        {
         "mode": "lines",
         "name": "Gradient Boosting (AUC=0.642)",
         "type": "scatter",
         "x": {
          "bdata": "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",
          "dtype": "f8"
         },
         "xaxis": "x2",
         "y": {
          "bdata": "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",
          "dtype": "f8"
         },
         "yaxis": "y2"
        },
        {
         "line": {
          "dash": "dash"
         },
         "mode": "lines",
         "name": "Random",
         "showlegend": false,
         "type": "scatter",
         "x": [
          0,
          1
         ],
         "xaxis": "x2",
         "y": [
          0,
          1
         ],
         "yaxis": "y2"
        },
        {
         "name": "Active Customers",
         "nbinsx": 20,
         "opacity": 0.7,
         "type": "histogram",
         "x": {
          "bdata": "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",
          "dtype": "f8"
         },
         "xaxis": "x4",
         "yaxis": "y4"
        },
        {
         "name": "Churned Customers",
         "nbinsx": 20,
         "opacity": 0.7,
         "type": "histogram",
         "x": {
          "bdata": "wZZ46GKG4j//fIcaKWjdP11zDc37SOI/RoeNHnP84D8mJA3jPkXnP2adgfSTluM/fng7fdCL4z8PX17pExTjP0h01IHCQOY/ALzyU4ir2j+CV/JpBy7ZP4n5ydDgGN0/fKePMS+n5j9uolPyLlPcP7wFh6Pb2OQ/n+dsMCJW5j+g8l0bDPfbP+WnrNHRT90/9iwdOShi4T/hfvstV9HmPx8VUFajQdU/AJy/quWN4T/qWtPrV4PmP5GTOr6d5ds/KH+iffZ/5D/U5d1okr/bP+AmmqQjaeQ/n0r9nw9w5z8mLCU6kAPkP01kOnWMZ+M/QHf8+Itu0D9KDVqbPYrmPxRx8DaLBt0/liagQ+sr4T+YISdMaVfeP98WBfdBY84/0XWgYr+S0z+b9XmDUv/cP4VG2L7e5uQ/Eaef1Oi+5j+0dqRbce3lPxyoEELwLOA/HHLDfNOC4z86JN1dhxLoP0s4ICr3Ad4/tEni8G2o4D8OMsUumnjgP3vx5eTpFuU/8f96a2231j8JguGc/rjhPwha/l2/ntU/hVsULuQV2z+5QGzY58DoP94cvlCp5NM/tNjV/35Iyj82iXsFywvjPx9pE/NEwOA/SDNG4sT14j/Aw4qHMsfjPwhy7wApaeE/HIFoFvyx5j8k1azvEa7XPwJsrKbbNeI/ZBq7/XEj3T+kuI0ldNfQP3RD8PyZ89M/j6NTP0H44j8WYTSv74vnP0D1VjPJ3OY/Xf8WLJUZ3z/SXJ8CduLjP00uwhZ/MeQ/dlE0ZciV2D+HSOGYDZzhP1ZsEmttSOg/kLu4EsYc5j/MuRG67NLkP2hljO2YruE/2+QaJFzE4D8eoKVkRbPjP94D6H0OBec/moZ0gfyL1D9EdoO42EDbP4lLhTKLReQ/pYF+vXz65T8DqJs7n3XXP6tVc7yFV+g/wLoFuPh42j9HV9bNaSXVP5BRRBHiAuc/hoMdBrj35T+lrdrfX03iP82zuRctHuA/xhXiJYoV5j9mWhtBCmnkPydvmmtwcto/uHluUcxm5T8k3dWkp2DjP9scu42YiuQ/+18LTQRX0j98n+hqBMXkP4syW7mXtd0/8w8ldS0j6D8ngxXtEIriPznFrYytKuU/5n3L8TkQ4T+dou4qim7lP3YA3gbqKuU/hKZvTnPP0D+Xi0NDTL7kPyrSwbBjZ+U/i3aSUGZL6T8=",
          "dtype": "f8"
         },
         "xaxis": "x4",
         "yaxis": "y4"
        }
       ],
       "layout": {
        "annotations": [
         {
          "font": {
           "size": 16
          },
          "showarrow": false,
          "text": "Model Performance Comparison",
          "x": 0.225,
          "xanchor": "center",
          "xref": "paper",
          "y": 1,
          "yanchor": "bottom",
          "yref": "paper"
         },
         {
          "font": {
           "size": 16
          },
          "showarrow": false,
          "text": "ROC Curves",
          "x": 0.775,
          "xanchor": "center",
          "xref": "paper",
          "y": 1,
          "yanchor": "bottom",
          "yref": "paper"
         },
         {
          "font": {
           "size": 16
          },
          "showarrow": false,
          "text": "Feature Importance (Best Model)",
          "x": 0.225,
          "xanchor": "center",
          "xref": "paper",
          "y": 0.375,
          "yanchor": "bottom",
          "yref": "paper"
         },
         {
          "font": {
           "size": 16
          },
          "showarrow": false,
          "text": "Churn Probability Distribution",
          "x": 0.775,
          "xanchor": "center",
          "xref": "paper",
          "y": 0.375,
          "yanchor": "bottom",
          "yref": "paper"
         }
        ],
        "height": 800,
        "template": {
         "data": {
          "bar": [
           {
            "error_x": {
             "color": "#2a3f5f"
            },
            "error_y": {
             "color": "#2a3f5f"
            },
            "marker": {
             "line": {
              "color": "#E5ECF6",
              "width": 0.5
             },
             "pattern": {
              "fillmode": "overlay",
              "size": 10,
              "solidity": 0.2
             }
            },
            "type": "bar"
           }
          ],
          "barpolar": [
           {
            "marker": {
             "line": {
              "color": "#E5ECF6",
              "width": 0.5
             },
             "pattern": {
              "fillmode": "overlay",
              "size": 10,
              "solidity": 0.2
             }
            },
            "type": "barpolar"
           }
          ],
          "carpet": [
           {
            "aaxis": {
             "endlinecolor": "#2a3f5f",
             "gridcolor": "white",
             "linecolor": "white",
             "minorgridcolor": "white",
             "startlinecolor": "#2a3f5f"
            },
            "baxis": {
             "endlinecolor": "#2a3f5f",
             "gridcolor": "white",
             "linecolor": "white",
             "minorgridcolor": "white",
             "startlinecolor": "#2a3f5f"
            },
            "type": "carpet"
           }
          ],
          "choropleth": [
           {
            "colorbar": {
             "outlinewidth": 0,
             "ticks": ""
            },
            "type": "choropleth"
           }
          ],
          "contour": [
           {
            "colorbar": {
             "outlinewidth": 0,
             "ticks": ""
            },
            "colorscale": [
             [
              0,
              "#0d0887"
             ],
             [
              0.1111111111111111,
              "#46039f"
             ],
             [
              0.2222222222222222,
              "#7201a8"
             ],
             [
              0.3333333333333333,
              "#9c179e"
             ],
             [
              0.4444444444444444,
              "#bd3786"
             ],
             [
              0.5555555555555556,
              "#d8576b"
             ],
             [
              0.6666666666666666,
              "#ed7953"
             ],
             [
              0.7777777777777778,
              "#fb9f3a"
             ],
             [
              0.8888888888888888,
              "#fdca26"
             ],
             [
              1,
              "#f0f921"
             ]
            ],
            "type": "contour"
           }
          ],
          "contourcarpet": [
           {
            "colorbar": {
             "outlinewidth": 0,
             "ticks": ""
            },
            "type": "contourcarpet"
           }
          ],
          "heatmap": [
           {
            "colorbar": {
             "outlinewidth": 0,
             "ticks": ""
            },
            "colorscale": [
             [
              0,
              "#0d0887"
             ],
             [
              0.1111111111111111,
              "#46039f"
             ],
             [
              0.2222222222222222,
              "#7201a8"
             ],
             [
              0.3333333333333333,
              "#9c179e"
             ],
             [
              0.4444444444444444,
              "#bd3786"
             ],
             [
              0.5555555555555556,
              "#d8576b"
             ],
             [
              0.6666666666666666,
              "#ed7953"
             ],
             [
              0.7777777777777778,
              "#fb9f3a"
             ],
             [
              0.8888888888888888,
              "#fdca26"
             ],
             [
              1,
              "#f0f921"
             ]
            ],
            "type": "heatmap"
           }
          ],
          "histogram": [
           {
            "marker": {
             "pattern": {
              "fillmode": "overlay",
              "size": 10,
              "solidity": 0.2
             }
            },
            "type": "histogram"
           }
          ],
          "histogram2d": [
           {
            "colorbar": {
             "outlinewidth": 0,
             "ticks": ""
            },
            "colorscale": [
             [
              0,
              "#0d0887"
             ],
             [
              0.1111111111111111,
              "#46039f"
             ],
             [
              0.2222222222222222,
              "#7201a8"
             ],
             [
              0.3333333333333333,
              "#9c179e"
             ],
             [
              0.4444444444444444,
              "#bd3786"
             ],
             [
              0.5555555555555556,
              "#d8576b"
             ],
             [
              0.6666666666666666,
              "#ed7953"
             ],
             [
              0.7777777777777778,
              "#fb9f3a"
             ],
             [
              0.8888888888888888,
              "#fdca26"
             ],
             [
              1,
              "#f0f921"
             ]
            ],
            "type": "histogram2d"
           }
          ],
          "histogram2dcontour": [
           {
            "colorbar": {
             "outlinewidth": 0,
             "ticks": ""
            },
            "colorscale": [
             [
              0,
              "#0d0887"
             ],
             [
              0.1111111111111111,
              "#46039f"
             ],
             [
              0.2222222222222222,
              "#7201a8"
             ],
             [
              0.3333333333333333,
              "#9c179e"
             ],
             [
              0.4444444444444444,
              "#bd3786"
             ],
             [
              0.5555555555555556,
              "#d8576b"
             ],
             [
              0.6666666666666666,
              "#ed7953"
             ],
             [
              0.7777777777777778,
              "#fb9f3a"
             ],
             [
              0.8888888888888888,
              "#fdca26"
             ],
             [
              1,
              "#f0f921"
             ]
            ],
            "type": "histogram2dcontour"
           }
          ],
          "mesh3d": [
           {
            "colorbar": {
             "outlinewidth": 0,
             "ticks": ""
            },
            "type": "mesh3d"
           }
          ],
          "parcoords": [
           {
            "line": {
             "colorbar": {
              "outlinewidth": 0,
              "ticks": ""
             }
            },
            "type": "parcoords"
           }
          ],
          "pie": [
           {
            "automargin": true,
            "type": "pie"
           }
          ],
          "scatter": [
           {
            "fillpattern": {
             "fillmode": "overlay",
             "size": 10,
             "solidity": 0.2
            },
            "type": "scatter"
           }
          ],
          "scatter3d": [
           {
            "line": {
             "colorbar": {
              "outlinewidth": 0,
              "ticks": ""
             }
            },
            "marker": {
             "colorbar": {
              "outlinewidth": 0,
              "ticks": ""
             }
            },
            "type": "scatter3d"
           }
          ],
          "scattercarpet": [
           {
            "marker": {
             "colorbar": {
              "outlinewidth": 0,
              "ticks": ""
             }
            },
            "type": "scattercarpet"
           }
          ],
          "scattergeo": [
           {
            "marker": {
             "colorbar": {
              "outlinewidth": 0,
              "ticks": ""
             }
            },
            "type": "scattergeo"
           }
          ],
          "scattergl": [
           {
            "marker": {
             "colorbar": {
              "outlinewidth": 0,
              "ticks": ""
             }
            },
            "type": "scattergl"
           }
          ],
          "scattermap": [
           {
            "marker": {
             "colorbar": {
              "outlinewidth": 0,
              "ticks": ""
             }
            },
            "type": "scattermap"
           }
          ],
          "scattermapbox": [
           {
            "marker": {
             "colorbar": {
              "outlinewidth": 0,
              "ticks": ""
             }
            },
            "type": "scattermapbox"
           }
          ],
          "scatterpolar": [
           {
            "marker": {
             "colorbar": {
              "outlinewidth": 0,
              "ticks": ""
             }
            },
            "type": "scatterpolar"
           }
          ],
          "scatterpolargl": [
           {
            "marker": {
             "colorbar": {
              "outlinewidth": 0,
              "ticks": ""
             }
            },
            "type": "scatterpolargl"
           }
          ],
          "scatterternary": [
           {
            "marker": {
             "colorbar": {
              "outlinewidth": 0,
              "ticks": ""
             }
            },
            "type": "scatterternary"
           }
          ],
          "surface": [
           {
            "colorbar": {
             "outlinewidth": 0,
             "ticks": ""
            },
            "colorscale": [
             [
              0,
              "#0d0887"
             ],
             [
              0.1111111111111111,
              "#46039f"
             ],
             [
              0.2222222222222222,
              "#7201a8"
             ],
             [
              0.3333333333333333,
              "#9c179e"
             ],
             [
              0.4444444444444444,
              "#bd3786"
             ],
             [
              0.5555555555555556,
              "#d8576b"
             ],
             [
              0.6666666666666666,
              "#ed7953"
             ],
             [
              0.7777777777777778,
              "#fb9f3a"
             ],
             [
              0.8888888888888888,
              "#fdca26"
             ],
             [
              1,
              "#f0f921"
             ]
            ],
            "type": "surface"
           }
          ],
          "table": [
           {
            "cells": {
             "fill": {
              "color": "#EBF0F8"
             },
             "line": {
              "color": "white"
             }
            },
            "header": {
             "fill": {
              "color": "#C8D4E3"
             },
             "line": {
              "color": "white"
             }
            },
            "type": "table"
           }
          ]
         },
         "layout": {
          "annotationdefaults": {
           "arrowcolor": "#2a3f5f",
           "arrowhead": 0,
           "arrowwidth": 1
          },
          "autotypenumbers": "strict",
          "coloraxis": {
           "colorbar": {
            "outlinewidth": 0,
            "ticks": ""
           }
          },
          "colorscale": {
           "diverging": [
            [
             0,
             "#8e0152"
            ],
            [
             0.1,
             "#c51b7d"
            ],
            [
             0.2,
             "#de77ae"
            ],
            [
             0.3,
             "#f1b6da"
            ],
            [
             0.4,
             "#fde0ef"
            ],
            [
             0.5,
             "#f7f7f7"
            ],
            [
             0.6,
             "#e6f5d0"
            ],
            [
             0.7,
             "#b8e186"
            ],
            [
             0.8,
             "#7fbc41"
            ],
            [
             0.9,
             "#4d9221"
            ],
            [
             1,
             "#276419"
            ]
           ],
           "sequential": [
            [
             0,
             "#0d0887"
            ],
            [
             0.1111111111111111,
             "#46039f"
            ],
            [
             0.2222222222222222,
             "#7201a8"
            ],
            [
             0.3333333333333333,
             "#9c179e"
            ],
            [
             0.4444444444444444,
             "#bd3786"
            ],
            [
             0.5555555555555556,
             "#d8576b"
            ],
            [
             0.6666666666666666,
             "#ed7953"
            ],
            [
             0.7777777777777778,
             "#fb9f3a"
            ],
            [
             0.8888888888888888,
             "#fdca26"
            ],
            [
             1,
             "#f0f921"
            ]
           ],
           "sequentialminus": [
            [
             0,
             "#0d0887"
            ],
            [
             0.1111111111111111,
             "#46039f"
            ],
            [
             0.2222222222222222,
             "#7201a8"
            ],
            [
             0.3333333333333333,
             "#9c179e"
            ],
            [
             0.4444444444444444,
             "#bd3786"
            ],
            [
             0.5555555555555556,
             "#d8576b"
            ],
            [
             0.6666666666666666,
             "#ed7953"
            ],
            [
             0.7777777777777778,
             "#fb9f3a"
            ],
            [
             0.8888888888888888,
             "#fdca26"
            ],
            [
             1,
             "#f0f921"
            ]
           ]
          },
          "colorway": [
           "#636efa",
           "#EF553B",
           "#00cc96",
           "#ab63fa",
           "#FFA15A",
           "#19d3f3",
           "#FF6692",
           "#B6E880",
           "#FF97FF",
           "#FECB52"
          ],
          "font": {
           "color": "#2a3f5f"
          },
          "geo": {
           "bgcolor": "white",
           "lakecolor": "white",
           "landcolor": "#E5ECF6",
           "showlakes": true,
           "showland": true,
           "subunitcolor": "white"
          },
          "hoverlabel": {
           "align": "left"
          },
          "hovermode": "closest",
          "mapbox": {
           "style": "light"
          },
          "paper_bgcolor": "white",
          "plot_bgcolor": "#E5ECF6",
          "polar": {
           "angularaxis": {
            "gridcolor": "white",
            "linecolor": "white",
            "ticks": ""
           },
           "bgcolor": "#E5ECF6",
           "radialaxis": {
            "gridcolor": "white",
            "linecolor": "white",
            "ticks": ""
           }
          },
          "scene": {
           "xaxis": {
            "backgroundcolor": "#E5ECF6",
            "gridcolor": "white",
            "gridwidth": 2,
            "linecolor": "white",
            "showbackground": true,
            "ticks": "",
            "zerolinecolor": "white"
           },
           "yaxis": {
            "backgroundcolor": "#E5ECF6",
            "gridcolor": "white",
            "gridwidth": 2,
            "linecolor": "white",
            "showbackground": true,
            "ticks": "",
            "zerolinecolor": "white"
           },
           "zaxis": {
            "backgroundcolor": "#E5ECF6",
            "gridcolor": "white",
            "gridwidth": 2,
            "linecolor": "white",
            "showbackground": true,
            "ticks": "",
            "zerolinecolor": "white"
           }
          },
          "shapedefaults": {
           "line": {
            "color": "#2a3f5f"
           }
          },
          "ternary": {
           "aaxis": {
            "gridcolor": "white",
            "linecolor": "white",
            "ticks": ""
           },
           "baxis": {
            "gridcolor": "white",
            "linecolor": "white",
            "ticks": ""
           },
           "bgcolor": "#E5ECF6",
           "caxis": {
            "gridcolor": "white",
            "linecolor": "white",
            "ticks": ""
           }
          },
          "title": {
           "x": 0.05
          },
          "xaxis": {
           "automargin": true,
           "gridcolor": "white",
           "linecolor": "white",
           "ticks": "",
           "title": {
            "standoff": 15
           },
           "zerolinecolor": "white",
           "zerolinewidth": 2
          },
          "yaxis": {
           "automargin": true,
           "gridcolor": "white",
           "linecolor": "white",
           "ticks": "",
           "title": {
            "standoff": 15
           },
           "zerolinecolor": "white",
           "zerolinewidth": 2
          }
         }
        },
        "title": {
         "text": "Churn Prediction Model Analysis"
        },
        "xaxis": {
         "anchor": "y",
         "domain": [
          0,
          0.45
         ]
        },
        "xaxis2": {
         "anchor": "y2",
         "domain": [
          0.55,
          1
         ]
        },
        "xaxis3": {
         "anchor": "y3",
         "domain": [
          0,
          0.45
         ]
        },
        "xaxis4": {
         "anchor": "y4",
         "domain": [
          0.55,
          1
         ]
        },
        "yaxis": {
         "anchor": "x",
         "domain": [
          0.625,
          1
         ]
        },
        "yaxis2": {
         "anchor": "x2",
         "domain": [
          0.625,
          1
         ]
        },
        "yaxis3": {
         "anchor": "x3",
         "domain": [
          0,
          0.375
         ]
        },
        "yaxis4": {
         "anchor": "x4",
         "domain": [
          0,
          0.375
         ]
        }
       }
      }
     },
     "metadata": {},
     "output_type": "display_data"
    },
    {
     "name": "stdout",
     "output_type": "stream",
     "text": [
      "\n",
      "📊 DETAILED CLASSIFICATION REPORT - Logistic Regression:\n",
      "============================================================\n",
      "              precision    recall  f1-score   support\n",
      "\n",
      "      Active       0.92      0.60      0.73       668\n",
      "     Churned       0.22      0.67      0.33       112\n",
      "\n",
      "    accuracy                           0.61       780\n",
      "   macro avg       0.57      0.64      0.53       780\n",
      "weighted avg       0.82      0.61      0.67       780\n",
      "\n"
     ]
    }
   ],
   "source": [
    "# Visualize churn model results\n",
    "def visualize_churn_results(results, y_test):\n",
    "    \"\"\"Visualize churn prediction results\"\"\"\n",
    "    \n",
    "    fig = make_subplots(\n",
    "        rows=2, cols=2,\n",
    "        subplot_titles=['Model Performance Comparison', 'ROC Curves', \n",
    "                       'Feature Importance (Best Model)', 'Churn Probability Distribution']\n",
    "    )\n",
    "    \n",
    "    # Model performance comparison\n",
    "    model_names = list(results.keys())\n",
    "    accuracies = [results[name]['accuracy'] for name in model_names]\n",
    "    auc_scores = [results[name]['auc_score'] for name in model_names]\n",
    "    \n",
    "    fig.add_trace(\n",
    "        go.Bar(x=model_names, y=accuracies, name='Accuracy', offsetgroup=1),\n",
    "        row=1, col=1\n",
    "    )\n",
    "    \n",
    "    fig.add_trace(\n",
    "        go.Bar(x=model_names, y=auc_scores, name='AUC Score', offsetgroup=2),\n",
    "        row=1, col=1\n",
    "    )\n",
    "    \n",
    "    # ROC Curves\n",
    "    for name in model_names:\n",
    "        y_pred_proba = results[name]['probabilities']\n",
    "        fpr, tpr, _ = roc_curve(y_test, y_pred_proba)\n",
    "        \n",
    "        fig.add_trace(\n",
    "            go.Scatter(x=fpr, y=tpr, name=f'{name} (AUC={results[name][\"auc_score\"]:.3f})',\n",
    "                      mode='lines'),\n",
    "            row=1, col=2\n",
    "        )\n",
    "    \n",
    "    # Add diagonal line for ROC\n",
    "    fig.add_trace(\n",
    "        go.Scatter(x=[0, 1], y=[0, 1], mode='lines', line=dict(dash='dash'),\n",
    "                  name='Random', showlegend=False),\n",
    "        row=1, col=2\n",
    "    )\n",
    "    \n",
    "    # Feature importance (for tree-based models)\n",
    "    best_model = results[best_churn_model_name]['model']\n",
    "    if hasattr(best_model, 'feature_importances_'):\n",
    "        feature_imp = pd.DataFrame({\n",
    "            'feature': churn_features,\n",
    "            'importance': best_model.feature_importances_\n",
    "        }).sort_values('importance', ascending=True).tail(10)\n",
    "        \n",
    "        fig.add_trace(\n",
    "            go.Bar(x=feature_imp['importance'], y=feature_imp['feature'], \n",
    "                   orientation='h', name='Importance'),\n",
    "            row=2, col=1\n",
    "        )\n",
    "    \n",
    "    # Churn probability distribution\n",
    "    best_probabilities = results[best_churn_model_name]['probabilities']\n",
    "    \n",
    "    fig.add_trace(\n",
    "        go.Histogram(x=best_probabilities[y_test == 0], name='Active Customers', \n",
    "                    opacity=0.7, nbinsx=20),\n",
    "        row=2, col=2\n",
    "    )\n",
    "    \n",
    "    fig.add_trace(\n",
    "        go.Histogram(x=best_probabilities[y_test == 1], name='Churned Customers', \n",
    "                    opacity=0.7, nbinsx=20),\n",
    "        row=2, col=2\n",
    "    )\n",
    "    \n",
    "    fig.update_layout(height=800, title_text=\"Churn Prediction Model Analysis\")\n",
    "    fig.show()\n",
    "\n",
    "# Visualize results\n",
    "visualize_churn_results(churn_model_results, y_churn_test)\n",
    "\n",
    "# Print detailed classification report for best model\n",
    "print(f\"\\n📊 DETAILED CLASSIFICATION REPORT - {best_churn_model_name}:\")\n",
    "print(\"=\" * 60)\n",
    "best_predictions = churn_model_results[best_churn_model_name]['predictions']\n",
    "print(classification_report(y_churn_test, best_predictions, \n",
    "                          target_names=['Active', 'Churned']))"
   ]
  },
  {
   "cell_type": "markdown",
   "metadata": {},
   "source": [
    "## 3. Customer Lifetime Value (CLV) Prediction"
   ]
  },
  {
   "cell_type": "code",
   "execution_count": 14,
   "metadata": {},
   "outputs": [
    {
     "name": "stdout",
     "output_type": "stream",
     "text": [
      "💎 Creating CLV labels...\n",
      "  ✅ CLV labels created\n",
      "  Mean CLV: $149.73\n",
      "  Median CLV: $147.09\n",
      "  CLV Range: $33.36 - $308.79\n",
      "\n",
      "📊 CLV Distribution Analysis:\n",
      "  Low CLV: 975 customers (25.0%) - Avg: $71.13\n",
      "  Medium CLV: 975 customers (25.0%) - Avg: $120.90\n",
      "  High CLV: 975 customers (25.0%) - Avg: $173.54\n",
      "  Very High CLV: 975 customers (25.0%) - Avg: $233.35\n"
     ]
    }
   ],
   "source": [
    "# Create CLV labels\n",
    "def create_clv_labels(df):\n",
    "    \"\"\"Create CLV labels based on customer behavior\"\"\"\n",
    "    \n",
    "    print(\"💎 Creating CLV labels...\")\n",
    "    \n",
    "    # Base CLV calculation\n",
    "    clv_factors = pd.DataFrame()\n",
    "    \n",
    "    if 'Purchase Amount (USD)_sum' in df.columns:\n",
    "        clv_factors['historical_value'] = df['Purchase Amount (USD)_sum']\n",
    "    else:\n",
    "        clv_factors['historical_value'] = np.random.exponential(300, len(df))\n",
    "    \n",
    "    if 'Purchase Amount (USD)_count' in df.columns:\n",
    "        clv_factors['frequency_factor'] = df['Purchase Amount (USD)_count'] / 12  # Monthly frequency\n",
    "    else:\n",
    "        clv_factors['frequency_factor'] = np.random.poisson(2, len(df))\n",
    "    \n",
    "    if 'Purchase Amount (USD)_mean' in df.columns:\n",
    "        clv_factors['avg_order_value'] = df['Purchase Amount (USD)_mean']\n",
    "    else:\n",
    "        clv_factors['avg_order_value'] = np.random.exponential(50, len(df))\n",
    "    \n",
    "    # Customer lifespan (in months) - estimate based on engagement\n",
    "    if 'Review Rating' in df.columns:\n",
    "        satisfaction_factor = df['Review Rating'] / 5  # Normalize to 0-1\n",
    "        estimated_lifespan = 12 + satisfaction_factor * 24  # 12-36 months based on satisfaction\n",
    "    else:\n",
    "        estimated_lifespan = np.random.uniform(12, 36, len(df))\n",
    "    \n",
    "    # CLV = Average Order Value * Purchase Frequency * Customer Lifespan\n",
    "    predicted_clv = (\n",
    "        clv_factors['avg_order_value'] * \n",
    "        clv_factors['frequency_factor'] * \n",
    "        estimated_lifespan\n",
    "    )\n",
    "    \n",
    "    # Add some noise and ensure positive values\n",
    "    np.random.seed(42)\n",
    "    noise = np.random.normal(0, predicted_clv.std() * 0.1, len(predicted_clv))\n",
    "    predicted_clv = np.maximum(predicted_clv + noise, 10)  # Minimum CLV of $10\n",
    "    \n",
    "    print(f\"  ✅ CLV labels created\")\n",
    "    print(f\"  Mean CLV: ${predicted_clv.mean():.2f}\")\n",
    "    print(f\"  Median CLV: ${predicted_clv.median():.2f}\")\n",
    "    print(f\"  CLV Range: ${predicted_clv.min():.2f} - ${predicted_clv.max():.2f}\")\n",
    "    \n",
    "    return predicted_clv\n",
    "\n",
    "# Create CLV labels\n",
    "clv_labels = create_clv_labels(model_features)\n",
    "model_features['CLV'] = clv_labels\n",
    "\n",
    "# CLV distribution analysis\n",
    "print(f\"\\n📊 CLV Distribution Analysis:\")\n",
    "clv_quartiles = pd.qcut(clv_labels, 4, labels=['Low', 'Medium', 'High', 'Very High'])\n",
    "clv_dist = clv_quartiles.value_counts()\n",
    "for quartile, count in clv_dist.items():\n",
    "    percentage = count / len(clv_labels) * 100\n",
    "    avg_clv = clv_labels[clv_quartiles == quartile].mean()\n",
    "    print(f\"  {quartile} CLV: {count:,} customers ({percentage:.1f}%) - Avg: ${avg_clv:.2f}\")"
   ]
  },
  {
   "cell_type": "code",
   "execution_count": 15,
   "metadata": {},
   "outputs": [
    {
     "name": "stdout",
     "output_type": "stream",
     "text": [
      "📊 CLV modeling data prepared:\n",
      "  Features: 24\n",
      "  Samples: 3900\n",
      "  Selected features: ['Age', 'Purchase Amount (USD)', 'Review Rating', 'Previous Purchases', 'Purchase Amount (USD)_sum']...\n",
      "\n",
      "📈 CLV data split completed:\n",
      "  Training set: 3120 samples\n",
      "  Test set: 780 samples\n",
      "  Training CLV range: $33.36 - $308.79\n",
      "  Test CLV range: $36.56 - $299.40\n"
     ]
    }
   ],
   "source": [
    "# Prepare data for CLV prediction\n",
    "def prepare_clv_modeling_data(df):\n",
    "    \"\"\"Prepare features for CLV prediction model\"\"\"\n",
    "    \n",
    "    # Select relevant features for CLV modeling\n",
    "    feature_columns = []\n",
    "    \n",
    "    # Numeric features (exclude CLV itself)\n",
    "    numeric_cols = df.select_dtypes(include=[np.number]).columns\n",
    "    exclude_cols = ['CLV', 'Churn', 'Churn_Probability', 'Customer ID']\n",
    "    feature_columns.extend([col for col in numeric_cols if col not in exclude_cols])\n",
    "    \n",
    "    # Select features that exist in the dataframe\n",
    "    available_features = [col for col in feature_columns if col in df.columns]\n",
    "    \n",
    "    if len(available_features) == 0:\n",
    "        print(\"⚠️ No suitable features found. Using basic features.\")\n",
    "        available_features = [col for col in df.select_dtypes(include=[np.number]).columns \n",
    "                            if col not in exclude_cols][:10]\n",
    "    \n",
    "    X = df[available_features].fillna(0)\n",
    "    y = df['CLV']\n",
    "    \n",
    "    print(f\"📊 CLV modeling data prepared:\")\n",
    "    print(f\"  Features: {X.shape[1]}\")\n",
    "    print(f\"  Samples: {X.shape[0]}\")\n",
    "    print(f\"  Selected features: {available_features[:5]}...\")\n",
    "    \n",
    "    return X, y, available_features\n",
    "\n",
    "# Prepare CLV modeling data\n",
    "X_clv, y_clv, clv_features = prepare_clv_modeling_data(model_features)\n",
    "\n",
    "# Split data\n",
    "X_clv_train, X_clv_test, y_clv_train, y_clv_test = train_test_split(\n",
    "    X_clv, y_clv, test_size=0.2, random_state=42\n",
    ")\n",
    "\n",
    "print(f\"\\n📈 CLV data split completed:\")\n",
    "print(f\"  Training set: {X_clv_train.shape[0]} samples\")\n",
    "print(f\"  Test set: {X_clv_test.shape[0]} samples\")\n",
    "print(f\"  Training CLV range: ${y_clv_train.min():.2f} - ${y_clv_train.max():.2f}\")\n",
    "print(f\"  Test CLV range: ${y_clv_test.min():.2f} - ${y_clv_test.max():.2f}\")"
   ]
  },
  {
   "cell_type": "code",
   "execution_count": 17,
   "metadata": {},
   "outputs": [
    {
     "name": "stdout",
     "output_type": "stream",
     "text": [
      "💎 Training CLV prediction models...\n",
      "\n",
      "  Training Random Forest...\n",
      "    R² Score: 0.989\n",
      "    RMSE: $6.74\n",
      "    MAE: $5.40\n",
      "    CV R² Score: 0.988 ± 0.001\n",
      "\n",
      "  Training Linear Regression...\n",
      "    R² Score: 0.991\n",
      "    RMSE: $6.14\n",
      "    MAE: $4.84\n",
      "    CV R² Score: 0.990 ± 0.001\n",
      "\n",
      "  Training Gradient Boosting...\n",
      "    R² Score: 0.990\n",
      "    RMSE: $6.45\n",
      "    MAE: $5.11\n",
      "    CV R² Score: 0.989 ± 0.001\n",
      "\n",
      "🏆 Best CLV model: Linear Regression\n",
      "  R² Score: 0.991\n",
      "  RMSE: $6.14\n",
      "  MAE: $4.84\n"
     ]
    }
   ],
   "source": [
    "from sklearn.ensemble import GradientBoostingRegressor\n",
    "\n",
    "\n",
    "# Build and train CLV prediction models\n",
    "def train_clv_models(X_train, y_train, X_test, y_test):\n",
    "    \"\"\"Train multiple CLV prediction models\"\"\"\n",
    "    \n",
    "    models = {\n",
    "        'Random Forest': RandomForestRegressor(n_estimators=100, random_state=42),\n",
    "        'Linear Regression': LinearRegression(),\n",
    "        'Gradient Boosting': GradientBoostingRegressor(n_estimators=100, random_state=42)\n",
    "    }\n",
    "    \n",
    "    results = {}\n",
    "    \n",
    "    # Scale features\n",
    "    scaler = StandardScaler()\n",
    "    X_train_scaled = scaler.fit_transform(X_train)\n",
    "    X_test_scaled = scaler.transform(X_test)\n",
    "    \n",
    "    print(\"💎 Training CLV prediction models...\")\n",
    "    \n",
    "    for name, model in models.items():\n",
    "        print(f\"\\n  Training {name}...\")\n",
    "        \n",
    "        # Train model\n",
    "        if name == 'Linear Regression':\n",
    "            model.fit(X_train_scaled, y_train)\n",
    "            y_pred = model.predict(X_test_scaled)\n",
    "        else:\n",
    "            model.fit(X_train, y_train)\n",
    "            y_pred = model.predict(X_test)\n",
    "        \n",
    "        # Calculate metrics\n",
    "        mse = mean_squared_error(y_test, y_pred)\n",
    "        mae = mean_absolute_error(y_test, y_pred)\n",
    "        r2 = r2_score(y_test, y_pred)\n",
    "        rmse = np.sqrt(mse)\n",
    "        \n",
    "        # Cross-validation score\n",
    "        cv_scores = cross_val_score(model, X_train_scaled if name == 'Linear Regression' else X_train, \n",
    "                                  y_train, cv=5, scoring='r2')\n",
    "        \n",
    "        results[name] = {\n",
    "            'model': model,\n",
    "            'mse': mse,\n",
    "            'mae': mae,\n",
    "            'rmse': rmse,\n",
    "            'r2': r2,\n",
    "            'cv_mean': cv_scores.mean(),\n",
    "            'cv_std': cv_scores.std(),\n",
    "            'predictions': y_pred\n",
    "        }\n",
    "        \n",
    "        print(f\"    R² Score: {r2:.3f}\")\n",
    "        print(f\"    RMSE: ${rmse:.2f}\")\n",
    "        print(f\"    MAE: ${mae:.2f}\")\n",
    "        print(f\"    CV R² Score: {cv_scores.mean():.3f} ± {cv_scores.std():.3f}\")\n",
    "    \n",
    "    return results, scaler\n",
    "\n",
    "# Train CLV models\n",
    "clv_model_results, clv_scaler = train_clv_models(X_clv_train, y_clv_train, X_clv_test, y_clv_test)\n",
    "\n",
    "# Find best model\n",
    "best_clv_model_name = max(clv_model_results.keys(), \n",
    "                         key=lambda x: clv_model_results[x]['r2'])\n",
    "best_clv_model = clv_model_results[best_clv_model_name]\n",
    "\n",
    "print(f\"\\n🏆 Best CLV model: {best_clv_model_name}\")\n",
    "print(f\"  R² Score: {best_clv_model['r2']:.3f}\")\n",
    "print(f\"  RMSE: ${best_clv_model['rmse']:.2f}\")\n",
    "print(f\"  MAE: ${best_clv_model['mae']:.2f}\")"
   ]
  },
  {
   "cell_type": "code",
   "execution_count": 18,
   "metadata": {},
   "outputs": [
    {
     "data": {
      "application/vnd.plotly.v1+json": {
       "config": {
        "plotlyServerURL": "https://plot.ly"
       },
       "data": [
        {
         "name": "R² Score",
         "type": "bar",
         "x": [
          "Random Forest",
          "Linear Regression",
          "Gradient Boosting"
         ],
         "xaxis": "x",
         "y": [
          0.9885729602362748,
          0.9905292010119222,
          0.9895533277694321
         ],
         "yaxis": "y"
        },
        {
         "mode": "markers",
         "name": "Predictions",
         "opacity": 0.6,
         "type": "scatter",
         "x": {
          "bdata": "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",
          "dtype": "f8"
         },
         "xaxis": "x2",
         "y": {
          "bdata": "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",
          "dtype": "f8"
         },
         "yaxis": "y2"
        },
        {
         "line": {
          "color": "red",
          "dash": "dash"
         },
         "mode": "lines",
         "name": "Perfect Prediction",
         "showlegend": false,
         "type": "scatter",
         "x": [
          36.55626999767526,
          299.40356020318336
         ],
         "xaxis": "x2",
         "y": [
          36.55626999767526,
          299.40356020318336
         ],
         "yaxis": "y2"
        },
        {
         "name": "Prediction Errors",
         "nbinsx": 30,
         "type": "histogram",
         "x": {
          "bdata": "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",
          "dtype": "f8"
         },
         "xaxis": "x4",
         "yaxis": "y4"
        }
       ],
       "layout": {
        "annotations": [
         {
          "font": {
           "size": 16
          },
          "showarrow": false,
          "text": "Model Performance Comparison",
          "x": 0.225,
          "xanchor": "center",
          "xref": "paper",
          "y": 1,
          "yanchor": "bottom",
          "yref": "paper"
         },
         {
          "font": {
           "size": 16
          },
          "showarrow": false,
          "text": "Actual vs Predicted (Best Model)",
          "x": 0.775,
          "xanchor": "center",
          "xref": "paper",
          "y": 1,
          "yanchor": "bottom",
          "yref": "paper"
         },
         {
          "font": {
           "size": 16
          },
          "showarrow": false,
          "text": "Feature Importance (Best Model)",
          "x": 0.225,
          "xanchor": "center",
          "xref": "paper",
          "y": 0.375,
          "yanchor": "bottom",
          "yref": "paper"
         },
         {
          "font": {
           "size": 16
          },
          "showarrow": false,
          "text": "Prediction Error Distribution",
          "x": 0.775,
          "xanchor": "center",
          "xref": "paper",
          "y": 0.375,
          "yanchor": "bottom",
          "yref": "paper"
         }
        ],
        "height": 800,
        "template": {
         "data": {
          "bar": [
           {
            "error_x": {
             "color": "#2a3f5f"
            },
            "error_y": {
             "color": "#2a3f5f"
            },
            "marker": {
             "line": {
              "color": "#E5ECF6",
              "width": 0.5
             },
             "pattern": {
              "fillmode": "overlay",
              "size": 10,
              "solidity": 0.2
             }
            },
            "type": "bar"
           }
          ],
          "barpolar": [
           {
            "marker": {
             "line": {
              "color": "#E5ECF6",
              "width": 0.5
             },
             "pattern": {
              "fillmode": "overlay",
              "size": 10,
              "solidity": 0.2
             }
            },
            "type": "barpolar"
           }
          ],
          "carpet": [
           {
            "aaxis": {
             "endlinecolor": "#2a3f5f",
             "gridcolor": "white",
             "linecolor": "white",
             "minorgridcolor": "white",
             "startlinecolor": "#2a3f5f"
            },
            "baxis": {
             "endlinecolor": "#2a3f5f",
             "gridcolor": "white",
             "linecolor": "white",
             "minorgridcolor": "white",
             "startlinecolor": "#2a3f5f"
            },
            "type": "carpet"
           }
          ],
          "choropleth": [
           {
            "colorbar": {
             "outlinewidth": 0,
             "ticks": ""
            },
            "type": "choropleth"
           }
          ],
          "contour": [
           {
            "colorbar": {
             "outlinewidth": 0,
             "ticks": ""
            },
            "colorscale": [
             [
              0,
              "#0d0887"
             ],
             [
              0.1111111111111111,
              "#46039f"
             ],
             [
              0.2222222222222222,
              "#7201a8"
             ],
             [
              0.3333333333333333,
              "#9c179e"
             ],
             [
              0.4444444444444444,
              "#bd3786"
             ],
             [
              0.5555555555555556,
              "#d8576b"
             ],
             [
              0.6666666666666666,
              "#ed7953"
             ],
             [
              0.7777777777777778,
              "#fb9f3a"
             ],
             [
              0.8888888888888888,
              "#fdca26"
             ],
             [
              1,
              "#f0f921"
             ]
            ],
            "type": "contour"
           }
          ],
          "contourcarpet": [
           {
            "colorbar": {
             "outlinewidth": 0,
             "ticks": ""
            },
            "type": "contourcarpet"
           }
          ],
          "heatmap": [
           {
            "colorbar": {
             "outlinewidth": 0,
             "ticks": ""
            },
            "colorscale": [
             [
              0,
              "#0d0887"
             ],
             [
              0.1111111111111111,
              "#46039f"
             ],
             [
              0.2222222222222222,
              "#7201a8"
             ],
             [
              0.3333333333333333,
              "#9c179e"
             ],
             [
              0.4444444444444444,
              "#bd3786"
             ],
             [
              0.5555555555555556,
              "#d8576b"
             ],
             [
              0.6666666666666666,
              "#ed7953"
             ],
             [
              0.7777777777777778,
              "#fb9f3a"
             ],
             [
              0.8888888888888888,
              "#fdca26"
             ],
             [
              1,
              "#f0f921"
             ]
            ],
            "type": "heatmap"
           }
          ],
          "histogram": [
           {
            "marker": {
             "pattern": {
              "fillmode": "overlay",
              "size": 10,
              "solidity": 0.2
             }
            },
            "type": "histogram"
           }
          ],
          "histogram2d": [
           {
            "colorbar": {
             "outlinewidth": 0,
             "ticks": ""
            },
            "colorscale": [
             [
              0,
              "#0d0887"
             ],
             [
              0.1111111111111111,
              "#46039f"
             ],
             [
              0.2222222222222222,
              "#7201a8"
             ],
             [
              0.3333333333333333,
              "#9c179e"
             ],
             [
              0.4444444444444444,
              "#bd3786"
             ],
             [
              0.5555555555555556,
              "#d8576b"
             ],
             [
              0.6666666666666666,
              "#ed7953"
             ],
             [
              0.7777777777777778,
              "#fb9f3a"
             ],
             [
              0.8888888888888888,
              "#fdca26"
             ],
             [
              1,
              "#f0f921"
             ]
            ],
            "type": "histogram2d"
           }
          ],
          "histogram2dcontour": [
           {
            "colorbar": {
             "outlinewidth": 0,
             "ticks": ""
            },
            "colorscale": [
             [
              0,
              "#0d0887"
             ],
             [
              0.1111111111111111,
              "#46039f"
             ],
             [
              0.2222222222222222,
              "#7201a8"
             ],
             [
              0.3333333333333333,
              "#9c179e"
             ],
             [
              0.4444444444444444,
              "#bd3786"
             ],
             [
              0.5555555555555556,
              "#d8576b"
             ],
             [
              0.6666666666666666,
              "#ed7953"
             ],
             [
              0.7777777777777778,
              "#fb9f3a"
             ],
             [
              0.8888888888888888,
              "#fdca26"
             ],
             [
              1,
              "#f0f921"
             ]
            ],
            "type": "histogram2dcontour"
           }
          ],
          "mesh3d": [
           {
            "colorbar": {
             "outlinewidth": 0,
             "ticks": ""
            },
            "type": "mesh3d"
           }
          ],
          "parcoords": [
           {
            "line": {
             "colorbar": {
              "outlinewidth": 0,
              "ticks": ""
             }
            },
            "type": "parcoords"
           }
          ],
          "pie": [
           {
            "automargin": true,
            "type": "pie"
           }
          ],
          "scatter": [
           {
            "fillpattern": {
             "fillmode": "overlay",
             "size": 10,
             "solidity": 0.2
            },
            "type": "scatter"
           }
          ],
          "scatter3d": [
           {
            "line": {
             "colorbar": {
              "outlinewidth": 0,
              "ticks": ""
             }
            },
            "marker": {
             "colorbar": {
              "outlinewidth": 0,
              "ticks": ""
             }
            },
            "type": "scatter3d"
           }
          ],
          "scattercarpet": [
           {
            "marker": {
             "colorbar": {
              "outlinewidth": 0,
              "ticks": ""
             }
            },
            "type": "scattercarpet"
           }
          ],
          "scattergeo": [
           {
            "marker": {
             "colorbar": {
              "outlinewidth": 0,
              "ticks": ""
             }
            },
            "type": "scattergeo"
           }
          ],
          "scattergl": [
           {
            "marker": {
             "colorbar": {
              "outlinewidth": 0,
              "ticks": ""
             }
            },
            "type": "scattergl"
           }
          ],
          "scattermap": [
           {
            "marker": {
             "colorbar": {
              "outlinewidth": 0,
              "ticks": ""
             }
            },
            "type": "scattermap"
           }
          ],
          "scattermapbox": [
           {
            "marker": {
             "colorbar": {
              "outlinewidth": 0,
              "ticks": ""
             }
            },
            "type": "scattermapbox"
           }
          ],
          "scatterpolar": [
           {
            "marker": {
             "colorbar": {
              "outlinewidth": 0,
              "ticks": ""
             }
            },
            "type": "scatterpolar"
           }
          ],
          "scatterpolargl": [
           {
            "marker": {
             "colorbar": {
              "outlinewidth": 0,
              "ticks": ""
             }
            },
            "type": "scatterpolargl"
           }
          ],
          "scatterternary": [
           {
            "marker": {
             "colorbar": {
              "outlinewidth": 0,
              "ticks": ""
             }
            },
            "type": "scatterternary"
           }
          ],
          "surface": [
           {
            "colorbar": {
             "outlinewidth": 0,
             "ticks": ""
            },
            "colorscale": [
             [
              0,
              "#0d0887"
             ],
             [
              0.1111111111111111,
              "#46039f"
             ],
             [
              0.2222222222222222,
              "#7201a8"
             ],
             [
              0.3333333333333333,
              "#9c179e"
             ],
             [
              0.4444444444444444,
              "#bd3786"
             ],
             [
              0.5555555555555556,
              "#d8576b"
             ],
             [
              0.6666666666666666,
              "#ed7953"
             ],
             [
              0.7777777777777778,
              "#fb9f3a"
             ],
             [
              0.8888888888888888,
              "#fdca26"
             ],
             [
              1,
              "#f0f921"
             ]
            ],
            "type": "surface"
           }
          ],
          "table": [
           {
            "cells": {
             "fill": {
              "color": "#EBF0F8"
             },
             "line": {
              "color": "white"
             }
            },
            "header": {
             "fill": {
              "color": "#C8D4E3"
             },
             "line": {
              "color": "white"
             }
            },
            "type": "table"
           }
          ]
         },
         "layout": {
          "annotationdefaults": {
           "arrowcolor": "#2a3f5f",
           "arrowhead": 0,
           "arrowwidth": 1
          },
          "autotypenumbers": "strict",
          "coloraxis": {
           "colorbar": {
            "outlinewidth": 0,
            "ticks": ""
           }
          },
          "colorscale": {
           "diverging": [
            [
             0,
             "#8e0152"
            ],
            [
             0.1,
             "#c51b7d"
            ],
            [
             0.2,
             "#de77ae"
            ],
            [
             0.3,
             "#f1b6da"
            ],
            [
             0.4,
             "#fde0ef"
            ],
            [
             0.5,
             "#f7f7f7"
            ],
            [
             0.6,
             "#e6f5d0"
            ],
            [
             0.7,
             "#b8e186"
            ],
            [
             0.8,
             "#7fbc41"
            ],
            [
             0.9,
             "#4d9221"
            ],
            [
             1,
             "#276419"
            ]
           ],
           "sequential": [
            [
             0,
             "#0d0887"
            ],
            [
             0.1111111111111111,
             "#46039f"
            ],
            [
             0.2222222222222222,
             "#7201a8"
            ],
            [
             0.3333333333333333,
             "#9c179e"
            ],
            [
             0.4444444444444444,
             "#bd3786"
            ],
            [
             0.5555555555555556,
             "#d8576b"
            ],
            [
             0.6666666666666666,
             "#ed7953"
            ],
            [
             0.7777777777777778,
             "#fb9f3a"
            ],
            [
             0.8888888888888888,
             "#fdca26"
            ],
            [
             1,
             "#f0f921"
            ]
           ],
           "sequentialminus": [
            [
             0,
             "#0d0887"
            ],
            [
             0.1111111111111111,
             "#46039f"
            ],
            [
             0.2222222222222222,
             "#7201a8"
            ],
            [
             0.3333333333333333,
             "#9c179e"
            ],
            [
             0.4444444444444444,
             "#bd3786"
            ],
            [
             0.5555555555555556,
             "#d8576b"
            ],
            [
             0.6666666666666666,
             "#ed7953"
            ],
            [
             0.7777777777777778,
             "#fb9f3a"
            ],
            [
             0.8888888888888888,
             "#fdca26"
            ],
            [
             1,
             "#f0f921"
            ]
           ]
          },
          "colorway": [
           "#636efa",
           "#EF553B",
           "#00cc96",
           "#ab63fa",
           "#FFA15A",
           "#19d3f3",
           "#FF6692",
           "#B6E880",
           "#FF97FF",
           "#FECB52"
          ],
          "font": {
           "color": "#2a3f5f"
          },
          "geo": {
           "bgcolor": "white",
           "lakecolor": "white",
           "landcolor": "#E5ECF6",
           "showlakes": true,
           "showland": true,
           "subunitcolor": "white"
          },
          "hoverlabel": {
           "align": "left"
          },
          "hovermode": "closest",
          "mapbox": {
           "style": "light"
          },
          "paper_bgcolor": "white",
          "plot_bgcolor": "#E5ECF6",
          "polar": {
           "angularaxis": {
            "gridcolor": "white",
            "linecolor": "white",
            "ticks": ""
           },
           "bgcolor": "#E5ECF6",
           "radialaxis": {
            "gridcolor": "white",
            "linecolor": "white",
            "ticks": ""
           }
          },
          "scene": {
           "xaxis": {
            "backgroundcolor": "#E5ECF6",
            "gridcolor": "white",
            "gridwidth": 2,
            "linecolor": "white",
            "showbackground": true,
            "ticks": "",
            "zerolinecolor": "white"
           },
           "yaxis": {
            "backgroundcolor": "#E5ECF6",
            "gridcolor": "white",
            "gridwidth": 2,
            "linecolor": "white",
            "showbackground": true,
            "ticks": "",
            "zerolinecolor": "white"
           },
           "zaxis": {
            "backgroundcolor": "#E5ECF6",
            "gridcolor": "white",
            "gridwidth": 2,
            "linecolor": "white",
            "showbackground": true,
            "ticks": "",
            "zerolinecolor": "white"
           }
          },
          "shapedefaults": {
           "line": {
            "color": "#2a3f5f"
           }
          },
          "ternary": {
           "aaxis": {
            "gridcolor": "white",
            "linecolor": "white",
            "ticks": ""
           },
           "baxis": {
            "gridcolor": "white",
            "linecolor": "white",
            "ticks": ""
           },
           "bgcolor": "#E5ECF6",
           "caxis": {
            "gridcolor": "white",
            "linecolor": "white",
            "ticks": ""
           }
          },
          "title": {
           "x": 0.05
          },
          "xaxis": {
           "automargin": true,
           "gridcolor": "white",
           "linecolor": "white",
           "ticks": "",
           "title": {
            "standoff": 15
           },
           "zerolinecolor": "white",
           "zerolinewidth": 2
          },
          "yaxis": {
           "automargin": true,
           "gridcolor": "white",
           "linecolor": "white",
           "ticks": "",
           "title": {
            "standoff": 15
           },
           "zerolinecolor": "white",
           "zerolinewidth": 2
          }
         }
        },
        "title": {
         "text": "CLV Prediction Model Analysis"
        },
        "xaxis": {
         "anchor": "y",
         "domain": [
          0,
          0.45
         ]
        },
        "xaxis2": {
         "anchor": "y2",
         "domain": [
          0.55,
          1
         ]
        },
        "xaxis3": {
         "anchor": "y3",
         "domain": [
          0,
          0.45
         ]
        },
        "xaxis4": {
         "anchor": "y4",
         "domain": [
          0.55,
          1
         ]
        },
        "yaxis": {
         "anchor": "x",
         "domain": [
          0.625,
          1
         ]
        },
        "yaxis2": {
         "anchor": "x2",
         "domain": [
          0.625,
          1
         ]
        },
        "yaxis3": {
         "anchor": "x3",
         "domain": [
          0,
          0.375
         ]
        },
        "yaxis4": {
         "anchor": "x4",
         "domain": [
          0,
          0.375
         ]
        }
       }
      }
     },
     "metadata": {},
     "output_type": "display_data"
    },
    {
     "name": "stdout",
     "output_type": "stream",
     "text": [
      "\n",
      "📊 DETAILED CLV MODEL COMPARISON:\n",
      "======================================================================\n"
     ]
    },
    {
     "data": {
      "text/html": [
       "<div>\n",
       "<style scoped>\n",
       "    .dataframe tbody tr th:only-of-type {\n",
       "        vertical-align: middle;\n",
       "    }\n",
       "\n",
       "    .dataframe tbody tr th {\n",
       "        vertical-align: top;\n",
       "    }\n",
       "\n",
       "    .dataframe thead th {\n",
       "        text-align: right;\n",
       "    }\n",
       "</style>\n",
       "<table border=\"1\" class=\"dataframe\">\n",
       "  <thead>\n",
       "    <tr style=\"text-align: right;\">\n",
       "      <th></th>\n",
       "      <th>Model</th>\n",
       "      <th>R² Score</th>\n",
       "      <th>RMSE</th>\n",
       "      <th>MAE</th>\n",
       "      <th>CV R² Mean</th>\n",
       "      <th>CV R² Std</th>\n",
       "    </tr>\n",
       "  </thead>\n",
       "  <tbody>\n",
       "    <tr>\n",
       "      <th>0</th>\n",
       "      <td>Random Forest</td>\n",
       "      <td>0.989</td>\n",
       "      <td>6.743</td>\n",
       "      <td>5.396</td>\n",
       "      <td>0.988</td>\n",
       "      <td>0.001</td>\n",
       "    </tr>\n",
       "    <tr>\n",
       "      <th>1</th>\n",
       "      <td>Linear Regression</td>\n",
       "      <td>0.991</td>\n",
       "      <td>6.139</td>\n",
       "      <td>4.839</td>\n",
       "      <td>0.990</td>\n",
       "      <td>0.001</td>\n",
       "    </tr>\n",
       "    <tr>\n",
       "      <th>2</th>\n",
       "      <td>Gradient Boosting</td>\n",
       "      <td>0.990</td>\n",
       "      <td>6.447</td>\n",
       "      <td>5.107</td>\n",
       "      <td>0.989</td>\n",
       "      <td>0.001</td>\n",
       "    </tr>\n",
       "  </tbody>\n",
       "</table>\n",
       "</div>"
      ],
      "text/plain": [
       "               Model  R² Score   RMSE    MAE  CV R² Mean  CV R² Std\n",
       "0      Random Forest     0.989  6.743  5.396       0.988      0.001\n",
       "1  Linear Regression     0.991  6.139  4.839       0.990      0.001\n",
       "2  Gradient Boosting     0.990  6.447  5.107       0.989      0.001"
      ]
     },
     "metadata": {},
     "output_type": "display_data"
    }
   ],
   "source": [
    "# Visualize CLV model results\n",
    "def visualize_clv_results(results, y_test):\n",
    "    \"\"\"Visualize CLV prediction results\"\"\"\n",
    "    \n",
    "    fig = make_subplots(\n",
    "        rows=2, cols=2,\n",
    "        subplot_titles=['Model Performance Comparison', 'Actual vs Predicted (Best Model)', \n",
    "                       'Feature Importance (Best Model)', 'Prediction Error Distribution']\n",
    "    )\n",
    "    \n",
    "    # Model performance comparison\n",
    "    model_names = list(results.keys())\n",
    "    r2_scores = [results[name]['r2'] for name in model_names]\n",
    "    rmse_scores = [results[name]['rmse'] for name in model_names]\n",
    "    \n",
    "    fig.add_trace(\n",
    "        go.Bar(x=model_names, y=r2_scores, name='R² Score'),\n",
    "        row=1, col=1\n",
    "    )\n",
    "    \n",
    "    # Actual vs Predicted scatter plot\n",
    "    best_predictions = results[best_clv_model_name]['predictions']\n",
    "    \n",
    "    fig.add_trace(\n",
    "        go.Scatter(x=y_test, y=best_predictions, mode='markers', name='Predictions',\n",
    "                  opacity=0.6),\n",
    "        row=1, col=2\n",
    "    )\n",
    "    \n",
    "    # Perfect prediction line\n",
    "    min_val = min(y_test.min(), best_predictions.min())\n",
    "    max_val = max(y_test.max(), best_predictions.max())\n",
    "    fig.add_trace(\n",
    "        go.Scatter(x=[min_val, max_val], y=[min_val, max_val], mode='lines',\n",
    "                  line=dict(dash='dash', color='red'), name='Perfect Prediction',\n",
    "                  showlegend=False),\n",
    "        row=1, col=2\n",
    "    )\n",
    "    \n",
    "    # Feature importance\n",
    "    best_model = results[best_clv_model_name]['model']\n",
    "    if hasattr(best_model, 'feature_importances_'):\n",
    "        feature_imp = pd.DataFrame({\n",
    "            'feature': clv_features,\n",
    "            'importance': best_model.feature_importances_\n",
    "        }).sort_values('importance', ascending=True).tail(10)\n",
    "        \n",
    "        fig.add_trace(\n",
    "            go.Bar(x=feature_imp['importance'], y=feature_imp['feature'], \n",
    "                   orientation='h', name='Importance'),\n",
    "            row=2, col=1\n",
    "        )\n",
    "    \n",
    "    # Prediction error distribution\n",
    "    errors = best_predictions - y_test\n",
    "    \n",
    "    fig.add_trace(\n",
    "        go.Histogram(x=errors, name='Prediction Errors', nbinsx=30),\n",
    "        row=2, col=2\n",
    "    )\n",
    "    \n",
    "    fig.update_layout(height=800, title_text=\"CLV Prediction Model Analysis\")\n",
    "    fig.show()\n",
    "\n",
    "# Visualize results\n",
    "visualize_clv_results(clv_model_results, y_clv_test)\n",
    "\n",
    "# Print detailed metrics for all models\n",
    "print(f\"\\n📊 DETAILED CLV MODEL COMPARISON:\")\n",
    "print(\"=\" * 70)\n",
    "comparison_df = pd.DataFrame({\n",
    "    'Model': list(clv_model_results.keys()),\n",
    "    'R² Score': [clv_model_results[name]['r2'] for name in clv_model_results.keys()],\n",
    "    'RMSE': [clv_model_results[name]['rmse'] for name in clv_model_results.keys()],\n",
    "    'MAE': [clv_model_results[name]['mae'] for name in clv_model_results.keys()],\n",
    "    'CV R² Mean': [clv_model_results[name]['cv_mean'] for name in clv_model_results.keys()],\n",
    "    'CV R² Std': [clv_model_results[name]['cv_std'] for name in clv_model_results.keys()]\n",
    "})\n",
    "display(comparison_df.round(3))"
   ]
  },
  {
   "cell_type": "markdown",
   "metadata": {},
   "source": [
    "## 4. Model Optimization and Hyperparameter Tuning"
   ]
  },
  {
   "cell_type": "code",
   "execution_count": 19,
   "metadata": {},
   "outputs": [
    {
     "name": "stdout",
     "output_type": "stream",
     "text": [
      "🎯 Optimizing churn prediction model...\n",
      "Fitting 5 folds for each of 108 candidates, totalling 540 fits\n",
      "  ✅ Best parameters: {'max_depth': 5, 'min_samples_leaf': 1, 'min_samples_split': 2, 'n_estimators': 50}\n",
      "  ✅ Best CV score: 0.654\n",
      "\n",
      "💎 Optimizing CLV prediction model...\n",
      "Fitting 5 folds for each of 108 candidates, totalling 540 fits\n",
      "  ✅ Best parameters: {'max_depth': 10, 'min_samples_leaf': 4, 'min_samples_split': 10, 'n_estimators': 200}\n",
      "  ✅ Best CV score: 0.989\n",
      "\n",
      "✅ Model optimization completed!\n"
     ]
    }
   ],
   "source": [
    "# Hyperparameter tuning for best models\n",
    "def optimize_churn_model(X_train, y_train):\n",
    "    \"\"\"Optimize hyperparameters for churn prediction model\"\"\"\n",
    "    \n",
    "    print(\"🎯 Optimizing churn prediction model...\")\n",
    "    \n",
    "    # Define parameter grid for Random Forest\n",
    "    param_grid = {\n",
    "        'n_estimators': [50, 100, 200],\n",
    "        'max_depth': [5, 10, 15, None],\n",
    "        'min_samples_split': [2, 5, 10],\n",
    "        'min_samples_leaf': [1, 2, 4]\n",
    "    }\n",
    "    \n",
    "    # Grid search with cross-validation\n",
    "    rf_model = RandomForestClassifier(random_state=42, class_weight='balanced')\n",
    "    \n",
    "    grid_search = GridSearchCV(\n",
    "        rf_model, param_grid, cv=5, scoring='roc_auc', \n",
    "        n_jobs=-1, verbose=1\n",
    "    )\n",
    "    \n",
    "    grid_search.fit(X_train, y_train)\n",
    "    \n",
    "    print(f\"  ✅ Best parameters: {grid_search.best_params_}\")\n",
    "    print(f\"  ✅ Best CV score: {grid_search.best_score_:.3f}\")\n",
    "    \n",
    "    return grid_search.best_estimator_, grid_search.best_params_\n",
    "\n",
    "def optimize_clv_model(X_train, y_train):\n",
    "    \"\"\"Optimize hyperparameters for CLV prediction model\"\"\"\n",
    "    \n",
    "    print(\"\\n💎 Optimizing CLV prediction model...\")\n",
    "    \n",
    "    # Define parameter grid for Random Forest Regressor\n",
    "    param_grid = {\n",
    "        'n_estimators': [50, 100, 200],\n",
    "        'max_depth': [5, 10, 15, None],\n",
    "        'min_samples_split': [2, 5, 10],\n",
    "        'min_samples_leaf': [1, 2, 4]\n",
    "    }\n",
    "    \n",
    "    # Grid search with cross-validation\n",
    "    rf_model = RandomForestRegressor(random_state=42)\n",
    "    \n",
    "    grid_search = GridSearchCV(\n",
    "        rf_model, param_grid, cv=5, scoring='r2', \n",
    "        n_jobs=-1, verbose=1\n",
    "    )\n",
    "    \n",
    "    grid_search.fit(X_train, y_train)\n",
    "    \n",
    "    print(f\"  ✅ Best parameters: {grid_search.best_params_}\")\n",
    "    print(f\"  ✅ Best CV score: {grid_search.best_score_:.3f}\")\n",
    "    \n",
    "    return grid_search.best_estimator_, grid_search.best_params_\n",
    "\n",
    "# Optimize models (using smaller parameter grids for faster execution)\n",
    "try:\n",
    "    optimized_churn_model, churn_best_params = optimize_churn_model(X_churn_train, y_churn_train)\n",
    "    optimized_clv_model, clv_best_params = optimize_clv_model(X_clv_train, y_clv_train)\n",
    "except Exception as e:\n",
    "    print(f\"⚠️ Optimization failed: {e}\")\n",
    "    print(\"Using default models instead...\")\n",
    "    optimized_churn_model = RandomForestClassifier(n_estimators=100, random_state=42, class_weight='balanced')\n",
    "    optimized_clv_model = RandomForestRegressor(n_estimators=100, random_state=42)\n",
    "    \n",
    "    # Train with default parameters\n",
    "    optimized_churn_model.fit(X_churn_train, y_churn_train)\n",
    "    optimized_clv_model.fit(X_clv_train, y_clv_train)\n",
    "    \n",
    "    churn_best_params = {'n_estimators': 100, 'random_state': 42}\n",
    "    clv_best_params = {'n_estimators': 100, 'random_state': 42}\n",
    "\n",
    "print(\"\\n✅ Model optimization completed!\")"
   ]
  },
  {
   "cell_type": "code",
   "execution_count": 20,
   "metadata": {},
   "outputs": [
    {
     "name": "stdout",
     "output_type": "stream",
     "text": [
      "📊 EVALUATING OPTIMIZED MODELS\n",
      "==================================================\n",
      "\n",
      "🎯 OPTIMIZED CHURN MODEL:\n",
      "  Accuracy: 0.605\n",
      "  AUC Score: 0.673\n",
      "  Best Parameters: {'max_depth': 5, 'min_samples_leaf': 1, 'min_samples_split': 2, 'n_estimators': 50}\n",
      "\n",
      "💎 OPTIMIZED CLV MODEL:\n",
      "  R² Score: 0.989\n",
      "  RMSE: $6.58\n",
      "  MAE: $5.24\n",
      "  Best Parameters: {'max_depth': 10, 'min_samples_leaf': 4, 'min_samples_split': 10, 'n_estimators': 200}\n"
     ]
    }
   ],
   "source": [
    "# Evaluate optimized models\n",
    "def evaluate_optimized_models():\n",
    "    \"\"\"Evaluate the performance of optimized models\"\"\"\n",
    "    \n",
    "    print(\"📊 EVALUATING OPTIMIZED MODELS\")\n",
    "    print(\"=\" * 50)\n",
    "    \n",
    "    # Churn model evaluation\n",
    "    churn_pred = optimized_churn_model.predict(X_churn_test)\n",
    "    churn_pred_proba = optimized_churn_model.predict_proba(X_churn_test)[:, 1]\n",
    "    \n",
    "    churn_accuracy = (churn_pred == y_churn_test).mean()\n",
    "    churn_auc = roc_auc_score(y_churn_test, churn_pred_proba)\n",
    "    \n",
    "    print(f\"\\n🎯 OPTIMIZED CHURN MODEL:\")\n",
    "    print(f\"  Accuracy: {churn_accuracy:.3f}\")\n",
    "    print(f\"  AUC Score: {churn_auc:.3f}\")\n",
    "    print(f\"  Best Parameters: {churn_best_params}\")\n",
    "    \n",
    "    # CLV model evaluation\n",
    "    clv_pred = optimized_clv_model.predict(X_clv_test)\n",
    "    \n",
    "    clv_r2 = r2_score(y_clv_test, clv_pred)\n",
    "    clv_rmse = np.sqrt(mean_squared_error(y_clv_test, clv_pred))\n",
    "    clv_mae = mean_absolute_error(y_clv_test, clv_pred)\n",
    "    \n",
    "    print(f\"\\n💎 OPTIMIZED CLV MODEL:\")\n",
    "    print(f\"  R² Score: {clv_r2:.3f}\")\n",
    "    print(f\"  RMSE: ${clv_rmse:.2f}\")\n",
    "    print(f\"  MAE: ${clv_mae:.2f}\")\n",
    "    print(f\"  Best Parameters: {clv_best_params}\")\n",
    "    \n",
    "    return {\n",
    "        'churn': {\n",
    "            'model': optimized_churn_model,\n",
    "            'accuracy': churn_accuracy,\n",
    "            'auc': churn_auc,\n",
    "            'predictions': churn_pred,\n",
    "            'probabilities': churn_pred_proba\n",
    "        },\n",
    "        'clv': {\n",
    "            'model': optimized_clv_model,\n",
    "            'r2': clv_r2,\n",
    "            'rmse': clv_rmse,\n",
    "            'mae': clv_mae,\n",
    "            'predictions': clv_pred\n",
    "        }\n",
    "    }\n",
    "\n",
    "# Evaluate optimized models\n",
    "final_model_results = evaluate_optimized_models()"
   ]
  },
  {
   "cell_type": "code",
   "execution_count": 21,
   "metadata": {},
   "outputs": [
    {
     "name": "stdout",
     "output_type": "stream",
     "text": [
      "💾 Model predictions saved to ../reports/analysis/04_model_predictions.csv\n",
      "💾 Model performance summary saved to ../reports/analysis/04_model_performance_summary.csv\n",
      "\n",
      "✅ Predictive modeling completed successfully!\n",
      "🚀 Ready for next notebook: 05_model_evaluation.ipynb\n",
      "\n",
      "============================================================\n",
      "📋 PREDICTIVE MODELING SUMMARY\n",
      "============================================================\n",
      "✅ Feature Engineering: 87 features created\n",
      "✅ Churn Prediction: AUC = 0.673, Accuracy = 0.605\n",
      "✅ CLV Prediction: R² = 0.989, RMSE = $6.58\n",
      "✅ Models Optimized: Hyperparameter tuning completed\n",
      "✅ Results Saved: Predictions and performance metrics exported\n",
      "\n",
      "🎯 Key Recommendation: Implement churn prevention for high-risk customers and focus on high CLV segments\n"
     ]
    }
   ],
   "source": [
    "# Save model results and predictions\n",
    "try:\n",
    "    # Create predictions dataframe\n",
    "    predictions_df = pd.DataFrame({\n",
    "        'Actual_Churn': y_churn_test.values,\n",
    "        'Predicted_Churn': final_model_results['churn']['predictions'],\n",
    "        'Churn_Probability': final_model_results['churn']['probabilities'],\n",
    "        'Actual_CLV': y_clv_test.values,\n",
    "        'Predicted_CLV': final_model_results['clv']['predictions']\n",
    "    })\n",
    "    \n",
    "    # Save predictions\n",
    "    predictions_df.to_csv('../reports/analysis/04_model_predictions.csv', index=False)\n",
    "    print(\"💾 Model predictions saved to ../reports/analysis/04_model_predictions.csv\")\n",
    "    \n",
    "    # Save model performance summary\n",
    "    model_summary = pd.DataFrame({\n",
    "        'Model': ['Churn Prediction', 'CLV Prediction'],\n",
    "        'Algorithm': ['Random Forest Classifier', 'Random Forest Regressor'],\n",
    "        'Primary_Metric': [final_model_results['churn']['auc'], final_model_results['clv']['r2']],\n",
    "        'Metric_Name': ['AUC Score', 'R² Score'],\n",
    "        'Secondary_Metric': [final_model_results['churn']['accuracy'], final_model_results['clv']['rmse']],\n",
    "        'Secondary_Metric_Name': ['Accuracy', 'RMSE']\n",
    "    })\n",
    "    \n",
    "    model_summary.to_csv('../reports/analysis/04_model_performance_summary.csv', index=False)\n",
    "    print(\"💾 Model performance summary saved to ../reports/analysis/04_model_performance_summary.csv\")\n",
    "    \n",
    "    print(\"\\n✅ Predictive modeling completed successfully!\")\n",
    "    print(\"🚀 Ready for next notebook: 05_model_evaluation.ipynb\")\n",
    "    \n",
    "except Exception as e:\n",
    "    print(f\"⚠️ Could not save results: {e}\")\n",
    "    print(\"📊 Analysis completed - results available in notebook\")\n",
    "\n",
    "# Final summary\n",
    "print(\"\\n\" + \"=\" * 60)\n",
    "print(\"📋 PREDICTIVE MODELING SUMMARY\")\n",
    "print(\"=\" * 60)\n",
    "print(f\"✅ Feature Engineering: {model_features.shape[1]} features created\")\n",
    "print(f\"✅ Churn Prediction: AUC = {final_model_results['churn']['auc']:.3f}, Accuracy = {final_model_results['churn']['accuracy']:.3f}\")\n",
    "print(f\"✅ CLV Prediction: R² = {final_model_results['clv']['r2']:.3f}, RMSE = ${final_model_results['clv']['rmse']:.2f}\")\n",
    "print(f\"✅ Models Optimized: Hyperparameter tuning completed\")\n",
    "print(f\"✅ Results Saved: Predictions and performance metrics exported\")\n",
    "print(\"\\n🎯 Key Recommendation: Implement churn prevention for high-risk customers and focus on high CLV segments\")"
   ]
  },
  {
   "cell_type": "code",
   "execution_count": null,
   "metadata": {},
   "outputs": [],
   "source": []
  }
 ],
 "metadata": {
  "kernelspec": {
   "display_name": "venv",
   "language": "python",
   "name": "python3"
  },
  "language_info": {
   "codemirror_mode": {
    "name": "ipython",
    "version": 3
   },
   "file_extension": ".py",
   "mimetype": "text/x-python",
   "name": "python",
   "nbconvert_exporter": "python",
   "pygments_lexer": "ipython3",
   "version": "3.10.18"
  }
 },
 "nbformat": 4,
 "nbformat_minor": 4
}
